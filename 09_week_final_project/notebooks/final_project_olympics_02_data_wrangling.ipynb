{
 "cells": [
  {
   "cell_type": "code",
   "execution_count": 1,
   "id": "42df0f14",
   "metadata": {},
   "outputs": [],
   "source": [
    "import pandas as pd\n",
    "import numpy as np\n",
    "import seaborn as sns\n",
    "import matplotlib.pyplot as plt\n",
    "import plotly.express as px\n",
    "import plotly.io as pio\n",
    "\n",
    "# for creating gif-images\n",
    "import imageio\n",
    "import os.path"
   ]
  },
  {
   "cell_type": "markdown",
   "id": "090bc452",
   "metadata": {},
   "source": [
    "### User-defined functions"
   ]
  },
  {
   "cell_type": "code",
   "execution_count": 2,
   "id": "1a6bd74e",
   "metadata": {},
   "outputs": [],
   "source": [
    "def create_gif(range_min, range_max, input_image_folder, input_file_name_part, output_file_name='output', pics_per_second=1):\n",
    "    images = []\n",
    "\n",
    "    for range_date in range(range_min, range_max+1):\n",
    "        filename = f'../images_work/{input_image_folder}/{input_file_name_part}_{range_date}.png'\n",
    "        if not os.path.exists(filename):\n",
    "            continue\n",
    "    \n",
    "        images.append(imageio.imread(filename))\n",
    "        imageio.mimsave(f'../images/{output_file_name}.gif', images, fps=pics_per_second)"
   ]
  },
  {
   "cell_type": "markdown",
   "id": "9347bfe7",
   "metadata": {},
   "source": [
    "# Read data files"
   ]
  },
  {
   "cell_type": "code",
   "execution_count": 3,
   "id": "3b7644c5",
   "metadata": {},
   "outputs": [
    {
     "data": {
      "text/html": [
       "<div>\n",
       "<style scoped>\n",
       "    .dataframe tbody tr th:only-of-type {\n",
       "        vertical-align: middle;\n",
       "    }\n",
       "\n",
       "    .dataframe tbody tr th {\n",
       "        vertical-align: top;\n",
       "    }\n",
       "\n",
       "    .dataframe thead th {\n",
       "        text-align: right;\n",
       "    }\n",
       "</style>\n",
       "<table border=\"1\" class=\"dataframe\">\n",
       "  <thead>\n",
       "    <tr style=\"text-align: right;\">\n",
       "      <th></th>\n",
       "      <th>name</th>\n",
       "      <th>sex</th>\n",
       "      <th>age</th>\n",
       "      <th>team</th>\n",
       "      <th>noc</th>\n",
       "      <th>games</th>\n",
       "      <th>year</th>\n",
       "      <th>season</th>\n",
       "      <th>city</th>\n",
       "      <th>sport</th>\n",
       "      <th>event</th>\n",
       "      <th>medal</th>\n",
       "      <th>birth_year</th>\n",
       "      <th>country</th>\n",
       "      <th>decade</th>\n",
       "    </tr>\n",
       "  </thead>\n",
       "  <tbody>\n",
       "    <tr>\n",
       "      <th>0</th>\n",
       "      <td>A Dijiang</td>\n",
       "      <td>M</td>\n",
       "      <td>24.0</td>\n",
       "      <td>China</td>\n",
       "      <td>CHN</td>\n",
       "      <td>1992 Summer</td>\n",
       "      <td>1992</td>\n",
       "      <td>Summer</td>\n",
       "      <td>Barcelona</td>\n",
       "      <td>Basketball</td>\n",
       "      <td>Basketball Men's Basketball</td>\n",
       "      <td>NaN</td>\n",
       "      <td>1968.0</td>\n",
       "      <td>China</td>\n",
       "      <td>1990</td>\n",
       "    </tr>\n",
       "    <tr>\n",
       "      <th>1</th>\n",
       "      <td>A Lamusi</td>\n",
       "      <td>M</td>\n",
       "      <td>23.0</td>\n",
       "      <td>China</td>\n",
       "      <td>CHN</td>\n",
       "      <td>2012 Summer</td>\n",
       "      <td>2012</td>\n",
       "      <td>Summer</td>\n",
       "      <td>London</td>\n",
       "      <td>Judo</td>\n",
       "      <td>Judo Men's Extra-Lightweight</td>\n",
       "      <td>NaN</td>\n",
       "      <td>1989.0</td>\n",
       "      <td>China</td>\n",
       "      <td>2010</td>\n",
       "    </tr>\n",
       "    <tr>\n",
       "      <th>2</th>\n",
       "      <td>Gunnar Nielsen Aaby</td>\n",
       "      <td>M</td>\n",
       "      <td>24.0</td>\n",
       "      <td>Denmark</td>\n",
       "      <td>DEN</td>\n",
       "      <td>1920 Summer</td>\n",
       "      <td>1920</td>\n",
       "      <td>Summer</td>\n",
       "      <td>Antwerpen</td>\n",
       "      <td>Football</td>\n",
       "      <td>Football Men's Football</td>\n",
       "      <td>NaN</td>\n",
       "      <td>1896.0</td>\n",
       "      <td>Denmark</td>\n",
       "      <td>1920</td>\n",
       "    </tr>\n",
       "    <tr>\n",
       "      <th>3</th>\n",
       "      <td>Edgar Lindenau Aabye</td>\n",
       "      <td>M</td>\n",
       "      <td>34.0</td>\n",
       "      <td>Denmark/Sweden</td>\n",
       "      <td>DEN</td>\n",
       "      <td>1900 Summer</td>\n",
       "      <td>1900</td>\n",
       "      <td>Summer</td>\n",
       "      <td>Paris</td>\n",
       "      <td>Tug-Of-War</td>\n",
       "      <td>Tug-Of-War Men's Tug-Of-War</td>\n",
       "      <td>Gold</td>\n",
       "      <td>1866.0</td>\n",
       "      <td>Denmark</td>\n",
       "      <td>1900</td>\n",
       "    </tr>\n",
       "    <tr>\n",
       "      <th>4</th>\n",
       "      <td>Cornelia \"Cor\" Aalten (-Strannood)</td>\n",
       "      <td>F</td>\n",
       "      <td>18.0</td>\n",
       "      <td>Netherlands</td>\n",
       "      <td>NED</td>\n",
       "      <td>1932 Summer</td>\n",
       "      <td>1932</td>\n",
       "      <td>Summer</td>\n",
       "      <td>Los Angeles</td>\n",
       "      <td>Athletics</td>\n",
       "      <td>Athletics Women's 100 metres</td>\n",
       "      <td>NaN</td>\n",
       "      <td>1914.0</td>\n",
       "      <td>Netherlands</td>\n",
       "      <td>1930</td>\n",
       "    </tr>\n",
       "    <tr>\n",
       "      <th>...</th>\n",
       "      <td>...</td>\n",
       "      <td>...</td>\n",
       "      <td>...</td>\n",
       "      <td>...</td>\n",
       "      <td>...</td>\n",
       "      <td>...</td>\n",
       "      <td>...</td>\n",
       "      <td>...</td>\n",
       "      <td>...</td>\n",
       "      <td>...</td>\n",
       "      <td>...</td>\n",
       "      <td>...</td>\n",
       "      <td>...</td>\n",
       "      <td>...</td>\n",
       "      <td>...</td>\n",
       "    </tr>\n",
       "    <tr>\n",
       "      <th>284846</th>\n",
       "      <td>Andrzej ya</td>\n",
       "      <td>M</td>\n",
       "      <td>29.0</td>\n",
       "      <td>Poland-1</td>\n",
       "      <td>POL</td>\n",
       "      <td>1976 Winter</td>\n",
       "      <td>1976</td>\n",
       "      <td>Winter</td>\n",
       "      <td>Innsbruck</td>\n",
       "      <td>Luge</td>\n",
       "      <td>Luge Mixed (Men)'s Doubles</td>\n",
       "      <td>NaN</td>\n",
       "      <td>1947.0</td>\n",
       "      <td>Poland</td>\n",
       "      <td>1970</td>\n",
       "    </tr>\n",
       "    <tr>\n",
       "      <th>284847</th>\n",
       "      <td>Piotr ya</td>\n",
       "      <td>M</td>\n",
       "      <td>27.0</td>\n",
       "      <td>Poland</td>\n",
       "      <td>POL</td>\n",
       "      <td>2014 Winter</td>\n",
       "      <td>2014</td>\n",
       "      <td>Winter</td>\n",
       "      <td>Sochi</td>\n",
       "      <td>Ski Jumping</td>\n",
       "      <td>Ski Jumping Men's Large Hill, Individual</td>\n",
       "      <td>NaN</td>\n",
       "      <td>1987.0</td>\n",
       "      <td>Poland</td>\n",
       "      <td>2010</td>\n",
       "    </tr>\n",
       "    <tr>\n",
       "      <th>284848</th>\n",
       "      <td>Piotr ya</td>\n",
       "      <td>M</td>\n",
       "      <td>27.0</td>\n",
       "      <td>Poland</td>\n",
       "      <td>POL</td>\n",
       "      <td>2014 Winter</td>\n",
       "      <td>2014</td>\n",
       "      <td>Winter</td>\n",
       "      <td>Sochi</td>\n",
       "      <td>Ski Jumping</td>\n",
       "      <td>Ski Jumping Men's Large Hill, Team</td>\n",
       "      <td>NaN</td>\n",
       "      <td>1987.0</td>\n",
       "      <td>Poland</td>\n",
       "      <td>2010</td>\n",
       "    </tr>\n",
       "    <tr>\n",
       "      <th>284849</th>\n",
       "      <td>Tomasz Ireneusz ya</td>\n",
       "      <td>M</td>\n",
       "      <td>30.0</td>\n",
       "      <td>Poland</td>\n",
       "      <td>POL</td>\n",
       "      <td>1998 Winter</td>\n",
       "      <td>1998</td>\n",
       "      <td>Winter</td>\n",
       "      <td>Nagano</td>\n",
       "      <td>Bobsleigh</td>\n",
       "      <td>Bobsleigh Men's Four</td>\n",
       "      <td>NaN</td>\n",
       "      <td>1968.0</td>\n",
       "      <td>Poland</td>\n",
       "      <td>1990</td>\n",
       "    </tr>\n",
       "    <tr>\n",
       "      <th>284850</th>\n",
       "      <td>Tomasz Ireneusz ya</td>\n",
       "      <td>M</td>\n",
       "      <td>34.0</td>\n",
       "      <td>Poland</td>\n",
       "      <td>POL</td>\n",
       "      <td>2002 Winter</td>\n",
       "      <td>2002</td>\n",
       "      <td>Winter</td>\n",
       "      <td>Salt Lake City</td>\n",
       "      <td>Bobsleigh</td>\n",
       "      <td>Bobsleigh Men's Four</td>\n",
       "      <td>NaN</td>\n",
       "      <td>1968.0</td>\n",
       "      <td>Poland</td>\n",
       "      <td>2000</td>\n",
       "    </tr>\n",
       "  </tbody>\n",
       "</table>\n",
       "<p>284851 rows × 15 columns</p>\n",
       "</div>"
      ],
      "text/plain": [
       "                                      name sex   age            team  noc  \\\n",
       "0                                A Dijiang   M  24.0           China  CHN   \n",
       "1                                 A Lamusi   M  23.0           China  CHN   \n",
       "2                      Gunnar Nielsen Aaby   M  24.0         Denmark  DEN   \n",
       "3                     Edgar Lindenau Aabye   M  34.0  Denmark/Sweden  DEN   \n",
       "4       Cornelia \"Cor\" Aalten (-Strannood)   F  18.0     Netherlands  NED   \n",
       "...                                    ...  ..   ...             ...  ...   \n",
       "284846                          Andrzej ya   M  29.0        Poland-1  POL   \n",
       "284847                            Piotr ya   M  27.0          Poland  POL   \n",
       "284848                            Piotr ya   M  27.0          Poland  POL   \n",
       "284849                  Tomasz Ireneusz ya   M  30.0          Poland  POL   \n",
       "284850                  Tomasz Ireneusz ya   M  34.0          Poland  POL   \n",
       "\n",
       "              games  year  season            city        sport  \\\n",
       "0       1992 Summer  1992  Summer       Barcelona   Basketball   \n",
       "1       2012 Summer  2012  Summer          London         Judo   \n",
       "2       1920 Summer  1920  Summer       Antwerpen     Football   \n",
       "3       1900 Summer  1900  Summer           Paris   Tug-Of-War   \n",
       "4       1932 Summer  1932  Summer     Los Angeles    Athletics   \n",
       "...             ...   ...     ...             ...          ...   \n",
       "284846  1976 Winter  1976  Winter       Innsbruck         Luge   \n",
       "284847  2014 Winter  2014  Winter           Sochi  Ski Jumping   \n",
       "284848  2014 Winter  2014  Winter           Sochi  Ski Jumping   \n",
       "284849  1998 Winter  1998  Winter          Nagano    Bobsleigh   \n",
       "284850  2002 Winter  2002  Winter  Salt Lake City    Bobsleigh   \n",
       "\n",
       "                                           event medal  birth_year  \\\n",
       "0                    Basketball Men's Basketball   NaN      1968.0   \n",
       "1                   Judo Men's Extra-Lightweight   NaN      1989.0   \n",
       "2                        Football Men's Football   NaN      1896.0   \n",
       "3                    Tug-Of-War Men's Tug-Of-War  Gold      1866.0   \n",
       "4                   Athletics Women's 100 metres   NaN      1914.0   \n",
       "...                                          ...   ...         ...   \n",
       "284846                Luge Mixed (Men)'s Doubles   NaN      1947.0   \n",
       "284847  Ski Jumping Men's Large Hill, Individual   NaN      1987.0   \n",
       "284848        Ski Jumping Men's Large Hill, Team   NaN      1987.0   \n",
       "284849                      Bobsleigh Men's Four   NaN      1968.0   \n",
       "284850                      Bobsleigh Men's Four   NaN      1968.0   \n",
       "\n",
       "            country  decade  \n",
       "0             China    1990  \n",
       "1             China    2010  \n",
       "2           Denmark    1920  \n",
       "3           Denmark    1900  \n",
       "4       Netherlands    1930  \n",
       "...             ...     ...  \n",
       "284846       Poland    1970  \n",
       "284847       Poland    2010  \n",
       "284848       Poland    2010  \n",
       "284849       Poland    1990  \n",
       "284850       Poland    2000  \n",
       "\n",
       "[284851 rows x 15 columns]"
      ]
     },
     "execution_count": 3,
     "metadata": {},
     "output_type": "execute_result"
    }
   ],
   "source": [
    "# olympic games data\n",
    "olympics = pd.read_csv('../olympics/olympics_upd.csv')\n",
    "olympics"
   ]
  },
  {
   "cell_type": "code",
   "execution_count": 4,
   "id": "19b3e5da",
   "metadata": {},
   "outputs": [
    {
     "data": {
      "text/plain": [
       "array([nan, 'Gold', 'Bronze', 'Silver'], dtype=object)"
      ]
     },
     "execution_count": 4,
     "metadata": {},
     "output_type": "execute_result"
    }
   ],
   "source": [
    "olympics['medal'].unique()"
   ]
  },
  {
   "cell_type": "code",
   "execution_count": 5,
   "id": "e16220e1",
   "metadata": {},
   "outputs": [],
   "source": [
    "# setting sort order for 'medal' field (by making 'medal' a Categorical field)\n",
    "medals_order = ['Bronze', 'Silver', 'Gold']\n",
    "olympics['medal'] = pd.Categorical(olympics['medal'], medals_order)"
   ]
  },
  {
   "cell_type": "code",
   "execution_count": 6,
   "id": "0eefb7a5",
   "metadata": {},
   "outputs": [
    {
     "name": "stdout",
     "output_type": "stream",
     "text": [
      "<class 'pandas.core.frame.DataFrame'>\n",
      "RangeIndex: 284851 entries, 0 to 284850\n",
      "Data columns (total 15 columns):\n",
      " #   Column      Non-Null Count   Dtype   \n",
      "---  ------      --------------   -----   \n",
      " 0   name        284851 non-null  object  \n",
      " 1   sex         284851 non-null  object  \n",
      " 2   age         275536 non-null  float64 \n",
      " 3   team        284851 non-null  object  \n",
      " 4   noc         284851 non-null  object  \n",
      " 5   games       284851 non-null  object  \n",
      " 6   year        284851 non-null  int64   \n",
      " 7   season      284851 non-null  object  \n",
      " 8   city        284851 non-null  object  \n",
      " 9   sport       284851 non-null  object  \n",
      " 10  event       284851 non-null  object  \n",
      " 11  medal       42220 non-null   category\n",
      " 12  birth_year  275536 non-null  float64 \n",
      " 13  country     284828 non-null  object  \n",
      " 14  decade      284851 non-null  int64   \n",
      "dtypes: category(1), float64(2), int64(2), object(10)\n",
      "memory usage: 30.7+ MB\n"
     ]
    }
   ],
   "source": [
    "olympics.info()"
   ]
  },
  {
   "cell_type": "code",
   "execution_count": 7,
   "id": "001f2af5",
   "metadata": {},
   "outputs": [
    {
     "data": {
      "text/html": [
       "<div>\n",
       "<style scoped>\n",
       "    .dataframe tbody tr th:only-of-type {\n",
       "        vertical-align: middle;\n",
       "    }\n",
       "\n",
       "    .dataframe tbody tr th {\n",
       "        vertical-align: top;\n",
       "    }\n",
       "\n",
       "    .dataframe thead th {\n",
       "        text-align: right;\n",
       "    }\n",
       "</style>\n",
       "<table border=\"1\" class=\"dataframe\">\n",
       "  <thead>\n",
       "    <tr style=\"text-align: right;\">\n",
       "      <th></th>\n",
       "      <th>country</th>\n",
       "      <th>iso3</th>\n",
       "    </tr>\n",
       "  </thead>\n",
       "  <tbody>\n",
       "    <tr>\n",
       "      <th>0</th>\n",
       "      <td>Lebanon</td>\n",
       "      <td>LBN</td>\n",
       "    </tr>\n",
       "    <tr>\n",
       "      <th>1</th>\n",
       "      <td>Singapore</td>\n",
       "      <td>SGP</td>\n",
       "    </tr>\n",
       "    <tr>\n",
       "      <th>2</th>\n",
       "      <td>Russia</td>\n",
       "      <td>RUS</td>\n",
       "    </tr>\n",
       "    <tr>\n",
       "      <th>3</th>\n",
       "      <td>Afghanistan</td>\n",
       "      <td>AFG</td>\n",
       "    </tr>\n",
       "    <tr>\n",
       "      <th>4</th>\n",
       "      <td>Albania</td>\n",
       "      <td>ALB</td>\n",
       "    </tr>\n",
       "    <tr>\n",
       "      <th>...</th>\n",
       "      <td>...</td>\n",
       "      <td>...</td>\n",
       "    </tr>\n",
       "    <tr>\n",
       "      <th>200</th>\n",
       "      <td>Republic of Congo</td>\n",
       "      <td>COG</td>\n",
       "    </tr>\n",
       "    <tr>\n",
       "      <th>201</th>\n",
       "      <td>Democratic Republic of the Congo</td>\n",
       "      <td>COD</td>\n",
       "    </tr>\n",
       "    <tr>\n",
       "      <th>202</th>\n",
       "      <td>Virgin Islands, British</td>\n",
       "      <td>VGB</td>\n",
       "    </tr>\n",
       "    <tr>\n",
       "      <th>203</th>\n",
       "      <td>South Sudan</td>\n",
       "      <td>SSD</td>\n",
       "    </tr>\n",
       "    <tr>\n",
       "      <th>204</th>\n",
       "      <td>Timor-Leste</td>\n",
       "      <td>TLS</td>\n",
       "    </tr>\n",
       "  </tbody>\n",
       "</table>\n",
       "<p>205 rows × 2 columns</p>\n",
       "</div>"
      ],
      "text/plain": [
       "                              country iso3\n",
       "0                             Lebanon  LBN\n",
       "1                           Singapore  SGP\n",
       "2                              Russia  RUS\n",
       "3                         Afghanistan  AFG\n",
       "4                             Albania  ALB\n",
       "..                                ...  ...\n",
       "200                 Republic of Congo  COG\n",
       "201  Democratic Republic of the Congo  COD\n",
       "202           Virgin Islands, British  VGB\n",
       "203                       South Sudan  SSD\n",
       "204                       Timor-Leste  TLS\n",
       "\n",
       "[205 rows x 2 columns]"
      ]
     },
     "execution_count": 7,
     "metadata": {},
     "output_type": "execute_result"
    }
   ],
   "source": [
    "# iso3 codes for olympic countries\n",
    "iso3_codes = pd.read_csv('../olympics/iso3_pairs.csv')\n",
    "iso3_codes"
   ]
  },
  {
   "cell_type": "markdown",
   "id": "af4e9e53",
   "metadata": {},
   "source": [
    "# Data Wrangling"
   ]
  },
  {
   "cell_type": "code",
   "execution_count": 8,
   "id": "a9dbf7f3",
   "metadata": {},
   "outputs": [
    {
     "data": {
      "text/html": [
       "<div>\n",
       "<style scoped>\n",
       "    .dataframe tbody tr th:only-of-type {\n",
       "        vertical-align: middle;\n",
       "    }\n",
       "\n",
       "    .dataframe tbody tr th {\n",
       "        vertical-align: top;\n",
       "    }\n",
       "\n",
       "    .dataframe thead th {\n",
       "        text-align: right;\n",
       "    }\n",
       "</style>\n",
       "<table border=\"1\" class=\"dataframe\">\n",
       "  <thead>\n",
       "    <tr style=\"text-align: right;\">\n",
       "      <th></th>\n",
       "      <th>name</th>\n",
       "      <th>sex</th>\n",
       "      <th>age</th>\n",
       "      <th>team</th>\n",
       "      <th>noc</th>\n",
       "      <th>games</th>\n",
       "      <th>year</th>\n",
       "      <th>season</th>\n",
       "      <th>city</th>\n",
       "      <th>sport</th>\n",
       "      <th>event</th>\n",
       "      <th>medal</th>\n",
       "      <th>birth_year</th>\n",
       "      <th>country</th>\n",
       "      <th>decade</th>\n",
       "    </tr>\n",
       "  </thead>\n",
       "  <tbody>\n",
       "    <tr>\n",
       "      <th>32158</th>\n",
       "      <td>Andrs Charadia Alfieri</td>\n",
       "      <td>M</td>\n",
       "      <td>26.0</td>\n",
       "      <td>Argentina</td>\n",
       "      <td>ARG</td>\n",
       "      <td>1992 Summer</td>\n",
       "      <td>1992</td>\n",
       "      <td>Summer</td>\n",
       "      <td>Barcelona</td>\n",
       "      <td>Athletics</td>\n",
       "      <td>Athletics Men's Hammer Throw</td>\n",
       "      <td>NaN</td>\n",
       "      <td>1966.0</td>\n",
       "      <td>Argentina</td>\n",
       "      <td>1990</td>\n",
       "    </tr>\n",
       "    <tr>\n",
       "      <th>3996</th>\n",
       "      <td>Rnar (Ruslan-) Alexandersson (Ovtinnikov-)</td>\n",
       "      <td>M</td>\n",
       "      <td>23.0</td>\n",
       "      <td>Iceland</td>\n",
       "      <td>ISL</td>\n",
       "      <td>2000 Summer</td>\n",
       "      <td>2000</td>\n",
       "      <td>Summer</td>\n",
       "      <td>Sydney</td>\n",
       "      <td>Gymnastics</td>\n",
       "      <td>Gymnastics Men's Individual All-Around</td>\n",
       "      <td>NaN</td>\n",
       "      <td>1977.0</td>\n",
       "      <td>Iceland</td>\n",
       "      <td>2000</td>\n",
       "    </tr>\n",
       "    <tr>\n",
       "      <th>115899</th>\n",
       "      <td>Hctor Lpez</td>\n",
       "      <td>M</td>\n",
       "      <td>19.0</td>\n",
       "      <td>Venezuela</td>\n",
       "      <td>VEN</td>\n",
       "      <td>1972 Summer</td>\n",
       "      <td>1972</td>\n",
       "      <td>Summer</td>\n",
       "      <td>Munich</td>\n",
       "      <td>Athletics</td>\n",
       "      <td>Athletics Men's 800 metres</td>\n",
       "      <td>NaN</td>\n",
       "      <td>1953.0</td>\n",
       "      <td>Venezuela</td>\n",
       "      <td>1970</td>\n",
       "    </tr>\n",
       "    <tr>\n",
       "      <th>50125</th>\n",
       "      <td>Maryvonne Dupureur (Samson-)</td>\n",
       "      <td>F</td>\n",
       "      <td>27.0</td>\n",
       "      <td>France</td>\n",
       "      <td>FRA</td>\n",
       "      <td>1964 Summer</td>\n",
       "      <td>1964</td>\n",
       "      <td>Summer</td>\n",
       "      <td>Tokyo</td>\n",
       "      <td>Athletics</td>\n",
       "      <td>Athletics Women's 800 metres</td>\n",
       "      <td>Silver</td>\n",
       "      <td>1937.0</td>\n",
       "      <td>France</td>\n",
       "      <td>1960</td>\n",
       "    </tr>\n",
       "    <tr>\n",
       "      <th>52494</th>\n",
       "      <td>Alexis Elizalde Estvez</td>\n",
       "      <td>M</td>\n",
       "      <td>28.0</td>\n",
       "      <td>Cuba</td>\n",
       "      <td>CUB</td>\n",
       "      <td>1996 Summer</td>\n",
       "      <td>1996</td>\n",
       "      <td>Summer</td>\n",
       "      <td>Atlanta</td>\n",
       "      <td>Athletics</td>\n",
       "      <td>Athletics Men's Discus Throw</td>\n",
       "      <td>NaN</td>\n",
       "      <td>1968.0</td>\n",
       "      <td>Cuba</td>\n",
       "      <td>1990</td>\n",
       "    </tr>\n",
       "  </tbody>\n",
       "</table>\n",
       "</div>"
      ],
      "text/plain": [
       "                                              name sex   age       team  noc  \\\n",
       "32158                       Andrs Charadia Alfieri   M  26.0  Argentina  ARG   \n",
       "3996    Rnar (Ruslan-) Alexandersson (Ovtinnikov-)   M  23.0    Iceland  ISL   \n",
       "115899                                  Hctor Lpez   M  19.0  Venezuela  VEN   \n",
       "50125                 Maryvonne Dupureur (Samson-)   F  27.0     France  FRA   \n",
       "52494                       Alexis Elizalde Estvez   M  28.0       Cuba  CUB   \n",
       "\n",
       "              games  year  season       city       sport  \\\n",
       "32158   1992 Summer  1992  Summer  Barcelona   Athletics   \n",
       "3996    2000 Summer  2000  Summer     Sydney  Gymnastics   \n",
       "115899  1972 Summer  1972  Summer     Munich   Athletics   \n",
       "50125   1964 Summer  1964  Summer      Tokyo   Athletics   \n",
       "52494   1996 Summer  1996  Summer    Atlanta   Athletics   \n",
       "\n",
       "                                         event   medal  birth_year    country  \\\n",
       "32158             Athletics Men's Hammer Throw     NaN      1966.0  Argentina   \n",
       "3996    Gymnastics Men's Individual All-Around     NaN      1977.0    Iceland   \n",
       "115899              Athletics Men's 800 metres     NaN      1953.0  Venezuela   \n",
       "50125             Athletics Women's 800 metres  Silver      1937.0     France   \n",
       "52494             Athletics Men's Discus Throw     NaN      1968.0       Cuba   \n",
       "\n",
       "        decade  \n",
       "32158     1990  \n",
       "3996      2000  \n",
       "115899    1970  \n",
       "50125     1960  \n",
       "52494     1990  "
      ]
     },
     "execution_count": 8,
     "metadata": {},
     "output_type": "execute_result"
    }
   ],
   "source": [
    "# Adding DECADES to Olympics data\n",
    "olympics['decade'] = (olympics['year'] // 10) * 10\n",
    "olympics.sample(5)"
   ]
  },
  {
   "cell_type": "code",
   "execution_count": null,
   "id": "02eb35a0",
   "metadata": {},
   "outputs": [],
   "source": []
  },
  {
   "cell_type": "code",
   "execution_count": null,
   "id": "022b4502",
   "metadata": {},
   "outputs": [],
   "source": []
  },
  {
   "cell_type": "markdown",
   "id": "820d4c75",
   "metadata": {},
   "source": [
    "### Part 1 - Medals for national teams over the years"
   ]
  },
  {
   "cell_type": "code",
   "execution_count": 9,
   "id": "45e885d9",
   "metadata": {},
   "outputs": [
    {
     "data": {
      "text/html": [
       "<div>\n",
       "<style scoped>\n",
       "    .dataframe tbody tr th:only-of-type {\n",
       "        vertical-align: middle;\n",
       "    }\n",
       "\n",
       "    .dataframe tbody tr th {\n",
       "        vertical-align: top;\n",
       "    }\n",
       "\n",
       "    .dataframe thead th {\n",
       "        text-align: right;\n",
       "    }\n",
       "</style>\n",
       "<table border=\"1\" class=\"dataframe\">\n",
       "  <thead>\n",
       "    <tr style=\"text-align: right;\">\n",
       "      <th></th>\n",
       "      <th>country</th>\n",
       "      <th>decade</th>\n",
       "      <th>year</th>\n",
       "      <th>medal</th>\n",
       "      <th>games</th>\n",
       "      <th>season</th>\n",
       "    </tr>\n",
       "  </thead>\n",
       "  <tbody>\n",
       "    <tr>\n",
       "      <th>3</th>\n",
       "      <td>Denmark</td>\n",
       "      <td>1900</td>\n",
       "      <td>1900</td>\n",
       "      <td>Gold</td>\n",
       "      <td>1900 Summer</td>\n",
       "      <td>Summer</td>\n",
       "    </tr>\n",
       "    <tr>\n",
       "      <th>12</th>\n",
       "      <td>Finland</td>\n",
       "      <td>1920</td>\n",
       "      <td>1920</td>\n",
       "      <td>Bronze</td>\n",
       "      <td>1920 Summer</td>\n",
       "      <td>Summer</td>\n",
       "    </tr>\n",
       "    <tr>\n",
       "      <th>13</th>\n",
       "      <td>Finland</td>\n",
       "      <td>1920</td>\n",
       "      <td>1920</td>\n",
       "      <td>Bronze</td>\n",
       "      <td>1920 Summer</td>\n",
       "      <td>Summer</td>\n",
       "    </tr>\n",
       "    <tr>\n",
       "      <th>15</th>\n",
       "      <td>Finland</td>\n",
       "      <td>1940</td>\n",
       "      <td>1948</td>\n",
       "      <td>Bronze</td>\n",
       "      <td>1948 Summer</td>\n",
       "      <td>Summer</td>\n",
       "    </tr>\n",
       "    <tr>\n",
       "      <th>16</th>\n",
       "      <td>Finland</td>\n",
       "      <td>1940</td>\n",
       "      <td>1948</td>\n",
       "      <td>Gold</td>\n",
       "      <td>1948 Summer</td>\n",
       "      <td>Summer</td>\n",
       "    </tr>\n",
       "    <tr>\n",
       "      <th>...</th>\n",
       "      <td>...</td>\n",
       "      <td>...</td>\n",
       "      <td>...</td>\n",
       "      <td>...</td>\n",
       "      <td>...</td>\n",
       "      <td>...</td>\n",
       "    </tr>\n",
       "    <tr>\n",
       "      <th>284692</th>\n",
       "      <td>Russia</td>\n",
       "      <td>1990</td>\n",
       "      <td>1992</td>\n",
       "      <td>Gold</td>\n",
       "      <td>1992 Winter</td>\n",
       "      <td>Winter</td>\n",
       "    </tr>\n",
       "    <tr>\n",
       "      <th>284736</th>\n",
       "      <td>Serbia</td>\n",
       "      <td>1980</td>\n",
       "      <td>1988</td>\n",
       "      <td>Silver</td>\n",
       "      <td>1988 Winter</td>\n",
       "      <td>Winter</td>\n",
       "    </tr>\n",
       "    <tr>\n",
       "      <th>284768</th>\n",
       "      <td>Switzerland</td>\n",
       "      <td>1980</td>\n",
       "      <td>1988</td>\n",
       "      <td>Gold</td>\n",
       "      <td>1988 Winter</td>\n",
       "      <td>Winter</td>\n",
       "    </tr>\n",
       "    <tr>\n",
       "      <th>284770</th>\n",
       "      <td>Switzerland</td>\n",
       "      <td>1980</td>\n",
       "      <td>1988</td>\n",
       "      <td>Bronze</td>\n",
       "      <td>1988 Winter</td>\n",
       "      <td>Winter</td>\n",
       "    </tr>\n",
       "    <tr>\n",
       "      <th>284778</th>\n",
       "      <td>Switzerland</td>\n",
       "      <td>2010</td>\n",
       "      <td>2010</td>\n",
       "      <td>Bronze</td>\n",
       "      <td>2010 Winter</td>\n",
       "      <td>Winter</td>\n",
       "    </tr>\n",
       "  </tbody>\n",
       "</table>\n",
       "<p>42220 rows × 6 columns</p>\n",
       "</div>"
      ],
      "text/plain": [
       "            country  decade  year   medal        games  season\n",
       "3           Denmark    1900  1900    Gold  1900 Summer  Summer\n",
       "12          Finland    1920  1920  Bronze  1920 Summer  Summer\n",
       "13          Finland    1920  1920  Bronze  1920 Summer  Summer\n",
       "15          Finland    1940  1948  Bronze  1948 Summer  Summer\n",
       "16          Finland    1940  1948    Gold  1948 Summer  Summer\n",
       "...             ...     ...   ...     ...          ...     ...\n",
       "284692       Russia    1990  1992    Gold  1992 Winter  Winter\n",
       "284736       Serbia    1980  1988  Silver  1988 Winter  Winter\n",
       "284768  Switzerland    1980  1988    Gold  1988 Winter  Winter\n",
       "284770  Switzerland    1980  1988  Bronze  1988 Winter  Winter\n",
       "284778  Switzerland    2010  2010  Bronze  2010 Winter  Winter\n",
       "\n",
       "[42220 rows x 6 columns]"
      ]
     },
     "execution_count": 9,
     "metadata": {},
     "output_type": "execute_result"
    }
   ],
   "source": [
    "# temporary DataFrame for getting grouped data for countries\n",
    "mask_medals = ~(olympics['medal'].isnull())\n",
    "country_medals_tmp = olympics[mask_medals][['country', 'decade', 'year', 'medal', 'games', 'season']]\n",
    "country_medals_tmp # 42220 rows"
   ]
  },
  {
   "cell_type": "code",
   "execution_count": 10,
   "id": "3a342313",
   "metadata": {},
   "outputs": [
    {
     "name": "stdout",
     "output_type": "stream",
     "text": [
      "<class 'pandas.core.frame.DataFrame'>\n",
      "Int64Index: 42220 entries, 3 to 284778\n",
      "Data columns (total 6 columns):\n",
      " #   Column   Non-Null Count  Dtype   \n",
      "---  ------   --------------  -----   \n",
      " 0   country  42220 non-null  object  \n",
      " 1   decade   42220 non-null  int64   \n",
      " 2   year     42220 non-null  int64   \n",
      " 3   medal    42220 non-null  category\n",
      " 4   games    42220 non-null  object  \n",
      " 5   season   42220 non-null  object  \n",
      "dtypes: category(1), int64(2), object(3)\n",
      "memory usage: 2.0+ MB\n"
     ]
    }
   ],
   "source": [
    "# checking the filtered data for number of rows and nulls\n",
    "country_medals_tmp.info()"
   ]
  },
  {
   "cell_type": "code",
   "execution_count": 11,
   "id": "7d0d9b61",
   "metadata": {},
   "outputs": [
    {
     "data": {
      "text/html": [
       "<div>\n",
       "<style scoped>\n",
       "    .dataframe tbody tr th:only-of-type {\n",
       "        vertical-align: middle;\n",
       "    }\n",
       "\n",
       "    .dataframe tbody tr th {\n",
       "        vertical-align: top;\n",
       "    }\n",
       "\n",
       "    .dataframe thead th {\n",
       "        text-align: right;\n",
       "    }\n",
       "</style>\n",
       "<table border=\"1\" class=\"dataframe\">\n",
       "  <thead>\n",
       "    <tr style=\"text-align: right;\">\n",
       "      <th></th>\n",
       "      <th>country</th>\n",
       "      <th>decade</th>\n",
       "      <th>year</th>\n",
       "      <th>medal</th>\n",
       "      <th>games</th>\n",
       "      <th>season</th>\n",
       "      <th>iso3</th>\n",
       "    </tr>\n",
       "  </thead>\n",
       "  <tbody>\n",
       "    <tr>\n",
       "      <th>0</th>\n",
       "      <td>Denmark</td>\n",
       "      <td>1900</td>\n",
       "      <td>1900</td>\n",
       "      <td>Gold</td>\n",
       "      <td>1900 Summer</td>\n",
       "      <td>Summer</td>\n",
       "      <td>DNK</td>\n",
       "    </tr>\n",
       "    <tr>\n",
       "      <th>1</th>\n",
       "      <td>Finland</td>\n",
       "      <td>1920</td>\n",
       "      <td>1920</td>\n",
       "      <td>Bronze</td>\n",
       "      <td>1920 Summer</td>\n",
       "      <td>Summer</td>\n",
       "      <td>FIN</td>\n",
       "    </tr>\n",
       "    <tr>\n",
       "      <th>2</th>\n",
       "      <td>Finland</td>\n",
       "      <td>1920</td>\n",
       "      <td>1920</td>\n",
       "      <td>Bronze</td>\n",
       "      <td>1920 Summer</td>\n",
       "      <td>Summer</td>\n",
       "      <td>FIN</td>\n",
       "    </tr>\n",
       "    <tr>\n",
       "      <th>3</th>\n",
       "      <td>Finland</td>\n",
       "      <td>1940</td>\n",
       "      <td>1948</td>\n",
       "      <td>Bronze</td>\n",
       "      <td>1948 Summer</td>\n",
       "      <td>Summer</td>\n",
       "      <td>FIN</td>\n",
       "    </tr>\n",
       "    <tr>\n",
       "      <th>4</th>\n",
       "      <td>Finland</td>\n",
       "      <td>1940</td>\n",
       "      <td>1948</td>\n",
       "      <td>Gold</td>\n",
       "      <td>1948 Summer</td>\n",
       "      <td>Summer</td>\n",
       "      <td>FIN</td>\n",
       "    </tr>\n",
       "    <tr>\n",
       "      <th>...</th>\n",
       "      <td>...</td>\n",
       "      <td>...</td>\n",
       "      <td>...</td>\n",
       "      <td>...</td>\n",
       "      <td>...</td>\n",
       "      <td>...</td>\n",
       "      <td>...</td>\n",
       "    </tr>\n",
       "    <tr>\n",
       "      <th>42215</th>\n",
       "      <td>Russia</td>\n",
       "      <td>1990</td>\n",
       "      <td>1992</td>\n",
       "      <td>Gold</td>\n",
       "      <td>1992 Winter</td>\n",
       "      <td>Winter</td>\n",
       "      <td>RUS</td>\n",
       "    </tr>\n",
       "    <tr>\n",
       "      <th>42216</th>\n",
       "      <td>Serbia</td>\n",
       "      <td>1980</td>\n",
       "      <td>1988</td>\n",
       "      <td>Silver</td>\n",
       "      <td>1988 Winter</td>\n",
       "      <td>Winter</td>\n",
       "      <td>SRB</td>\n",
       "    </tr>\n",
       "    <tr>\n",
       "      <th>42217</th>\n",
       "      <td>Switzerland</td>\n",
       "      <td>1980</td>\n",
       "      <td>1988</td>\n",
       "      <td>Gold</td>\n",
       "      <td>1988 Winter</td>\n",
       "      <td>Winter</td>\n",
       "      <td>CHE</td>\n",
       "    </tr>\n",
       "    <tr>\n",
       "      <th>42218</th>\n",
       "      <td>Switzerland</td>\n",
       "      <td>1980</td>\n",
       "      <td>1988</td>\n",
       "      <td>Bronze</td>\n",
       "      <td>1988 Winter</td>\n",
       "      <td>Winter</td>\n",
       "      <td>CHE</td>\n",
       "    </tr>\n",
       "    <tr>\n",
       "      <th>42219</th>\n",
       "      <td>Switzerland</td>\n",
       "      <td>2010</td>\n",
       "      <td>2010</td>\n",
       "      <td>Bronze</td>\n",
       "      <td>2010 Winter</td>\n",
       "      <td>Winter</td>\n",
       "      <td>CHE</td>\n",
       "    </tr>\n",
       "  </tbody>\n",
       "</table>\n",
       "<p>42220 rows × 7 columns</p>\n",
       "</div>"
      ],
      "text/plain": [
       "           country  decade  year   medal        games  season iso3\n",
       "0          Denmark    1900  1900    Gold  1900 Summer  Summer  DNK\n",
       "1          Finland    1920  1920  Bronze  1920 Summer  Summer  FIN\n",
       "2          Finland    1920  1920  Bronze  1920 Summer  Summer  FIN\n",
       "3          Finland    1940  1948  Bronze  1948 Summer  Summer  FIN\n",
       "4          Finland    1940  1948    Gold  1948 Summer  Summer  FIN\n",
       "...            ...     ...   ...     ...          ...     ...  ...\n",
       "42215       Russia    1990  1992    Gold  1992 Winter  Winter  RUS\n",
       "42216       Serbia    1980  1988  Silver  1988 Winter  Winter  SRB\n",
       "42217  Switzerland    1980  1988    Gold  1988 Winter  Winter  CHE\n",
       "42218  Switzerland    1980  1988  Bronze  1988 Winter  Winter  CHE\n",
       "42219  Switzerland    2010  2010  Bronze  2010 Winter  Winter  CHE\n",
       "\n",
       "[42220 rows x 7 columns]"
      ]
     },
     "execution_count": 11,
     "metadata": {},
     "output_type": "execute_result"
    }
   ],
   "source": [
    "# adding iso3 country name\n",
    "# country_medals_tmp and iso3_codes\n",
    "\n",
    "country_medals_tmp = pd.merge(left=country_medals_tmp, right=iso3_codes, how='left', on='country', suffixes=('_x', '_y'))\n",
    "country_medals_tmp"
   ]
  },
  {
   "cell_type": "markdown",
   "id": "4560d255",
   "metadata": {},
   "source": [
    "**All medals per country per year:**"
   ]
  },
  {
   "cell_type": "code",
   "execution_count": 12,
   "id": "dd4a9a27",
   "metadata": {},
   "outputs": [
    {
     "data": {
      "text/html": [
       "<div>\n",
       "<style scoped>\n",
       "    .dataframe tbody tr th:only-of-type {\n",
       "        vertical-align: middle;\n",
       "    }\n",
       "\n",
       "    .dataframe tbody tr th {\n",
       "        vertical-align: top;\n",
       "    }\n",
       "\n",
       "    .dataframe thead th {\n",
       "        text-align: right;\n",
       "    }\n",
       "</style>\n",
       "<table border=\"1\" class=\"dataframe\">\n",
       "  <thead>\n",
       "    <tr style=\"text-align: right;\">\n",
       "      <th></th>\n",
       "      <th>country</th>\n",
       "      <th>iso3</th>\n",
       "      <th>year</th>\n",
       "      <th>number_of_medals</th>\n",
       "    </tr>\n",
       "  </thead>\n",
       "  <tbody>\n",
       "    <tr>\n",
       "      <th>1464</th>\n",
       "      <td>USA</td>\n",
       "      <td>USA</td>\n",
       "      <td>2020</td>\n",
       "      <td>298</td>\n",
       "    </tr>\n",
       "    <tr>\n",
       "      <th>277</th>\n",
       "      <td>China</td>\n",
       "      <td>CHN</td>\n",
       "      <td>2020</td>\n",
       "      <td>149</td>\n",
       "    </tr>\n",
       "    <tr>\n",
       "      <th>1133</th>\n",
       "      <td>Russia</td>\n",
       "      <td>RUS</td>\n",
       "      <td>2020</td>\n",
       "      <td>149</td>\n",
       "    </tr>\n",
       "    <tr>\n",
       "      <th>502</th>\n",
       "      <td>France</td>\n",
       "      <td>FRA</td>\n",
       "      <td>2020</td>\n",
       "      <td>141</td>\n",
       "    </tr>\n",
       "    <tr>\n",
       "      <th>1428</th>\n",
       "      <td>UK</td>\n",
       "      <td>GBR</td>\n",
       "      <td>2020</td>\n",
       "      <td>141</td>\n",
       "    </tr>\n",
       "    <tr>\n",
       "      <th>...</th>\n",
       "      <td>...</td>\n",
       "      <td>...</td>\n",
       "      <td>...</td>\n",
       "      <td>...</td>\n",
       "    </tr>\n",
       "    <tr>\n",
       "      <th>354</th>\n",
       "      <td>Denmark</td>\n",
       "      <td>DNK</td>\n",
       "      <td>1896</td>\n",
       "      <td>6</td>\n",
       "    </tr>\n",
       "    <tr>\n",
       "      <th>579</th>\n",
       "      <td>Hungary</td>\n",
       "      <td>HUN</td>\n",
       "      <td>1896</td>\n",
       "      <td>6</td>\n",
       "    </tr>\n",
       "    <tr>\n",
       "      <th>71</th>\n",
       "      <td>Austria</td>\n",
       "      <td>AUT</td>\n",
       "      <td>1896</td>\n",
       "      <td>5</td>\n",
       "    </tr>\n",
       "    <tr>\n",
       "      <th>35</th>\n",
       "      <td>Australia</td>\n",
       "      <td>AUS</td>\n",
       "      <td>1896</td>\n",
       "      <td>3</td>\n",
       "    </tr>\n",
       "    <tr>\n",
       "      <th>1287</th>\n",
       "      <td>Switzerland</td>\n",
       "      <td>CHE</td>\n",
       "      <td>1896</td>\n",
       "      <td>3</td>\n",
       "    </tr>\n",
       "  </tbody>\n",
       "</table>\n",
       "<p>1520 rows × 4 columns</p>\n",
       "</div>"
      ],
      "text/plain": [
       "          country iso3  year  number_of_medals\n",
       "1464          USA  USA  2020               298\n",
       "277         China  CHN  2020               149\n",
       "1133       Russia  RUS  2020               149\n",
       "502        France  FRA  2020               141\n",
       "1428           UK  GBR  2020               141\n",
       "...           ...  ...   ...               ...\n",
       "354       Denmark  DNK  1896                 6\n",
       "579       Hungary  HUN  1896                 6\n",
       "71        Austria  AUT  1896                 5\n",
       "35      Australia  AUS  1896                 3\n",
       "1287  Switzerland  CHE  1896                 3\n",
       "\n",
       "[1520 rows x 4 columns]"
      ]
     },
     "execution_count": 12,
     "metadata": {},
     "output_type": "execute_result"
    }
   ],
   "source": [
    "# group data \n",
    "country_medals_all = country_medals_tmp.groupby(by=['country', 'iso3', 'year'])[['games']].count()\n",
    "country_medals_all.reset_index(inplace=True)\n",
    "#country_medals_all.columns = ['country', 'year', 'number_of_medals']\n",
    "country_medals_all.rename(columns={'games': 'number_of_medals'}, inplace=True)\n",
    "country_medals_all.sort_values(by=['year', 'number_of_medals'], ascending=False, inplace=True)\n",
    "country_medals_all"
   ]
  },
  {
   "cell_type": "code",
   "execution_count": 13,
   "id": "38848fda",
   "metadata": {},
   "outputs": [],
   "source": [
    "# range of years in dataframe:\n",
    "min_year = country_medals_all['year'].min()\n",
    "max_year = country_medals_all['year'].max()"
   ]
  },
  {
   "cell_type": "code",
   "execution_count": 46,
   "id": "c42309e5",
   "metadata": {},
   "outputs": [
    {
     "data": {
      "application/vnd.plotly.v1+json": {
       "config": {
        "plotlyServerURL": "https://plot.ly"
       },
       "data": [
        {
         "alignmentgroup": "True",
         "hovertemplate": "Country=%{y}<br>=%{x}<extra></extra>",
         "legendgroup": "USA",
         "marker": {
          "color": "#f0f921",
          "pattern": {
           "shape": ""
          }
         },
         "name": "USA",
         "offsetgroup": "USA",
         "orientation": "h",
         "showlegend": true,
         "textposition": "auto",
         "type": "bar",
         "x": [
          298
         ],
         "xaxis": "x",
         "y": [
          "USA"
         ],
         "yaxis": "y"
        },
        {
         "alignmentgroup": "True",
         "hovertemplate": "Country=%{y}<br>=%{x}<extra></extra>",
         "legendgroup": "China",
         "marker": {
          "color": "#fdca26",
          "pattern": {
           "shape": ""
          }
         },
         "name": "China",
         "offsetgroup": "China",
         "orientation": "h",
         "showlegend": true,
         "textposition": "auto",
         "type": "bar",
         "x": [
          149
         ],
         "xaxis": "x",
         "y": [
          "China"
         ],
         "yaxis": "y"
        },
        {
         "alignmentgroup": "True",
         "hovertemplate": "Country=%{y}<br>=%{x}<extra></extra>",
         "legendgroup": "Russia",
         "marker": {
          "color": "#fb9f3a",
          "pattern": {
           "shape": ""
          }
         },
         "name": "Russia",
         "offsetgroup": "Russia",
         "orientation": "h",
         "showlegend": true,
         "textposition": "auto",
         "type": "bar",
         "x": [
          149
         ],
         "xaxis": "x",
         "y": [
          "Russia"
         ],
         "yaxis": "y"
        },
        {
         "alignmentgroup": "True",
         "hovertemplate": "Country=%{y}<br>=%{x}<extra></extra>",
         "legendgroup": "France",
         "marker": {
          "color": "#ed7953",
          "pattern": {
           "shape": ""
          }
         },
         "name": "France",
         "offsetgroup": "France",
         "orientation": "h",
         "showlegend": true,
         "textposition": "auto",
         "type": "bar",
         "x": [
          141
         ],
         "xaxis": "x",
         "y": [
          "France"
         ],
         "yaxis": "y"
        },
        {
         "alignmentgroup": "True",
         "hovertemplate": "Country=%{y}<br>=%{x}<extra></extra>",
         "legendgroup": "UK",
         "marker": {
          "color": "#d8576b",
          "pattern": {
           "shape": ""
          }
         },
         "name": "UK",
         "offsetgroup": "UK",
         "orientation": "h",
         "showlegend": true,
         "textposition": "auto",
         "type": "bar",
         "x": [
          141
         ],
         "xaxis": "x",
         "y": [
          "UK"
         ],
         "yaxis": "y"
        },
        {
         "alignmentgroup": "True",
         "hovertemplate": "Country=%{y}<br>=%{x}<extra></extra>",
         "legendgroup": "Australia",
         "marker": {
          "color": "#bd3786",
          "pattern": {
           "shape": ""
          }
         },
         "name": "Australia",
         "offsetgroup": "Australia",
         "orientation": "h",
         "showlegend": true,
         "textposition": "auto",
         "type": "bar",
         "x": [
          131
         ],
         "xaxis": "x",
         "y": [
          "Australia"
         ],
         "yaxis": "y"
        },
        {
         "alignmentgroup": "True",
         "hovertemplate": "Country=%{y}<br>=%{x}<extra></extra>",
         "legendgroup": "Japan",
         "marker": {
          "color": "#9c179e",
          "pattern": {
           "shape": ""
          }
         },
         "name": "Japan",
         "offsetgroup": "Japan",
         "orientation": "h",
         "showlegend": true,
         "textposition": "auto",
         "type": "bar",
         "x": [
          131
         ],
         "xaxis": "x",
         "y": [
          "Japan"
         ],
         "yaxis": "y"
        },
        {
         "alignmentgroup": "True",
         "hovertemplate": "Country=%{y}<br>=%{x}<extra></extra>",
         "legendgroup": "Canada",
         "marker": {
          "color": "#7201a8",
          "pattern": {
           "shape": ""
          }
         },
         "name": "Canada",
         "offsetgroup": "Canada",
         "orientation": "h",
         "showlegend": true,
         "textposition": "auto",
         "type": "bar",
         "x": [
          85
         ],
         "xaxis": "x",
         "y": [
          "Canada"
         ],
         "yaxis": "y"
        },
        {
         "alignmentgroup": "True",
         "hovertemplate": "Country=%{y}<br>=%{x}<extra></extra>",
         "legendgroup": "Germany",
         "marker": {
          "color": "#46039f",
          "pattern": {
           "shape": ""
          }
         },
         "name": "Germany",
         "offsetgroup": "Germany",
         "orientation": "h",
         "showlegend": true,
         "textposition": "auto",
         "type": "bar",
         "x": [
          81
         ],
         "xaxis": "x",
         "y": [
          "Germany"
         ],
         "yaxis": "y"
        },
        {
         "alignmentgroup": "True",
         "hovertemplate": "Country=%{y}<br>=%{x}<extra></extra>",
         "legendgroup": "Italy",
         "marker": {
          "color": "#0d0887",
          "pattern": {
           "shape": ""
          }
         },
         "name": "Italy",
         "offsetgroup": "Italy",
         "orientation": "h",
         "showlegend": true,
         "textposition": "auto",
         "type": "bar",
         "x": [
          76
         ],
         "xaxis": "x",
         "y": [
          "Italy"
         ],
         "yaxis": "y"
        }
       ],
       "layout": {
        "annotations": [
         {
          "font": {
           "color": "RebeccaPurple",
           "family": "Times New Roman",
           "size": 18
          },
          "showarrow": false,
          "text": "298",
          "x": 318,
          "xref": "x",
          "y": "USA",
          "yref": "y"
         },
         {
          "font": {
           "color": "RebeccaPurple",
           "family": "Times New Roman",
           "size": 18
          },
          "showarrow": false,
          "text": "149",
          "x": 169,
          "xref": "x",
          "y": "China",
          "yref": "y"
         },
         {
          "font": {
           "color": "RebeccaPurple",
           "family": "Times New Roman",
           "size": 18
          },
          "showarrow": false,
          "text": "149",
          "x": 169,
          "xref": "x",
          "y": "Russia",
          "yref": "y"
         },
         {
          "font": {
           "color": "RebeccaPurple",
           "family": "Times New Roman",
           "size": 18
          },
          "showarrow": false,
          "text": "141",
          "x": 161,
          "xref": "x",
          "y": "France",
          "yref": "y"
         },
         {
          "font": {
           "color": "RebeccaPurple",
           "family": "Times New Roman",
           "size": 18
          },
          "showarrow": false,
          "text": "141",
          "x": 161,
          "xref": "x",
          "y": "UK",
          "yref": "y"
         },
         {
          "font": {
           "color": "RebeccaPurple",
           "family": "Times New Roman",
           "size": 18
          },
          "showarrow": false,
          "text": "131",
          "x": 151,
          "xref": "x",
          "y": "Australia",
          "yref": "y"
         },
         {
          "font": {
           "color": "RebeccaPurple",
           "family": "Times New Roman",
           "size": 18
          },
          "showarrow": false,
          "text": "131",
          "x": 151,
          "xref": "x",
          "y": "Japan",
          "yref": "y"
         },
         {
          "font": {
           "color": "RebeccaPurple",
           "family": "Times New Roman",
           "size": 18
          },
          "showarrow": false,
          "text": "85",
          "x": 105,
          "xref": "x",
          "y": "Canada",
          "yref": "y"
         },
         {
          "font": {
           "color": "RebeccaPurple",
           "family": "Times New Roman",
           "size": 18
          },
          "showarrow": false,
          "text": "81",
          "x": 101,
          "xref": "x",
          "y": "Germany",
          "yref": "y"
         },
         {
          "font": {
           "color": "RebeccaPurple",
           "family": "Times New Roman",
           "size": 18
          },
          "showarrow": false,
          "text": "76",
          "x": 96,
          "xref": "x",
          "y": "Italy",
          "yref": "y"
         }
        ],
        "barmode": "relative",
        "font": {
         "color": "RebeccaPurple",
         "family": "Times New Roman",
         "size": 18
        },
        "legend": {
         "title": {
          "text": "Country"
         },
         "tracegroupgap": 0
        },
        "margin": {
         "b": 80,
         "l": 150,
         "r": 20,
         "t": 50
        },
        "paper_bgcolor": "rgb(248, 248, 255)",
        "plot_bgcolor": "rgb(248, 248, 255)",
        "showlegend": false,
        "template": {
         "data": {
          "bar": [
           {
            "error_x": {
             "color": "#2a3f5f"
            },
            "error_y": {
             "color": "#2a3f5f"
            },
            "marker": {
             "line": {
              "color": "#E5ECF6",
              "width": 0.5
             },
             "pattern": {
              "fillmode": "overlay",
              "size": 10,
              "solidity": 0.2
             }
            },
            "type": "bar"
           }
          ],
          "barpolar": [
           {
            "marker": {
             "line": {
              "color": "#E5ECF6",
              "width": 0.5
             },
             "pattern": {
              "fillmode": "overlay",
              "size": 10,
              "solidity": 0.2
             }
            },
            "type": "barpolar"
           }
          ],
          "carpet": [
           {
            "aaxis": {
             "endlinecolor": "#2a3f5f",
             "gridcolor": "white",
             "linecolor": "white",
             "minorgridcolor": "white",
             "startlinecolor": "#2a3f5f"
            },
            "baxis": {
             "endlinecolor": "#2a3f5f",
             "gridcolor": "white",
             "linecolor": "white",
             "minorgridcolor": "white",
             "startlinecolor": "#2a3f5f"
            },
            "type": "carpet"
           }
          ],
          "choropleth": [
           {
            "colorbar": {
             "outlinewidth": 0,
             "ticks": ""
            },
            "type": "choropleth"
           }
          ],
          "contour": [
           {
            "colorbar": {
             "outlinewidth": 0,
             "ticks": ""
            },
            "colorscale": [
             [
              0,
              "#0d0887"
             ],
             [
              0.1111111111111111,
              "#46039f"
             ],
             [
              0.2222222222222222,
              "#7201a8"
             ],
             [
              0.3333333333333333,
              "#9c179e"
             ],
             [
              0.4444444444444444,
              "#bd3786"
             ],
             [
              0.5555555555555556,
              "#d8576b"
             ],
             [
              0.6666666666666666,
              "#ed7953"
             ],
             [
              0.7777777777777778,
              "#fb9f3a"
             ],
             [
              0.8888888888888888,
              "#fdca26"
             ],
             [
              1,
              "#f0f921"
             ]
            ],
            "type": "contour"
           }
          ],
          "contourcarpet": [
           {
            "colorbar": {
             "outlinewidth": 0,
             "ticks": ""
            },
            "type": "contourcarpet"
           }
          ],
          "heatmap": [
           {
            "colorbar": {
             "outlinewidth": 0,
             "ticks": ""
            },
            "colorscale": [
             [
              0,
              "#0d0887"
             ],
             [
              0.1111111111111111,
              "#46039f"
             ],
             [
              0.2222222222222222,
              "#7201a8"
             ],
             [
              0.3333333333333333,
              "#9c179e"
             ],
             [
              0.4444444444444444,
              "#bd3786"
             ],
             [
              0.5555555555555556,
              "#d8576b"
             ],
             [
              0.6666666666666666,
              "#ed7953"
             ],
             [
              0.7777777777777778,
              "#fb9f3a"
             ],
             [
              0.8888888888888888,
              "#fdca26"
             ],
             [
              1,
              "#f0f921"
             ]
            ],
            "type": "heatmap"
           }
          ],
          "heatmapgl": [
           {
            "colorbar": {
             "outlinewidth": 0,
             "ticks": ""
            },
            "colorscale": [
             [
              0,
              "#0d0887"
             ],
             [
              0.1111111111111111,
              "#46039f"
             ],
             [
              0.2222222222222222,
              "#7201a8"
             ],
             [
              0.3333333333333333,
              "#9c179e"
             ],
             [
              0.4444444444444444,
              "#bd3786"
             ],
             [
              0.5555555555555556,
              "#d8576b"
             ],
             [
              0.6666666666666666,
              "#ed7953"
             ],
             [
              0.7777777777777778,
              "#fb9f3a"
             ],
             [
              0.8888888888888888,
              "#fdca26"
             ],
             [
              1,
              "#f0f921"
             ]
            ],
            "type": "heatmapgl"
           }
          ],
          "histogram": [
           {
            "marker": {
             "pattern": {
              "fillmode": "overlay",
              "size": 10,
              "solidity": 0.2
             }
            },
            "type": "histogram"
           }
          ],
          "histogram2d": [
           {
            "colorbar": {
             "outlinewidth": 0,
             "ticks": ""
            },
            "colorscale": [
             [
              0,
              "#0d0887"
             ],
             [
              0.1111111111111111,
              "#46039f"
             ],
             [
              0.2222222222222222,
              "#7201a8"
             ],
             [
              0.3333333333333333,
              "#9c179e"
             ],
             [
              0.4444444444444444,
              "#bd3786"
             ],
             [
              0.5555555555555556,
              "#d8576b"
             ],
             [
              0.6666666666666666,
              "#ed7953"
             ],
             [
              0.7777777777777778,
              "#fb9f3a"
             ],
             [
              0.8888888888888888,
              "#fdca26"
             ],
             [
              1,
              "#f0f921"
             ]
            ],
            "type": "histogram2d"
           }
          ],
          "histogram2dcontour": [
           {
            "colorbar": {
             "outlinewidth": 0,
             "ticks": ""
            },
            "colorscale": [
             [
              0,
              "#0d0887"
             ],
             [
              0.1111111111111111,
              "#46039f"
             ],
             [
              0.2222222222222222,
              "#7201a8"
             ],
             [
              0.3333333333333333,
              "#9c179e"
             ],
             [
              0.4444444444444444,
              "#bd3786"
             ],
             [
              0.5555555555555556,
              "#d8576b"
             ],
             [
              0.6666666666666666,
              "#ed7953"
             ],
             [
              0.7777777777777778,
              "#fb9f3a"
             ],
             [
              0.8888888888888888,
              "#fdca26"
             ],
             [
              1,
              "#f0f921"
             ]
            ],
            "type": "histogram2dcontour"
           }
          ],
          "mesh3d": [
           {
            "colorbar": {
             "outlinewidth": 0,
             "ticks": ""
            },
            "type": "mesh3d"
           }
          ],
          "parcoords": [
           {
            "line": {
             "colorbar": {
              "outlinewidth": 0,
              "ticks": ""
             }
            },
            "type": "parcoords"
           }
          ],
          "pie": [
           {
            "automargin": true,
            "type": "pie"
           }
          ],
          "scatter": [
           {
            "fillpattern": {
             "fillmode": "overlay",
             "size": 10,
             "solidity": 0.2
            },
            "type": "scatter"
           }
          ],
          "scatter3d": [
           {
            "line": {
             "colorbar": {
              "outlinewidth": 0,
              "ticks": ""
             }
            },
            "marker": {
             "colorbar": {
              "outlinewidth": 0,
              "ticks": ""
             }
            },
            "type": "scatter3d"
           }
          ],
          "scattercarpet": [
           {
            "marker": {
             "colorbar": {
              "outlinewidth": 0,
              "ticks": ""
             }
            },
            "type": "scattercarpet"
           }
          ],
          "scattergeo": [
           {
            "marker": {
             "colorbar": {
              "outlinewidth": 0,
              "ticks": ""
             }
            },
            "type": "scattergeo"
           }
          ],
          "scattergl": [
           {
            "marker": {
             "colorbar": {
              "outlinewidth": 0,
              "ticks": ""
             }
            },
            "type": "scattergl"
           }
          ],
          "scattermapbox": [
           {
            "marker": {
             "colorbar": {
              "outlinewidth": 0,
              "ticks": ""
             }
            },
            "type": "scattermapbox"
           }
          ],
          "scatterpolar": [
           {
            "marker": {
             "colorbar": {
              "outlinewidth": 0,
              "ticks": ""
             }
            },
            "type": "scatterpolar"
           }
          ],
          "scatterpolargl": [
           {
            "marker": {
             "colorbar": {
              "outlinewidth": 0,
              "ticks": ""
             }
            },
            "type": "scatterpolargl"
           }
          ],
          "scatterternary": [
           {
            "marker": {
             "colorbar": {
              "outlinewidth": 0,
              "ticks": ""
             }
            },
            "type": "scatterternary"
           }
          ],
          "surface": [
           {
            "colorbar": {
             "outlinewidth": 0,
             "ticks": ""
            },
            "colorscale": [
             [
              0,
              "#0d0887"
             ],
             [
              0.1111111111111111,
              "#46039f"
             ],
             [
              0.2222222222222222,
              "#7201a8"
             ],
             [
              0.3333333333333333,
              "#9c179e"
             ],
             [
              0.4444444444444444,
              "#bd3786"
             ],
             [
              0.5555555555555556,
              "#d8576b"
             ],
             [
              0.6666666666666666,
              "#ed7953"
             ],
             [
              0.7777777777777778,
              "#fb9f3a"
             ],
             [
              0.8888888888888888,
              "#fdca26"
             ],
             [
              1,
              "#f0f921"
             ]
            ],
            "type": "surface"
           }
          ],
          "table": [
           {
            "cells": {
             "fill": {
              "color": "#EBF0F8"
             },
             "line": {
              "color": "white"
             }
            },
            "header": {
             "fill": {
              "color": "#C8D4E3"
             },
             "line": {
              "color": "white"
             }
            },
            "type": "table"
           }
          ]
         },
         "layout": {
          "annotationdefaults": {
           "arrowcolor": "#2a3f5f",
           "arrowhead": 0,
           "arrowwidth": 1
          },
          "autotypenumbers": "strict",
          "coloraxis": {
           "colorbar": {
            "outlinewidth": 0,
            "ticks": ""
           }
          },
          "colorscale": {
           "diverging": [
            [
             0,
             "#8e0152"
            ],
            [
             0.1,
             "#c51b7d"
            ],
            [
             0.2,
             "#de77ae"
            ],
            [
             0.3,
             "#f1b6da"
            ],
            [
             0.4,
             "#fde0ef"
            ],
            [
             0.5,
             "#f7f7f7"
            ],
            [
             0.6,
             "#e6f5d0"
            ],
            [
             0.7,
             "#b8e186"
            ],
            [
             0.8,
             "#7fbc41"
            ],
            [
             0.9,
             "#4d9221"
            ],
            [
             1,
             "#276419"
            ]
           ],
           "sequential": [
            [
             0,
             "#0d0887"
            ],
            [
             0.1111111111111111,
             "#46039f"
            ],
            [
             0.2222222222222222,
             "#7201a8"
            ],
            [
             0.3333333333333333,
             "#9c179e"
            ],
            [
             0.4444444444444444,
             "#bd3786"
            ],
            [
             0.5555555555555556,
             "#d8576b"
            ],
            [
             0.6666666666666666,
             "#ed7953"
            ],
            [
             0.7777777777777778,
             "#fb9f3a"
            ],
            [
             0.8888888888888888,
             "#fdca26"
            ],
            [
             1,
             "#f0f921"
            ]
           ],
           "sequentialminus": [
            [
             0,
             "#0d0887"
            ],
            [
             0.1111111111111111,
             "#46039f"
            ],
            [
             0.2222222222222222,
             "#7201a8"
            ],
            [
             0.3333333333333333,
             "#9c179e"
            ],
            [
             0.4444444444444444,
             "#bd3786"
            ],
            [
             0.5555555555555556,
             "#d8576b"
            ],
            [
             0.6666666666666666,
             "#ed7953"
            ],
            [
             0.7777777777777778,
             "#fb9f3a"
            ],
            [
             0.8888888888888888,
             "#fdca26"
            ],
            [
             1,
             "#f0f921"
            ]
           ]
          },
          "colorway": [
           "#636efa",
           "#EF553B",
           "#00cc96",
           "#ab63fa",
           "#FFA15A",
           "#19d3f3",
           "#FF6692",
           "#B6E880",
           "#FF97FF",
           "#FECB52"
          ],
          "font": {
           "color": "#2a3f5f"
          },
          "geo": {
           "bgcolor": "white",
           "lakecolor": "white",
           "landcolor": "#E5ECF6",
           "showlakes": true,
           "showland": true,
           "subunitcolor": "white"
          },
          "hoverlabel": {
           "align": "left"
          },
          "hovermode": "closest",
          "mapbox": {
           "style": "light"
          },
          "paper_bgcolor": "white",
          "plot_bgcolor": "#E5ECF6",
          "polar": {
           "angularaxis": {
            "gridcolor": "white",
            "linecolor": "white",
            "ticks": ""
           },
           "bgcolor": "#E5ECF6",
           "radialaxis": {
            "gridcolor": "white",
            "linecolor": "white",
            "ticks": ""
           }
          },
          "scene": {
           "xaxis": {
            "backgroundcolor": "#E5ECF6",
            "gridcolor": "white",
            "gridwidth": 2,
            "linecolor": "white",
            "showbackground": true,
            "ticks": "",
            "zerolinecolor": "white"
           },
           "yaxis": {
            "backgroundcolor": "#E5ECF6",
            "gridcolor": "white",
            "gridwidth": 2,
            "linecolor": "white",
            "showbackground": true,
            "ticks": "",
            "zerolinecolor": "white"
           },
           "zaxis": {
            "backgroundcolor": "#E5ECF6",
            "gridcolor": "white",
            "gridwidth": 2,
            "linecolor": "white",
            "showbackground": true,
            "ticks": "",
            "zerolinecolor": "white"
           }
          },
          "shapedefaults": {
           "line": {
            "color": "#2a3f5f"
           }
          },
          "ternary": {
           "aaxis": {
            "gridcolor": "white",
            "linecolor": "white",
            "ticks": ""
           },
           "baxis": {
            "gridcolor": "white",
            "linecolor": "white",
            "ticks": ""
           },
           "bgcolor": "#E5ECF6",
           "caxis": {
            "gridcolor": "white",
            "linecolor": "white",
            "ticks": ""
           }
          },
          "title": {
           "x": 0.05
          },
          "xaxis": {
           "automargin": true,
           "gridcolor": "white",
           "linecolor": "white",
           "ticks": "",
           "title": {
            "standoff": 15
           },
           "zerolinecolor": "white",
           "zerolinewidth": 2
          },
          "yaxis": {
           "automargin": true,
           "gridcolor": "white",
           "linecolor": "white",
           "ticks": "",
           "title": {
            "standoff": 15
           },
           "zerolinecolor": "white",
           "zerolinewidth": 2
          }
         }
        },
        "title": {
         "text": "Number of medals in 2020",
         "x": 0.5,
         "xanchor": "center",
         "y": 0.95,
         "yanchor": "top"
        },
        "xaxis": {
         "anchor": "y",
         "domain": [
          0,
          1
         ],
         "range": [
          0,
          526
         ],
         "showgrid": false,
         "showline": true,
         "showticklabels": true,
         "title": {
          "text": ""
         },
         "zeroline": false
        },
        "yaxis": {
         "anchor": "x",
         "categoryarray": [
          "Italy",
          "Germany",
          "Canada",
          "Japan",
          "Australia",
          "UK",
          "France",
          "Russia",
          "China",
          "USA"
         ],
         "categoryorder": "array",
         "domain": [
          0,
          1
         ],
         "showgrid": false,
         "showline": true,
         "showticklabels": true,
         "title": {
          "text": "Country"
         },
         "zeroline": false
        }
       }
      },
      "text/html": [
       "<div>                            <div id=\"f99cf00f-2ef5-4f6c-8ac7-efb06e1b2839\" class=\"plotly-graph-div\" style=\"height:525px; width:100%;\"></div>            <script type=\"text/javascript\">                require([\"plotly\"], function(Plotly) {                    window.PLOTLYENV=window.PLOTLYENV || {};                                    if (document.getElementById(\"f99cf00f-2ef5-4f6c-8ac7-efb06e1b2839\")) {                    Plotly.newPlot(                        \"f99cf00f-2ef5-4f6c-8ac7-efb06e1b2839\",                        [{\"alignmentgroup\":\"True\",\"hovertemplate\":\"Country=%{y}<br>=%{x}<extra></extra>\",\"legendgroup\":\"USA\",\"marker\":{\"color\":\"#f0f921\",\"pattern\":{\"shape\":\"\"}},\"name\":\"USA\",\"offsetgroup\":\"USA\",\"orientation\":\"h\",\"showlegend\":true,\"textposition\":\"auto\",\"x\":[298],\"xaxis\":\"x\",\"y\":[\"USA\"],\"yaxis\":\"y\",\"type\":\"bar\"},{\"alignmentgroup\":\"True\",\"hovertemplate\":\"Country=%{y}<br>=%{x}<extra></extra>\",\"legendgroup\":\"China\",\"marker\":{\"color\":\"#fdca26\",\"pattern\":{\"shape\":\"\"}},\"name\":\"China\",\"offsetgroup\":\"China\",\"orientation\":\"h\",\"showlegend\":true,\"textposition\":\"auto\",\"x\":[149],\"xaxis\":\"x\",\"y\":[\"China\"],\"yaxis\":\"y\",\"type\":\"bar\"},{\"alignmentgroup\":\"True\",\"hovertemplate\":\"Country=%{y}<br>=%{x}<extra></extra>\",\"legendgroup\":\"Russia\",\"marker\":{\"color\":\"#fb9f3a\",\"pattern\":{\"shape\":\"\"}},\"name\":\"Russia\",\"offsetgroup\":\"Russia\",\"orientation\":\"h\",\"showlegend\":true,\"textposition\":\"auto\",\"x\":[149],\"xaxis\":\"x\",\"y\":[\"Russia\"],\"yaxis\":\"y\",\"type\":\"bar\"},{\"alignmentgroup\":\"True\",\"hovertemplate\":\"Country=%{y}<br>=%{x}<extra></extra>\",\"legendgroup\":\"France\",\"marker\":{\"color\":\"#ed7953\",\"pattern\":{\"shape\":\"\"}},\"name\":\"France\",\"offsetgroup\":\"France\",\"orientation\":\"h\",\"showlegend\":true,\"textposition\":\"auto\",\"x\":[141],\"xaxis\":\"x\",\"y\":[\"France\"],\"yaxis\":\"y\",\"type\":\"bar\"},{\"alignmentgroup\":\"True\",\"hovertemplate\":\"Country=%{y}<br>=%{x}<extra></extra>\",\"legendgroup\":\"UK\",\"marker\":{\"color\":\"#d8576b\",\"pattern\":{\"shape\":\"\"}},\"name\":\"UK\",\"offsetgroup\":\"UK\",\"orientation\":\"h\",\"showlegend\":true,\"textposition\":\"auto\",\"x\":[141],\"xaxis\":\"x\",\"y\":[\"UK\"],\"yaxis\":\"y\",\"type\":\"bar\"},{\"alignmentgroup\":\"True\",\"hovertemplate\":\"Country=%{y}<br>=%{x}<extra></extra>\",\"legendgroup\":\"Australia\",\"marker\":{\"color\":\"#bd3786\",\"pattern\":{\"shape\":\"\"}},\"name\":\"Australia\",\"offsetgroup\":\"Australia\",\"orientation\":\"h\",\"showlegend\":true,\"textposition\":\"auto\",\"x\":[131],\"xaxis\":\"x\",\"y\":[\"Australia\"],\"yaxis\":\"y\",\"type\":\"bar\"},{\"alignmentgroup\":\"True\",\"hovertemplate\":\"Country=%{y}<br>=%{x}<extra></extra>\",\"legendgroup\":\"Japan\",\"marker\":{\"color\":\"#9c179e\",\"pattern\":{\"shape\":\"\"}},\"name\":\"Japan\",\"offsetgroup\":\"Japan\",\"orientation\":\"h\",\"showlegend\":true,\"textposition\":\"auto\",\"x\":[131],\"xaxis\":\"x\",\"y\":[\"Japan\"],\"yaxis\":\"y\",\"type\":\"bar\"},{\"alignmentgroup\":\"True\",\"hovertemplate\":\"Country=%{y}<br>=%{x}<extra></extra>\",\"legendgroup\":\"Canada\",\"marker\":{\"color\":\"#7201a8\",\"pattern\":{\"shape\":\"\"}},\"name\":\"Canada\",\"offsetgroup\":\"Canada\",\"orientation\":\"h\",\"showlegend\":true,\"textposition\":\"auto\",\"x\":[85],\"xaxis\":\"x\",\"y\":[\"Canada\"],\"yaxis\":\"y\",\"type\":\"bar\"},{\"alignmentgroup\":\"True\",\"hovertemplate\":\"Country=%{y}<br>=%{x}<extra></extra>\",\"legendgroup\":\"Germany\",\"marker\":{\"color\":\"#46039f\",\"pattern\":{\"shape\":\"\"}},\"name\":\"Germany\",\"offsetgroup\":\"Germany\",\"orientation\":\"h\",\"showlegend\":true,\"textposition\":\"auto\",\"x\":[81],\"xaxis\":\"x\",\"y\":[\"Germany\"],\"yaxis\":\"y\",\"type\":\"bar\"},{\"alignmentgroup\":\"True\",\"hovertemplate\":\"Country=%{y}<br>=%{x}<extra></extra>\",\"legendgroup\":\"Italy\",\"marker\":{\"color\":\"#0d0887\",\"pattern\":{\"shape\":\"\"}},\"name\":\"Italy\",\"offsetgroup\":\"Italy\",\"orientation\":\"h\",\"showlegend\":true,\"textposition\":\"auto\",\"x\":[76],\"xaxis\":\"x\",\"y\":[\"Italy\"],\"yaxis\":\"y\",\"type\":\"bar\"}],                        {\"template\":{\"data\":{\"histogram2dcontour\":[{\"type\":\"histogram2dcontour\",\"colorbar\":{\"outlinewidth\":0,\"ticks\":\"\"},\"colorscale\":[[0.0,\"#0d0887\"],[0.1111111111111111,\"#46039f\"],[0.2222222222222222,\"#7201a8\"],[0.3333333333333333,\"#9c179e\"],[0.4444444444444444,\"#bd3786\"],[0.5555555555555556,\"#d8576b\"],[0.6666666666666666,\"#ed7953\"],[0.7777777777777778,\"#fb9f3a\"],[0.8888888888888888,\"#fdca26\"],[1.0,\"#f0f921\"]]}],\"choropleth\":[{\"type\":\"choropleth\",\"colorbar\":{\"outlinewidth\":0,\"ticks\":\"\"}}],\"histogram2d\":[{\"type\":\"histogram2d\",\"colorbar\":{\"outlinewidth\":0,\"ticks\":\"\"},\"colorscale\":[[0.0,\"#0d0887\"],[0.1111111111111111,\"#46039f\"],[0.2222222222222222,\"#7201a8\"],[0.3333333333333333,\"#9c179e\"],[0.4444444444444444,\"#bd3786\"],[0.5555555555555556,\"#d8576b\"],[0.6666666666666666,\"#ed7953\"],[0.7777777777777778,\"#fb9f3a\"],[0.8888888888888888,\"#fdca26\"],[1.0,\"#f0f921\"]]}],\"heatmap\":[{\"type\":\"heatmap\",\"colorbar\":{\"outlinewidth\":0,\"ticks\":\"\"},\"colorscale\":[[0.0,\"#0d0887\"],[0.1111111111111111,\"#46039f\"],[0.2222222222222222,\"#7201a8\"],[0.3333333333333333,\"#9c179e\"],[0.4444444444444444,\"#bd3786\"],[0.5555555555555556,\"#d8576b\"],[0.6666666666666666,\"#ed7953\"],[0.7777777777777778,\"#fb9f3a\"],[0.8888888888888888,\"#fdca26\"],[1.0,\"#f0f921\"]]}],\"heatmapgl\":[{\"type\":\"heatmapgl\",\"colorbar\":{\"outlinewidth\":0,\"ticks\":\"\"},\"colorscale\":[[0.0,\"#0d0887\"],[0.1111111111111111,\"#46039f\"],[0.2222222222222222,\"#7201a8\"],[0.3333333333333333,\"#9c179e\"],[0.4444444444444444,\"#bd3786\"],[0.5555555555555556,\"#d8576b\"],[0.6666666666666666,\"#ed7953\"],[0.7777777777777778,\"#fb9f3a\"],[0.8888888888888888,\"#fdca26\"],[1.0,\"#f0f921\"]]}],\"contourcarpet\":[{\"type\":\"contourcarpet\",\"colorbar\":{\"outlinewidth\":0,\"ticks\":\"\"}}],\"contour\":[{\"type\":\"contour\",\"colorbar\":{\"outlinewidth\":0,\"ticks\":\"\"},\"colorscale\":[[0.0,\"#0d0887\"],[0.1111111111111111,\"#46039f\"],[0.2222222222222222,\"#7201a8\"],[0.3333333333333333,\"#9c179e\"],[0.4444444444444444,\"#bd3786\"],[0.5555555555555556,\"#d8576b\"],[0.6666666666666666,\"#ed7953\"],[0.7777777777777778,\"#fb9f3a\"],[0.8888888888888888,\"#fdca26\"],[1.0,\"#f0f921\"]]}],\"surface\":[{\"type\":\"surface\",\"colorbar\":{\"outlinewidth\":0,\"ticks\":\"\"},\"colorscale\":[[0.0,\"#0d0887\"],[0.1111111111111111,\"#46039f\"],[0.2222222222222222,\"#7201a8\"],[0.3333333333333333,\"#9c179e\"],[0.4444444444444444,\"#bd3786\"],[0.5555555555555556,\"#d8576b\"],[0.6666666666666666,\"#ed7953\"],[0.7777777777777778,\"#fb9f3a\"],[0.8888888888888888,\"#fdca26\"],[1.0,\"#f0f921\"]]}],\"mesh3d\":[{\"type\":\"mesh3d\",\"colorbar\":{\"outlinewidth\":0,\"ticks\":\"\"}}],\"scatter\":[{\"fillpattern\":{\"fillmode\":\"overlay\",\"size\":10,\"solidity\":0.2},\"type\":\"scatter\"}],\"parcoords\":[{\"type\":\"parcoords\",\"line\":{\"colorbar\":{\"outlinewidth\":0,\"ticks\":\"\"}}}],\"scatterpolargl\":[{\"type\":\"scatterpolargl\",\"marker\":{\"colorbar\":{\"outlinewidth\":0,\"ticks\":\"\"}}}],\"bar\":[{\"error_x\":{\"color\":\"#2a3f5f\"},\"error_y\":{\"color\":\"#2a3f5f\"},\"marker\":{\"line\":{\"color\":\"#E5ECF6\",\"width\":0.5},\"pattern\":{\"fillmode\":\"overlay\",\"size\":10,\"solidity\":0.2}},\"type\":\"bar\"}],\"scattergeo\":[{\"type\":\"scattergeo\",\"marker\":{\"colorbar\":{\"outlinewidth\":0,\"ticks\":\"\"}}}],\"scatterpolar\":[{\"type\":\"scatterpolar\",\"marker\":{\"colorbar\":{\"outlinewidth\":0,\"ticks\":\"\"}}}],\"histogram\":[{\"marker\":{\"pattern\":{\"fillmode\":\"overlay\",\"size\":10,\"solidity\":0.2}},\"type\":\"histogram\"}],\"scattergl\":[{\"type\":\"scattergl\",\"marker\":{\"colorbar\":{\"outlinewidth\":0,\"ticks\":\"\"}}}],\"scatter3d\":[{\"type\":\"scatter3d\",\"line\":{\"colorbar\":{\"outlinewidth\":0,\"ticks\":\"\"}},\"marker\":{\"colorbar\":{\"outlinewidth\":0,\"ticks\":\"\"}}}],\"scattermapbox\":[{\"type\":\"scattermapbox\",\"marker\":{\"colorbar\":{\"outlinewidth\":0,\"ticks\":\"\"}}}],\"scatterternary\":[{\"type\":\"scatterternary\",\"marker\":{\"colorbar\":{\"outlinewidth\":0,\"ticks\":\"\"}}}],\"scattercarpet\":[{\"type\":\"scattercarpet\",\"marker\":{\"colorbar\":{\"outlinewidth\":0,\"ticks\":\"\"}}}],\"carpet\":[{\"aaxis\":{\"endlinecolor\":\"#2a3f5f\",\"gridcolor\":\"white\",\"linecolor\":\"white\",\"minorgridcolor\":\"white\",\"startlinecolor\":\"#2a3f5f\"},\"baxis\":{\"endlinecolor\":\"#2a3f5f\",\"gridcolor\":\"white\",\"linecolor\":\"white\",\"minorgridcolor\":\"white\",\"startlinecolor\":\"#2a3f5f\"},\"type\":\"carpet\"}],\"table\":[{\"cells\":{\"fill\":{\"color\":\"#EBF0F8\"},\"line\":{\"color\":\"white\"}},\"header\":{\"fill\":{\"color\":\"#C8D4E3\"},\"line\":{\"color\":\"white\"}},\"type\":\"table\"}],\"barpolar\":[{\"marker\":{\"line\":{\"color\":\"#E5ECF6\",\"width\":0.5},\"pattern\":{\"fillmode\":\"overlay\",\"size\":10,\"solidity\":0.2}},\"type\":\"barpolar\"}],\"pie\":[{\"automargin\":true,\"type\":\"pie\"}]},\"layout\":{\"autotypenumbers\":\"strict\",\"colorway\":[\"#636efa\",\"#EF553B\",\"#00cc96\",\"#ab63fa\",\"#FFA15A\",\"#19d3f3\",\"#FF6692\",\"#B6E880\",\"#FF97FF\",\"#FECB52\"],\"font\":{\"color\":\"#2a3f5f\"},\"hovermode\":\"closest\",\"hoverlabel\":{\"align\":\"left\"},\"paper_bgcolor\":\"white\",\"plot_bgcolor\":\"#E5ECF6\",\"polar\":{\"bgcolor\":\"#E5ECF6\",\"angularaxis\":{\"gridcolor\":\"white\",\"linecolor\":\"white\",\"ticks\":\"\"},\"radialaxis\":{\"gridcolor\":\"white\",\"linecolor\":\"white\",\"ticks\":\"\"}},\"ternary\":{\"bgcolor\":\"#E5ECF6\",\"aaxis\":{\"gridcolor\":\"white\",\"linecolor\":\"white\",\"ticks\":\"\"},\"baxis\":{\"gridcolor\":\"white\",\"linecolor\":\"white\",\"ticks\":\"\"},\"caxis\":{\"gridcolor\":\"white\",\"linecolor\":\"white\",\"ticks\":\"\"}},\"coloraxis\":{\"colorbar\":{\"outlinewidth\":0,\"ticks\":\"\"}},\"colorscale\":{\"sequential\":[[0.0,\"#0d0887\"],[0.1111111111111111,\"#46039f\"],[0.2222222222222222,\"#7201a8\"],[0.3333333333333333,\"#9c179e\"],[0.4444444444444444,\"#bd3786\"],[0.5555555555555556,\"#d8576b\"],[0.6666666666666666,\"#ed7953\"],[0.7777777777777778,\"#fb9f3a\"],[0.8888888888888888,\"#fdca26\"],[1.0,\"#f0f921\"]],\"sequentialminus\":[[0.0,\"#0d0887\"],[0.1111111111111111,\"#46039f\"],[0.2222222222222222,\"#7201a8\"],[0.3333333333333333,\"#9c179e\"],[0.4444444444444444,\"#bd3786\"],[0.5555555555555556,\"#d8576b\"],[0.6666666666666666,\"#ed7953\"],[0.7777777777777778,\"#fb9f3a\"],[0.8888888888888888,\"#fdca26\"],[1.0,\"#f0f921\"]],\"diverging\":[[0,\"#8e0152\"],[0.1,\"#c51b7d\"],[0.2,\"#de77ae\"],[0.3,\"#f1b6da\"],[0.4,\"#fde0ef\"],[0.5,\"#f7f7f7\"],[0.6,\"#e6f5d0\"],[0.7,\"#b8e186\"],[0.8,\"#7fbc41\"],[0.9,\"#4d9221\"],[1,\"#276419\"]]},\"xaxis\":{\"gridcolor\":\"white\",\"linecolor\":\"white\",\"ticks\":\"\",\"title\":{\"standoff\":15},\"zerolinecolor\":\"white\",\"automargin\":true,\"zerolinewidth\":2},\"yaxis\":{\"gridcolor\":\"white\",\"linecolor\":\"white\",\"ticks\":\"\",\"title\":{\"standoff\":15},\"zerolinecolor\":\"white\",\"automargin\":true,\"zerolinewidth\":2},\"scene\":{\"xaxis\":{\"backgroundcolor\":\"#E5ECF6\",\"gridcolor\":\"white\",\"linecolor\":\"white\",\"showbackground\":true,\"ticks\":\"\",\"zerolinecolor\":\"white\",\"gridwidth\":2},\"yaxis\":{\"backgroundcolor\":\"#E5ECF6\",\"gridcolor\":\"white\",\"linecolor\":\"white\",\"showbackground\":true,\"ticks\":\"\",\"zerolinecolor\":\"white\",\"gridwidth\":2},\"zaxis\":{\"backgroundcolor\":\"#E5ECF6\",\"gridcolor\":\"white\",\"linecolor\":\"white\",\"showbackground\":true,\"ticks\":\"\",\"zerolinecolor\":\"white\",\"gridwidth\":2}},\"shapedefaults\":{\"line\":{\"color\":\"#2a3f5f\"}},\"annotationdefaults\":{\"arrowcolor\":\"#2a3f5f\",\"arrowhead\":0,\"arrowwidth\":1},\"geo\":{\"bgcolor\":\"white\",\"landcolor\":\"#E5ECF6\",\"subunitcolor\":\"white\",\"showland\":true,\"showlakes\":true,\"lakecolor\":\"white\"},\"title\":{\"x\":0.05},\"mapbox\":{\"style\":\"light\"}}},\"xaxis\":{\"anchor\":\"y\",\"domain\":[0.0,1.0],\"title\":{\"text\":\"\"},\"showgrid\":false,\"showline\":true,\"showticklabels\":true,\"zeroline\":false,\"range\":[0,526]},\"yaxis\":{\"anchor\":\"x\",\"domain\":[0.0,1.0],\"title\":{\"text\":\"Country\"},\"categoryorder\":\"array\",\"categoryarray\":[\"Italy\",\"Germany\",\"Canada\",\"Japan\",\"Australia\",\"UK\",\"France\",\"Russia\",\"China\",\"USA\"],\"showgrid\":false,\"showline\":true,\"showticklabels\":true,\"zeroline\":false},\"legend\":{\"title\":{\"text\":\"Country\"},\"tracegroupgap\":0},\"margin\":{\"t\":50,\"l\":150,\"r\":20,\"b\":80},\"barmode\":\"relative\",\"title\":{\"text\":\"Number of medals in 2020\",\"y\":0.95,\"x\":0.5,\"xanchor\":\"center\",\"yanchor\":\"top\"},\"font\":{\"family\":\"Times New Roman\",\"size\":18,\"color\":\"RebeccaPurple\"},\"paper_bgcolor\":\"rgb(248, 248, 255)\",\"plot_bgcolor\":\"rgb(248, 248, 255)\",\"showlegend\":false,\"annotations\":[{\"font\":{\"color\":\"RebeccaPurple\",\"family\":\"Times New Roman\",\"size\":18},\"showarrow\":false,\"text\":\"298\",\"x\":318,\"xref\":\"x\",\"y\":\"USA\",\"yref\":\"y\"},{\"font\":{\"color\":\"RebeccaPurple\",\"family\":\"Times New Roman\",\"size\":18},\"showarrow\":false,\"text\":\"149\",\"x\":169,\"xref\":\"x\",\"y\":\"China\",\"yref\":\"y\"},{\"font\":{\"color\":\"RebeccaPurple\",\"family\":\"Times New Roman\",\"size\":18},\"showarrow\":false,\"text\":\"149\",\"x\":169,\"xref\":\"x\",\"y\":\"Russia\",\"yref\":\"y\"},{\"font\":{\"color\":\"RebeccaPurple\",\"family\":\"Times New Roman\",\"size\":18},\"showarrow\":false,\"text\":\"141\",\"x\":161,\"xref\":\"x\",\"y\":\"France\",\"yref\":\"y\"},{\"font\":{\"color\":\"RebeccaPurple\",\"family\":\"Times New Roman\",\"size\":18},\"showarrow\":false,\"text\":\"141\",\"x\":161,\"xref\":\"x\",\"y\":\"UK\",\"yref\":\"y\"},{\"font\":{\"color\":\"RebeccaPurple\",\"family\":\"Times New Roman\",\"size\":18},\"showarrow\":false,\"text\":\"131\",\"x\":151,\"xref\":\"x\",\"y\":\"Australia\",\"yref\":\"y\"},{\"font\":{\"color\":\"RebeccaPurple\",\"family\":\"Times New Roman\",\"size\":18},\"showarrow\":false,\"text\":\"131\",\"x\":151,\"xref\":\"x\",\"y\":\"Japan\",\"yref\":\"y\"},{\"font\":{\"color\":\"RebeccaPurple\",\"family\":\"Times New Roman\",\"size\":18},\"showarrow\":false,\"text\":\"85\",\"x\":105,\"xref\":\"x\",\"y\":\"Canada\",\"yref\":\"y\"},{\"font\":{\"color\":\"RebeccaPurple\",\"family\":\"Times New Roman\",\"size\":18},\"showarrow\":false,\"text\":\"81\",\"x\":101,\"xref\":\"x\",\"y\":\"Germany\",\"yref\":\"y\"},{\"font\":{\"color\":\"RebeccaPurple\",\"family\":\"Times New Roman\",\"size\":18},\"showarrow\":false,\"text\":\"76\",\"x\":96,\"xref\":\"x\",\"y\":\"Italy\",\"yref\":\"y\"}]},                        {\"responsive\": true}                    ).then(function(){\n",
       "                            \n",
       "var gd = document.getElementById('f99cf00f-2ef5-4f6c-8ac7-efb06e1b2839');\n",
       "var x = new MutationObserver(function (mutations, observer) {{\n",
       "        var display = window.getComputedStyle(gd).display;\n",
       "        if (!display || display === 'none') {{\n",
       "            console.log([gd, 'removed!']);\n",
       "            Plotly.purge(gd);\n",
       "            observer.disconnect();\n",
       "        }}\n",
       "}});\n",
       "\n",
       "// Listen for the removal of the full notebook cells\n",
       "var notebookContainer = gd.closest('#notebook-container');\n",
       "if (notebookContainer) {{\n",
       "    x.observe(notebookContainer, {childList: true});\n",
       "}}\n",
       "\n",
       "// Listen for the clearing of the current output cell\n",
       "var outputEl = gd.closest('.output');\n",
       "if (outputEl) {{\n",
       "    x.observe(outputEl, {childList: true});\n",
       "}}\n",
       "\n",
       "                        })                };                });            </script>        </div>"
      ]
     },
     "metadata": {},
     "output_type": "display_data"
    }
   ],
   "source": [
    "    xaxis_max = country_medals_all['number_of_medals'].max()+30\n",
    "    year = 2020\n",
    "    bar_title = f'Medals per country in {year}'\n",
    "\n",
    "    df=country_medals_all[country_medals_all['year']==year].head(10)[['country', 'number_of_medals']]\n",
    "    df.sort_values(by='number_of_medals', ascending=False, inplace=True)\n",
    "    \n",
    "    # if there is no data for current year, skip plotting and process next year data\n",
    "    #if df.size==0:\n",
    "    #    continue\n",
    "\n",
    "    fig = px.bar(df, x='number_of_medals', y='country', orientation='h', \n",
    "             #title = f'Number of medals in {year}', \n",
    "             labels = {'country':'Country', 'number_of_medals': 'Number of '},\n",
    "             color = 'country',\n",
    "             color_discrete_sequence = px.colors.sequential.Plasma_r); #Antique);\n",
    "\n",
    "    # for annotations \n",
    "    x_data = df['number_of_medals'].to_list()\n",
    "    y_data = df['country'].to_list()\n",
    "    annotations = []\n",
    "\n",
    "    for yd, xd in zip(y_data, x_data):\n",
    "        # labeling each bar\n",
    "        annotations.append(dict(xref='x', yref='y',\n",
    "                            x=xd + 20, y=yd,\n",
    "                            text=str(xd),\n",
    "                            font=dict(family='Times New Roman',   # 'Arial', \n",
    "                                      size=18, # color='rgb(248, 248, 255)'\n",
    "                                      color='RebeccaPurple'  #'cornflowerblue'\n",
    "                                     ),\n",
    "                            showarrow=False))\n",
    "\n",
    "    fig.update_layout(\n",
    "        xaxis=dict(\n",
    "            showgrid=False,\n",
    "            showline=True,\n",
    "            showticklabels=True,\n",
    "            zeroline=False,\n",
    "            #domain=[0.15, 1]\n",
    "        ),\n",
    "        yaxis=dict(\n",
    "            showgrid=False,\n",
    "            showline=True,\n",
    "            showticklabels=True,\n",
    "            zeroline=False,\n",
    "        ),\n",
    "        xaxis_range=[0,xaxis_max], # making x_axis of fixed range\n",
    "        #barmode='stack',\n",
    "        paper_bgcolor='rgb(248, 248, 255)',\n",
    "        plot_bgcolor='rgb(248, 248, 255)',\n",
    "        margin=dict(l=150, r=20, t=50, b=80),\n",
    "        showlegend=False,\n",
    "        \n",
    "        title={\n",
    "            'text': f'Number of medals in {year}',\n",
    "            'y':0.95,\n",
    "            'x':0.50,\n",
    "            'xanchor': 'center',\n",
    "            'yanchor': 'top'},\n",
    "        \n",
    "        font=dict(\n",
    "            family='Times New Roman',   #\"Courier New, monospace\",\n",
    "            size=18,\n",
    "            color=\"RebeccaPurple\"),\n",
    "    \n",
    "        annotations=annotations\n",
    "    )\n",
    "\n",
    "    #fig.write_image(f'../images_work/medals_all/country_medals_all_barplot_{year}.png')\n",
    "    pio.write_image(fig, f'../images/country_medals_all_barplot_{year}.png',scale=6, width=512, height=384)\n",
    "    fig.show()"
   ]
  },
  {
   "cell_type": "code",
   "execution_count": 32,
   "id": "4297359f",
   "metadata": {
    "scrolled": false
   },
   "outputs": [],
   "source": [
    "# to plot dynamic barchart\n",
    "# use plotly, save pics\n",
    "xaxis_max = country_medals_all['number_of_medals'].max()+30\n",
    "\n",
    "for curr_year in range(min_year, max_year + 1):\n",
    "        \n",
    "    year = curr_year\n",
    "    bar_title = f'Medals per country in {year}'\n",
    "\n",
    "    df=country_medals_all[country_medals_all['year']==year].head(10)[['country', 'number_of_medals']]\n",
    "    df.sort_values(by='number_of_medals', ascending=False, inplace=True)\n",
    "    \n",
    "    # if there is no data for current year, skip plotting and process next year data\n",
    "    if df.size==0:\n",
    "        continue\n",
    "\n",
    "    fig = px.bar(df, x='number_of_medals', y='country', orientation='h', \n",
    "             #title = bar_title, \n",
    "             labels = {'country':'Country', 'number_of_medals': f'Number of medals in {year}'},\n",
    "             color = 'country',\n",
    "             color_discrete_sequence = px.colors.sequential.Plasma_r); #Antique);\n",
    "\n",
    "    # for annotations \n",
    "    x_data = df['number_of_medals'].to_list()\n",
    "    y_data = df['country'].to_list()\n",
    "    annotations = []\n",
    "\n",
    "    for yd, xd in zip(y_data, x_data):\n",
    "        # labeling each bar\n",
    "        annotations.append(dict(xref='x', yref='y',\n",
    "                            x=xd + 20, y=yd,\n",
    "                            text=str(xd),\n",
    "                            font=dict(family='Times New Roman',   # 'Arial', \n",
    "                                      size=16, # color='rgb(248, 248, 255)'\n",
    "                                      color='cornflowerblue'\n",
    "                                     ),\n",
    "                            showarrow=False))\n",
    "\n",
    "    fig.update_layout(\n",
    "        xaxis=dict(\n",
    "            showgrid=False,\n",
    "            showline=True,\n",
    "            showticklabels=True,\n",
    "            zeroline=False,\n",
    "            #domain=[0.15, 1]\n",
    "        ),\n",
    "        yaxis=dict(\n",
    "            showgrid=False,\n",
    "            showline=True,\n",
    "            showticklabels=True,\n",
    "            zeroline=False,\n",
    "        ),\n",
    "        xaxis_range=[0,xaxis_max], # making x_axis of fixed range\n",
    "        #barmode='stack',\n",
    "        paper_bgcolor='rgb(248, 248, 255)',\n",
    "        plot_bgcolor='rgb(248, 248, 255)',\n",
    "        margin=dict(l=150, r=20, t=50, b=80),\n",
    "        showlegend=False,\n",
    "    \n",
    "        annotations=annotations\n",
    "    )\n",
    "\n",
    "    #fig.write_image(f'../images_work/medals_all/country_medals_all_barplot_{year}.png')\n",
    "    pio.write_image(fig, f'../images_work/medals_all/country_medals_all_barplot_{year}.png',scale=6, width=512, height=384)\n",
    "    #fig.show()"
   ]
  },
  {
   "cell_type": "code",
   "execution_count": 33,
   "id": "87ea5a49",
   "metadata": {
    "scrolled": false
   },
   "outputs": [
    {
     "name": "stderr",
     "output_type": "stream",
     "text": [
      "C:\\Users\\anast\\AppData\\Local\\Temp\\ipykernel_32148\\194229377.py:9: DeprecationWarning:\n",
      "\n",
      "Starting with ImageIO v3 the behavior of this function will switch to that of iio.v3.imread. To keep the current behavior (and make this warning disappear) use `import imageio.v2 as imageio` or call `imageio.v2.imread` directly.\n",
      "\n"
     ]
    }
   ],
   "source": [
    "# make an animation over years\n",
    "# use used-defined function\n",
    "create_gif(range_min=min_year, \n",
    "           range_max=max_year, \n",
    "           input_image_folder='medals_all', \n",
    "           input_file_name_part='country_medals_all_barplot', \n",
    "           output_file_name='all_medals_over_years', # optional; default is 'output'\n",
    "           pics_per_second=1.5) # optional; default is '1' seconds"
   ]
  },
  {
   "cell_type": "markdown",
   "id": "b74d671a",
   "metadata": {},
   "source": [
    "**All medals per country per decade:**"
   ]
  },
  {
   "cell_type": "code",
   "execution_count": 16,
   "id": "d7ae23dc",
   "metadata": {
    "scrolled": false
   },
   "outputs": [],
   "source": [
    "# group data \n",
    "country_medals_all_decade = country_medals_tmp.groupby(by=['country','iso3', 'decade'])[['games']].count()\n",
    "country_medals_all_decade.reset_index(inplace=True)\n",
    "country_medals_all_decade.rename(columns={'games': 'number_of_medals'}, inplace=True)\n",
    "country_medals_all_decade.sort_values(by=['decade', 'number_of_medals'], ascending=False, inplace=True)\n"
   ]
  },
  {
   "cell_type": "code",
   "execution_count": 17,
   "id": "8695009f",
   "metadata": {},
   "outputs": [
    {
     "data": {
      "text/plain": [
       "14"
      ]
     },
     "execution_count": 17,
     "metadata": {},
     "output_type": "execute_result"
    }
   ],
   "source": [
    "country_medals_all_decade['decade'].nunique()"
   ]
  },
  {
   "cell_type": "code",
   "execution_count": 18,
   "id": "c35aa07e",
   "metadata": {},
   "outputs": [],
   "source": [
    "# plot ?\n"
   ]
  },
  {
   "cell_type": "code",
   "execution_count": null,
   "id": "9e595677",
   "metadata": {},
   "outputs": [],
   "source": []
  },
  {
   "cell_type": "markdown",
   "id": "d4411d13",
   "metadata": {},
   "source": [
    "### Part 2 - Medals for national teams ever (all years)"
   ]
  },
  {
   "cell_type": "code",
   "execution_count": 19,
   "id": "60dd7ea5",
   "metadata": {},
   "outputs": [
    {
     "data": {
      "text/html": [
       "<div>\n",
       "<style scoped>\n",
       "    .dataframe tbody tr th:only-of-type {\n",
       "        vertical-align: middle;\n",
       "    }\n",
       "\n",
       "    .dataframe tbody tr th {\n",
       "        vertical-align: top;\n",
       "    }\n",
       "\n",
       "    .dataframe thead th {\n",
       "        text-align: right;\n",
       "    }\n",
       "</style>\n",
       "<table border=\"1\" class=\"dataframe\">\n",
       "  <thead>\n",
       "    <tr style=\"text-align: right;\">\n",
       "      <th></th>\n",
       "      <th>country</th>\n",
       "      <th>iso3</th>\n",
       "      <th>number_of_medals</th>\n",
       "    </tr>\n",
       "  </thead>\n",
       "  <tbody>\n",
       "    <tr>\n",
       "      <th>0</th>\n",
       "      <td>USA</td>\n",
       "      <td>USA</td>\n",
       "      <td>5935</td>\n",
       "    </tr>\n",
       "    <tr>\n",
       "      <th>1</th>\n",
       "      <td>Russia</td>\n",
       "      <td>RUS</td>\n",
       "      <td>4096</td>\n",
       "    </tr>\n",
       "    <tr>\n",
       "      <th>2</th>\n",
       "      <td>Germany</td>\n",
       "      <td>DEU</td>\n",
       "      <td>3837</td>\n",
       "    </tr>\n",
       "    <tr>\n",
       "      <th>3</th>\n",
       "      <td>UK</td>\n",
       "      <td>GBR</td>\n",
       "      <td>2208</td>\n",
       "    </tr>\n",
       "    <tr>\n",
       "      <th>4</th>\n",
       "      <td>France</td>\n",
       "      <td>FRA</td>\n",
       "      <td>1908</td>\n",
       "    </tr>\n",
       "    <tr>\n",
       "      <th>...</th>\n",
       "      <td>...</td>\n",
       "      <td>...</td>\n",
       "      <td>...</td>\n",
       "    </tr>\n",
       "    <tr>\n",
       "      <th>132</th>\n",
       "      <td>Tonga</td>\n",
       "      <td>TON</td>\n",
       "      <td>1</td>\n",
       "    </tr>\n",
       "    <tr>\n",
       "      <th>133</th>\n",
       "      <td>Togo</td>\n",
       "      <td>TGO</td>\n",
       "      <td>1</td>\n",
       "    </tr>\n",
       "    <tr>\n",
       "      <th>134</th>\n",
       "      <td>Sudan</td>\n",
       "      <td>SDN</td>\n",
       "      <td>1</td>\n",
       "    </tr>\n",
       "    <tr>\n",
       "      <th>135</th>\n",
       "      <td>Eritrea</td>\n",
       "      <td>ERI</td>\n",
       "      <td>1</td>\n",
       "    </tr>\n",
       "    <tr>\n",
       "      <th>136</th>\n",
       "      <td>Guatemala</td>\n",
       "      <td>GTM</td>\n",
       "      <td>1</td>\n",
       "    </tr>\n",
       "  </tbody>\n",
       "</table>\n",
       "<p>137 rows × 3 columns</p>\n",
       "</div>"
      ],
      "text/plain": [
       "       country iso3  number_of_medals\n",
       "0          USA  USA              5935\n",
       "1       Russia  RUS              4096\n",
       "2      Germany  DEU              3837\n",
       "3           UK  GBR              2208\n",
       "4       France  FRA              1908\n",
       "..         ...  ...               ...\n",
       "132      Tonga  TON                 1\n",
       "133       Togo  TGO                 1\n",
       "134      Sudan  SDN                 1\n",
       "135    Eritrea  ERI                 1\n",
       "136  Guatemala  GTM                 1\n",
       "\n",
       "[137 rows x 3 columns]"
      ]
     },
     "execution_count": 19,
     "metadata": {},
     "output_type": "execute_result"
    }
   ],
   "source": [
    "# National Olympic Committees with maximum number of all medals ever (all years):\n",
    "country_medals_ever = country_medals_tmp.groupby(by=['country', 'iso3'])[['games']].count()\n",
    "country_medals_ever.reset_index(inplace=True)\n",
    "country_medals_ever.rename(columns={'games': 'number_of_medals'}, inplace=True)\n",
    "country_medals_ever.sort_values(by='number_of_medals', ascending=False, inplace=True)\n",
    "country_medals_ever.reset_index(inplace=True, drop=True)\n",
    "country_medals_ever"
   ]
  },
  {
   "cell_type": "code",
   "execution_count": 39,
   "id": "0dc215d5",
   "metadata": {},
   "outputs": [
    {
     "data": {
      "application/vnd.plotly.v1+json": {
       "config": {
        "plotlyServerURL": "https://plot.ly"
       },
       "data": [
        {
         "coloraxis": "coloraxis",
         "geo": "geo",
         "hovertemplate": "<b>%{hovertext}</b><br><br>iso3=%{location}<br>Number of Medals=%{z}<extra></extra>",
         "hovertext": [
          "USA",
          "Russia",
          "Germany",
          "UK",
          "France",
          "Italy",
          "Sweden",
          "Australia",
          "Canada",
          "Hungary",
          "China",
          "Netherlands",
          "Norway",
          "Japan",
          "Finland",
          "Switzerland",
          "South Korea",
          "Romania",
          "Czech Republic",
          "Denmark",
          "Poland",
          "Serbia",
          "Spain",
          "Brazil",
          "Belgium",
          "Austria",
          "Cuba",
          "Bulgaria",
          "Argentina",
          "New Zealand",
          "Greece",
          "Ukraine",
          "India",
          "Jamaica",
          "Croatia",
          "Belarus",
          "Mexico",
          "South Africa",
          "Pakistan",
          "Kenya",
          "Turkey",
          "Nigeria",
          "Kazakhstan",
          "Iran",
          "North Korea",
          "Taiwan",
          "Uruguay",
          "Lithuania",
          "Ethiopia",
          "Estonia",
          "Slovakia",
          "Slovenia",
          "Azerbaijan",
          "Indonesia",
          "Portugal",
          "Ireland",
          "Bahamas",
          "Latvia",
          "Georgia",
          "Fiji",
          "Uzbekistan",
          "Dominican Republic",
          "Trinidad",
          "Colombia",
          "Egypt",
          "Chile",
          "Thailand",
          "Mongolia",
          "Morocco",
          "Ghana",
          "Israel",
          "Cameroon",
          "Zimbabwe",
          "Armenia",
          "Malaysia",
          "Venezuela",
          "Algeria",
          "Iceland",
          "Paraguay",
          "Tunisia",
          "Peru",
          "Philippines",
          "Uganda",
          "Puerto Rico",
          "Qatar",
          "Singapore",
          "Liechtenstein",
          "Moldova",
          "Luxembourg",
          "Haiti",
          "Botswana",
          "Saudi Arabia",
          "Syria",
          "Kyrgyzstan",
          "Ecuador",
          "Namibia",
          "San Marino",
          "Costa Rica",
          "Ivory Coast",
          "Tajikistan",
          "Lebanon",
          "Bahrain",
          "Vietnam",
          "Kuwait",
          "Jordan",
          "Panama",
          "Grenada",
          "United Arab Emirates",
          "Bermuda",
          "Burundi",
          "Zambia",
          "Tanzania",
          "Niger",
          "Afghanistan",
          "Mozambique",
          "Suriname",
          "Sri Lanka",
          "Macedonia",
          "Guyana",
          "Virgin Islands, US",
          "Monaco",
          "Mauritius",
          "Barbados",
          "Senegal",
          "Iraq",
          "Burkina Faso",
          "Gabon",
          "Nepal",
          "Turkmenistan",
          "Curacao",
          "Cyprus",
          "Djibouti",
          "Tonga",
          "Togo",
          "Sudan",
          "Eritrea",
          "Guatemala"
         ],
         "locations": [
          "USA",
          "RUS",
          "DEU",
          "GBR",
          "FRA",
          "ITA",
          "SWE",
          "AUS",
          "CAN",
          "HUN",
          "CHN",
          "NLD",
          "NOR",
          "JPN",
          "FIN",
          "CHE",
          "KOR",
          "ROM",
          "CZE",
          "DNK",
          "POL",
          "SRB",
          "ESP",
          "BRA",
          "BEL",
          "AUT",
          "CUB",
          "BGR",
          "ARG",
          "NZL",
          "GRC",
          "UKR",
          "IND",
          "JAM",
          "HRV",
          "BLR",
          "MEX",
          "ZAF",
          "PAK",
          "KEN",
          "TUR",
          "NGA",
          "KAZ",
          "IRN",
          "PRK",
          "TWN",
          "URY",
          "LTU",
          "ETH",
          "EST",
          "SVK",
          "SVN",
          "AZE",
          "IDN",
          "PRT",
          "IRL",
          "BHS",
          "LVA",
          "GEO",
          "FJI",
          "UZB",
          "DOM",
          "TTO",
          "COL",
          "EGY",
          "CHL",
          "THA",
          "MNG",
          "MAR",
          "GHA",
          "ISR",
          "CMR",
          "ZWE",
          "ARM",
          "MYS",
          "VEN",
          "DZA",
          "ISL",
          "PRY",
          "TUN",
          "PER",
          "PHL",
          "UGA",
          "PRI",
          "QAT",
          "SGP",
          "LIE",
          "MDA",
          "LUX",
          "HTI",
          "BWA",
          "SAU",
          "SYR",
          "KGZ",
          "ECU",
          "NAM",
          "SMR",
          "CRI",
          "CIV",
          "TJK",
          "LBN",
          "BHR",
          "VNM",
          "KWT",
          "JOR",
          "PAN",
          "GRD",
          "ARE",
          "BMU",
          "BDI",
          "ZWB",
          "TZA",
          "NER",
          "AFG",
          "MOZ",
          "SUR",
          "LKA",
          "MKD",
          "GUY",
          "VGB",
          "MCO",
          "MUS",
          "BRB",
          "SEN",
          "IRQ",
          "BFA",
          "GAB",
          "NPL",
          "TKM",
          "ANT",
          "CYP",
          "DJI",
          "TON",
          "TGO",
          "SDN",
          "ERI",
          "GTM"
         ],
         "name": "",
         "type": "choropleth",
         "z": [
          5935,
          4096,
          3837,
          2208,
          1908,
          1713,
          1570,
          1480,
          1437,
          1186,
          1142,
          1112,
          1056,
          1044,
          902,
          706,
          676,
          662,
          657,
          630,
          601,
          574,
          559,
          530,
          495,
          457,
          425,
          352,
          317,
          293,
          271,
          228,
          220,
          178,
          160,
          149,
          137,
          134,
          121,
          116,
          108,
          101,
          85,
          75,
          67,
          65,
          63,
          62,
          57,
          55,
          54,
          53,
          51,
          47,
          45,
          43,
          42,
          40,
          40,
          39,
          39,
          39,
          37,
          33,
          33,
          32,
          32,
          30,
          24,
          24,
          23,
          22,
          22,
          20,
          19,
          19,
          17,
          17,
          17,
          15,
          15,
          14,
          11,
          10,
          9,
          9,
          9,
          9,
          8,
          7,
          7,
          7,
          6,
          6,
          5,
          5,
          4,
          4,
          4,
          4,
          4,
          4,
          4,
          3,
          3,
          3,
          3,
          2,
          2,
          2,
          2,
          2,
          2,
          2,
          2,
          2,
          2,
          2,
          1,
          1,
          1,
          1,
          1,
          1,
          1,
          1,
          1,
          1,
          1,
          1,
          1,
          1,
          1,
          1,
          1,
          1,
          1
         ]
        }
       ],
       "layout": {
        "coloraxis": {
         "colorbar": {
          "title": {
           "text": "Number of Medals"
          }
         },
         "colorscale": [
          [
           0,
           "#0d0887"
          ],
          [
           0.1111111111111111,
           "#46039f"
          ],
          [
           0.2222222222222222,
           "#7201a8"
          ],
          [
           0.3333333333333333,
           "#9c179e"
          ],
          [
           0.4444444444444444,
           "#bd3786"
          ],
          [
           0.5555555555555556,
           "#d8576b"
          ],
          [
           0.6666666666666666,
           "#ed7953"
          ],
          [
           0.7777777777777778,
           "#fb9f3a"
          ],
          [
           0.8888888888888888,
           "#fdca26"
          ],
          [
           1,
           "#f0f921"
          ]
         ]
        },
        "font": {
         "color": "RebeccaPurple",
         "family": "Times New Roman",
         "size": 18
        },
        "geo": {
         "center": {},
         "domain": {
          "x": [
           0,
           1
          ],
          "y": [
           0,
           1
          ]
         },
         "projection": {
          "type": "natural earth"
         }
        },
        "legend": {
         "tracegroupgap": 0
        },
        "margin": {
         "t": 60
        },
        "template": {
         "data": {
          "bar": [
           {
            "error_x": {
             "color": "#2a3f5f"
            },
            "error_y": {
             "color": "#2a3f5f"
            },
            "marker": {
             "line": {
              "color": "#E5ECF6",
              "width": 0.5
             },
             "pattern": {
              "fillmode": "overlay",
              "size": 10,
              "solidity": 0.2
             }
            },
            "type": "bar"
           }
          ],
          "barpolar": [
           {
            "marker": {
             "line": {
              "color": "#E5ECF6",
              "width": 0.5
             },
             "pattern": {
              "fillmode": "overlay",
              "size": 10,
              "solidity": 0.2
             }
            },
            "type": "barpolar"
           }
          ],
          "carpet": [
           {
            "aaxis": {
             "endlinecolor": "#2a3f5f",
             "gridcolor": "white",
             "linecolor": "white",
             "minorgridcolor": "white",
             "startlinecolor": "#2a3f5f"
            },
            "baxis": {
             "endlinecolor": "#2a3f5f",
             "gridcolor": "white",
             "linecolor": "white",
             "minorgridcolor": "white",
             "startlinecolor": "#2a3f5f"
            },
            "type": "carpet"
           }
          ],
          "choropleth": [
           {
            "colorbar": {
             "outlinewidth": 0,
             "ticks": ""
            },
            "type": "choropleth"
           }
          ],
          "contour": [
           {
            "colorbar": {
             "outlinewidth": 0,
             "ticks": ""
            },
            "colorscale": [
             [
              0,
              "#0d0887"
             ],
             [
              0.1111111111111111,
              "#46039f"
             ],
             [
              0.2222222222222222,
              "#7201a8"
             ],
             [
              0.3333333333333333,
              "#9c179e"
             ],
             [
              0.4444444444444444,
              "#bd3786"
             ],
             [
              0.5555555555555556,
              "#d8576b"
             ],
             [
              0.6666666666666666,
              "#ed7953"
             ],
             [
              0.7777777777777778,
              "#fb9f3a"
             ],
             [
              0.8888888888888888,
              "#fdca26"
             ],
             [
              1,
              "#f0f921"
             ]
            ],
            "type": "contour"
           }
          ],
          "contourcarpet": [
           {
            "colorbar": {
             "outlinewidth": 0,
             "ticks": ""
            },
            "type": "contourcarpet"
           }
          ],
          "heatmap": [
           {
            "colorbar": {
             "outlinewidth": 0,
             "ticks": ""
            },
            "colorscale": [
             [
              0,
              "#0d0887"
             ],
             [
              0.1111111111111111,
              "#46039f"
             ],
             [
              0.2222222222222222,
              "#7201a8"
             ],
             [
              0.3333333333333333,
              "#9c179e"
             ],
             [
              0.4444444444444444,
              "#bd3786"
             ],
             [
              0.5555555555555556,
              "#d8576b"
             ],
             [
              0.6666666666666666,
              "#ed7953"
             ],
             [
              0.7777777777777778,
              "#fb9f3a"
             ],
             [
              0.8888888888888888,
              "#fdca26"
             ],
             [
              1,
              "#f0f921"
             ]
            ],
            "type": "heatmap"
           }
          ],
          "heatmapgl": [
           {
            "colorbar": {
             "outlinewidth": 0,
             "ticks": ""
            },
            "colorscale": [
             [
              0,
              "#0d0887"
             ],
             [
              0.1111111111111111,
              "#46039f"
             ],
             [
              0.2222222222222222,
              "#7201a8"
             ],
             [
              0.3333333333333333,
              "#9c179e"
             ],
             [
              0.4444444444444444,
              "#bd3786"
             ],
             [
              0.5555555555555556,
              "#d8576b"
             ],
             [
              0.6666666666666666,
              "#ed7953"
             ],
             [
              0.7777777777777778,
              "#fb9f3a"
             ],
             [
              0.8888888888888888,
              "#fdca26"
             ],
             [
              1,
              "#f0f921"
             ]
            ],
            "type": "heatmapgl"
           }
          ],
          "histogram": [
           {
            "marker": {
             "pattern": {
              "fillmode": "overlay",
              "size": 10,
              "solidity": 0.2
             }
            },
            "type": "histogram"
           }
          ],
          "histogram2d": [
           {
            "colorbar": {
             "outlinewidth": 0,
             "ticks": ""
            },
            "colorscale": [
             [
              0,
              "#0d0887"
             ],
             [
              0.1111111111111111,
              "#46039f"
             ],
             [
              0.2222222222222222,
              "#7201a8"
             ],
             [
              0.3333333333333333,
              "#9c179e"
             ],
             [
              0.4444444444444444,
              "#bd3786"
             ],
             [
              0.5555555555555556,
              "#d8576b"
             ],
             [
              0.6666666666666666,
              "#ed7953"
             ],
             [
              0.7777777777777778,
              "#fb9f3a"
             ],
             [
              0.8888888888888888,
              "#fdca26"
             ],
             [
              1,
              "#f0f921"
             ]
            ],
            "type": "histogram2d"
           }
          ],
          "histogram2dcontour": [
           {
            "colorbar": {
             "outlinewidth": 0,
             "ticks": ""
            },
            "colorscale": [
             [
              0,
              "#0d0887"
             ],
             [
              0.1111111111111111,
              "#46039f"
             ],
             [
              0.2222222222222222,
              "#7201a8"
             ],
             [
              0.3333333333333333,
              "#9c179e"
             ],
             [
              0.4444444444444444,
              "#bd3786"
             ],
             [
              0.5555555555555556,
              "#d8576b"
             ],
             [
              0.6666666666666666,
              "#ed7953"
             ],
             [
              0.7777777777777778,
              "#fb9f3a"
             ],
             [
              0.8888888888888888,
              "#fdca26"
             ],
             [
              1,
              "#f0f921"
             ]
            ],
            "type": "histogram2dcontour"
           }
          ],
          "mesh3d": [
           {
            "colorbar": {
             "outlinewidth": 0,
             "ticks": ""
            },
            "type": "mesh3d"
           }
          ],
          "parcoords": [
           {
            "line": {
             "colorbar": {
              "outlinewidth": 0,
              "ticks": ""
             }
            },
            "type": "parcoords"
           }
          ],
          "pie": [
           {
            "automargin": true,
            "type": "pie"
           }
          ],
          "scatter": [
           {
            "fillpattern": {
             "fillmode": "overlay",
             "size": 10,
             "solidity": 0.2
            },
            "type": "scatter"
           }
          ],
          "scatter3d": [
           {
            "line": {
             "colorbar": {
              "outlinewidth": 0,
              "ticks": ""
             }
            },
            "marker": {
             "colorbar": {
              "outlinewidth": 0,
              "ticks": ""
             }
            },
            "type": "scatter3d"
           }
          ],
          "scattercarpet": [
           {
            "marker": {
             "colorbar": {
              "outlinewidth": 0,
              "ticks": ""
             }
            },
            "type": "scattercarpet"
           }
          ],
          "scattergeo": [
           {
            "marker": {
             "colorbar": {
              "outlinewidth": 0,
              "ticks": ""
             }
            },
            "type": "scattergeo"
           }
          ],
          "scattergl": [
           {
            "marker": {
             "colorbar": {
              "outlinewidth": 0,
              "ticks": ""
             }
            },
            "type": "scattergl"
           }
          ],
          "scattermapbox": [
           {
            "marker": {
             "colorbar": {
              "outlinewidth": 0,
              "ticks": ""
             }
            },
            "type": "scattermapbox"
           }
          ],
          "scatterpolar": [
           {
            "marker": {
             "colorbar": {
              "outlinewidth": 0,
              "ticks": ""
             }
            },
            "type": "scatterpolar"
           }
          ],
          "scatterpolargl": [
           {
            "marker": {
             "colorbar": {
              "outlinewidth": 0,
              "ticks": ""
             }
            },
            "type": "scatterpolargl"
           }
          ],
          "scatterternary": [
           {
            "marker": {
             "colorbar": {
              "outlinewidth": 0,
              "ticks": ""
             }
            },
            "type": "scatterternary"
           }
          ],
          "surface": [
           {
            "colorbar": {
             "outlinewidth": 0,
             "ticks": ""
            },
            "colorscale": [
             [
              0,
              "#0d0887"
             ],
             [
              0.1111111111111111,
              "#46039f"
             ],
             [
              0.2222222222222222,
              "#7201a8"
             ],
             [
              0.3333333333333333,
              "#9c179e"
             ],
             [
              0.4444444444444444,
              "#bd3786"
             ],
             [
              0.5555555555555556,
              "#d8576b"
             ],
             [
              0.6666666666666666,
              "#ed7953"
             ],
             [
              0.7777777777777778,
              "#fb9f3a"
             ],
             [
              0.8888888888888888,
              "#fdca26"
             ],
             [
              1,
              "#f0f921"
             ]
            ],
            "type": "surface"
           }
          ],
          "table": [
           {
            "cells": {
             "fill": {
              "color": "#EBF0F8"
             },
             "line": {
              "color": "white"
             }
            },
            "header": {
             "fill": {
              "color": "#C8D4E3"
             },
             "line": {
              "color": "white"
             }
            },
            "type": "table"
           }
          ]
         },
         "layout": {
          "annotationdefaults": {
           "arrowcolor": "#2a3f5f",
           "arrowhead": 0,
           "arrowwidth": 1
          },
          "autotypenumbers": "strict",
          "coloraxis": {
           "colorbar": {
            "outlinewidth": 0,
            "ticks": ""
           }
          },
          "colorscale": {
           "diverging": [
            [
             0,
             "#8e0152"
            ],
            [
             0.1,
             "#c51b7d"
            ],
            [
             0.2,
             "#de77ae"
            ],
            [
             0.3,
             "#f1b6da"
            ],
            [
             0.4,
             "#fde0ef"
            ],
            [
             0.5,
             "#f7f7f7"
            ],
            [
             0.6,
             "#e6f5d0"
            ],
            [
             0.7,
             "#b8e186"
            ],
            [
             0.8,
             "#7fbc41"
            ],
            [
             0.9,
             "#4d9221"
            ],
            [
             1,
             "#276419"
            ]
           ],
           "sequential": [
            [
             0,
             "#0d0887"
            ],
            [
             0.1111111111111111,
             "#46039f"
            ],
            [
             0.2222222222222222,
             "#7201a8"
            ],
            [
             0.3333333333333333,
             "#9c179e"
            ],
            [
             0.4444444444444444,
             "#bd3786"
            ],
            [
             0.5555555555555556,
             "#d8576b"
            ],
            [
             0.6666666666666666,
             "#ed7953"
            ],
            [
             0.7777777777777778,
             "#fb9f3a"
            ],
            [
             0.8888888888888888,
             "#fdca26"
            ],
            [
             1,
             "#f0f921"
            ]
           ],
           "sequentialminus": [
            [
             0,
             "#0d0887"
            ],
            [
             0.1111111111111111,
             "#46039f"
            ],
            [
             0.2222222222222222,
             "#7201a8"
            ],
            [
             0.3333333333333333,
             "#9c179e"
            ],
            [
             0.4444444444444444,
             "#bd3786"
            ],
            [
             0.5555555555555556,
             "#d8576b"
            ],
            [
             0.6666666666666666,
             "#ed7953"
            ],
            [
             0.7777777777777778,
             "#fb9f3a"
            ],
            [
             0.8888888888888888,
             "#fdca26"
            ],
            [
             1,
             "#f0f921"
            ]
           ]
          },
          "colorway": [
           "#636efa",
           "#EF553B",
           "#00cc96",
           "#ab63fa",
           "#FFA15A",
           "#19d3f3",
           "#FF6692",
           "#B6E880",
           "#FF97FF",
           "#FECB52"
          ],
          "font": {
           "color": "#2a3f5f"
          },
          "geo": {
           "bgcolor": "white",
           "lakecolor": "white",
           "landcolor": "#E5ECF6",
           "showlakes": true,
           "showland": true,
           "subunitcolor": "white"
          },
          "hoverlabel": {
           "align": "left"
          },
          "hovermode": "closest",
          "mapbox": {
           "style": "light"
          },
          "paper_bgcolor": "white",
          "plot_bgcolor": "#E5ECF6",
          "polar": {
           "angularaxis": {
            "gridcolor": "white",
            "linecolor": "white",
            "ticks": ""
           },
           "bgcolor": "#E5ECF6",
           "radialaxis": {
            "gridcolor": "white",
            "linecolor": "white",
            "ticks": ""
           }
          },
          "scene": {
           "xaxis": {
            "backgroundcolor": "#E5ECF6",
            "gridcolor": "white",
            "gridwidth": 2,
            "linecolor": "white",
            "showbackground": true,
            "ticks": "",
            "zerolinecolor": "white"
           },
           "yaxis": {
            "backgroundcolor": "#E5ECF6",
            "gridcolor": "white",
            "gridwidth": 2,
            "linecolor": "white",
            "showbackground": true,
            "ticks": "",
            "zerolinecolor": "white"
           },
           "zaxis": {
            "backgroundcolor": "#E5ECF6",
            "gridcolor": "white",
            "gridwidth": 2,
            "linecolor": "white",
            "showbackground": true,
            "ticks": "",
            "zerolinecolor": "white"
           }
          },
          "shapedefaults": {
           "line": {
            "color": "#2a3f5f"
           }
          },
          "ternary": {
           "aaxis": {
            "gridcolor": "white",
            "linecolor": "white",
            "ticks": ""
           },
           "baxis": {
            "gridcolor": "white",
            "linecolor": "white",
            "ticks": ""
           },
           "bgcolor": "#E5ECF6",
           "caxis": {
            "gridcolor": "white",
            "linecolor": "white",
            "ticks": ""
           }
          },
          "title": {
           "x": 0.05
          },
          "xaxis": {
           "automargin": true,
           "gridcolor": "white",
           "linecolor": "white",
           "ticks": "",
           "title": {
            "standoff": 15
           },
           "zerolinecolor": "white",
           "zerolinewidth": 2
          },
          "yaxis": {
           "automargin": true,
           "gridcolor": "white",
           "linecolor": "white",
           "ticks": "",
           "title": {
            "standoff": 15
           },
           "zerolinecolor": "white",
           "zerolinewidth": 2
          }
         }
        }
       }
      },
      "text/html": [
       "<div>                            <div id=\"009cfc2d-cbbe-4d8c-ba28-e85a37a77757\" class=\"plotly-graph-div\" style=\"height:525px; width:100%;\"></div>            <script type=\"text/javascript\">                require([\"plotly\"], function(Plotly) {                    window.PLOTLYENV=window.PLOTLYENV || {};                                    if (document.getElementById(\"009cfc2d-cbbe-4d8c-ba28-e85a37a77757\")) {                    Plotly.newPlot(                        \"009cfc2d-cbbe-4d8c-ba28-e85a37a77757\",                        [{\"coloraxis\":\"coloraxis\",\"geo\":\"geo\",\"hovertemplate\":\"<b>%{hovertext}</b><br><br>iso3=%{location}<br>Number of Medals=%{z}<extra></extra>\",\"hovertext\":[\"USA\",\"Russia\",\"Germany\",\"UK\",\"France\",\"Italy\",\"Sweden\",\"Australia\",\"Canada\",\"Hungary\",\"China\",\"Netherlands\",\"Norway\",\"Japan\",\"Finland\",\"Switzerland\",\"South Korea\",\"Romania\",\"Czech Republic\",\"Denmark\",\"Poland\",\"Serbia\",\"Spain\",\"Brazil\",\"Belgium\",\"Austria\",\"Cuba\",\"Bulgaria\",\"Argentina\",\"New Zealand\",\"Greece\",\"Ukraine\",\"India\",\"Jamaica\",\"Croatia\",\"Belarus\",\"Mexico\",\"South Africa\",\"Pakistan\",\"Kenya\",\"Turkey\",\"Nigeria\",\"Kazakhstan\",\"Iran\",\"North Korea\",\"Taiwan\",\"Uruguay\",\"Lithuania\",\"Ethiopia\",\"Estonia\",\"Slovakia\",\"Slovenia\",\"Azerbaijan\",\"Indonesia\",\"Portugal\",\"Ireland\",\"Bahamas\",\"Latvia\",\"Georgia\",\"Fiji\",\"Uzbekistan\",\"Dominican Republic\",\"Trinidad\",\"Colombia\",\"Egypt\",\"Chile\",\"Thailand\",\"Mongolia\",\"Morocco\",\"Ghana\",\"Israel\",\"Cameroon\",\"Zimbabwe\",\"Armenia\",\"Malaysia\",\"Venezuela\",\"Algeria\",\"Iceland\",\"Paraguay\",\"Tunisia\",\"Peru\",\"Philippines\",\"Uganda\",\"Puerto Rico\",\"Qatar\",\"Singapore\",\"Liechtenstein\",\"Moldova\",\"Luxembourg\",\"Haiti\",\"Botswana\",\"Saudi Arabia\",\"Syria\",\"Kyrgyzstan\",\"Ecuador\",\"Namibia\",\"San Marino\",\"Costa Rica\",\"Ivory Coast\",\"Tajikistan\",\"Lebanon\",\"Bahrain\",\"Vietnam\",\"Kuwait\",\"Jordan\",\"Panama\",\"Grenada\",\"United Arab Emirates\",\"Bermuda\",\"Burundi\",\"Zambia\",\"Tanzania\",\"Niger\",\"Afghanistan\",\"Mozambique\",\"Suriname\",\"Sri Lanka\",\"Macedonia\",\"Guyana\",\"Virgin Islands, US\",\"Monaco\",\"Mauritius\",\"Barbados\",\"Senegal\",\"Iraq\",\"Burkina Faso\",\"Gabon\",\"Nepal\",\"Turkmenistan\",\"Curacao\",\"Cyprus\",\"Djibouti\",\"Tonga\",\"Togo\",\"Sudan\",\"Eritrea\",\"Guatemala\"],\"locations\":[\"USA\",\"RUS\",\"DEU\",\"GBR\",\"FRA\",\"ITA\",\"SWE\",\"AUS\",\"CAN\",\"HUN\",\"CHN\",\"NLD\",\"NOR\",\"JPN\",\"FIN\",\"CHE\",\"KOR\",\"ROM\",\"CZE\",\"DNK\",\"POL\",\"SRB\",\"ESP\",\"BRA\",\"BEL\",\"AUT\",\"CUB\",\"BGR\",\"ARG\",\"NZL\",\"GRC\",\"UKR\",\"IND\",\"JAM\",\"HRV\",\"BLR\",\"MEX\",\"ZAF\",\"PAK\",\"KEN\",\"TUR\",\"NGA\",\"KAZ\",\"IRN\",\"PRK\",\"TWN\",\"URY\",\"LTU\",\"ETH\",\"EST\",\"SVK\",\"SVN\",\"AZE\",\"IDN\",\"PRT\",\"IRL\",\"BHS\",\"LVA\",\"GEO\",\"FJI\",\"UZB\",\"DOM\",\"TTO\",\"COL\",\"EGY\",\"CHL\",\"THA\",\"MNG\",\"MAR\",\"GHA\",\"ISR\",\"CMR\",\"ZWE\",\"ARM\",\"MYS\",\"VEN\",\"DZA\",\"ISL\",\"PRY\",\"TUN\",\"PER\",\"PHL\",\"UGA\",\"PRI\",\"QAT\",\"SGP\",\"LIE\",\"MDA\",\"LUX\",\"HTI\",\"BWA\",\"SAU\",\"SYR\",\"KGZ\",\"ECU\",\"NAM\",\"SMR\",\"CRI\",\"CIV\",\"TJK\",\"LBN\",\"BHR\",\"VNM\",\"KWT\",\"JOR\",\"PAN\",\"GRD\",\"ARE\",\"BMU\",\"BDI\",\"ZWB\",\"TZA\",\"NER\",\"AFG\",\"MOZ\",\"SUR\",\"LKA\",\"MKD\",\"GUY\",\"VGB\",\"MCO\",\"MUS\",\"BRB\",\"SEN\",\"IRQ\",\"BFA\",\"GAB\",\"NPL\",\"TKM\",\"ANT\",\"CYP\",\"DJI\",\"TON\",\"TGO\",\"SDN\",\"ERI\",\"GTM\"],\"name\":\"\",\"z\":[5935,4096,3837,2208,1908,1713,1570,1480,1437,1186,1142,1112,1056,1044,902,706,676,662,657,630,601,574,559,530,495,457,425,352,317,293,271,228,220,178,160,149,137,134,121,116,108,101,85,75,67,65,63,62,57,55,54,53,51,47,45,43,42,40,40,39,39,39,37,33,33,32,32,30,24,24,23,22,22,20,19,19,17,17,17,15,15,14,11,10,9,9,9,9,8,7,7,7,6,6,5,5,4,4,4,4,4,4,4,3,3,3,3,2,2,2,2,2,2,2,2,2,2,2,1,1,1,1,1,1,1,1,1,1,1,1,1,1,1,1,1,1,1],\"type\":\"choropleth\"}],                        {\"template\":{\"data\":{\"histogram2dcontour\":[{\"type\":\"histogram2dcontour\",\"colorbar\":{\"outlinewidth\":0,\"ticks\":\"\"},\"colorscale\":[[0.0,\"#0d0887\"],[0.1111111111111111,\"#46039f\"],[0.2222222222222222,\"#7201a8\"],[0.3333333333333333,\"#9c179e\"],[0.4444444444444444,\"#bd3786\"],[0.5555555555555556,\"#d8576b\"],[0.6666666666666666,\"#ed7953\"],[0.7777777777777778,\"#fb9f3a\"],[0.8888888888888888,\"#fdca26\"],[1.0,\"#f0f921\"]]}],\"choropleth\":[{\"type\":\"choropleth\",\"colorbar\":{\"outlinewidth\":0,\"ticks\":\"\"}}],\"histogram2d\":[{\"type\":\"histogram2d\",\"colorbar\":{\"outlinewidth\":0,\"ticks\":\"\"},\"colorscale\":[[0.0,\"#0d0887\"],[0.1111111111111111,\"#46039f\"],[0.2222222222222222,\"#7201a8\"],[0.3333333333333333,\"#9c179e\"],[0.4444444444444444,\"#bd3786\"],[0.5555555555555556,\"#d8576b\"],[0.6666666666666666,\"#ed7953\"],[0.7777777777777778,\"#fb9f3a\"],[0.8888888888888888,\"#fdca26\"],[1.0,\"#f0f921\"]]}],\"heatmap\":[{\"type\":\"heatmap\",\"colorbar\":{\"outlinewidth\":0,\"ticks\":\"\"},\"colorscale\":[[0.0,\"#0d0887\"],[0.1111111111111111,\"#46039f\"],[0.2222222222222222,\"#7201a8\"],[0.3333333333333333,\"#9c179e\"],[0.4444444444444444,\"#bd3786\"],[0.5555555555555556,\"#d8576b\"],[0.6666666666666666,\"#ed7953\"],[0.7777777777777778,\"#fb9f3a\"],[0.8888888888888888,\"#fdca26\"],[1.0,\"#f0f921\"]]}],\"heatmapgl\":[{\"type\":\"heatmapgl\",\"colorbar\":{\"outlinewidth\":0,\"ticks\":\"\"},\"colorscale\":[[0.0,\"#0d0887\"],[0.1111111111111111,\"#46039f\"],[0.2222222222222222,\"#7201a8\"],[0.3333333333333333,\"#9c179e\"],[0.4444444444444444,\"#bd3786\"],[0.5555555555555556,\"#d8576b\"],[0.6666666666666666,\"#ed7953\"],[0.7777777777777778,\"#fb9f3a\"],[0.8888888888888888,\"#fdca26\"],[1.0,\"#f0f921\"]]}],\"contourcarpet\":[{\"type\":\"contourcarpet\",\"colorbar\":{\"outlinewidth\":0,\"ticks\":\"\"}}],\"contour\":[{\"type\":\"contour\",\"colorbar\":{\"outlinewidth\":0,\"ticks\":\"\"},\"colorscale\":[[0.0,\"#0d0887\"],[0.1111111111111111,\"#46039f\"],[0.2222222222222222,\"#7201a8\"],[0.3333333333333333,\"#9c179e\"],[0.4444444444444444,\"#bd3786\"],[0.5555555555555556,\"#d8576b\"],[0.6666666666666666,\"#ed7953\"],[0.7777777777777778,\"#fb9f3a\"],[0.8888888888888888,\"#fdca26\"],[1.0,\"#f0f921\"]]}],\"surface\":[{\"type\":\"surface\",\"colorbar\":{\"outlinewidth\":0,\"ticks\":\"\"},\"colorscale\":[[0.0,\"#0d0887\"],[0.1111111111111111,\"#46039f\"],[0.2222222222222222,\"#7201a8\"],[0.3333333333333333,\"#9c179e\"],[0.4444444444444444,\"#bd3786\"],[0.5555555555555556,\"#d8576b\"],[0.6666666666666666,\"#ed7953\"],[0.7777777777777778,\"#fb9f3a\"],[0.8888888888888888,\"#fdca26\"],[1.0,\"#f0f921\"]]}],\"mesh3d\":[{\"type\":\"mesh3d\",\"colorbar\":{\"outlinewidth\":0,\"ticks\":\"\"}}],\"scatter\":[{\"fillpattern\":{\"fillmode\":\"overlay\",\"size\":10,\"solidity\":0.2},\"type\":\"scatter\"}],\"parcoords\":[{\"type\":\"parcoords\",\"line\":{\"colorbar\":{\"outlinewidth\":0,\"ticks\":\"\"}}}],\"scatterpolargl\":[{\"type\":\"scatterpolargl\",\"marker\":{\"colorbar\":{\"outlinewidth\":0,\"ticks\":\"\"}}}],\"bar\":[{\"error_x\":{\"color\":\"#2a3f5f\"},\"error_y\":{\"color\":\"#2a3f5f\"},\"marker\":{\"line\":{\"color\":\"#E5ECF6\",\"width\":0.5},\"pattern\":{\"fillmode\":\"overlay\",\"size\":10,\"solidity\":0.2}},\"type\":\"bar\"}],\"scattergeo\":[{\"type\":\"scattergeo\",\"marker\":{\"colorbar\":{\"outlinewidth\":0,\"ticks\":\"\"}}}],\"scatterpolar\":[{\"type\":\"scatterpolar\",\"marker\":{\"colorbar\":{\"outlinewidth\":0,\"ticks\":\"\"}}}],\"histogram\":[{\"marker\":{\"pattern\":{\"fillmode\":\"overlay\",\"size\":10,\"solidity\":0.2}},\"type\":\"histogram\"}],\"scattergl\":[{\"type\":\"scattergl\",\"marker\":{\"colorbar\":{\"outlinewidth\":0,\"ticks\":\"\"}}}],\"scatter3d\":[{\"type\":\"scatter3d\",\"line\":{\"colorbar\":{\"outlinewidth\":0,\"ticks\":\"\"}},\"marker\":{\"colorbar\":{\"outlinewidth\":0,\"ticks\":\"\"}}}],\"scattermapbox\":[{\"type\":\"scattermapbox\",\"marker\":{\"colorbar\":{\"outlinewidth\":0,\"ticks\":\"\"}}}],\"scatterternary\":[{\"type\":\"scatterternary\",\"marker\":{\"colorbar\":{\"outlinewidth\":0,\"ticks\":\"\"}}}],\"scattercarpet\":[{\"type\":\"scattercarpet\",\"marker\":{\"colorbar\":{\"outlinewidth\":0,\"ticks\":\"\"}}}],\"carpet\":[{\"aaxis\":{\"endlinecolor\":\"#2a3f5f\",\"gridcolor\":\"white\",\"linecolor\":\"white\",\"minorgridcolor\":\"white\",\"startlinecolor\":\"#2a3f5f\"},\"baxis\":{\"endlinecolor\":\"#2a3f5f\",\"gridcolor\":\"white\",\"linecolor\":\"white\",\"minorgridcolor\":\"white\",\"startlinecolor\":\"#2a3f5f\"},\"type\":\"carpet\"}],\"table\":[{\"cells\":{\"fill\":{\"color\":\"#EBF0F8\"},\"line\":{\"color\":\"white\"}},\"header\":{\"fill\":{\"color\":\"#C8D4E3\"},\"line\":{\"color\":\"white\"}},\"type\":\"table\"}],\"barpolar\":[{\"marker\":{\"line\":{\"color\":\"#E5ECF6\",\"width\":0.5},\"pattern\":{\"fillmode\":\"overlay\",\"size\":10,\"solidity\":0.2}},\"type\":\"barpolar\"}],\"pie\":[{\"automargin\":true,\"type\":\"pie\"}]},\"layout\":{\"autotypenumbers\":\"strict\",\"colorway\":[\"#636efa\",\"#EF553B\",\"#00cc96\",\"#ab63fa\",\"#FFA15A\",\"#19d3f3\",\"#FF6692\",\"#B6E880\",\"#FF97FF\",\"#FECB52\"],\"font\":{\"color\":\"#2a3f5f\"},\"hovermode\":\"closest\",\"hoverlabel\":{\"align\":\"left\"},\"paper_bgcolor\":\"white\",\"plot_bgcolor\":\"#E5ECF6\",\"polar\":{\"bgcolor\":\"#E5ECF6\",\"angularaxis\":{\"gridcolor\":\"white\",\"linecolor\":\"white\",\"ticks\":\"\"},\"radialaxis\":{\"gridcolor\":\"white\",\"linecolor\":\"white\",\"ticks\":\"\"}},\"ternary\":{\"bgcolor\":\"#E5ECF6\",\"aaxis\":{\"gridcolor\":\"white\",\"linecolor\":\"white\",\"ticks\":\"\"},\"baxis\":{\"gridcolor\":\"white\",\"linecolor\":\"white\",\"ticks\":\"\"},\"caxis\":{\"gridcolor\":\"white\",\"linecolor\":\"white\",\"ticks\":\"\"}},\"coloraxis\":{\"colorbar\":{\"outlinewidth\":0,\"ticks\":\"\"}},\"colorscale\":{\"sequential\":[[0.0,\"#0d0887\"],[0.1111111111111111,\"#46039f\"],[0.2222222222222222,\"#7201a8\"],[0.3333333333333333,\"#9c179e\"],[0.4444444444444444,\"#bd3786\"],[0.5555555555555556,\"#d8576b\"],[0.6666666666666666,\"#ed7953\"],[0.7777777777777778,\"#fb9f3a\"],[0.8888888888888888,\"#fdca26\"],[1.0,\"#f0f921\"]],\"sequentialminus\":[[0.0,\"#0d0887\"],[0.1111111111111111,\"#46039f\"],[0.2222222222222222,\"#7201a8\"],[0.3333333333333333,\"#9c179e\"],[0.4444444444444444,\"#bd3786\"],[0.5555555555555556,\"#d8576b\"],[0.6666666666666666,\"#ed7953\"],[0.7777777777777778,\"#fb9f3a\"],[0.8888888888888888,\"#fdca26\"],[1.0,\"#f0f921\"]],\"diverging\":[[0,\"#8e0152\"],[0.1,\"#c51b7d\"],[0.2,\"#de77ae\"],[0.3,\"#f1b6da\"],[0.4,\"#fde0ef\"],[0.5,\"#f7f7f7\"],[0.6,\"#e6f5d0\"],[0.7,\"#b8e186\"],[0.8,\"#7fbc41\"],[0.9,\"#4d9221\"],[1,\"#276419\"]]},\"xaxis\":{\"gridcolor\":\"white\",\"linecolor\":\"white\",\"ticks\":\"\",\"title\":{\"standoff\":15},\"zerolinecolor\":\"white\",\"automargin\":true,\"zerolinewidth\":2},\"yaxis\":{\"gridcolor\":\"white\",\"linecolor\":\"white\",\"ticks\":\"\",\"title\":{\"standoff\":15},\"zerolinecolor\":\"white\",\"automargin\":true,\"zerolinewidth\":2},\"scene\":{\"xaxis\":{\"backgroundcolor\":\"#E5ECF6\",\"gridcolor\":\"white\",\"linecolor\":\"white\",\"showbackground\":true,\"ticks\":\"\",\"zerolinecolor\":\"white\",\"gridwidth\":2},\"yaxis\":{\"backgroundcolor\":\"#E5ECF6\",\"gridcolor\":\"white\",\"linecolor\":\"white\",\"showbackground\":true,\"ticks\":\"\",\"zerolinecolor\":\"white\",\"gridwidth\":2},\"zaxis\":{\"backgroundcolor\":\"#E5ECF6\",\"gridcolor\":\"white\",\"linecolor\":\"white\",\"showbackground\":true,\"ticks\":\"\",\"zerolinecolor\":\"white\",\"gridwidth\":2}},\"shapedefaults\":{\"line\":{\"color\":\"#2a3f5f\"}},\"annotationdefaults\":{\"arrowcolor\":\"#2a3f5f\",\"arrowhead\":0,\"arrowwidth\":1},\"geo\":{\"bgcolor\":\"white\",\"landcolor\":\"#E5ECF6\",\"subunitcolor\":\"white\",\"showland\":true,\"showlakes\":true,\"lakecolor\":\"white\"},\"title\":{\"x\":0.05},\"mapbox\":{\"style\":\"light\"}}},\"geo\":{\"domain\":{\"x\":[0.0,1.0],\"y\":[0.0,1.0]},\"projection\":{\"type\":\"natural earth\"},\"center\":{}},\"coloraxis\":{\"colorbar\":{\"title\":{\"text\":\"Number of Medals\"}},\"colorscale\":[[0.0,\"#0d0887\"],[0.1111111111111111,\"#46039f\"],[0.2222222222222222,\"#7201a8\"],[0.3333333333333333,\"#9c179e\"],[0.4444444444444444,\"#bd3786\"],[0.5555555555555556,\"#d8576b\"],[0.6666666666666666,\"#ed7953\"],[0.7777777777777778,\"#fb9f3a\"],[0.8888888888888888,\"#fdca26\"],[1.0,\"#f0f921\"]]},\"legend\":{\"tracegroupgap\":0},\"margin\":{\"t\":60},\"font\":{\"family\":\"Times New Roman\",\"size\":18,\"color\":\"RebeccaPurple\"}},                        {\"responsive\": true}                    ).then(function(){\n",
       "                            \n",
       "var gd = document.getElementById('009cfc2d-cbbe-4d8c-ba28-e85a37a77757');\n",
       "var x = new MutationObserver(function (mutations, observer) {{\n",
       "        var display = window.getComputedStyle(gd).display;\n",
       "        if (!display || display === 'none') {{\n",
       "            console.log([gd, 'removed!']);\n",
       "            Plotly.purge(gd);\n",
       "            observer.disconnect();\n",
       "        }}\n",
       "}});\n",
       "\n",
       "// Listen for the removal of the full notebook cells\n",
       "var notebookContainer = gd.closest('#notebook-container');\n",
       "if (notebookContainer) {{\n",
       "    x.observe(notebookContainer, {childList: true});\n",
       "}}\n",
       "\n",
       "// Listen for the clearing of the current output cell\n",
       "var outputEl = gd.closest('.output');\n",
       "if (outputEl) {{\n",
       "    x.observe(outputEl, {childList: true});\n",
       "}}\n",
       "\n",
       "                        })                };                });            </script>        </div>"
      ]
     },
     "metadata": {},
     "output_type": "display_data"
    }
   ],
   "source": [
    "# plotting a map 'medals ever'\n",
    "\n",
    "fig = px.choropleth(data_frame=country_medals_ever, \n",
    "    locations=\"iso3\", \n",
    "    projection='natural earth',    # 'orthographic',\n",
    "    color=\"number_of_medals\", # lifeExp is a column of gapminder\n",
    "    hover_name=\"country\", # column to add to hover information\n",
    "    color_continuous_scale=px.colors.sequential.Plasma, #Blues\n",
    "    labels={'number_of_medals': 'Number of Medals'}\n",
    ")\n",
    "\n",
    "fig.update_layout(\n",
    "    font=dict(\n",
    "        family='Times New Roman',   #\"Courier New, monospace\",\n",
    "        size=18,\n",
    "        color=\"RebeccaPurple\"))\n",
    "\n",
    "\"\"\"\n",
    "fig.update_layout(\n",
    "    title={\n",
    "        'text': 'Medals for National Teams ever for Summer Olympic Games',\n",
    "        'y':0.95,\n",
    "        'x':0.45,\n",
    "        'xanchor': 'center',\n",
    "        'yanchor': 'top'},\n",
    "    font=dict(\n",
    "        family='Times New Roman',   #\"Courier New, monospace\",\n",
    "        size=18,\n",
    "        color=\"RebeccaPurple\"))\n",
    "\"\"\"\n",
    "\n",
    "fig.write_html('../images/country_medals_ever.html', include_plotlyjs='cdn') # \"content delivery network\"\n",
    "#fig.write_image('../images/country_medals_ever.png')\n",
    "pio.write_image(fig, '../images/country_medals_ever.png',scale=10, width=1024, height=540)\n",
    "fig.show()"
   ]
  },
  {
   "cell_type": "markdown",
   "id": "9dc5207b",
   "metadata": {},
   "source": [
    "**Medals for national teams ever (all years) - Summer:**"
   ]
  },
  {
   "cell_type": "code",
   "execution_count": 21,
   "id": "65f82b2c",
   "metadata": {},
   "outputs": [
    {
     "data": {
      "text/html": [
       "<div>\n",
       "<style scoped>\n",
       "    .dataframe tbody tr th:only-of-type {\n",
       "        vertical-align: middle;\n",
       "    }\n",
       "\n",
       "    .dataframe tbody tr th {\n",
       "        vertical-align: top;\n",
       "    }\n",
       "\n",
       "    .dataframe thead th {\n",
       "        text-align: right;\n",
       "    }\n",
       "</style>\n",
       "<table border=\"1\" class=\"dataframe\">\n",
       "  <thead>\n",
       "    <tr style=\"text-align: right;\">\n",
       "      <th></th>\n",
       "      <th>country</th>\n",
       "      <th>iso3</th>\n",
       "      <th>number_of_medals</th>\n",
       "    </tr>\n",
       "  </thead>\n",
       "  <tbody>\n",
       "    <tr>\n",
       "      <th>0</th>\n",
       "      <td>USA</td>\n",
       "      <td>USA</td>\n",
       "      <td>5300</td>\n",
       "    </tr>\n",
       "    <tr>\n",
       "      <th>1</th>\n",
       "      <td>Russia</td>\n",
       "      <td>RUS</td>\n",
       "      <td>3337</td>\n",
       "    </tr>\n",
       "    <tr>\n",
       "      <th>2</th>\n",
       "      <td>Germany</td>\n",
       "      <td>DEU</td>\n",
       "      <td>3207</td>\n",
       "    </tr>\n",
       "    <tr>\n",
       "      <th>3</th>\n",
       "      <td>UK</td>\n",
       "      <td>GBR</td>\n",
       "      <td>2125</td>\n",
       "    </tr>\n",
       "    <tr>\n",
       "      <th>4</th>\n",
       "      <td>France</td>\n",
       "      <td>FRA</td>\n",
       "      <td>1758</td>\n",
       "    </tr>\n",
       "    <tr>\n",
       "      <th>...</th>\n",
       "      <td>...</td>\n",
       "      <td>...</td>\n",
       "      <td>...</td>\n",
       "    </tr>\n",
       "    <tr>\n",
       "      <th>130</th>\n",
       "      <td>Gabon</td>\n",
       "      <td>GAB</td>\n",
       "      <td>1</td>\n",
       "    </tr>\n",
       "    <tr>\n",
       "      <th>131</th>\n",
       "      <td>Tonga</td>\n",
       "      <td>TON</td>\n",
       "      <td>1</td>\n",
       "    </tr>\n",
       "    <tr>\n",
       "      <th>132</th>\n",
       "      <td>Togo</td>\n",
       "      <td>TGO</td>\n",
       "      <td>1</td>\n",
       "    </tr>\n",
       "    <tr>\n",
       "      <th>133</th>\n",
       "      <td>Senegal</td>\n",
       "      <td>SEN</td>\n",
       "      <td>1</td>\n",
       "    </tr>\n",
       "    <tr>\n",
       "      <th>134</th>\n",
       "      <td>Eritrea</td>\n",
       "      <td>ERI</td>\n",
       "      <td>1</td>\n",
       "    </tr>\n",
       "  </tbody>\n",
       "</table>\n",
       "<p>135 rows × 3 columns</p>\n",
       "</div>"
      ],
      "text/plain": [
       "     country iso3  number_of_medals\n",
       "0        USA  USA              5300\n",
       "1     Russia  RUS              3337\n",
       "2    Germany  DEU              3207\n",
       "3         UK  GBR              2125\n",
       "4     France  FRA              1758\n",
       "..       ...  ...               ...\n",
       "130    Gabon  GAB                 1\n",
       "131    Tonga  TON                 1\n",
       "132     Togo  TGO                 1\n",
       "133  Senegal  SEN                 1\n",
       "134  Eritrea  ERI                 1\n",
       "\n",
       "[135 rows x 3 columns]"
      ]
     },
     "execution_count": 21,
     "metadata": {},
     "output_type": "execute_result"
    }
   ],
   "source": [
    "# National Olympic Committees with maximum number of all medals ever (all years):\n",
    "summer_mask = country_medals_tmp['season']=='Summer'\n",
    "country_medals_ever_summer = country_medals_tmp[summer_mask].groupby(by=['country', 'iso3'])[['games']].count()\n",
    "country_medals_ever_summer.reset_index(inplace=True)\n",
    "country_medals_ever_summer.rename(columns={'games': 'number_of_medals'}, inplace=True)\n",
    "country_medals_ever_summer.sort_values(by='number_of_medals', ascending=False, inplace=True)\n",
    "country_medals_ever_summer.reset_index(inplace=True, drop=True)\n",
    "country_medals_ever_summer"
   ]
  },
  {
   "cell_type": "code",
   "execution_count": 34,
   "id": "f0d0c321",
   "metadata": {},
   "outputs": [
    {
     "data": {
      "application/vnd.plotly.v1+json": {
       "config": {
        "plotlyServerURL": "https://plot.ly"
       },
       "data": [
        {
         "coloraxis": "coloraxis",
         "geo": "geo",
         "hovertemplate": "<b>%{hovertext}</b><br><br>iso3=%{location}<br>Number of Medals=%{z}<extra></extra>",
         "hovertext": [
          "USA",
          "Russia",
          "Germany",
          "UK",
          "France",
          "Italy",
          "Australia",
          "Hungary",
          "Sweden",
          "China",
          "Netherlands",
          "Japan",
          "Canada",
          "Romania",
          "Denmark",
          "Norway",
          "South Korea",
          "Poland",
          "Serbia",
          "Spain",
          "Brazil",
          "Belgium",
          "Finland",
          "Switzerland",
          "Czech Republic",
          "Cuba",
          "Bulgaria",
          "Argentina",
          "New Zealand",
          "Greece",
          "Ukraine",
          "India",
          "Jamaica",
          "Austria",
          "Croatia",
          "Mexico",
          "Belarus",
          "South Africa",
          "Pakistan",
          "Kenya",
          "Turkey",
          "Nigeria",
          "Kazakhstan",
          "Iran",
          "North Korea",
          "Taiwan",
          "Uruguay",
          "Lithuania",
          "Ethiopia",
          "Azerbaijan",
          "Slovakia",
          "Estonia",
          "Indonesia",
          "Portugal",
          "Ireland",
          "Bahamas",
          "Georgia",
          "Fiji",
          "Dominican Republic",
          "Uzbekistan",
          "Trinidad",
          "Slovenia",
          "Colombia",
          "Egypt",
          "Thailand",
          "Chile",
          "Mongolia",
          "Latvia",
          "Ghana",
          "Morocco",
          "Israel",
          "Zimbabwe",
          "Cameroon",
          "Armenia",
          "Malaysia",
          "Venezuela",
          "Paraguay",
          "Algeria",
          "Iceland",
          "Tunisia",
          "Peru",
          "Philippines",
          "Uganda",
          "Puerto Rico",
          "Moldova",
          "Qatar",
          "Singapore",
          "Haiti",
          "Botswana",
          "Saudi Arabia",
          "Luxembourg",
          "Syria",
          "Kyrgyzstan",
          "Namibia",
          "Ecuador",
          "Tajikistan",
          "Vietnam",
          "Lebanon",
          "San Marino",
          "Bahrain",
          "Costa Rica",
          "Ivory Coast",
          "Kuwait",
          "Jordan",
          "Grenada",
          "Panama",
          "Macedonia",
          "Tanzania",
          "Zambia",
          "Bermuda",
          "United Arab Emirates",
          "Burundi",
          "Niger",
          "Afghanistan",
          "Sri Lanka",
          "Suriname",
          "Mozambique",
          "Guatemala",
          "Iraq",
          "Virgin Islands, US",
          "Sudan",
          "Barbados",
          "Burkina Faso",
          "Monaco",
          "Curacao",
          "Guyana",
          "Cyprus",
          "Turkmenistan",
          "Djibouti",
          "Mauritius",
          "Gabon",
          "Tonga",
          "Togo",
          "Senegal",
          "Eritrea"
         ],
         "locations": [
          "USA",
          "RUS",
          "DEU",
          "GBR",
          "FRA",
          "ITA",
          "AUS",
          "HUN",
          "SWE",
          "CHN",
          "NLD",
          "JPN",
          "CAN",
          "ROM",
          "DNK",
          "NOR",
          "KOR",
          "POL",
          "SRB",
          "ESP",
          "BRA",
          "BEL",
          "FIN",
          "CHE",
          "CZE",
          "CUB",
          "BGR",
          "ARG",
          "NZL",
          "GRC",
          "UKR",
          "IND",
          "JAM",
          "AUT",
          "HRV",
          "MEX",
          "BLR",
          "ZAF",
          "PAK",
          "KEN",
          "TUR",
          "NGA",
          "KAZ",
          "IRN",
          "PRK",
          "TWN",
          "URY",
          "LTU",
          "ETH",
          "AZE",
          "SVK",
          "EST",
          "IDN",
          "PRT",
          "IRL",
          "BHS",
          "GEO",
          "FJI",
          "DOM",
          "UZB",
          "TTO",
          "SVN",
          "COL",
          "EGY",
          "THA",
          "CHL",
          "MNG",
          "LVA",
          "GHA",
          "MAR",
          "ISR",
          "ZWE",
          "CMR",
          "ARM",
          "MYS",
          "VEN",
          "PRY",
          "DZA",
          "ISL",
          "TUN",
          "PER",
          "PHL",
          "UGA",
          "PRI",
          "MDA",
          "QAT",
          "SGP",
          "HTI",
          "BWA",
          "SAU",
          "LUX",
          "SYR",
          "KGZ",
          "NAM",
          "ECU",
          "TJK",
          "VNM",
          "LBN",
          "SMR",
          "BHR",
          "CRI",
          "CIV",
          "KWT",
          "JOR",
          "GRD",
          "PAN",
          "MKD",
          "TZA",
          "ZWB",
          "BMU",
          "ARE",
          "BDI",
          "NER",
          "AFG",
          "LKA",
          "SUR",
          "MOZ",
          "GTM",
          "IRQ",
          "VGB",
          "SDN",
          "BRB",
          "BFA",
          "MCO",
          "ANT",
          "GUY",
          "CYP",
          "TKM",
          "DJI",
          "MUS",
          "GAB",
          "TON",
          "TGO",
          "SEN",
          "ERI"
         ],
         "name": "",
         "type": "choropleth",
         "z": [
          5300,
          3337,
          3207,
          2125,
          1758,
          1522,
          1464,
          1174,
          1142,
          1062,
          990,
          981,
          826,
          660,
          625,
          613,
          590,
          574,
          567,
          557,
          530,
          482,
          476,
          431,
          426,
          425,
          346,
          317,
          292,
          271,
          217,
          213,
          178,
          177,
          149,
          137,
          134,
          134,
          121,
          116,
          108,
          101,
          78,
          75,
          65,
          65,
          63,
          62,
          57,
          51,
          49,
          48,
          47,
          45,
          43,
          42,
          40,
          39,
          39,
          38,
          37,
          35,
          33,
          33,
          32,
          32,
          30,
          25,
          24,
          24,
          23,
          22,
          22,
          20,
          19,
          19,
          17,
          17,
          17,
          15,
          15,
          14,
          11,
          10,
          9,
          9,
          9,
          7,
          7,
          7,
          6,
          6,
          6,
          5,
          5,
          4,
          4,
          4,
          4,
          4,
          4,
          4,
          3,
          3,
          3,
          3,
          2,
          2,
          2,
          2,
          2,
          2,
          2,
          2,
          2,
          2,
          2,
          1,
          1,
          1,
          1,
          1,
          1,
          1,
          1,
          1,
          1,
          1,
          1,
          1,
          1,
          1,
          1,
          1,
          1
         ]
        }
       ],
       "layout": {
        "coloraxis": {
         "colorbar": {
          "title": {
           "text": "Number of Medals"
          }
         },
         "colorscale": [
          [
           0,
           "#0d0887"
          ],
          [
           0.1111111111111111,
           "#46039f"
          ],
          [
           0.2222222222222222,
           "#7201a8"
          ],
          [
           0.3333333333333333,
           "#9c179e"
          ],
          [
           0.4444444444444444,
           "#bd3786"
          ],
          [
           0.5555555555555556,
           "#d8576b"
          ],
          [
           0.6666666666666666,
           "#ed7953"
          ],
          [
           0.7777777777777778,
           "#fb9f3a"
          ],
          [
           0.8888888888888888,
           "#fdca26"
          ],
          [
           1,
           "#f0f921"
          ]
         ]
        },
        "font": {
         "color": "RebeccaPurple",
         "family": "Times New Roman",
         "size": 18
        },
        "geo": {
         "center": {},
         "domain": {
          "x": [
           0,
           1
          ],
          "y": [
           0,
           1
          ]
         },
         "projection": {
          "type": "natural earth"
         }
        },
        "legend": {
         "tracegroupgap": 0
        },
        "margin": {
         "t": 60
        },
        "template": {
         "data": {
          "bar": [
           {
            "error_x": {
             "color": "#2a3f5f"
            },
            "error_y": {
             "color": "#2a3f5f"
            },
            "marker": {
             "line": {
              "color": "#E5ECF6",
              "width": 0.5
             },
             "pattern": {
              "fillmode": "overlay",
              "size": 10,
              "solidity": 0.2
             }
            },
            "type": "bar"
           }
          ],
          "barpolar": [
           {
            "marker": {
             "line": {
              "color": "#E5ECF6",
              "width": 0.5
             },
             "pattern": {
              "fillmode": "overlay",
              "size": 10,
              "solidity": 0.2
             }
            },
            "type": "barpolar"
           }
          ],
          "carpet": [
           {
            "aaxis": {
             "endlinecolor": "#2a3f5f",
             "gridcolor": "white",
             "linecolor": "white",
             "minorgridcolor": "white",
             "startlinecolor": "#2a3f5f"
            },
            "baxis": {
             "endlinecolor": "#2a3f5f",
             "gridcolor": "white",
             "linecolor": "white",
             "minorgridcolor": "white",
             "startlinecolor": "#2a3f5f"
            },
            "type": "carpet"
           }
          ],
          "choropleth": [
           {
            "colorbar": {
             "outlinewidth": 0,
             "ticks": ""
            },
            "type": "choropleth"
           }
          ],
          "contour": [
           {
            "colorbar": {
             "outlinewidth": 0,
             "ticks": ""
            },
            "colorscale": [
             [
              0,
              "#0d0887"
             ],
             [
              0.1111111111111111,
              "#46039f"
             ],
             [
              0.2222222222222222,
              "#7201a8"
             ],
             [
              0.3333333333333333,
              "#9c179e"
             ],
             [
              0.4444444444444444,
              "#bd3786"
             ],
             [
              0.5555555555555556,
              "#d8576b"
             ],
             [
              0.6666666666666666,
              "#ed7953"
             ],
             [
              0.7777777777777778,
              "#fb9f3a"
             ],
             [
              0.8888888888888888,
              "#fdca26"
             ],
             [
              1,
              "#f0f921"
             ]
            ],
            "type": "contour"
           }
          ],
          "contourcarpet": [
           {
            "colorbar": {
             "outlinewidth": 0,
             "ticks": ""
            },
            "type": "contourcarpet"
           }
          ],
          "heatmap": [
           {
            "colorbar": {
             "outlinewidth": 0,
             "ticks": ""
            },
            "colorscale": [
             [
              0,
              "#0d0887"
             ],
             [
              0.1111111111111111,
              "#46039f"
             ],
             [
              0.2222222222222222,
              "#7201a8"
             ],
             [
              0.3333333333333333,
              "#9c179e"
             ],
             [
              0.4444444444444444,
              "#bd3786"
             ],
             [
              0.5555555555555556,
              "#d8576b"
             ],
             [
              0.6666666666666666,
              "#ed7953"
             ],
             [
              0.7777777777777778,
              "#fb9f3a"
             ],
             [
              0.8888888888888888,
              "#fdca26"
             ],
             [
              1,
              "#f0f921"
             ]
            ],
            "type": "heatmap"
           }
          ],
          "heatmapgl": [
           {
            "colorbar": {
             "outlinewidth": 0,
             "ticks": ""
            },
            "colorscale": [
             [
              0,
              "#0d0887"
             ],
             [
              0.1111111111111111,
              "#46039f"
             ],
             [
              0.2222222222222222,
              "#7201a8"
             ],
             [
              0.3333333333333333,
              "#9c179e"
             ],
             [
              0.4444444444444444,
              "#bd3786"
             ],
             [
              0.5555555555555556,
              "#d8576b"
             ],
             [
              0.6666666666666666,
              "#ed7953"
             ],
             [
              0.7777777777777778,
              "#fb9f3a"
             ],
             [
              0.8888888888888888,
              "#fdca26"
             ],
             [
              1,
              "#f0f921"
             ]
            ],
            "type": "heatmapgl"
           }
          ],
          "histogram": [
           {
            "marker": {
             "pattern": {
              "fillmode": "overlay",
              "size": 10,
              "solidity": 0.2
             }
            },
            "type": "histogram"
           }
          ],
          "histogram2d": [
           {
            "colorbar": {
             "outlinewidth": 0,
             "ticks": ""
            },
            "colorscale": [
             [
              0,
              "#0d0887"
             ],
             [
              0.1111111111111111,
              "#46039f"
             ],
             [
              0.2222222222222222,
              "#7201a8"
             ],
             [
              0.3333333333333333,
              "#9c179e"
             ],
             [
              0.4444444444444444,
              "#bd3786"
             ],
             [
              0.5555555555555556,
              "#d8576b"
             ],
             [
              0.6666666666666666,
              "#ed7953"
             ],
             [
              0.7777777777777778,
              "#fb9f3a"
             ],
             [
              0.8888888888888888,
              "#fdca26"
             ],
             [
              1,
              "#f0f921"
             ]
            ],
            "type": "histogram2d"
           }
          ],
          "histogram2dcontour": [
           {
            "colorbar": {
             "outlinewidth": 0,
             "ticks": ""
            },
            "colorscale": [
             [
              0,
              "#0d0887"
             ],
             [
              0.1111111111111111,
              "#46039f"
             ],
             [
              0.2222222222222222,
              "#7201a8"
             ],
             [
              0.3333333333333333,
              "#9c179e"
             ],
             [
              0.4444444444444444,
              "#bd3786"
             ],
             [
              0.5555555555555556,
              "#d8576b"
             ],
             [
              0.6666666666666666,
              "#ed7953"
             ],
             [
              0.7777777777777778,
              "#fb9f3a"
             ],
             [
              0.8888888888888888,
              "#fdca26"
             ],
             [
              1,
              "#f0f921"
             ]
            ],
            "type": "histogram2dcontour"
           }
          ],
          "mesh3d": [
           {
            "colorbar": {
             "outlinewidth": 0,
             "ticks": ""
            },
            "type": "mesh3d"
           }
          ],
          "parcoords": [
           {
            "line": {
             "colorbar": {
              "outlinewidth": 0,
              "ticks": ""
             }
            },
            "type": "parcoords"
           }
          ],
          "pie": [
           {
            "automargin": true,
            "type": "pie"
           }
          ],
          "scatter": [
           {
            "fillpattern": {
             "fillmode": "overlay",
             "size": 10,
             "solidity": 0.2
            },
            "type": "scatter"
           }
          ],
          "scatter3d": [
           {
            "line": {
             "colorbar": {
              "outlinewidth": 0,
              "ticks": ""
             }
            },
            "marker": {
             "colorbar": {
              "outlinewidth": 0,
              "ticks": ""
             }
            },
            "type": "scatter3d"
           }
          ],
          "scattercarpet": [
           {
            "marker": {
             "colorbar": {
              "outlinewidth": 0,
              "ticks": ""
             }
            },
            "type": "scattercarpet"
           }
          ],
          "scattergeo": [
           {
            "marker": {
             "colorbar": {
              "outlinewidth": 0,
              "ticks": ""
             }
            },
            "type": "scattergeo"
           }
          ],
          "scattergl": [
           {
            "marker": {
             "colorbar": {
              "outlinewidth": 0,
              "ticks": ""
             }
            },
            "type": "scattergl"
           }
          ],
          "scattermapbox": [
           {
            "marker": {
             "colorbar": {
              "outlinewidth": 0,
              "ticks": ""
             }
            },
            "type": "scattermapbox"
           }
          ],
          "scatterpolar": [
           {
            "marker": {
             "colorbar": {
              "outlinewidth": 0,
              "ticks": ""
             }
            },
            "type": "scatterpolar"
           }
          ],
          "scatterpolargl": [
           {
            "marker": {
             "colorbar": {
              "outlinewidth": 0,
              "ticks": ""
             }
            },
            "type": "scatterpolargl"
           }
          ],
          "scatterternary": [
           {
            "marker": {
             "colorbar": {
              "outlinewidth": 0,
              "ticks": ""
             }
            },
            "type": "scatterternary"
           }
          ],
          "surface": [
           {
            "colorbar": {
             "outlinewidth": 0,
             "ticks": ""
            },
            "colorscale": [
             [
              0,
              "#0d0887"
             ],
             [
              0.1111111111111111,
              "#46039f"
             ],
             [
              0.2222222222222222,
              "#7201a8"
             ],
             [
              0.3333333333333333,
              "#9c179e"
             ],
             [
              0.4444444444444444,
              "#bd3786"
             ],
             [
              0.5555555555555556,
              "#d8576b"
             ],
             [
              0.6666666666666666,
              "#ed7953"
             ],
             [
              0.7777777777777778,
              "#fb9f3a"
             ],
             [
              0.8888888888888888,
              "#fdca26"
             ],
             [
              1,
              "#f0f921"
             ]
            ],
            "type": "surface"
           }
          ],
          "table": [
           {
            "cells": {
             "fill": {
              "color": "#EBF0F8"
             },
             "line": {
              "color": "white"
             }
            },
            "header": {
             "fill": {
              "color": "#C8D4E3"
             },
             "line": {
              "color": "white"
             }
            },
            "type": "table"
           }
          ]
         },
         "layout": {
          "annotationdefaults": {
           "arrowcolor": "#2a3f5f",
           "arrowhead": 0,
           "arrowwidth": 1
          },
          "autotypenumbers": "strict",
          "coloraxis": {
           "colorbar": {
            "outlinewidth": 0,
            "ticks": ""
           }
          },
          "colorscale": {
           "diverging": [
            [
             0,
             "#8e0152"
            ],
            [
             0.1,
             "#c51b7d"
            ],
            [
             0.2,
             "#de77ae"
            ],
            [
             0.3,
             "#f1b6da"
            ],
            [
             0.4,
             "#fde0ef"
            ],
            [
             0.5,
             "#f7f7f7"
            ],
            [
             0.6,
             "#e6f5d0"
            ],
            [
             0.7,
             "#b8e186"
            ],
            [
             0.8,
             "#7fbc41"
            ],
            [
             0.9,
             "#4d9221"
            ],
            [
             1,
             "#276419"
            ]
           ],
           "sequential": [
            [
             0,
             "#0d0887"
            ],
            [
             0.1111111111111111,
             "#46039f"
            ],
            [
             0.2222222222222222,
             "#7201a8"
            ],
            [
             0.3333333333333333,
             "#9c179e"
            ],
            [
             0.4444444444444444,
             "#bd3786"
            ],
            [
             0.5555555555555556,
             "#d8576b"
            ],
            [
             0.6666666666666666,
             "#ed7953"
            ],
            [
             0.7777777777777778,
             "#fb9f3a"
            ],
            [
             0.8888888888888888,
             "#fdca26"
            ],
            [
             1,
             "#f0f921"
            ]
           ],
           "sequentialminus": [
            [
             0,
             "#0d0887"
            ],
            [
             0.1111111111111111,
             "#46039f"
            ],
            [
             0.2222222222222222,
             "#7201a8"
            ],
            [
             0.3333333333333333,
             "#9c179e"
            ],
            [
             0.4444444444444444,
             "#bd3786"
            ],
            [
             0.5555555555555556,
             "#d8576b"
            ],
            [
             0.6666666666666666,
             "#ed7953"
            ],
            [
             0.7777777777777778,
             "#fb9f3a"
            ],
            [
             0.8888888888888888,
             "#fdca26"
            ],
            [
             1,
             "#f0f921"
            ]
           ]
          },
          "colorway": [
           "#636efa",
           "#EF553B",
           "#00cc96",
           "#ab63fa",
           "#FFA15A",
           "#19d3f3",
           "#FF6692",
           "#B6E880",
           "#FF97FF",
           "#FECB52"
          ],
          "font": {
           "color": "#2a3f5f"
          },
          "geo": {
           "bgcolor": "white",
           "lakecolor": "white",
           "landcolor": "#E5ECF6",
           "showlakes": true,
           "showland": true,
           "subunitcolor": "white"
          },
          "hoverlabel": {
           "align": "left"
          },
          "hovermode": "closest",
          "mapbox": {
           "style": "light"
          },
          "paper_bgcolor": "white",
          "plot_bgcolor": "#E5ECF6",
          "polar": {
           "angularaxis": {
            "gridcolor": "white",
            "linecolor": "white",
            "ticks": ""
           },
           "bgcolor": "#E5ECF6",
           "radialaxis": {
            "gridcolor": "white",
            "linecolor": "white",
            "ticks": ""
           }
          },
          "scene": {
           "xaxis": {
            "backgroundcolor": "#E5ECF6",
            "gridcolor": "white",
            "gridwidth": 2,
            "linecolor": "white",
            "showbackground": true,
            "ticks": "",
            "zerolinecolor": "white"
           },
           "yaxis": {
            "backgroundcolor": "#E5ECF6",
            "gridcolor": "white",
            "gridwidth": 2,
            "linecolor": "white",
            "showbackground": true,
            "ticks": "",
            "zerolinecolor": "white"
           },
           "zaxis": {
            "backgroundcolor": "#E5ECF6",
            "gridcolor": "white",
            "gridwidth": 2,
            "linecolor": "white",
            "showbackground": true,
            "ticks": "",
            "zerolinecolor": "white"
           }
          },
          "shapedefaults": {
           "line": {
            "color": "#2a3f5f"
           }
          },
          "ternary": {
           "aaxis": {
            "gridcolor": "white",
            "linecolor": "white",
            "ticks": ""
           },
           "baxis": {
            "gridcolor": "white",
            "linecolor": "white",
            "ticks": ""
           },
           "bgcolor": "#E5ECF6",
           "caxis": {
            "gridcolor": "white",
            "linecolor": "white",
            "ticks": ""
           }
          },
          "title": {
           "x": 0.05
          },
          "xaxis": {
           "automargin": true,
           "gridcolor": "white",
           "linecolor": "white",
           "ticks": "",
           "title": {
            "standoff": 15
           },
           "zerolinecolor": "white",
           "zerolinewidth": 2
          },
          "yaxis": {
           "automargin": true,
           "gridcolor": "white",
           "linecolor": "white",
           "ticks": "",
           "title": {
            "standoff": 15
           },
           "zerolinecolor": "white",
           "zerolinewidth": 2
          }
         }
        }
       }
      },
      "text/html": [
       "<div>                            <div id=\"8045493e-b201-4f1e-8b8c-c0036a26d324\" class=\"plotly-graph-div\" style=\"height:525px; width:100%;\"></div>            <script type=\"text/javascript\">                require([\"plotly\"], function(Plotly) {                    window.PLOTLYENV=window.PLOTLYENV || {};                                    if (document.getElementById(\"8045493e-b201-4f1e-8b8c-c0036a26d324\")) {                    Plotly.newPlot(                        \"8045493e-b201-4f1e-8b8c-c0036a26d324\",                        [{\"coloraxis\":\"coloraxis\",\"geo\":\"geo\",\"hovertemplate\":\"<b>%{hovertext}</b><br><br>iso3=%{location}<br>Number of Medals=%{z}<extra></extra>\",\"hovertext\":[\"USA\",\"Russia\",\"Germany\",\"UK\",\"France\",\"Italy\",\"Australia\",\"Hungary\",\"Sweden\",\"China\",\"Netherlands\",\"Japan\",\"Canada\",\"Romania\",\"Denmark\",\"Norway\",\"South Korea\",\"Poland\",\"Serbia\",\"Spain\",\"Brazil\",\"Belgium\",\"Finland\",\"Switzerland\",\"Czech Republic\",\"Cuba\",\"Bulgaria\",\"Argentina\",\"New Zealand\",\"Greece\",\"Ukraine\",\"India\",\"Jamaica\",\"Austria\",\"Croatia\",\"Mexico\",\"Belarus\",\"South Africa\",\"Pakistan\",\"Kenya\",\"Turkey\",\"Nigeria\",\"Kazakhstan\",\"Iran\",\"North Korea\",\"Taiwan\",\"Uruguay\",\"Lithuania\",\"Ethiopia\",\"Azerbaijan\",\"Slovakia\",\"Estonia\",\"Indonesia\",\"Portugal\",\"Ireland\",\"Bahamas\",\"Georgia\",\"Fiji\",\"Dominican Republic\",\"Uzbekistan\",\"Trinidad\",\"Slovenia\",\"Colombia\",\"Egypt\",\"Thailand\",\"Chile\",\"Mongolia\",\"Latvia\",\"Ghana\",\"Morocco\",\"Israel\",\"Zimbabwe\",\"Cameroon\",\"Armenia\",\"Malaysia\",\"Venezuela\",\"Paraguay\",\"Algeria\",\"Iceland\",\"Tunisia\",\"Peru\",\"Philippines\",\"Uganda\",\"Puerto Rico\",\"Moldova\",\"Qatar\",\"Singapore\",\"Haiti\",\"Botswana\",\"Saudi Arabia\",\"Luxembourg\",\"Syria\",\"Kyrgyzstan\",\"Namibia\",\"Ecuador\",\"Tajikistan\",\"Vietnam\",\"Lebanon\",\"San Marino\",\"Bahrain\",\"Costa Rica\",\"Ivory Coast\",\"Kuwait\",\"Jordan\",\"Grenada\",\"Panama\",\"Macedonia\",\"Tanzania\",\"Zambia\",\"Bermuda\",\"United Arab Emirates\",\"Burundi\",\"Niger\",\"Afghanistan\",\"Sri Lanka\",\"Suriname\",\"Mozambique\",\"Guatemala\",\"Iraq\",\"Virgin Islands, US\",\"Sudan\",\"Barbados\",\"Burkina Faso\",\"Monaco\",\"Curacao\",\"Guyana\",\"Cyprus\",\"Turkmenistan\",\"Djibouti\",\"Mauritius\",\"Gabon\",\"Tonga\",\"Togo\",\"Senegal\",\"Eritrea\"],\"locations\":[\"USA\",\"RUS\",\"DEU\",\"GBR\",\"FRA\",\"ITA\",\"AUS\",\"HUN\",\"SWE\",\"CHN\",\"NLD\",\"JPN\",\"CAN\",\"ROM\",\"DNK\",\"NOR\",\"KOR\",\"POL\",\"SRB\",\"ESP\",\"BRA\",\"BEL\",\"FIN\",\"CHE\",\"CZE\",\"CUB\",\"BGR\",\"ARG\",\"NZL\",\"GRC\",\"UKR\",\"IND\",\"JAM\",\"AUT\",\"HRV\",\"MEX\",\"BLR\",\"ZAF\",\"PAK\",\"KEN\",\"TUR\",\"NGA\",\"KAZ\",\"IRN\",\"PRK\",\"TWN\",\"URY\",\"LTU\",\"ETH\",\"AZE\",\"SVK\",\"EST\",\"IDN\",\"PRT\",\"IRL\",\"BHS\",\"GEO\",\"FJI\",\"DOM\",\"UZB\",\"TTO\",\"SVN\",\"COL\",\"EGY\",\"THA\",\"CHL\",\"MNG\",\"LVA\",\"GHA\",\"MAR\",\"ISR\",\"ZWE\",\"CMR\",\"ARM\",\"MYS\",\"VEN\",\"PRY\",\"DZA\",\"ISL\",\"TUN\",\"PER\",\"PHL\",\"UGA\",\"PRI\",\"MDA\",\"QAT\",\"SGP\",\"HTI\",\"BWA\",\"SAU\",\"LUX\",\"SYR\",\"KGZ\",\"NAM\",\"ECU\",\"TJK\",\"VNM\",\"LBN\",\"SMR\",\"BHR\",\"CRI\",\"CIV\",\"KWT\",\"JOR\",\"GRD\",\"PAN\",\"MKD\",\"TZA\",\"ZWB\",\"BMU\",\"ARE\",\"BDI\",\"NER\",\"AFG\",\"LKA\",\"SUR\",\"MOZ\",\"GTM\",\"IRQ\",\"VGB\",\"SDN\",\"BRB\",\"BFA\",\"MCO\",\"ANT\",\"GUY\",\"CYP\",\"TKM\",\"DJI\",\"MUS\",\"GAB\",\"TON\",\"TGO\",\"SEN\",\"ERI\"],\"name\":\"\",\"z\":[5300,3337,3207,2125,1758,1522,1464,1174,1142,1062,990,981,826,660,625,613,590,574,567,557,530,482,476,431,426,425,346,317,292,271,217,213,178,177,149,137,134,134,121,116,108,101,78,75,65,65,63,62,57,51,49,48,47,45,43,42,40,39,39,38,37,35,33,33,32,32,30,25,24,24,23,22,22,20,19,19,17,17,17,15,15,14,11,10,9,9,9,7,7,7,6,6,6,5,5,4,4,4,4,4,4,4,3,3,3,3,2,2,2,2,2,2,2,2,2,2,2,1,1,1,1,1,1,1,1,1,1,1,1,1,1,1,1,1,1],\"type\":\"choropleth\"}],                        {\"template\":{\"data\":{\"histogram2dcontour\":[{\"type\":\"histogram2dcontour\",\"colorbar\":{\"outlinewidth\":0,\"ticks\":\"\"},\"colorscale\":[[0.0,\"#0d0887\"],[0.1111111111111111,\"#46039f\"],[0.2222222222222222,\"#7201a8\"],[0.3333333333333333,\"#9c179e\"],[0.4444444444444444,\"#bd3786\"],[0.5555555555555556,\"#d8576b\"],[0.6666666666666666,\"#ed7953\"],[0.7777777777777778,\"#fb9f3a\"],[0.8888888888888888,\"#fdca26\"],[1.0,\"#f0f921\"]]}],\"choropleth\":[{\"type\":\"choropleth\",\"colorbar\":{\"outlinewidth\":0,\"ticks\":\"\"}}],\"histogram2d\":[{\"type\":\"histogram2d\",\"colorbar\":{\"outlinewidth\":0,\"ticks\":\"\"},\"colorscale\":[[0.0,\"#0d0887\"],[0.1111111111111111,\"#46039f\"],[0.2222222222222222,\"#7201a8\"],[0.3333333333333333,\"#9c179e\"],[0.4444444444444444,\"#bd3786\"],[0.5555555555555556,\"#d8576b\"],[0.6666666666666666,\"#ed7953\"],[0.7777777777777778,\"#fb9f3a\"],[0.8888888888888888,\"#fdca26\"],[1.0,\"#f0f921\"]]}],\"heatmap\":[{\"type\":\"heatmap\",\"colorbar\":{\"outlinewidth\":0,\"ticks\":\"\"},\"colorscale\":[[0.0,\"#0d0887\"],[0.1111111111111111,\"#46039f\"],[0.2222222222222222,\"#7201a8\"],[0.3333333333333333,\"#9c179e\"],[0.4444444444444444,\"#bd3786\"],[0.5555555555555556,\"#d8576b\"],[0.6666666666666666,\"#ed7953\"],[0.7777777777777778,\"#fb9f3a\"],[0.8888888888888888,\"#fdca26\"],[1.0,\"#f0f921\"]]}],\"heatmapgl\":[{\"type\":\"heatmapgl\",\"colorbar\":{\"outlinewidth\":0,\"ticks\":\"\"},\"colorscale\":[[0.0,\"#0d0887\"],[0.1111111111111111,\"#46039f\"],[0.2222222222222222,\"#7201a8\"],[0.3333333333333333,\"#9c179e\"],[0.4444444444444444,\"#bd3786\"],[0.5555555555555556,\"#d8576b\"],[0.6666666666666666,\"#ed7953\"],[0.7777777777777778,\"#fb9f3a\"],[0.8888888888888888,\"#fdca26\"],[1.0,\"#f0f921\"]]}],\"contourcarpet\":[{\"type\":\"contourcarpet\",\"colorbar\":{\"outlinewidth\":0,\"ticks\":\"\"}}],\"contour\":[{\"type\":\"contour\",\"colorbar\":{\"outlinewidth\":0,\"ticks\":\"\"},\"colorscale\":[[0.0,\"#0d0887\"],[0.1111111111111111,\"#46039f\"],[0.2222222222222222,\"#7201a8\"],[0.3333333333333333,\"#9c179e\"],[0.4444444444444444,\"#bd3786\"],[0.5555555555555556,\"#d8576b\"],[0.6666666666666666,\"#ed7953\"],[0.7777777777777778,\"#fb9f3a\"],[0.8888888888888888,\"#fdca26\"],[1.0,\"#f0f921\"]]}],\"surface\":[{\"type\":\"surface\",\"colorbar\":{\"outlinewidth\":0,\"ticks\":\"\"},\"colorscale\":[[0.0,\"#0d0887\"],[0.1111111111111111,\"#46039f\"],[0.2222222222222222,\"#7201a8\"],[0.3333333333333333,\"#9c179e\"],[0.4444444444444444,\"#bd3786\"],[0.5555555555555556,\"#d8576b\"],[0.6666666666666666,\"#ed7953\"],[0.7777777777777778,\"#fb9f3a\"],[0.8888888888888888,\"#fdca26\"],[1.0,\"#f0f921\"]]}],\"mesh3d\":[{\"type\":\"mesh3d\",\"colorbar\":{\"outlinewidth\":0,\"ticks\":\"\"}}],\"scatter\":[{\"fillpattern\":{\"fillmode\":\"overlay\",\"size\":10,\"solidity\":0.2},\"type\":\"scatter\"}],\"parcoords\":[{\"type\":\"parcoords\",\"line\":{\"colorbar\":{\"outlinewidth\":0,\"ticks\":\"\"}}}],\"scatterpolargl\":[{\"type\":\"scatterpolargl\",\"marker\":{\"colorbar\":{\"outlinewidth\":0,\"ticks\":\"\"}}}],\"bar\":[{\"error_x\":{\"color\":\"#2a3f5f\"},\"error_y\":{\"color\":\"#2a3f5f\"},\"marker\":{\"line\":{\"color\":\"#E5ECF6\",\"width\":0.5},\"pattern\":{\"fillmode\":\"overlay\",\"size\":10,\"solidity\":0.2}},\"type\":\"bar\"}],\"scattergeo\":[{\"type\":\"scattergeo\",\"marker\":{\"colorbar\":{\"outlinewidth\":0,\"ticks\":\"\"}}}],\"scatterpolar\":[{\"type\":\"scatterpolar\",\"marker\":{\"colorbar\":{\"outlinewidth\":0,\"ticks\":\"\"}}}],\"histogram\":[{\"marker\":{\"pattern\":{\"fillmode\":\"overlay\",\"size\":10,\"solidity\":0.2}},\"type\":\"histogram\"}],\"scattergl\":[{\"type\":\"scattergl\",\"marker\":{\"colorbar\":{\"outlinewidth\":0,\"ticks\":\"\"}}}],\"scatter3d\":[{\"type\":\"scatter3d\",\"line\":{\"colorbar\":{\"outlinewidth\":0,\"ticks\":\"\"}},\"marker\":{\"colorbar\":{\"outlinewidth\":0,\"ticks\":\"\"}}}],\"scattermapbox\":[{\"type\":\"scattermapbox\",\"marker\":{\"colorbar\":{\"outlinewidth\":0,\"ticks\":\"\"}}}],\"scatterternary\":[{\"type\":\"scatterternary\",\"marker\":{\"colorbar\":{\"outlinewidth\":0,\"ticks\":\"\"}}}],\"scattercarpet\":[{\"type\":\"scattercarpet\",\"marker\":{\"colorbar\":{\"outlinewidth\":0,\"ticks\":\"\"}}}],\"carpet\":[{\"aaxis\":{\"endlinecolor\":\"#2a3f5f\",\"gridcolor\":\"white\",\"linecolor\":\"white\",\"minorgridcolor\":\"white\",\"startlinecolor\":\"#2a3f5f\"},\"baxis\":{\"endlinecolor\":\"#2a3f5f\",\"gridcolor\":\"white\",\"linecolor\":\"white\",\"minorgridcolor\":\"white\",\"startlinecolor\":\"#2a3f5f\"},\"type\":\"carpet\"}],\"table\":[{\"cells\":{\"fill\":{\"color\":\"#EBF0F8\"},\"line\":{\"color\":\"white\"}},\"header\":{\"fill\":{\"color\":\"#C8D4E3\"},\"line\":{\"color\":\"white\"}},\"type\":\"table\"}],\"barpolar\":[{\"marker\":{\"line\":{\"color\":\"#E5ECF6\",\"width\":0.5},\"pattern\":{\"fillmode\":\"overlay\",\"size\":10,\"solidity\":0.2}},\"type\":\"barpolar\"}],\"pie\":[{\"automargin\":true,\"type\":\"pie\"}]},\"layout\":{\"autotypenumbers\":\"strict\",\"colorway\":[\"#636efa\",\"#EF553B\",\"#00cc96\",\"#ab63fa\",\"#FFA15A\",\"#19d3f3\",\"#FF6692\",\"#B6E880\",\"#FF97FF\",\"#FECB52\"],\"font\":{\"color\":\"#2a3f5f\"},\"hovermode\":\"closest\",\"hoverlabel\":{\"align\":\"left\"},\"paper_bgcolor\":\"white\",\"plot_bgcolor\":\"#E5ECF6\",\"polar\":{\"bgcolor\":\"#E5ECF6\",\"angularaxis\":{\"gridcolor\":\"white\",\"linecolor\":\"white\",\"ticks\":\"\"},\"radialaxis\":{\"gridcolor\":\"white\",\"linecolor\":\"white\",\"ticks\":\"\"}},\"ternary\":{\"bgcolor\":\"#E5ECF6\",\"aaxis\":{\"gridcolor\":\"white\",\"linecolor\":\"white\",\"ticks\":\"\"},\"baxis\":{\"gridcolor\":\"white\",\"linecolor\":\"white\",\"ticks\":\"\"},\"caxis\":{\"gridcolor\":\"white\",\"linecolor\":\"white\",\"ticks\":\"\"}},\"coloraxis\":{\"colorbar\":{\"outlinewidth\":0,\"ticks\":\"\"}},\"colorscale\":{\"sequential\":[[0.0,\"#0d0887\"],[0.1111111111111111,\"#46039f\"],[0.2222222222222222,\"#7201a8\"],[0.3333333333333333,\"#9c179e\"],[0.4444444444444444,\"#bd3786\"],[0.5555555555555556,\"#d8576b\"],[0.6666666666666666,\"#ed7953\"],[0.7777777777777778,\"#fb9f3a\"],[0.8888888888888888,\"#fdca26\"],[1.0,\"#f0f921\"]],\"sequentialminus\":[[0.0,\"#0d0887\"],[0.1111111111111111,\"#46039f\"],[0.2222222222222222,\"#7201a8\"],[0.3333333333333333,\"#9c179e\"],[0.4444444444444444,\"#bd3786\"],[0.5555555555555556,\"#d8576b\"],[0.6666666666666666,\"#ed7953\"],[0.7777777777777778,\"#fb9f3a\"],[0.8888888888888888,\"#fdca26\"],[1.0,\"#f0f921\"]],\"diverging\":[[0,\"#8e0152\"],[0.1,\"#c51b7d\"],[0.2,\"#de77ae\"],[0.3,\"#f1b6da\"],[0.4,\"#fde0ef\"],[0.5,\"#f7f7f7\"],[0.6,\"#e6f5d0\"],[0.7,\"#b8e186\"],[0.8,\"#7fbc41\"],[0.9,\"#4d9221\"],[1,\"#276419\"]]},\"xaxis\":{\"gridcolor\":\"white\",\"linecolor\":\"white\",\"ticks\":\"\",\"title\":{\"standoff\":15},\"zerolinecolor\":\"white\",\"automargin\":true,\"zerolinewidth\":2},\"yaxis\":{\"gridcolor\":\"white\",\"linecolor\":\"white\",\"ticks\":\"\",\"title\":{\"standoff\":15},\"zerolinecolor\":\"white\",\"automargin\":true,\"zerolinewidth\":2},\"scene\":{\"xaxis\":{\"backgroundcolor\":\"#E5ECF6\",\"gridcolor\":\"white\",\"linecolor\":\"white\",\"showbackground\":true,\"ticks\":\"\",\"zerolinecolor\":\"white\",\"gridwidth\":2},\"yaxis\":{\"backgroundcolor\":\"#E5ECF6\",\"gridcolor\":\"white\",\"linecolor\":\"white\",\"showbackground\":true,\"ticks\":\"\",\"zerolinecolor\":\"white\",\"gridwidth\":2},\"zaxis\":{\"backgroundcolor\":\"#E5ECF6\",\"gridcolor\":\"white\",\"linecolor\":\"white\",\"showbackground\":true,\"ticks\":\"\",\"zerolinecolor\":\"white\",\"gridwidth\":2}},\"shapedefaults\":{\"line\":{\"color\":\"#2a3f5f\"}},\"annotationdefaults\":{\"arrowcolor\":\"#2a3f5f\",\"arrowhead\":0,\"arrowwidth\":1},\"geo\":{\"bgcolor\":\"white\",\"landcolor\":\"#E5ECF6\",\"subunitcolor\":\"white\",\"showland\":true,\"showlakes\":true,\"lakecolor\":\"white\"},\"title\":{\"x\":0.05},\"mapbox\":{\"style\":\"light\"}}},\"geo\":{\"domain\":{\"x\":[0.0,1.0],\"y\":[0.0,1.0]},\"projection\":{\"type\":\"natural earth\"},\"center\":{}},\"coloraxis\":{\"colorbar\":{\"title\":{\"text\":\"Number of Medals\"}},\"colorscale\":[[0.0,\"#0d0887\"],[0.1111111111111111,\"#46039f\"],[0.2222222222222222,\"#7201a8\"],[0.3333333333333333,\"#9c179e\"],[0.4444444444444444,\"#bd3786\"],[0.5555555555555556,\"#d8576b\"],[0.6666666666666666,\"#ed7953\"],[0.7777777777777778,\"#fb9f3a\"],[0.8888888888888888,\"#fdca26\"],[1.0,\"#f0f921\"]]},\"legend\":{\"tracegroupgap\":0},\"margin\":{\"t\":60},\"font\":{\"family\":\"Times New Roman\",\"size\":18,\"color\":\"RebeccaPurple\"}},                        {\"responsive\": true}                    ).then(function(){\n",
       "                            \n",
       "var gd = document.getElementById('8045493e-b201-4f1e-8b8c-c0036a26d324');\n",
       "var x = new MutationObserver(function (mutations, observer) {{\n",
       "        var display = window.getComputedStyle(gd).display;\n",
       "        if (!display || display === 'none') {{\n",
       "            console.log([gd, 'removed!']);\n",
       "            Plotly.purge(gd);\n",
       "            observer.disconnect();\n",
       "        }}\n",
       "}});\n",
       "\n",
       "// Listen for the removal of the full notebook cells\n",
       "var notebookContainer = gd.closest('#notebook-container');\n",
       "if (notebookContainer) {{\n",
       "    x.observe(notebookContainer, {childList: true});\n",
       "}}\n",
       "\n",
       "// Listen for the clearing of the current output cell\n",
       "var outputEl = gd.closest('.output');\n",
       "if (outputEl) {{\n",
       "    x.observe(outputEl, {childList: true});\n",
       "}}\n",
       "\n",
       "                        })                };                });            </script>        </div>"
      ]
     },
     "metadata": {},
     "output_type": "display_data"
    }
   ],
   "source": [
    "# plot the Summer map\n",
    "fig = px.choropleth(data_frame=country_medals_ever_summer, \n",
    "    locations=\"iso3\", \n",
    "    projection='natural earth',    # 'orthographic',\n",
    "    color=\"number_of_medals\", # lifeExp is a column of gapminder\n",
    "    hover_name=\"country\", # column to add to hover information\n",
    "    color_continuous_scale=px.colors.sequential.Plasma, #Blues\n",
    "    labels={'number_of_medals': 'Number of Medals'}\n",
    ")\n",
    "\n",
    "fig.update_layout(\n",
    "    font=dict(\n",
    "        family='Times New Roman',   #\"Courier New, monospace\",\n",
    "        size=18,\n",
    "        color=\"RebeccaPurple\"))\n",
    "\n",
    "\"\"\"\n",
    "fig.update_layout(\n",
    "    title={\n",
    "        'text': 'Medals for National Teams ever for Summer Olympic Games',\n",
    "        'y':0.95,\n",
    "        'x':0.45,\n",
    "        'xanchor': 'center',\n",
    "        'yanchor': 'top'},\n",
    "    font=dict(\n",
    "        family='Times New Roman',   #\"Courier New, monospace\",\n",
    "        size=18,\n",
    "        color=\"RebeccaPurple\"))\n",
    "\"\"\"\n",
    "fig.write_html('../images/country_medals_ever_summer.html', include_plotlyjs='cdn') # \"content delivery network\"\n",
    "pio.write_image(fig, '../images/country_medals_ever_summer.png',scale=10, width=1024, height=540)\n",
    "#fig.write_image('../images/country_medals_ever_summer.png', scale=6, width=1080, height=1080)\n",
    "fig.show()"
   ]
  },
  {
   "cell_type": "markdown",
   "id": "aad29637",
   "metadata": {},
   "source": [
    "**Medals for national teams ever (all years) - Winter:**"
   ]
  },
  {
   "cell_type": "code",
   "execution_count": 23,
   "id": "734d497c",
   "metadata": {},
   "outputs": [
    {
     "data": {
      "text/html": [
       "<div>\n",
       "<style scoped>\n",
       "    .dataframe tbody tr th:only-of-type {\n",
       "        vertical-align: middle;\n",
       "    }\n",
       "\n",
       "    .dataframe tbody tr th {\n",
       "        vertical-align: top;\n",
       "    }\n",
       "\n",
       "    .dataframe thead th {\n",
       "        text-align: right;\n",
       "    }\n",
       "</style>\n",
       "<table border=\"1\" class=\"dataframe\">\n",
       "  <thead>\n",
       "    <tr style=\"text-align: right;\">\n",
       "      <th></th>\n",
       "      <th>country</th>\n",
       "      <th>iso3</th>\n",
       "      <th>number_of_medals</th>\n",
       "    </tr>\n",
       "  </thead>\n",
       "  <tbody>\n",
       "    <tr>\n",
       "      <th>0</th>\n",
       "      <td>Russia</td>\n",
       "      <td>RUS</td>\n",
       "      <td>759</td>\n",
       "    </tr>\n",
       "    <tr>\n",
       "      <th>1</th>\n",
       "      <td>USA</td>\n",
       "      <td>USA</td>\n",
       "      <td>635</td>\n",
       "    </tr>\n",
       "    <tr>\n",
       "      <th>2</th>\n",
       "      <td>Germany</td>\n",
       "      <td>DEU</td>\n",
       "      <td>630</td>\n",
       "    </tr>\n",
       "    <tr>\n",
       "      <th>3</th>\n",
       "      <td>Canada</td>\n",
       "      <td>CAN</td>\n",
       "      <td>611</td>\n",
       "    </tr>\n",
       "    <tr>\n",
       "      <th>4</th>\n",
       "      <td>Norway</td>\n",
       "      <td>NOR</td>\n",
       "      <td>443</td>\n",
       "    </tr>\n",
       "    <tr>\n",
       "      <th>5</th>\n",
       "      <td>Sweden</td>\n",
       "      <td>SWE</td>\n",
       "      <td>428</td>\n",
       "    </tr>\n",
       "    <tr>\n",
       "      <th>6</th>\n",
       "      <td>Finland</td>\n",
       "      <td>FIN</td>\n",
       "      <td>426</td>\n",
       "    </tr>\n",
       "    <tr>\n",
       "      <th>7</th>\n",
       "      <td>Austria</td>\n",
       "      <td>AUT</td>\n",
       "      <td>280</td>\n",
       "    </tr>\n",
       "    <tr>\n",
       "      <th>8</th>\n",
       "      <td>Switzerland</td>\n",
       "      <td>CHE</td>\n",
       "      <td>275</td>\n",
       "    </tr>\n",
       "    <tr>\n",
       "      <th>9</th>\n",
       "      <td>Czech Republic</td>\n",
       "      <td>CZE</td>\n",
       "      <td>231</td>\n",
       "    </tr>\n",
       "    <tr>\n",
       "      <th>10</th>\n",
       "      <td>Italy</td>\n",
       "      <td>ITA</td>\n",
       "      <td>191</td>\n",
       "    </tr>\n",
       "    <tr>\n",
       "      <th>11</th>\n",
       "      <td>France</td>\n",
       "      <td>FRA</td>\n",
       "      <td>150</td>\n",
       "    </tr>\n",
       "    <tr>\n",
       "      <th>12</th>\n",
       "      <td>Netherlands</td>\n",
       "      <td>NLD</td>\n",
       "      <td>122</td>\n",
       "    </tr>\n",
       "    <tr>\n",
       "      <th>13</th>\n",
       "      <td>South Korea</td>\n",
       "      <td>KOR</td>\n",
       "      <td>86</td>\n",
       "    </tr>\n",
       "    <tr>\n",
       "      <th>14</th>\n",
       "      <td>UK</td>\n",
       "      <td>GBR</td>\n",
       "      <td>83</td>\n",
       "    </tr>\n",
       "    <tr>\n",
       "      <th>15</th>\n",
       "      <td>China</td>\n",
       "      <td>CHN</td>\n",
       "      <td>80</td>\n",
       "    </tr>\n",
       "    <tr>\n",
       "      <th>16</th>\n",
       "      <td>Japan</td>\n",
       "      <td>JPN</td>\n",
       "      <td>63</td>\n",
       "    </tr>\n",
       "    <tr>\n",
       "      <th>17</th>\n",
       "      <td>Poland</td>\n",
       "      <td>POL</td>\n",
       "      <td>27</td>\n",
       "    </tr>\n",
       "    <tr>\n",
       "      <th>18</th>\n",
       "      <td>Slovenia</td>\n",
       "      <td>SVN</td>\n",
       "      <td>18</td>\n",
       "    </tr>\n",
       "    <tr>\n",
       "      <th>19</th>\n",
       "      <td>Australia</td>\n",
       "      <td>AUS</td>\n",
       "      <td>16</td>\n",
       "    </tr>\n",
       "    <tr>\n",
       "      <th>20</th>\n",
       "      <td>Latvia</td>\n",
       "      <td>LVA</td>\n",
       "      <td>15</td>\n",
       "    </tr>\n",
       "    <tr>\n",
       "      <th>21</th>\n",
       "      <td>Belarus</td>\n",
       "      <td>BLR</td>\n",
       "      <td>15</td>\n",
       "    </tr>\n",
       "    <tr>\n",
       "      <th>22</th>\n",
       "      <td>Belgium</td>\n",
       "      <td>BEL</td>\n",
       "      <td>13</td>\n",
       "    </tr>\n",
       "    <tr>\n",
       "      <th>23</th>\n",
       "      <td>Hungary</td>\n",
       "      <td>HUN</td>\n",
       "      <td>12</td>\n",
       "    </tr>\n",
       "    <tr>\n",
       "      <th>24</th>\n",
       "      <td>Croatia</td>\n",
       "      <td>HRV</td>\n",
       "      <td>11</td>\n",
       "    </tr>\n",
       "    <tr>\n",
       "      <th>25</th>\n",
       "      <td>Ukraine</td>\n",
       "      <td>UKR</td>\n",
       "      <td>11</td>\n",
       "    </tr>\n",
       "    <tr>\n",
       "      <th>26</th>\n",
       "      <td>Liechtenstein</td>\n",
       "      <td>LIE</td>\n",
       "      <td>9</td>\n",
       "    </tr>\n",
       "    <tr>\n",
       "      <th>27</th>\n",
       "      <td>Serbia</td>\n",
       "      <td>SRB</td>\n",
       "      <td>7</td>\n",
       "    </tr>\n",
       "    <tr>\n",
       "      <th>28</th>\n",
       "      <td>Kazakhstan</td>\n",
       "      <td>KAZ</td>\n",
       "      <td>7</td>\n",
       "    </tr>\n",
       "    <tr>\n",
       "      <th>29</th>\n",
       "      <td>India</td>\n",
       "      <td>IND</td>\n",
       "      <td>7</td>\n",
       "    </tr>\n",
       "    <tr>\n",
       "      <th>30</th>\n",
       "      <td>Estonia</td>\n",
       "      <td>EST</td>\n",
       "      <td>7</td>\n",
       "    </tr>\n",
       "    <tr>\n",
       "      <th>31</th>\n",
       "      <td>Bulgaria</td>\n",
       "      <td>BGR</td>\n",
       "      <td>6</td>\n",
       "    </tr>\n",
       "    <tr>\n",
       "      <th>32</th>\n",
       "      <td>Slovakia</td>\n",
       "      <td>SVK</td>\n",
       "      <td>5</td>\n",
       "    </tr>\n",
       "    <tr>\n",
       "      <th>33</th>\n",
       "      <td>Denmark</td>\n",
       "      <td>DNK</td>\n",
       "      <td>5</td>\n",
       "    </tr>\n",
       "    <tr>\n",
       "      <th>34</th>\n",
       "      <td>North Korea</td>\n",
       "      <td>PRK</td>\n",
       "      <td>2</td>\n",
       "    </tr>\n",
       "    <tr>\n",
       "      <th>35</th>\n",
       "      <td>Romania</td>\n",
       "      <td>ROM</td>\n",
       "      <td>2</td>\n",
       "    </tr>\n",
       "    <tr>\n",
       "      <th>36</th>\n",
       "      <td>Luxembourg</td>\n",
       "      <td>LUX</td>\n",
       "      <td>2</td>\n",
       "    </tr>\n",
       "    <tr>\n",
       "      <th>37</th>\n",
       "      <td>Spain</td>\n",
       "      <td>ESP</td>\n",
       "      <td>2</td>\n",
       "    </tr>\n",
       "    <tr>\n",
       "      <th>38</th>\n",
       "      <td>New Zealand</td>\n",
       "      <td>NZL</td>\n",
       "      <td>1</td>\n",
       "    </tr>\n",
       "    <tr>\n",
       "      <th>39</th>\n",
       "      <td>Nepal</td>\n",
       "      <td>NPL</td>\n",
       "      <td>1</td>\n",
       "    </tr>\n",
       "    <tr>\n",
       "      <th>40</th>\n",
       "      <td>Uzbekistan</td>\n",
       "      <td>UZB</td>\n",
       "      <td>1</td>\n",
       "    </tr>\n",
       "  </tbody>\n",
       "</table>\n",
       "</div>"
      ],
      "text/plain": [
       "           country iso3  number_of_medals\n",
       "0           Russia  RUS               759\n",
       "1              USA  USA               635\n",
       "2          Germany  DEU               630\n",
       "3           Canada  CAN               611\n",
       "4           Norway  NOR               443\n",
       "5           Sweden  SWE               428\n",
       "6          Finland  FIN               426\n",
       "7          Austria  AUT               280\n",
       "8      Switzerland  CHE               275\n",
       "9   Czech Republic  CZE               231\n",
       "10           Italy  ITA               191\n",
       "11          France  FRA               150\n",
       "12     Netherlands  NLD               122\n",
       "13     South Korea  KOR                86\n",
       "14              UK  GBR                83\n",
       "15           China  CHN                80\n",
       "16           Japan  JPN                63\n",
       "17          Poland  POL                27\n",
       "18        Slovenia  SVN                18\n",
       "19       Australia  AUS                16\n",
       "20          Latvia  LVA                15\n",
       "21         Belarus  BLR                15\n",
       "22         Belgium  BEL                13\n",
       "23         Hungary  HUN                12\n",
       "24         Croatia  HRV                11\n",
       "25         Ukraine  UKR                11\n",
       "26   Liechtenstein  LIE                 9\n",
       "27          Serbia  SRB                 7\n",
       "28      Kazakhstan  KAZ                 7\n",
       "29           India  IND                 7\n",
       "30         Estonia  EST                 7\n",
       "31        Bulgaria  BGR                 6\n",
       "32        Slovakia  SVK                 5\n",
       "33         Denmark  DNK                 5\n",
       "34     North Korea  PRK                 2\n",
       "35         Romania  ROM                 2\n",
       "36      Luxembourg  LUX                 2\n",
       "37           Spain  ESP                 2\n",
       "38     New Zealand  NZL                 1\n",
       "39           Nepal  NPL                 1\n",
       "40      Uzbekistan  UZB                 1"
      ]
     },
     "execution_count": 23,
     "metadata": {},
     "output_type": "execute_result"
    }
   ],
   "source": [
    "# National Olympic Committees with maximum number of all medals ever (all years):\n",
    "winter_mask = country_medals_tmp['season']=='Winter'\n",
    "country_medals_ever_winter = country_medals_tmp[winter_mask].groupby(by=['country', 'iso3'])[['games']].count()\n",
    "country_medals_ever_winter.reset_index(inplace=True)\n",
    "country_medals_ever_winter.rename(columns={'games': 'number_of_medals'}, inplace=True)\n",
    "country_medals_ever_winter.sort_values(by='number_of_medals', ascending=False, inplace=True)\n",
    "country_medals_ever_winter.reset_index(inplace=True, drop=True)\n",
    "country_medals_ever_winter"
   ]
  },
  {
   "cell_type": "code",
   "execution_count": 24,
   "id": "c8f21ed9",
   "metadata": {},
   "outputs": [
    {
     "data": {
      "application/vnd.plotly.v1+json": {
       "config": {
        "plotlyServerURL": "https://plot.ly"
       },
       "data": [
        {
         "coloraxis": "coloraxis",
         "geo": "geo",
         "hovertemplate": "<b>%{hovertext}</b><br><br>iso3=%{location}<br>Number of Medals=%{z}<extra></extra>",
         "hovertext": [
          "Russia",
          "USA",
          "Germany",
          "Canada",
          "Norway",
          "Sweden",
          "Finland",
          "Austria",
          "Switzerland",
          "Czech Republic",
          "Italy",
          "France",
          "Netherlands",
          "South Korea",
          "UK",
          "China",
          "Japan",
          "Poland",
          "Slovenia",
          "Australia",
          "Latvia",
          "Belarus",
          "Belgium",
          "Hungary",
          "Croatia",
          "Ukraine",
          "Liechtenstein",
          "Serbia",
          "Kazakhstan",
          "India",
          "Estonia",
          "Bulgaria",
          "Slovakia",
          "Denmark",
          "North Korea",
          "Romania",
          "Luxembourg",
          "Spain",
          "New Zealand",
          "Nepal",
          "Uzbekistan"
         ],
         "locations": [
          "RUS",
          "USA",
          "DEU",
          "CAN",
          "NOR",
          "SWE",
          "FIN",
          "AUT",
          "CHE",
          "CZE",
          "ITA",
          "FRA",
          "NLD",
          "KOR",
          "GBR",
          "CHN",
          "JPN",
          "POL",
          "SVN",
          "AUS",
          "LVA",
          "BLR",
          "BEL",
          "HUN",
          "HRV",
          "UKR",
          "LIE",
          "SRB",
          "KAZ",
          "IND",
          "EST",
          "BGR",
          "SVK",
          "DNK",
          "PRK",
          "ROM",
          "LUX",
          "ESP",
          "NZL",
          "NPL",
          "UZB"
         ],
         "name": "",
         "type": "choropleth",
         "z": [
          759,
          635,
          630,
          611,
          443,
          428,
          426,
          280,
          275,
          231,
          191,
          150,
          122,
          86,
          83,
          80,
          63,
          27,
          18,
          16,
          15,
          15,
          13,
          12,
          11,
          11,
          9,
          7,
          7,
          7,
          7,
          6,
          5,
          5,
          2,
          2,
          2,
          2,
          1,
          1,
          1
         ]
        }
       ],
       "layout": {
        "coloraxis": {
         "colorbar": {
          "title": {
           "text": "Number of Medals"
          }
         },
         "colorscale": [
          [
           0,
           "#0d0887"
          ],
          [
           0.1111111111111111,
           "#46039f"
          ],
          [
           0.2222222222222222,
           "#7201a8"
          ],
          [
           0.3333333333333333,
           "#9c179e"
          ],
          [
           0.4444444444444444,
           "#bd3786"
          ],
          [
           0.5555555555555556,
           "#d8576b"
          ],
          [
           0.6666666666666666,
           "#ed7953"
          ],
          [
           0.7777777777777778,
           "#fb9f3a"
          ],
          [
           0.8888888888888888,
           "#fdca26"
          ],
          [
           1,
           "#f0f921"
          ]
         ]
        },
        "font": {
         "color": "RebeccaPurple",
         "family": "Times New Roman",
         "size": 18
        },
        "geo": {
         "center": {},
         "domain": {
          "x": [
           0,
           1
          ],
          "y": [
           0,
           1
          ]
         },
         "projection": {
          "type": "natural earth"
         }
        },
        "legend": {
         "tracegroupgap": 0
        },
        "margin": {
         "t": 60
        },
        "template": {
         "data": {
          "bar": [
           {
            "error_x": {
             "color": "#2a3f5f"
            },
            "error_y": {
             "color": "#2a3f5f"
            },
            "marker": {
             "line": {
              "color": "#E5ECF6",
              "width": 0.5
             },
             "pattern": {
              "fillmode": "overlay",
              "size": 10,
              "solidity": 0.2
             }
            },
            "type": "bar"
           }
          ],
          "barpolar": [
           {
            "marker": {
             "line": {
              "color": "#E5ECF6",
              "width": 0.5
             },
             "pattern": {
              "fillmode": "overlay",
              "size": 10,
              "solidity": 0.2
             }
            },
            "type": "barpolar"
           }
          ],
          "carpet": [
           {
            "aaxis": {
             "endlinecolor": "#2a3f5f",
             "gridcolor": "white",
             "linecolor": "white",
             "minorgridcolor": "white",
             "startlinecolor": "#2a3f5f"
            },
            "baxis": {
             "endlinecolor": "#2a3f5f",
             "gridcolor": "white",
             "linecolor": "white",
             "minorgridcolor": "white",
             "startlinecolor": "#2a3f5f"
            },
            "type": "carpet"
           }
          ],
          "choropleth": [
           {
            "colorbar": {
             "outlinewidth": 0,
             "ticks": ""
            },
            "type": "choropleth"
           }
          ],
          "contour": [
           {
            "colorbar": {
             "outlinewidth": 0,
             "ticks": ""
            },
            "colorscale": [
             [
              0,
              "#0d0887"
             ],
             [
              0.1111111111111111,
              "#46039f"
             ],
             [
              0.2222222222222222,
              "#7201a8"
             ],
             [
              0.3333333333333333,
              "#9c179e"
             ],
             [
              0.4444444444444444,
              "#bd3786"
             ],
             [
              0.5555555555555556,
              "#d8576b"
             ],
             [
              0.6666666666666666,
              "#ed7953"
             ],
             [
              0.7777777777777778,
              "#fb9f3a"
             ],
             [
              0.8888888888888888,
              "#fdca26"
             ],
             [
              1,
              "#f0f921"
             ]
            ],
            "type": "contour"
           }
          ],
          "contourcarpet": [
           {
            "colorbar": {
             "outlinewidth": 0,
             "ticks": ""
            },
            "type": "contourcarpet"
           }
          ],
          "heatmap": [
           {
            "colorbar": {
             "outlinewidth": 0,
             "ticks": ""
            },
            "colorscale": [
             [
              0,
              "#0d0887"
             ],
             [
              0.1111111111111111,
              "#46039f"
             ],
             [
              0.2222222222222222,
              "#7201a8"
             ],
             [
              0.3333333333333333,
              "#9c179e"
             ],
             [
              0.4444444444444444,
              "#bd3786"
             ],
             [
              0.5555555555555556,
              "#d8576b"
             ],
             [
              0.6666666666666666,
              "#ed7953"
             ],
             [
              0.7777777777777778,
              "#fb9f3a"
             ],
             [
              0.8888888888888888,
              "#fdca26"
             ],
             [
              1,
              "#f0f921"
             ]
            ],
            "type": "heatmap"
           }
          ],
          "heatmapgl": [
           {
            "colorbar": {
             "outlinewidth": 0,
             "ticks": ""
            },
            "colorscale": [
             [
              0,
              "#0d0887"
             ],
             [
              0.1111111111111111,
              "#46039f"
             ],
             [
              0.2222222222222222,
              "#7201a8"
             ],
             [
              0.3333333333333333,
              "#9c179e"
             ],
             [
              0.4444444444444444,
              "#bd3786"
             ],
             [
              0.5555555555555556,
              "#d8576b"
             ],
             [
              0.6666666666666666,
              "#ed7953"
             ],
             [
              0.7777777777777778,
              "#fb9f3a"
             ],
             [
              0.8888888888888888,
              "#fdca26"
             ],
             [
              1,
              "#f0f921"
             ]
            ],
            "type": "heatmapgl"
           }
          ],
          "histogram": [
           {
            "marker": {
             "pattern": {
              "fillmode": "overlay",
              "size": 10,
              "solidity": 0.2
             }
            },
            "type": "histogram"
           }
          ],
          "histogram2d": [
           {
            "colorbar": {
             "outlinewidth": 0,
             "ticks": ""
            },
            "colorscale": [
             [
              0,
              "#0d0887"
             ],
             [
              0.1111111111111111,
              "#46039f"
             ],
             [
              0.2222222222222222,
              "#7201a8"
             ],
             [
              0.3333333333333333,
              "#9c179e"
             ],
             [
              0.4444444444444444,
              "#bd3786"
             ],
             [
              0.5555555555555556,
              "#d8576b"
             ],
             [
              0.6666666666666666,
              "#ed7953"
             ],
             [
              0.7777777777777778,
              "#fb9f3a"
             ],
             [
              0.8888888888888888,
              "#fdca26"
             ],
             [
              1,
              "#f0f921"
             ]
            ],
            "type": "histogram2d"
           }
          ],
          "histogram2dcontour": [
           {
            "colorbar": {
             "outlinewidth": 0,
             "ticks": ""
            },
            "colorscale": [
             [
              0,
              "#0d0887"
             ],
             [
              0.1111111111111111,
              "#46039f"
             ],
             [
              0.2222222222222222,
              "#7201a8"
             ],
             [
              0.3333333333333333,
              "#9c179e"
             ],
             [
              0.4444444444444444,
              "#bd3786"
             ],
             [
              0.5555555555555556,
              "#d8576b"
             ],
             [
              0.6666666666666666,
              "#ed7953"
             ],
             [
              0.7777777777777778,
              "#fb9f3a"
             ],
             [
              0.8888888888888888,
              "#fdca26"
             ],
             [
              1,
              "#f0f921"
             ]
            ],
            "type": "histogram2dcontour"
           }
          ],
          "mesh3d": [
           {
            "colorbar": {
             "outlinewidth": 0,
             "ticks": ""
            },
            "type": "mesh3d"
           }
          ],
          "parcoords": [
           {
            "line": {
             "colorbar": {
              "outlinewidth": 0,
              "ticks": ""
             }
            },
            "type": "parcoords"
           }
          ],
          "pie": [
           {
            "automargin": true,
            "type": "pie"
           }
          ],
          "scatter": [
           {
            "fillpattern": {
             "fillmode": "overlay",
             "size": 10,
             "solidity": 0.2
            },
            "type": "scatter"
           }
          ],
          "scatter3d": [
           {
            "line": {
             "colorbar": {
              "outlinewidth": 0,
              "ticks": ""
             }
            },
            "marker": {
             "colorbar": {
              "outlinewidth": 0,
              "ticks": ""
             }
            },
            "type": "scatter3d"
           }
          ],
          "scattercarpet": [
           {
            "marker": {
             "colorbar": {
              "outlinewidth": 0,
              "ticks": ""
             }
            },
            "type": "scattercarpet"
           }
          ],
          "scattergeo": [
           {
            "marker": {
             "colorbar": {
              "outlinewidth": 0,
              "ticks": ""
             }
            },
            "type": "scattergeo"
           }
          ],
          "scattergl": [
           {
            "marker": {
             "colorbar": {
              "outlinewidth": 0,
              "ticks": ""
             }
            },
            "type": "scattergl"
           }
          ],
          "scattermapbox": [
           {
            "marker": {
             "colorbar": {
              "outlinewidth": 0,
              "ticks": ""
             }
            },
            "type": "scattermapbox"
           }
          ],
          "scatterpolar": [
           {
            "marker": {
             "colorbar": {
              "outlinewidth": 0,
              "ticks": ""
             }
            },
            "type": "scatterpolar"
           }
          ],
          "scatterpolargl": [
           {
            "marker": {
             "colorbar": {
              "outlinewidth": 0,
              "ticks": ""
             }
            },
            "type": "scatterpolargl"
           }
          ],
          "scatterternary": [
           {
            "marker": {
             "colorbar": {
              "outlinewidth": 0,
              "ticks": ""
             }
            },
            "type": "scatterternary"
           }
          ],
          "surface": [
           {
            "colorbar": {
             "outlinewidth": 0,
             "ticks": ""
            },
            "colorscale": [
             [
              0,
              "#0d0887"
             ],
             [
              0.1111111111111111,
              "#46039f"
             ],
             [
              0.2222222222222222,
              "#7201a8"
             ],
             [
              0.3333333333333333,
              "#9c179e"
             ],
             [
              0.4444444444444444,
              "#bd3786"
             ],
             [
              0.5555555555555556,
              "#d8576b"
             ],
             [
              0.6666666666666666,
              "#ed7953"
             ],
             [
              0.7777777777777778,
              "#fb9f3a"
             ],
             [
              0.8888888888888888,
              "#fdca26"
             ],
             [
              1,
              "#f0f921"
             ]
            ],
            "type": "surface"
           }
          ],
          "table": [
           {
            "cells": {
             "fill": {
              "color": "#EBF0F8"
             },
             "line": {
              "color": "white"
             }
            },
            "header": {
             "fill": {
              "color": "#C8D4E3"
             },
             "line": {
              "color": "white"
             }
            },
            "type": "table"
           }
          ]
         },
         "layout": {
          "annotationdefaults": {
           "arrowcolor": "#2a3f5f",
           "arrowhead": 0,
           "arrowwidth": 1
          },
          "autotypenumbers": "strict",
          "coloraxis": {
           "colorbar": {
            "outlinewidth": 0,
            "ticks": ""
           }
          },
          "colorscale": {
           "diverging": [
            [
             0,
             "#8e0152"
            ],
            [
             0.1,
             "#c51b7d"
            ],
            [
             0.2,
             "#de77ae"
            ],
            [
             0.3,
             "#f1b6da"
            ],
            [
             0.4,
             "#fde0ef"
            ],
            [
             0.5,
             "#f7f7f7"
            ],
            [
             0.6,
             "#e6f5d0"
            ],
            [
             0.7,
             "#b8e186"
            ],
            [
             0.8,
             "#7fbc41"
            ],
            [
             0.9,
             "#4d9221"
            ],
            [
             1,
             "#276419"
            ]
           ],
           "sequential": [
            [
             0,
             "#0d0887"
            ],
            [
             0.1111111111111111,
             "#46039f"
            ],
            [
             0.2222222222222222,
             "#7201a8"
            ],
            [
             0.3333333333333333,
             "#9c179e"
            ],
            [
             0.4444444444444444,
             "#bd3786"
            ],
            [
             0.5555555555555556,
             "#d8576b"
            ],
            [
             0.6666666666666666,
             "#ed7953"
            ],
            [
             0.7777777777777778,
             "#fb9f3a"
            ],
            [
             0.8888888888888888,
             "#fdca26"
            ],
            [
             1,
             "#f0f921"
            ]
           ],
           "sequentialminus": [
            [
             0,
             "#0d0887"
            ],
            [
             0.1111111111111111,
             "#46039f"
            ],
            [
             0.2222222222222222,
             "#7201a8"
            ],
            [
             0.3333333333333333,
             "#9c179e"
            ],
            [
             0.4444444444444444,
             "#bd3786"
            ],
            [
             0.5555555555555556,
             "#d8576b"
            ],
            [
             0.6666666666666666,
             "#ed7953"
            ],
            [
             0.7777777777777778,
             "#fb9f3a"
            ],
            [
             0.8888888888888888,
             "#fdca26"
            ],
            [
             1,
             "#f0f921"
            ]
           ]
          },
          "colorway": [
           "#636efa",
           "#EF553B",
           "#00cc96",
           "#ab63fa",
           "#FFA15A",
           "#19d3f3",
           "#FF6692",
           "#B6E880",
           "#FF97FF",
           "#FECB52"
          ],
          "font": {
           "color": "#2a3f5f"
          },
          "geo": {
           "bgcolor": "white",
           "lakecolor": "white",
           "landcolor": "#E5ECF6",
           "showlakes": true,
           "showland": true,
           "subunitcolor": "white"
          },
          "hoverlabel": {
           "align": "left"
          },
          "hovermode": "closest",
          "mapbox": {
           "style": "light"
          },
          "paper_bgcolor": "white",
          "plot_bgcolor": "#E5ECF6",
          "polar": {
           "angularaxis": {
            "gridcolor": "white",
            "linecolor": "white",
            "ticks": ""
           },
           "bgcolor": "#E5ECF6",
           "radialaxis": {
            "gridcolor": "white",
            "linecolor": "white",
            "ticks": ""
           }
          },
          "scene": {
           "xaxis": {
            "backgroundcolor": "#E5ECF6",
            "gridcolor": "white",
            "gridwidth": 2,
            "linecolor": "white",
            "showbackground": true,
            "ticks": "",
            "zerolinecolor": "white"
           },
           "yaxis": {
            "backgroundcolor": "#E5ECF6",
            "gridcolor": "white",
            "gridwidth": 2,
            "linecolor": "white",
            "showbackground": true,
            "ticks": "",
            "zerolinecolor": "white"
           },
           "zaxis": {
            "backgroundcolor": "#E5ECF6",
            "gridcolor": "white",
            "gridwidth": 2,
            "linecolor": "white",
            "showbackground": true,
            "ticks": "",
            "zerolinecolor": "white"
           }
          },
          "shapedefaults": {
           "line": {
            "color": "#2a3f5f"
           }
          },
          "ternary": {
           "aaxis": {
            "gridcolor": "white",
            "linecolor": "white",
            "ticks": ""
           },
           "baxis": {
            "gridcolor": "white",
            "linecolor": "white",
            "ticks": ""
           },
           "bgcolor": "#E5ECF6",
           "caxis": {
            "gridcolor": "white",
            "linecolor": "white",
            "ticks": ""
           }
          },
          "title": {
           "x": 0.05
          },
          "xaxis": {
           "automargin": true,
           "gridcolor": "white",
           "linecolor": "white",
           "ticks": "",
           "title": {
            "standoff": 15
           },
           "zerolinecolor": "white",
           "zerolinewidth": 2
          },
          "yaxis": {
           "automargin": true,
           "gridcolor": "white",
           "linecolor": "white",
           "ticks": "",
           "title": {
            "standoff": 15
           },
           "zerolinecolor": "white",
           "zerolinewidth": 2
          }
         }
        }
       }
      },
      "text/html": [
       "<div>                            <div id=\"576b128e-b550-4b94-a108-f9c4240f6599\" class=\"plotly-graph-div\" style=\"height:525px; width:100%;\"></div>            <script type=\"text/javascript\">                require([\"plotly\"], function(Plotly) {                    window.PLOTLYENV=window.PLOTLYENV || {};                                    if (document.getElementById(\"576b128e-b550-4b94-a108-f9c4240f6599\")) {                    Plotly.newPlot(                        \"576b128e-b550-4b94-a108-f9c4240f6599\",                        [{\"coloraxis\":\"coloraxis\",\"geo\":\"geo\",\"hovertemplate\":\"<b>%{hovertext}</b><br><br>iso3=%{location}<br>Number of Medals=%{z}<extra></extra>\",\"hovertext\":[\"Russia\",\"USA\",\"Germany\",\"Canada\",\"Norway\",\"Sweden\",\"Finland\",\"Austria\",\"Switzerland\",\"Czech Republic\",\"Italy\",\"France\",\"Netherlands\",\"South Korea\",\"UK\",\"China\",\"Japan\",\"Poland\",\"Slovenia\",\"Australia\",\"Latvia\",\"Belarus\",\"Belgium\",\"Hungary\",\"Croatia\",\"Ukraine\",\"Liechtenstein\",\"Serbia\",\"Kazakhstan\",\"India\",\"Estonia\",\"Bulgaria\",\"Slovakia\",\"Denmark\",\"North Korea\",\"Romania\",\"Luxembourg\",\"Spain\",\"New Zealand\",\"Nepal\",\"Uzbekistan\"],\"locations\":[\"RUS\",\"USA\",\"DEU\",\"CAN\",\"NOR\",\"SWE\",\"FIN\",\"AUT\",\"CHE\",\"CZE\",\"ITA\",\"FRA\",\"NLD\",\"KOR\",\"GBR\",\"CHN\",\"JPN\",\"POL\",\"SVN\",\"AUS\",\"LVA\",\"BLR\",\"BEL\",\"HUN\",\"HRV\",\"UKR\",\"LIE\",\"SRB\",\"KAZ\",\"IND\",\"EST\",\"BGR\",\"SVK\",\"DNK\",\"PRK\",\"ROM\",\"LUX\",\"ESP\",\"NZL\",\"NPL\",\"UZB\"],\"name\":\"\",\"z\":[759,635,630,611,443,428,426,280,275,231,191,150,122,86,83,80,63,27,18,16,15,15,13,12,11,11,9,7,7,7,7,6,5,5,2,2,2,2,1,1,1],\"type\":\"choropleth\"}],                        {\"template\":{\"data\":{\"histogram2dcontour\":[{\"type\":\"histogram2dcontour\",\"colorbar\":{\"outlinewidth\":0,\"ticks\":\"\"},\"colorscale\":[[0.0,\"#0d0887\"],[0.1111111111111111,\"#46039f\"],[0.2222222222222222,\"#7201a8\"],[0.3333333333333333,\"#9c179e\"],[0.4444444444444444,\"#bd3786\"],[0.5555555555555556,\"#d8576b\"],[0.6666666666666666,\"#ed7953\"],[0.7777777777777778,\"#fb9f3a\"],[0.8888888888888888,\"#fdca26\"],[1.0,\"#f0f921\"]]}],\"choropleth\":[{\"type\":\"choropleth\",\"colorbar\":{\"outlinewidth\":0,\"ticks\":\"\"}}],\"histogram2d\":[{\"type\":\"histogram2d\",\"colorbar\":{\"outlinewidth\":0,\"ticks\":\"\"},\"colorscale\":[[0.0,\"#0d0887\"],[0.1111111111111111,\"#46039f\"],[0.2222222222222222,\"#7201a8\"],[0.3333333333333333,\"#9c179e\"],[0.4444444444444444,\"#bd3786\"],[0.5555555555555556,\"#d8576b\"],[0.6666666666666666,\"#ed7953\"],[0.7777777777777778,\"#fb9f3a\"],[0.8888888888888888,\"#fdca26\"],[1.0,\"#f0f921\"]]}],\"heatmap\":[{\"type\":\"heatmap\",\"colorbar\":{\"outlinewidth\":0,\"ticks\":\"\"},\"colorscale\":[[0.0,\"#0d0887\"],[0.1111111111111111,\"#46039f\"],[0.2222222222222222,\"#7201a8\"],[0.3333333333333333,\"#9c179e\"],[0.4444444444444444,\"#bd3786\"],[0.5555555555555556,\"#d8576b\"],[0.6666666666666666,\"#ed7953\"],[0.7777777777777778,\"#fb9f3a\"],[0.8888888888888888,\"#fdca26\"],[1.0,\"#f0f921\"]]}],\"heatmapgl\":[{\"type\":\"heatmapgl\",\"colorbar\":{\"outlinewidth\":0,\"ticks\":\"\"},\"colorscale\":[[0.0,\"#0d0887\"],[0.1111111111111111,\"#46039f\"],[0.2222222222222222,\"#7201a8\"],[0.3333333333333333,\"#9c179e\"],[0.4444444444444444,\"#bd3786\"],[0.5555555555555556,\"#d8576b\"],[0.6666666666666666,\"#ed7953\"],[0.7777777777777778,\"#fb9f3a\"],[0.8888888888888888,\"#fdca26\"],[1.0,\"#f0f921\"]]}],\"contourcarpet\":[{\"type\":\"contourcarpet\",\"colorbar\":{\"outlinewidth\":0,\"ticks\":\"\"}}],\"contour\":[{\"type\":\"contour\",\"colorbar\":{\"outlinewidth\":0,\"ticks\":\"\"},\"colorscale\":[[0.0,\"#0d0887\"],[0.1111111111111111,\"#46039f\"],[0.2222222222222222,\"#7201a8\"],[0.3333333333333333,\"#9c179e\"],[0.4444444444444444,\"#bd3786\"],[0.5555555555555556,\"#d8576b\"],[0.6666666666666666,\"#ed7953\"],[0.7777777777777778,\"#fb9f3a\"],[0.8888888888888888,\"#fdca26\"],[1.0,\"#f0f921\"]]}],\"surface\":[{\"type\":\"surface\",\"colorbar\":{\"outlinewidth\":0,\"ticks\":\"\"},\"colorscale\":[[0.0,\"#0d0887\"],[0.1111111111111111,\"#46039f\"],[0.2222222222222222,\"#7201a8\"],[0.3333333333333333,\"#9c179e\"],[0.4444444444444444,\"#bd3786\"],[0.5555555555555556,\"#d8576b\"],[0.6666666666666666,\"#ed7953\"],[0.7777777777777778,\"#fb9f3a\"],[0.8888888888888888,\"#fdca26\"],[1.0,\"#f0f921\"]]}],\"mesh3d\":[{\"type\":\"mesh3d\",\"colorbar\":{\"outlinewidth\":0,\"ticks\":\"\"}}],\"scatter\":[{\"fillpattern\":{\"fillmode\":\"overlay\",\"size\":10,\"solidity\":0.2},\"type\":\"scatter\"}],\"parcoords\":[{\"type\":\"parcoords\",\"line\":{\"colorbar\":{\"outlinewidth\":0,\"ticks\":\"\"}}}],\"scatterpolargl\":[{\"type\":\"scatterpolargl\",\"marker\":{\"colorbar\":{\"outlinewidth\":0,\"ticks\":\"\"}}}],\"bar\":[{\"error_x\":{\"color\":\"#2a3f5f\"},\"error_y\":{\"color\":\"#2a3f5f\"},\"marker\":{\"line\":{\"color\":\"#E5ECF6\",\"width\":0.5},\"pattern\":{\"fillmode\":\"overlay\",\"size\":10,\"solidity\":0.2}},\"type\":\"bar\"}],\"scattergeo\":[{\"type\":\"scattergeo\",\"marker\":{\"colorbar\":{\"outlinewidth\":0,\"ticks\":\"\"}}}],\"scatterpolar\":[{\"type\":\"scatterpolar\",\"marker\":{\"colorbar\":{\"outlinewidth\":0,\"ticks\":\"\"}}}],\"histogram\":[{\"marker\":{\"pattern\":{\"fillmode\":\"overlay\",\"size\":10,\"solidity\":0.2}},\"type\":\"histogram\"}],\"scattergl\":[{\"type\":\"scattergl\",\"marker\":{\"colorbar\":{\"outlinewidth\":0,\"ticks\":\"\"}}}],\"scatter3d\":[{\"type\":\"scatter3d\",\"line\":{\"colorbar\":{\"outlinewidth\":0,\"ticks\":\"\"}},\"marker\":{\"colorbar\":{\"outlinewidth\":0,\"ticks\":\"\"}}}],\"scattermapbox\":[{\"type\":\"scattermapbox\",\"marker\":{\"colorbar\":{\"outlinewidth\":0,\"ticks\":\"\"}}}],\"scatterternary\":[{\"type\":\"scatterternary\",\"marker\":{\"colorbar\":{\"outlinewidth\":0,\"ticks\":\"\"}}}],\"scattercarpet\":[{\"type\":\"scattercarpet\",\"marker\":{\"colorbar\":{\"outlinewidth\":0,\"ticks\":\"\"}}}],\"carpet\":[{\"aaxis\":{\"endlinecolor\":\"#2a3f5f\",\"gridcolor\":\"white\",\"linecolor\":\"white\",\"minorgridcolor\":\"white\",\"startlinecolor\":\"#2a3f5f\"},\"baxis\":{\"endlinecolor\":\"#2a3f5f\",\"gridcolor\":\"white\",\"linecolor\":\"white\",\"minorgridcolor\":\"white\",\"startlinecolor\":\"#2a3f5f\"},\"type\":\"carpet\"}],\"table\":[{\"cells\":{\"fill\":{\"color\":\"#EBF0F8\"},\"line\":{\"color\":\"white\"}},\"header\":{\"fill\":{\"color\":\"#C8D4E3\"},\"line\":{\"color\":\"white\"}},\"type\":\"table\"}],\"barpolar\":[{\"marker\":{\"line\":{\"color\":\"#E5ECF6\",\"width\":0.5},\"pattern\":{\"fillmode\":\"overlay\",\"size\":10,\"solidity\":0.2}},\"type\":\"barpolar\"}],\"pie\":[{\"automargin\":true,\"type\":\"pie\"}]},\"layout\":{\"autotypenumbers\":\"strict\",\"colorway\":[\"#636efa\",\"#EF553B\",\"#00cc96\",\"#ab63fa\",\"#FFA15A\",\"#19d3f3\",\"#FF6692\",\"#B6E880\",\"#FF97FF\",\"#FECB52\"],\"font\":{\"color\":\"#2a3f5f\"},\"hovermode\":\"closest\",\"hoverlabel\":{\"align\":\"left\"},\"paper_bgcolor\":\"white\",\"plot_bgcolor\":\"#E5ECF6\",\"polar\":{\"bgcolor\":\"#E5ECF6\",\"angularaxis\":{\"gridcolor\":\"white\",\"linecolor\":\"white\",\"ticks\":\"\"},\"radialaxis\":{\"gridcolor\":\"white\",\"linecolor\":\"white\",\"ticks\":\"\"}},\"ternary\":{\"bgcolor\":\"#E5ECF6\",\"aaxis\":{\"gridcolor\":\"white\",\"linecolor\":\"white\",\"ticks\":\"\"},\"baxis\":{\"gridcolor\":\"white\",\"linecolor\":\"white\",\"ticks\":\"\"},\"caxis\":{\"gridcolor\":\"white\",\"linecolor\":\"white\",\"ticks\":\"\"}},\"coloraxis\":{\"colorbar\":{\"outlinewidth\":0,\"ticks\":\"\"}},\"colorscale\":{\"sequential\":[[0.0,\"#0d0887\"],[0.1111111111111111,\"#46039f\"],[0.2222222222222222,\"#7201a8\"],[0.3333333333333333,\"#9c179e\"],[0.4444444444444444,\"#bd3786\"],[0.5555555555555556,\"#d8576b\"],[0.6666666666666666,\"#ed7953\"],[0.7777777777777778,\"#fb9f3a\"],[0.8888888888888888,\"#fdca26\"],[1.0,\"#f0f921\"]],\"sequentialminus\":[[0.0,\"#0d0887\"],[0.1111111111111111,\"#46039f\"],[0.2222222222222222,\"#7201a8\"],[0.3333333333333333,\"#9c179e\"],[0.4444444444444444,\"#bd3786\"],[0.5555555555555556,\"#d8576b\"],[0.6666666666666666,\"#ed7953\"],[0.7777777777777778,\"#fb9f3a\"],[0.8888888888888888,\"#fdca26\"],[1.0,\"#f0f921\"]],\"diverging\":[[0,\"#8e0152\"],[0.1,\"#c51b7d\"],[0.2,\"#de77ae\"],[0.3,\"#f1b6da\"],[0.4,\"#fde0ef\"],[0.5,\"#f7f7f7\"],[0.6,\"#e6f5d0\"],[0.7,\"#b8e186\"],[0.8,\"#7fbc41\"],[0.9,\"#4d9221\"],[1,\"#276419\"]]},\"xaxis\":{\"gridcolor\":\"white\",\"linecolor\":\"white\",\"ticks\":\"\",\"title\":{\"standoff\":15},\"zerolinecolor\":\"white\",\"automargin\":true,\"zerolinewidth\":2},\"yaxis\":{\"gridcolor\":\"white\",\"linecolor\":\"white\",\"ticks\":\"\",\"title\":{\"standoff\":15},\"zerolinecolor\":\"white\",\"automargin\":true,\"zerolinewidth\":2},\"scene\":{\"xaxis\":{\"backgroundcolor\":\"#E5ECF6\",\"gridcolor\":\"white\",\"linecolor\":\"white\",\"showbackground\":true,\"ticks\":\"\",\"zerolinecolor\":\"white\",\"gridwidth\":2},\"yaxis\":{\"backgroundcolor\":\"#E5ECF6\",\"gridcolor\":\"white\",\"linecolor\":\"white\",\"showbackground\":true,\"ticks\":\"\",\"zerolinecolor\":\"white\",\"gridwidth\":2},\"zaxis\":{\"backgroundcolor\":\"#E5ECF6\",\"gridcolor\":\"white\",\"linecolor\":\"white\",\"showbackground\":true,\"ticks\":\"\",\"zerolinecolor\":\"white\",\"gridwidth\":2}},\"shapedefaults\":{\"line\":{\"color\":\"#2a3f5f\"}},\"annotationdefaults\":{\"arrowcolor\":\"#2a3f5f\",\"arrowhead\":0,\"arrowwidth\":1},\"geo\":{\"bgcolor\":\"white\",\"landcolor\":\"#E5ECF6\",\"subunitcolor\":\"white\",\"showland\":true,\"showlakes\":true,\"lakecolor\":\"white\"},\"title\":{\"x\":0.05},\"mapbox\":{\"style\":\"light\"}}},\"geo\":{\"domain\":{\"x\":[0.0,1.0],\"y\":[0.0,1.0]},\"projection\":{\"type\":\"natural earth\"},\"center\":{}},\"coloraxis\":{\"colorbar\":{\"title\":{\"text\":\"Number of Medals\"}},\"colorscale\":[[0.0,\"#0d0887\"],[0.1111111111111111,\"#46039f\"],[0.2222222222222222,\"#7201a8\"],[0.3333333333333333,\"#9c179e\"],[0.4444444444444444,\"#bd3786\"],[0.5555555555555556,\"#d8576b\"],[0.6666666666666666,\"#ed7953\"],[0.7777777777777778,\"#fb9f3a\"],[0.8888888888888888,\"#fdca26\"],[1.0,\"#f0f921\"]]},\"legend\":{\"tracegroupgap\":0},\"margin\":{\"t\":60},\"font\":{\"family\":\"Times New Roman\",\"size\":18,\"color\":\"RebeccaPurple\"}},                        {\"responsive\": true}                    ).then(function(){\n",
       "                            \n",
       "var gd = document.getElementById('576b128e-b550-4b94-a108-f9c4240f6599');\n",
       "var x = new MutationObserver(function (mutations, observer) {{\n",
       "        var display = window.getComputedStyle(gd).display;\n",
       "        if (!display || display === 'none') {{\n",
       "            console.log([gd, 'removed!']);\n",
       "            Plotly.purge(gd);\n",
       "            observer.disconnect();\n",
       "        }}\n",
       "}});\n",
       "\n",
       "// Listen for the removal of the full notebook cells\n",
       "var notebookContainer = gd.closest('#notebook-container');\n",
       "if (notebookContainer) {{\n",
       "    x.observe(notebookContainer, {childList: true});\n",
       "}}\n",
       "\n",
       "// Listen for the clearing of the current output cell\n",
       "var outputEl = gd.closest('.output');\n",
       "if (outputEl) {{\n",
       "    x.observe(outputEl, {childList: true});\n",
       "}}\n",
       "\n",
       "                        })                };                });            </script>        </div>"
      ]
     },
     "metadata": {},
     "output_type": "display_data"
    }
   ],
   "source": [
    "# plot the Winter map\n",
    "fig = px.choropleth(data_frame=country_medals_ever_winter, \n",
    "    locations=\"iso3\", \n",
    "    projection='natural earth',    # 'orthographic',\n",
    "    color=\"number_of_medals\", # lifeExp is a column of gapminder\n",
    "    hover_name=\"country\", # column to add to hover information\n",
    "    color_continuous_scale=px.colors.sequential.Plasma, #Blues\n",
    "    labels={'number_of_medals': 'Number of Medals'}\n",
    ")\n",
    "\n",
    "fig.update_layout(\n",
    "    font=dict(\n",
    "        family='Times New Roman',   #\"Courier New, monospace\",\n",
    "        size=18,\n",
    "        color=\"RebeccaPurple\"))\n",
    "\n",
    "\"\"\"\n",
    "fig.update_layout(\n",
    "    title={\n",
    "        'text': 'Medals for National Teams ever for Summer Olympic Games',\n",
    "        'y':0.95,\n",
    "        'x':0.45,\n",
    "        'xanchor': 'center',\n",
    "        'yanchor': 'top'},\n",
    "    font=dict(\n",
    "        family='Times New Roman',   #\"Courier New, monospace\",\n",
    "        size=18,\n",
    "        color=\"RebeccaPurple\"))\n",
    "\"\"\"\n",
    "\n",
    "fig.write_html('../images/country_medals_ever_winter.html', include_plotlyjs='cdn') # \"content delivery network\"\n",
    "#fig.write_image('../images/country_medals_ever_winter.png')\n",
    "pio.write_image(fig, '../images/country_medals_ever_winter.png',scale=6, width=1024, height=540)\n",
    "fig.show()"
   ]
  },
  {
   "cell_type": "code",
   "execution_count": null,
   "id": "dd22eaf5",
   "metadata": {},
   "outputs": [],
   "source": []
  },
  {
   "cell_type": "markdown",
   "id": "bf12ec78",
   "metadata": {},
   "source": [
    "**List of countries with 1 olympic medal ever:**"
   ]
  },
  {
   "cell_type": "code",
   "execution_count": 25,
   "id": "389b058b",
   "metadata": {},
   "outputs": [
    {
     "name": "stderr",
     "output_type": "stream",
     "text": [
      "C:\\Users\\anast\\AppData\\Local\\Temp\\ipykernel_32148\\1671530213.py:7: SettingWithCopyWarning:\n",
      "\n",
      "\n",
      "A value is trying to be set on a copy of a slice from a DataFrame\n",
      "\n",
      "See the caveats in the documentation: https://pandas.pydata.org/pandas-docs/stable/user_guide/indexing.html#returning-a-view-versus-a-copy\n",
      "\n"
     ]
    },
    {
     "data": {
      "text/html": [
       "<div>\n",
       "<style scoped>\n",
       "    .dataframe tbody tr th:only-of-type {\n",
       "        vertical-align: middle;\n",
       "    }\n",
       "\n",
       "    .dataframe tbody tr th {\n",
       "        vertical-align: top;\n",
       "    }\n",
       "\n",
       "    .dataframe thead th {\n",
       "        text-align: right;\n",
       "    }\n",
       "</style>\n",
       "<table border=\"1\" class=\"dataframe\">\n",
       "  <thead>\n",
       "    <tr style=\"text-align: right;\">\n",
       "      <th></th>\n",
       "      <th>country</th>\n",
       "      <th>season</th>\n",
       "      <th>year</th>\n",
       "      <th>city</th>\n",
       "      <th>medal</th>\n",
       "      <th>sport</th>\n",
       "      <th>event</th>\n",
       "      <th>name</th>\n",
       "      <th>sex</th>\n",
       "      <th>age</th>\n",
       "    </tr>\n",
       "  </thead>\n",
       "  <tbody>\n",
       "    <tr>\n",
       "      <th>241687</th>\n",
       "      <td>Nepal</td>\n",
       "      <td>Winter</td>\n",
       "      <td>1924</td>\n",
       "      <td>Chamonix</td>\n",
       "      <td>Gold</td>\n",
       "      <td>Alpinism</td>\n",
       "      <td>Alpinism Mixed Alpinism</td>\n",
       "      <td>Tejbir Bura</td>\n",
       "      <td>M</td>\n",
       "      <td>NaN</td>\n",
       "    </tr>\n",
       "    <tr>\n",
       "      <th>226005</th>\n",
       "      <td>Turkmenistan</td>\n",
       "      <td>Summer</td>\n",
       "      <td>2020</td>\n",
       "      <td>Tokyo</td>\n",
       "      <td>Silver</td>\n",
       "      <td>Weightlifting</td>\n",
       "      <td>Women's 59kg</td>\n",
       "      <td>GURYEVA Polina</td>\n",
       "      <td>F</td>\n",
       "      <td>21.0</td>\n",
       "    </tr>\n",
       "    <tr>\n",
       "      <th>236091</th>\n",
       "      <td>Burkina Faso</td>\n",
       "      <td>Summer</td>\n",
       "      <td>2020</td>\n",
       "      <td>Tokyo</td>\n",
       "      <td>Bronze</td>\n",
       "      <td>Athletics</td>\n",
       "      <td>Men's Triple Jump</td>\n",
       "      <td>ZANGO Hugues Fabrice</td>\n",
       "      <td>M</td>\n",
       "      <td>28.0</td>\n",
       "    </tr>\n",
       "    <tr>\n",
       "      <th>12825</th>\n",
       "      <td>Guatemala</td>\n",
       "      <td>Summer</td>\n",
       "      <td>2012</td>\n",
       "      <td>London</td>\n",
       "      <td>Silver</td>\n",
       "      <td>Athletics</td>\n",
       "      <td>Athletics Men's 20 kilometres Walk</td>\n",
       "      <td>Erick Bernab Barrondo Garca</td>\n",
       "      <td>M</td>\n",
       "      <td>21.0</td>\n",
       "    </tr>\n",
       "    <tr>\n",
       "      <th>101257</th>\n",
       "      <td>Cyprus</td>\n",
       "      <td>Summer</td>\n",
       "      <td>2012</td>\n",
       "      <td>London</td>\n",
       "      <td>Silver</td>\n",
       "      <td>Sailing</td>\n",
       "      <td>Sailing Men's One Person Dinghy</td>\n",
       "      <td>Pavlos Kontides</td>\n",
       "      <td>M</td>\n",
       "      <td>22.0</td>\n",
       "    </tr>\n",
       "    <tr>\n",
       "      <th>142761</th>\n",
       "      <td>Gabon</td>\n",
       "      <td>Summer</td>\n",
       "      <td>2012</td>\n",
       "      <td>London</td>\n",
       "      <td>Silver</td>\n",
       "      <td>Taekwondo</td>\n",
       "      <td>Taekwondo Men's Heavyweight</td>\n",
       "      <td>Anthony Obame Mylann</td>\n",
       "      <td>M</td>\n",
       "      <td>23.0</td>\n",
       "    </tr>\n",
       "    <tr>\n",
       "      <th>85300</th>\n",
       "      <td>Sudan</td>\n",
       "      <td>Summer</td>\n",
       "      <td>2008</td>\n",
       "      <td>Beijing</td>\n",
       "      <td>Silver</td>\n",
       "      <td>Athletics</td>\n",
       "      <td>Athletics Men's 800 metres</td>\n",
       "      <td>Ismail Ahmed Ismail</td>\n",
       "      <td>M</td>\n",
       "      <td>23.0</td>\n",
       "    </tr>\n",
       "    <tr>\n",
       "      <th>22375</th>\n",
       "      <td>Togo</td>\n",
       "      <td>Summer</td>\n",
       "      <td>2008</td>\n",
       "      <td>Beijing</td>\n",
       "      <td>Bronze</td>\n",
       "      <td>Canoeing</td>\n",
       "      <td>Canoeing Men's Kayak Singles, Slalom</td>\n",
       "      <td>Benjamin Kudjow Thomas Boukpeti</td>\n",
       "      <td>M</td>\n",
       "      <td>27.0</td>\n",
       "    </tr>\n",
       "    <tr>\n",
       "      <th>91156</th>\n",
       "      <td>Mauritius</td>\n",
       "      <td>Summer</td>\n",
       "      <td>2008</td>\n",
       "      <td>Beijing</td>\n",
       "      <td>Bronze</td>\n",
       "      <td>Boxing</td>\n",
       "      <td>Boxing Men's Bantamweight</td>\n",
       "      <td>Louis Richard Bruno Julie</td>\n",
       "      <td>M</td>\n",
       "      <td>30.0</td>\n",
       "    </tr>\n",
       "    <tr>\n",
       "      <th>191457</th>\n",
       "      <td>Eritrea</td>\n",
       "      <td>Summer</td>\n",
       "      <td>2004</td>\n",
       "      <td>Athina</td>\n",
       "      <td>Bronze</td>\n",
       "      <td>Athletics</td>\n",
       "      <td>Athletics Men's 10,000 metres</td>\n",
       "      <td>Zersenay Tadesse Habtesilase</td>\n",
       "      <td>M</td>\n",
       "      <td>22.0</td>\n",
       "    </tr>\n",
       "    <tr>\n",
       "      <th>195118</th>\n",
       "      <td>Barbados</td>\n",
       "      <td>Summer</td>\n",
       "      <td>2000</td>\n",
       "      <td>Sydney</td>\n",
       "      <td>Bronze</td>\n",
       "      <td>Athletics</td>\n",
       "      <td>Athletics Men's 100 metres</td>\n",
       "      <td>Obadele Olutosin Thompson</td>\n",
       "      <td>M</td>\n",
       "      <td>24.0</td>\n",
       "    </tr>\n",
       "    <tr>\n",
       "      <th>214260</th>\n",
       "      <td>Tonga</td>\n",
       "      <td>Summer</td>\n",
       "      <td>1996</td>\n",
       "      <td>Atlanta</td>\n",
       "      <td>Silver</td>\n",
       "      <td>Boxing</td>\n",
       "      <td>Boxing Men's Super-Heavyweight</td>\n",
       "      <td>Paea Wolfgramm</td>\n",
       "      <td>M</td>\n",
       "      <td>26.0</td>\n",
       "    </tr>\n",
       "    <tr>\n",
       "      <th>20028</th>\n",
       "      <td>Curacao</td>\n",
       "      <td>Summer</td>\n",
       "      <td>1988</td>\n",
       "      <td>Seoul</td>\n",
       "      <td>Silver</td>\n",
       "      <td>Sailing</td>\n",
       "      <td>Sailing Mixed Windsurfer</td>\n",
       "      <td>Jan D. Boersma</td>\n",
       "      <td>M</td>\n",
       "      <td>19.0</td>\n",
       "    </tr>\n",
       "    <tr>\n",
       "      <th>45815</th>\n",
       "      <td>Senegal</td>\n",
       "      <td>Summer</td>\n",
       "      <td>1988</td>\n",
       "      <td>Seoul</td>\n",
       "      <td>Silver</td>\n",
       "      <td>Athletics</td>\n",
       "      <td>Athletics Men's 400 metres Hurdles</td>\n",
       "      <td>El Hadji Amadou Dia B</td>\n",
       "      <td>M</td>\n",
       "      <td>29.0</td>\n",
       "    </tr>\n",
       "    <tr>\n",
       "      <th>80350</th>\n",
       "      <td>Virgin Islands, US</td>\n",
       "      <td>Summer</td>\n",
       "      <td>1988</td>\n",
       "      <td>Seoul</td>\n",
       "      <td>Silver</td>\n",
       "      <td>Sailing</td>\n",
       "      <td>Sailing Mixed One Person Dinghy</td>\n",
       "      <td>Peter William Holmberg</td>\n",
       "      <td>M</td>\n",
       "      <td>27.0</td>\n",
       "    </tr>\n",
       "    <tr>\n",
       "      <th>170355</th>\n",
       "      <td>Djibouti</td>\n",
       "      <td>Summer</td>\n",
       "      <td>1988</td>\n",
       "      <td>Seoul</td>\n",
       "      <td>Bronze</td>\n",
       "      <td>Athletics</td>\n",
       "      <td>Athletics Men's Marathon</td>\n",
       "      <td>Ahmed Salah Houssein</td>\n",
       "      <td>M</td>\n",
       "      <td>31.0</td>\n",
       "    </tr>\n",
       "    <tr>\n",
       "      <th>7029</th>\n",
       "      <td>Guyana</td>\n",
       "      <td>Summer</td>\n",
       "      <td>1980</td>\n",
       "      <td>Moskva</td>\n",
       "      <td>Bronze</td>\n",
       "      <td>Boxing</td>\n",
       "      <td>Boxing Men's Bantamweight</td>\n",
       "      <td>Michael Anthony Parris</td>\n",
       "      <td>M</td>\n",
       "      <td>22.0</td>\n",
       "    </tr>\n",
       "    <tr>\n",
       "      <th>9909</th>\n",
       "      <td>Iraq</td>\n",
       "      <td>Summer</td>\n",
       "      <td>1960</td>\n",
       "      <td>Roma</td>\n",
       "      <td>Bronze</td>\n",
       "      <td>Weightlifting</td>\n",
       "      <td>Weightlifting Men's Lightweight</td>\n",
       "      <td>Abdul Wahid Aziz</td>\n",
       "      <td>M</td>\n",
       "      <td>NaN</td>\n",
       "    </tr>\n",
       "    <tr>\n",
       "      <th>126865</th>\n",
       "      <td>Monaco</td>\n",
       "      <td>Summer</td>\n",
       "      <td>1924</td>\n",
       "      <td>Paris</td>\n",
       "      <td>Bronze</td>\n",
       "      <td>Art Competitions</td>\n",
       "      <td>Art Competitions Mixed Architecture</td>\n",
       "      <td>Julien Joseph Sylvio Mdcin</td>\n",
       "      <td>M</td>\n",
       "      <td>29.0</td>\n",
       "    </tr>\n",
       "  </tbody>\n",
       "</table>\n",
       "</div>"
      ],
      "text/plain": [
       "                   country  season  year      city   medal             sport  \\\n",
       "241687               Nepal  Winter  1924  Chamonix    Gold          Alpinism   \n",
       "226005        Turkmenistan  Summer  2020     Tokyo  Silver     Weightlifting   \n",
       "236091        Burkina Faso  Summer  2020     Tokyo  Bronze         Athletics   \n",
       "12825            Guatemala  Summer  2012    London  Silver         Athletics   \n",
       "101257              Cyprus  Summer  2012    London  Silver           Sailing   \n",
       "142761               Gabon  Summer  2012    London  Silver         Taekwondo   \n",
       "85300                Sudan  Summer  2008   Beijing  Silver         Athletics   \n",
       "22375                 Togo  Summer  2008   Beijing  Bronze          Canoeing   \n",
       "91156            Mauritius  Summer  2008   Beijing  Bronze            Boxing   \n",
       "191457             Eritrea  Summer  2004    Athina  Bronze         Athletics   \n",
       "195118            Barbados  Summer  2000    Sydney  Bronze         Athletics   \n",
       "214260               Tonga  Summer  1996   Atlanta  Silver            Boxing   \n",
       "20028              Curacao  Summer  1988     Seoul  Silver           Sailing   \n",
       "45815              Senegal  Summer  1988     Seoul  Silver         Athletics   \n",
       "80350   Virgin Islands, US  Summer  1988     Seoul  Silver           Sailing   \n",
       "170355            Djibouti  Summer  1988     Seoul  Bronze         Athletics   \n",
       "7029                Guyana  Summer  1980    Moskva  Bronze            Boxing   \n",
       "9909                  Iraq  Summer  1960      Roma  Bronze     Weightlifting   \n",
       "126865              Monaco  Summer  1924     Paris  Bronze  Art Competitions   \n",
       "\n",
       "                                       event                             name  \\\n",
       "241687               Alpinism Mixed Alpinism                      Tejbir Bura   \n",
       "226005                          Women's 59kg                   GURYEVA Polina   \n",
       "236091                     Men's Triple Jump             ZANGO Hugues Fabrice   \n",
       "12825     Athletics Men's 20 kilometres Walk      Erick Bernab Barrondo Garca   \n",
       "101257       Sailing Men's One Person Dinghy                  Pavlos Kontides   \n",
       "142761           Taekwondo Men's Heavyweight             Anthony Obame Mylann   \n",
       "85300             Athletics Men's 800 metres              Ismail Ahmed Ismail   \n",
       "22375   Canoeing Men's Kayak Singles, Slalom  Benjamin Kudjow Thomas Boukpeti   \n",
       "91156              Boxing Men's Bantamweight        Louis Richard Bruno Julie   \n",
       "191457         Athletics Men's 10,000 metres     Zersenay Tadesse Habtesilase   \n",
       "195118            Athletics Men's 100 metres        Obadele Olutosin Thompson   \n",
       "214260        Boxing Men's Super-Heavyweight                   Paea Wolfgramm   \n",
       "20028               Sailing Mixed Windsurfer                   Jan D. Boersma   \n",
       "45815     Athletics Men's 400 metres Hurdles            El Hadji Amadou Dia B   \n",
       "80350        Sailing Mixed One Person Dinghy           Peter William Holmberg   \n",
       "170355              Athletics Men's Marathon             Ahmed Salah Houssein   \n",
       "7029               Boxing Men's Bantamweight           Michael Anthony Parris   \n",
       "9909         Weightlifting Men's Lightweight                 Abdul Wahid Aziz   \n",
       "126865   Art Competitions Mixed Architecture       Julien Joseph Sylvio Mdcin   \n",
       "\n",
       "       sex   age  \n",
       "241687   M   NaN  \n",
       "226005   F  21.0  \n",
       "236091   M  28.0  \n",
       "12825    M  21.0  \n",
       "101257   M  22.0  \n",
       "142761   M  23.0  \n",
       "85300    M  23.0  \n",
       "22375    M  27.0  \n",
       "91156    M  30.0  \n",
       "191457   M  22.0  \n",
       "195118   M  24.0  \n",
       "214260   M  26.0  \n",
       "20028    M  19.0  \n",
       "45815    M  29.0  \n",
       "80350    M  27.0  \n",
       "170355   M  31.0  \n",
       "7029     M  22.0  \n",
       "9909     M   NaN  \n",
       "126865   M  29.0  "
      ]
     },
     "execution_count": 25,
     "metadata": {},
     "output_type": "execute_result"
    }
   ],
   "source": [
    "# getting list of countries with 1 medal ever\n",
    "mask = country_medals_ever['number_of_medals']==1\n",
    "\n",
    "single_medal_list = country_medals_ever[mask]['country'] # len(single_medal_list) = 19 countries\n",
    "\n",
    "olympisc_single_medal = olympics[(olympics['country'].isin(single_medal_list)) & ~(olympics['medal'].isnull())]\n",
    "olympisc_single_medal.sort_values(by=['season', 'year', 'medal'], ascending=False, inplace=True)\n",
    "\n",
    "olympisc_single_medal[[ 'country', 'season', 'year', 'city', 'medal', 'sport', 'event', 'name', 'sex', 'age']]"
   ]
  },
  {
   "cell_type": "code",
   "execution_count": 26,
   "id": "a31f37b6",
   "metadata": {},
   "outputs": [],
   "source": [
    "# save as file\n",
    "olympics.to_csv(path_or_buf='../olympics/olympics_upd.csv', index=False,\n",
    "                sep=',', na_rep='', header=True, mode='w', encoding='utf-8', decimal='.')"
   ]
  },
  {
   "cell_type": "code",
   "execution_count": 27,
   "id": "f76cf23d",
   "metadata": {},
   "outputs": [
    {
     "data": {
      "text/html": [
       "<div>\n",
       "<style scoped>\n",
       "    .dataframe tbody tr th:only-of-type {\n",
       "        vertical-align: middle;\n",
       "    }\n",
       "\n",
       "    .dataframe tbody tr th {\n",
       "        vertical-align: top;\n",
       "    }\n",
       "\n",
       "    .dataframe thead th {\n",
       "        text-align: right;\n",
       "    }\n",
       "</style>\n",
       "<table border=\"1\" class=\"dataframe\">\n",
       "  <thead>\n",
       "    <tr style=\"text-align: right;\">\n",
       "      <th></th>\n",
       "      <th>country</th>\n",
       "      <th>year</th>\n",
       "      <th>season</th>\n",
       "      <th>number_of_medals</th>\n",
       "    </tr>\n",
       "  </thead>\n",
       "  <tbody>\n",
       "    <tr>\n",
       "      <th>1270</th>\n",
       "      <td>Russia</td>\n",
       "      <td>1980</td>\n",
       "      <td>Summer</td>\n",
       "      <td>442</td>\n",
       "    </tr>\n",
       "    <tr>\n",
       "      <th>1632</th>\n",
       "      <td>USA</td>\n",
       "      <td>1904</td>\n",
       "      <td>Summer</td>\n",
       "      <td>394</td>\n",
       "    </tr>\n",
       "    <tr>\n",
       "      <th>1589</th>\n",
       "      <td>UK</td>\n",
       "      <td>1908</td>\n",
       "      <td>Summer</td>\n",
       "      <td>368</td>\n",
       "    </tr>\n",
       "    <tr>\n",
       "      <th>1662</th>\n",
       "      <td>USA</td>\n",
       "      <td>1984</td>\n",
       "      <td>Summer</td>\n",
       "      <td>352</td>\n",
       "    </tr>\n",
       "    <tr>\n",
       "      <th>1675</th>\n",
       "      <td>USA</td>\n",
       "      <td>2008</td>\n",
       "      <td>Summer</td>\n",
       "      <td>317</td>\n",
       "    </tr>\n",
       "    <tr>\n",
       "      <th>...</th>\n",
       "      <td>...</td>\n",
       "      <td>...</td>\n",
       "      <td>...</td>\n",
       "      <td>...</td>\n",
       "    </tr>\n",
       "    <tr>\n",
       "      <th>1394</th>\n",
       "      <td>Spain</td>\n",
       "      <td>1972</td>\n",
       "      <td>Summer</td>\n",
       "      <td>1</td>\n",
       "    </tr>\n",
       "    <tr>\n",
       "      <th>1392</th>\n",
       "      <td>Spain</td>\n",
       "      <td>1952</td>\n",
       "      <td>Summer</td>\n",
       "      <td>1</td>\n",
       "    </tr>\n",
       "    <tr>\n",
       "      <th>1390</th>\n",
       "      <td>Spain</td>\n",
       "      <td>1932</td>\n",
       "      <td>Summer</td>\n",
       "      <td>1</td>\n",
       "    </tr>\n",
       "    <tr>\n",
       "      <th>721</th>\n",
       "      <td>India</td>\n",
       "      <td>1996</td>\n",
       "      <td>Summer</td>\n",
       "      <td>1</td>\n",
       "    </tr>\n",
       "    <tr>\n",
       "      <th>0</th>\n",
       "      <td>Afghanistan</td>\n",
       "      <td>2008</td>\n",
       "      <td>Summer</td>\n",
       "      <td>1</td>\n",
       "    </tr>\n",
       "  </tbody>\n",
       "</table>\n",
       "<p>1736 rows × 4 columns</p>\n",
       "</div>"
      ],
      "text/plain": [
       "          country  year  season  number_of_medals\n",
       "1270       Russia  1980  Summer               442\n",
       "1632          USA  1904  Summer               394\n",
       "1589           UK  1908  Summer               368\n",
       "1662          USA  1984  Summer               352\n",
       "1675          USA  2008  Summer               317\n",
       "...           ...   ...     ...               ...\n",
       "1394        Spain  1972  Summer                 1\n",
       "1392        Spain  1952  Summer                 1\n",
       "1390        Spain  1932  Summer                 1\n",
       "721         India  1996  Summer                 1\n",
       "0     Afghanistan  2008  Summer                 1\n",
       "\n",
       "[1736 rows x 4 columns]"
      ]
     },
     "execution_count": 27,
     "metadata": {},
     "output_type": "execute_result"
    }
   ],
   "source": [
    "# National Olympic Committees with maximum number of all medals ever (all years):\n",
    "country_medals_ever_by_season = country_medals_tmp.groupby(by=['country', 'year', 'season'])[['games']].count()\n",
    "country_medals_ever_by_season.reset_index(inplace=True)\n",
    "country_medals_ever_by_season.rename(columns={'games': 'number_of_medals'}, inplace=True)\n",
    "country_medals_ever_by_season.sort_values(by='number_of_medals', ascending=False, inplace=True)\n",
    "country_medals_ever_by_season"
   ]
  },
  {
   "cell_type": "code",
   "execution_count": null,
   "id": "c5e51077",
   "metadata": {},
   "outputs": [],
   "source": []
  },
  {
   "cell_type": "code",
   "execution_count": null,
   "id": "2bb4efca",
   "metadata": {},
   "outputs": [],
   "source": []
  },
  {
   "cell_type": "code",
   "execution_count": null,
   "id": "dd6e0ee5",
   "metadata": {},
   "outputs": [],
   "source": []
  },
  {
   "cell_type": "markdown",
   "id": "86f73bd1",
   "metadata": {},
   "source": [
    "# --------------------------------------------------------------------------  \n",
    "# DEBUG NOTES"
   ]
  },
  {
   "cell_type": "code",
   "execution_count": 28,
   "id": "c115801c",
   "metadata": {},
   "outputs": [],
   "source": [
    "# list of unique SUMMER Sports:\n",
    "#summer['sport'].nunique(), summer['sport'].unique()"
   ]
  },
  {
   "cell_type": "markdown",
   "id": "2854d7f5",
   "metadata": {},
   "source": [
    "```python\n",
    "\"\"\"\n",
    "(70,\n",
    " array(['Basketball', 'Judo', 'Football', 'Tug-Of-War', 'Athletics',\n",
    "        'Swimming', 'Badminton', 'Sailing', 'Gymnastics',\n",
    "        'Art Competitions', 'Handball', 'Weightlifting', 'Wrestling',\n",
    "        'Water Polo', 'Hockey', 'Rowing', 'Fencing', 'Equestrianism',\n",
    "        'Shooting', 'Boxing', 'Taekwondo', 'Cycling', 'Diving', 'Canoeing',\n",
    "        'Tennis', 'Modern Pentathlon', 'Golf', 'Softball', 'Archery',\n",
    "        'Volleyball', 'Synchronized Swimming', 'Table Tennis', 'Baseball',\n",
    "        'Rhythmic Gymnastics', 'Rugby Sevens', 'Trampolining',\n",
    "        'Beach Volleyball', 'Triathlon', 'Rugby', 'Lacrosse', 'Polo',\n",
    "        'Cricket', 'Ice Hockey', 'Racquets', 'Motorboating', 'Croquet',\n",
    "        'Figure Skating', 'Jeu De Paume', 'Roque', 'Basque Pelota',\n",
    "        'Alpinism', 'Aeronautics', 'Cycling Road', 'Artistic Gymnastics',\n",
    "        'Karate', 'Baseball/Softball', 'Trampoline Gymnastics',\n",
    "        'Marathon Swimming', 'Canoe Slalom', 'Surfing', 'Canoe Sprint',\n",
    "        'Cycling BMX Racing', 'Equestrian', 'Artistic Swimming',\n",
    "        'Cycling Track', 'Skateboarding', 'Cycling Mountain Bike',\n",
    "        '3x3 Basketball', 'Cycling BMX Freestyle', 'Sport Climbing'],\n",
    "       dtype=object))\n",
    "\"\"\"\n",
    "```"
   ]
  },
  {
   "cell_type": "code",
   "execution_count": null,
   "id": "6700c55b",
   "metadata": {},
   "outputs": [],
   "source": []
  },
  {
   "cell_type": "code",
   "execution_count": 29,
   "id": "b37c959f",
   "metadata": {},
   "outputs": [],
   "source": [
    "# CODE EXAMPLE\n",
    "# barplot with hue\n",
    "\n",
    "#sns.histplot(data=categories, x=\"clicks\", hue=\"season\", multiple=\"dodge\", shrink=.8, bins=8);\n",
    "#plt.savefig(\"categories_seasonal_clicks_distribution_histplot.png\")\n",
    "#plt.show()"
   ]
  },
  {
   "cell_type": "code",
   "execution_count": 30,
   "id": "145353e1",
   "metadata": {},
   "outputs": [],
   "source": [
    "# CODE EXAMPLE:\n",
    "# getting DECADE and CENTURY out of YEAR values\n",
    "\n",
    "# DECADE = (YEAR // 10) * 10 \n",
    "# CENTURY = YEAR // 100 + 1"
   ]
  },
  {
   "cell_type": "code",
   "execution_count": 31,
   "id": "addab521",
   "metadata": {},
   "outputs": [],
   "source": [
    "# CODE EXAMPLE:\n",
    "# number of unique values for each column\n",
    "\n",
    "#for col in categories.columns.to_list():\n",
    "#    print(f'{col}: ', categories[f'{col}'].nunique(), categories[f'{col}'].unique())"
   ]
  }
 ],
 "metadata": {
  "kernelspec": {
   "display_name": "Python 3 (ipykernel)",
   "language": "python",
   "name": "python3"
  },
  "language_info": {
   "codemirror_mode": {
    "name": "ipython",
    "version": 3
   },
   "file_extension": ".py",
   "mimetype": "text/x-python",
   "name": "python",
   "nbconvert_exporter": "python",
   "pygments_lexer": "ipython3",
   "version": "3.10.8"
  }
 },
 "nbformat": 4,
 "nbformat_minor": 5
}
