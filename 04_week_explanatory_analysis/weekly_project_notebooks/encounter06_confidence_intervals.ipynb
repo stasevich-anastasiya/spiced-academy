{
 "cells": [
  {
   "cell_type": "markdown",
   "id": "c7bee7b0",
   "metadata": {},
   "source": [
    "# WEEK 04\n",
    "# Encounter 06 - Confidence Intervals\n",
    "# Project Challenge"
   ]
  },
  {
   "cell_type": "markdown",
   "id": "a167bdb1",
   "metadata": {},
   "source": [
    "## Task Description\n",
    "\n",
    "For the bikes data set, calculate the 95% confidence intervals for the mean of the windspeed feature using bootstrapping. Create a notebook in which following questions shall be solved:\n",
    "\n",
    "   1. Initialize empty list called `sample_means()`\n",
    "   2. Create a `for loop` that will loop 10,000 times\n",
    "   3. In each iteration using the pandas method `.sample()` sample 100 windspeeds with replacement\n",
    "   4. Also in that same iteration take the mean of these 100 samples and then append it to the `sample_means` list\n",
    "   5. Using `sns.displot` plot the distribution of the `sample_means` list\n",
    "   6. Convert `sample_means` list to pandas `Series`\n",
    "   7. Using pandas `.quantile()` calculation the upper (0.975) and lower (0.025) limits of the confidence interval of the `sample_means` list\n",
    "\n",
    "**Bonus**\n",
    "\n",
    "   8. Calculate using the `z-value` formula\n",
    "   9. Compare to the results of the bootstrapping method"
   ]
  },
  {
   "cell_type": "code",
   "execution_count": 17,
   "id": "2f6a5106",
   "metadata": {},
   "outputs": [],
   "source": [
    "import pandas as pd\n",
    "import seaborn as sns\n",
    "import numpy as np\n",
    "\n",
    "#import matplotlib.pyplot as plt"
   ]
  },
  {
   "cell_type": "code",
   "execution_count": 2,
   "id": "071b397c",
   "metadata": {},
   "outputs": [
    {
     "data": {
      "text/html": [
       "<div>\n",
       "<style scoped>\n",
       "    .dataframe tbody tr th:only-of-type {\n",
       "        vertical-align: middle;\n",
       "    }\n",
       "\n",
       "    .dataframe tbody tr th {\n",
       "        vertical-align: top;\n",
       "    }\n",
       "\n",
       "    .dataframe thead th {\n",
       "        text-align: right;\n",
       "    }\n",
       "</style>\n",
       "<table border=\"1\" class=\"dataframe\">\n",
       "  <thead>\n",
       "    <tr style=\"text-align: right;\">\n",
       "      <th></th>\n",
       "      <th>season</th>\n",
       "      <th>holiday</th>\n",
       "      <th>workingday</th>\n",
       "      <th>weather</th>\n",
       "      <th>temp</th>\n",
       "      <th>atemp</th>\n",
       "      <th>humidity</th>\n",
       "      <th>windspeed</th>\n",
       "      <th>casual</th>\n",
       "      <th>registered</th>\n",
       "      <th>count</th>\n",
       "      <th>hour</th>\n",
       "      <th>month_name</th>\n",
       "      <th>day_of_week</th>\n",
       "      <th>year</th>\n",
       "      <th>part_of_day</th>\n",
       "    </tr>\n",
       "    <tr>\n",
       "      <th>datetime</th>\n",
       "      <th></th>\n",
       "      <th></th>\n",
       "      <th></th>\n",
       "      <th></th>\n",
       "      <th></th>\n",
       "      <th></th>\n",
       "      <th></th>\n",
       "      <th></th>\n",
       "      <th></th>\n",
       "      <th></th>\n",
       "      <th></th>\n",
       "      <th></th>\n",
       "      <th></th>\n",
       "      <th></th>\n",
       "      <th></th>\n",
       "      <th></th>\n",
       "    </tr>\n",
       "  </thead>\n",
       "  <tbody>\n",
       "    <tr>\n",
       "      <th>2011-07-12 22:00:00</th>\n",
       "      <td>3</td>\n",
       "      <td>0</td>\n",
       "      <td>1</td>\n",
       "      <td>1</td>\n",
       "      <td>32.80</td>\n",
       "      <td>36.365</td>\n",
       "      <td>46</td>\n",
       "      <td>8.9981</td>\n",
       "      <td>44.0</td>\n",
       "      <td>150.0</td>\n",
       "      <td>194</td>\n",
       "      <td>22</td>\n",
       "      <td>July</td>\n",
       "      <td>Tuesday</td>\n",
       "      <td>2011</td>\n",
       "      <td>night</td>\n",
       "    </tr>\n",
       "    <tr>\n",
       "      <th>2011-12-26 08:00:00</th>\n",
       "      <td>1</td>\n",
       "      <td>1</td>\n",
       "      <td>0</td>\n",
       "      <td>1</td>\n",
       "      <td>13.12</td>\n",
       "      <td>16.665</td>\n",
       "      <td>45</td>\n",
       "      <td>8.9981</td>\n",
       "      <td>NaN</td>\n",
       "      <td>NaN</td>\n",
       "      <td>80</td>\n",
       "      <td>8</td>\n",
       "      <td>December</td>\n",
       "      <td>Monday</td>\n",
       "      <td>2011</td>\n",
       "      <td>morning</td>\n",
       "    </tr>\n",
       "    <tr>\n",
       "      <th>2011-05-20 18:00:00</th>\n",
       "      <td>2</td>\n",
       "      <td>0</td>\n",
       "      <td>1</td>\n",
       "      <td>1</td>\n",
       "      <td>24.60</td>\n",
       "      <td>31.060</td>\n",
       "      <td>56</td>\n",
       "      <td>11.0014</td>\n",
       "      <td>NaN</td>\n",
       "      <td>NaN</td>\n",
       "      <td>621</td>\n",
       "      <td>18</td>\n",
       "      <td>May</td>\n",
       "      <td>Friday</td>\n",
       "      <td>2011</td>\n",
       "      <td>evening</td>\n",
       "    </tr>\n",
       "    <tr>\n",
       "      <th>2012-07-29 17:00:00</th>\n",
       "      <td>3</td>\n",
       "      <td>0</td>\n",
       "      <td>0</td>\n",
       "      <td>1</td>\n",
       "      <td>33.62</td>\n",
       "      <td>37.120</td>\n",
       "      <td>41</td>\n",
       "      <td>11.0014</td>\n",
       "      <td>NaN</td>\n",
       "      <td>NaN</td>\n",
       "      <td>449</td>\n",
       "      <td>17</td>\n",
       "      <td>July</td>\n",
       "      <td>Sunday</td>\n",
       "      <td>2012</td>\n",
       "      <td>afternoon</td>\n",
       "    </tr>\n",
       "    <tr>\n",
       "      <th>2012-02-18 10:00:00</th>\n",
       "      <td>1</td>\n",
       "      <td>0</td>\n",
       "      <td>0</td>\n",
       "      <td>1</td>\n",
       "      <td>10.66</td>\n",
       "      <td>13.635</td>\n",
       "      <td>81</td>\n",
       "      <td>7.0015</td>\n",
       "      <td>48.0</td>\n",
       "      <td>157.0</td>\n",
       "      <td>205</td>\n",
       "      <td>10</td>\n",
       "      <td>February</td>\n",
       "      <td>Saturday</td>\n",
       "      <td>2012</td>\n",
       "      <td>morning</td>\n",
       "    </tr>\n",
       "  </tbody>\n",
       "</table>\n",
       "</div>"
      ],
      "text/plain": [
       "                     season  holiday  workingday  weather   temp   atemp  \\\n",
       "datetime                                                                   \n",
       "2011-07-12 22:00:00       3        0           1        1  32.80  36.365   \n",
       "2011-12-26 08:00:00       1        1           0        1  13.12  16.665   \n",
       "2011-05-20 18:00:00       2        0           1        1  24.60  31.060   \n",
       "2012-07-29 17:00:00       3        0           0        1  33.62  37.120   \n",
       "2012-02-18 10:00:00       1        0           0        1  10.66  13.635   \n",
       "\n",
       "                     humidity  windspeed  casual  registered  count  hour  \\\n",
       "datetime                                                                    \n",
       "2011-07-12 22:00:00        46     8.9981    44.0       150.0    194    22   \n",
       "2011-12-26 08:00:00        45     8.9981     NaN         NaN     80     8   \n",
       "2011-05-20 18:00:00        56    11.0014     NaN         NaN    621    18   \n",
       "2012-07-29 17:00:00        41    11.0014     NaN         NaN    449    17   \n",
       "2012-02-18 10:00:00        81     7.0015    48.0       157.0    205    10   \n",
       "\n",
       "                    month_name day_of_week  year part_of_day  \n",
       "datetime                                                      \n",
       "2011-07-12 22:00:00       July     Tuesday  2011       night  \n",
       "2011-12-26 08:00:00   December      Monday  2011     morning  \n",
       "2011-05-20 18:00:00        May      Friday  2011     evening  \n",
       "2012-07-29 17:00:00       July      Sunday  2012   afternoon  \n",
       "2012-02-18 10:00:00   February    Saturday  2012     morning  "
      ]
     },
     "execution_count": 2,
     "metadata": {},
     "output_type": "execute_result"
    }
   ],
   "source": [
    "# read 'bikes' data\n",
    "bikes = pd.read_csv('../data/bikes_with_bins.csv', index_col='datetime', parse_dates=True)\n",
    "bikes.sample(5)"
   ]
  },
  {
   "cell_type": "code",
   "execution_count": 3,
   "id": "95f2cdba",
   "metadata": {},
   "outputs": [],
   "source": [
    "# Initialize empty list\n",
    "sample_means = []"
   ]
  },
  {
   "cell_type": "code",
   "execution_count": 4,
   "id": "7bbf958e",
   "metadata": {},
   "outputs": [
    {
     "data": {
      "text/plain": [
       "datetime\n",
       "2011-01-01 00:00:00     0.0000\n",
       "2011-01-01 01:00:00     0.0000\n",
       "2011-01-01 02:00:00     0.0000\n",
       "2011-01-01 03:00:00     0.0000\n",
       "2011-01-01 04:00:00     0.0000\n",
       "                        ...   \n",
       "2012-12-31 19:00:00    11.0014\n",
       "2012-12-31 20:00:00    11.0014\n",
       "2012-12-31 21:00:00    11.0014\n",
       "2012-12-31 22:00:00     8.9981\n",
       "2012-12-31 23:00:00     8.9981\n",
       "Name: windspeed, Length: 17379, dtype: float64"
      ]
     },
     "execution_count": 4,
     "metadata": {},
     "output_type": "execute_result"
    }
   ],
   "source": [
    "#filter 'bikes' data to work only with 'windspeed' values\n",
    "windspeed = bikes['windspeed']\n",
    "windspeed"
   ]
  },
  {
   "cell_type": "code",
   "execution_count": 5,
   "id": "e6b9a49e",
   "metadata": {},
   "outputs": [],
   "source": [
    "# DEBUG info\n",
    "\n",
    "#windspeed_sample = windspeed.sample(n=100, replace=True)\n",
    "\n",
    "#windspeed_sample\n",
    "#windspeed_sample.mean()\n",
    "\n",
    "#sample_means.append(windspeed_sample.mean())\n",
    "#sample_means"
   ]
  },
  {
   "cell_type": "code",
   "execution_count": 6,
   "id": "a28e45c6",
   "metadata": {},
   "outputs": [],
   "source": [
    "# a for loop that will loop 10,000 times\n",
    "for i in range(10_000):\n",
    "    # sample 100 windspeeds with replacement\n",
    "    windspeed_sample = windspeed.sample(n=100, replace=True)\n",
    "    # append the mean of these 100 samples to the sample_means list\n",
    "    sample_means.append(windspeed_sample.mean())\n",
    "    "
   ]
  },
  {
   "cell_type": "code",
   "execution_count": 7,
   "id": "6bf8f1a1",
   "metadata": {},
   "outputs": [
    {
     "data": {
      "text/plain": [
       "[11.690227,\n",
       " 11.820408000000002,\n",
       " 13.180374000000004,\n",
       " 11.880172000000005,\n",
       " 11.460283000000004,\n",
       " 12.569936999999996,\n",
       " 12.730335,\n",
       " 13.460501,\n",
       " 11.700478000000002,\n",
       " 12.860449000000001]"
      ]
     },
     "execution_count": 7,
     "metadata": {},
     "output_type": "execute_result"
    }
   ],
   "source": [
    "# display first 10 values of 'sample_means' list\n",
    "sample_means[0:10]"
   ]
  },
  {
   "cell_type": "code",
   "execution_count": 8,
   "id": "2390fe6c",
   "metadata": {},
   "outputs": [
    {
     "data": {
      "image/png": "[encoded data removed]",
      "text/plain": [
       "<Figure size 500x500 with 1 Axes>"
      ]
     },
     "metadata": {},
     "output_type": "display_data"
    }
   ],
   "source": [
    "# plot the distribution of the sample_means list\n",
    "sns.displot(data=sample_means, bins=40);"
   ]
  },
  {
   "cell_type": "markdown",
   "id": "cd8996f7",
   "metadata": {},
   "source": [
    " "
   ]
  },
  {
   "cell_type": "code",
   "execution_count": 9,
   "id": "24774723",
   "metadata": {},
   "outputs": [
    {
     "data": {
      "text/plain": [
       "0    11.690227\n",
       "1    11.820408\n",
       "2    13.180374\n",
       "3    11.880172\n",
       "4    11.460283\n",
       "dtype: float64"
      ]
     },
     "execution_count": 9,
     "metadata": {},
     "output_type": "execute_result"
    }
   ],
   "source": [
    "# Convert sample_means list to pandas Series\n",
    "sample_means_series = pd.Series(sample_means)\n",
    "sample_means_series.head()"
   ]
  },
  {
   "cell_type": "code",
   "execution_count": 19,
   "id": "c6e716ae",
   "metadata": {},
   "outputs": [
    {
     "name": "stdout",
     "output_type": "stream",
     "text": [
      "The Confidence Interval of the average wind speed is between 11.150274 and 14.340849174999997\n"
     ]
    }
   ],
   "source": [
    "# Using pandas .quantile() calculation the upper (0.975) and lower (0.025) limits of the 95% confidence interval\n",
    "# of the sample_means list\n",
    "\n",
    "alpha = 0.95\n",
    "lower_quantile = (1-alpha)/2            # equals 0.025\n",
    "upper_qunatile = alpha + ((1-alpha)/2)  # equals 0.975\n",
    "\n",
    "lower_limit = sample_means_series.quantile(lower_quantile)\n",
    "upper_limit = sample_means_series.quantile(upper_qunatile)\n",
    "\n",
    "print(f'The Confidence Interval of the average wind speed is between {lower_limit} and {upper_limit}')"
   ]
  },
  {
   "cell_type": "markdown",
   "id": "277c65ec",
   "metadata": {},
   "source": [
    " "
   ]
  },
  {
   "cell_type": "markdown",
   "id": "d65df7e0",
   "metadata": {},
   "source": [
    "## BONUS"
   ]
  },
  {
   "cell_type": "markdown",
   "id": "ea812e56",
   "metadata": {},
   "source": [
    "### 8. Calculate using the z-value formula"
   ]
  },
  {
   "cell_type": "code",
   "execution_count": 15,
   "id": "4a636b63",
   "metadata": {
    "scrolled": true
   },
   "outputs": [
    {
     "name": "stdout",
     "output_type": "stream",
     "text": [
      "12.736539622532941 8.196795314376963\n"
     ]
    }
   ],
   "source": [
    "# mean value of windspeed:\n",
    "windspeed_mean = windspeed.mean()\n",
    "\n",
    "# standard deviation (std) of windspeed:\n",
    "windspeed_std = windspeed.std()\n",
    "\n",
    "print(windspeed_mean, windspeed_std)"
   ]
  },
  {
   "cell_type": "code",
   "execution_count": 21,
   "id": "cf5ec250",
   "metadata": {},
   "outputs": [
    {
     "name": "stdout",
     "output_type": "stream",
     "text": [
      "The Confidence Interval of wind speed is between 11.129967740915056 and 14.343111504150826\n"
     ]
    }
   ],
   "source": [
    "# alpha = 0.95, then z = 1.96\n",
    "\n",
    "z = 1.96\n",
    "n = 100 # the SAME sample number as in Bootstrapping method !!!\n",
    "\n",
    "lower_limit_eq = windspeed_mean - ((z * windspeed_std)/np.sqrt(n))\n",
    "upper_limit_eq = windspeed_mean + ((z * windspeed_std)/np.sqrt(n))\n",
    "\n",
    "print(f'The Confidence Interval of wind speed is between {lower_limit_eq} and {upper_limit_eq}')\n"
   ]
  },
  {
   "cell_type": "markdown",
   "id": "ce040f1b",
   "metadata": {},
   "source": [
    "### 9. Compare to the results of the bootstrapping method"
   ]
  },
  {
   "cell_type": "markdown",
   "id": "33f9ab05",
   "metadata": {},
   "source": [
    "**Bootstrapping method:**\n",
    "  The 95% Confidence Interval of the average wind speed is between **11.1503** and **14.3408**\n",
    "\n",
    "**z-value formula results:**\n",
    "  The 95% Confidence Interval of wind speed is between **11.1300** and **14.3431**\n",
    "\n",
    "**Conclusion:** Result are very close! But using z-value formula is less time-consuming in terms of calculation."
   ]
  },
  {
   "cell_type": "code",
   "execution_count": null,
   "id": "7af0b941",
   "metadata": {},
   "outputs": [],
   "source": []
  }
 ],
 "metadata": {
  "kernelspec": {
   "display_name": "Python 3 (ipykernel)",
   "language": "python",
   "name": "python3"
  },
  "language_info": {
   "codemirror_mode": {
    "name": "ipython",
    "version": 3
   },
   "file_extension": ".py",
   "mimetype": "text/x-python",
   "name": "python",
   "nbconvert_exporter": "python",
   "pygments_lexer": "ipython3",
   "version": "3.10.8"
  }
 },
 "nbformat": 4,
 "nbformat_minor": 5
}
