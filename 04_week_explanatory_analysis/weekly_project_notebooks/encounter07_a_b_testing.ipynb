{
 "cells": [
  {
   "cell_type": "markdown",
   "id": "e1178cef",
   "metadata": {},
   "source": [
    "# WEEK 04\n",
    "# Encounter 07 - A/B Testing\n",
    "# Project Challenge"
   ]
  },
  {
   "cell_type": "markdown",
   "id": "6e4e79d9",
   "metadata": {},
   "source": [
    "### Task Description\n",
    "\n",
    "Bike dataset has the information about the weather that is stored in columns such as `weather`, `temp`, `atemp`, `humidity`, `windspeed`. Create a notebook where you perfom a hypothesis testing that checks if there is a significant difference between two of the temperature columns: `temp` and `atemp`. Use the `scipy.stats` and t-test statistics."
   ]
  },
  {
   "cell_type": "code",
   "execution_count": 15,
   "id": "96c7b7b8",
   "metadata": {},
   "outputs": [],
   "source": [
    "import pandas as pd\n",
    "import scipy.stats as sps\n",
    "import seaborn as sns\n",
    "import matplotlib.pyplot as plt"
   ]
  },
  {
   "cell_type": "code",
   "execution_count": 2,
   "id": "8787f2b5",
   "metadata": {},
   "outputs": [
    {
     "data": {
      "text/html": [
       "<div>\n",
       "<style scoped>\n",
       "    .dataframe tbody tr th:only-of-type {\n",
       "        vertical-align: middle;\n",
       "    }\n",
       "\n",
       "    .dataframe tbody tr th {\n",
       "        vertical-align: top;\n",
       "    }\n",
       "\n",
       "    .dataframe thead th {\n",
       "        text-align: right;\n",
       "    }\n",
       "</style>\n",
       "<table border=\"1\" class=\"dataframe\">\n",
       "  <thead>\n",
       "    <tr style=\"text-align: right;\">\n",
       "      <th></th>\n",
       "      <th>season</th>\n",
       "      <th>holiday</th>\n",
       "      <th>workingday</th>\n",
       "      <th>weather</th>\n",
       "      <th>temp</th>\n",
       "      <th>atemp</th>\n",
       "      <th>humidity</th>\n",
       "      <th>windspeed</th>\n",
       "      <th>casual</th>\n",
       "      <th>registered</th>\n",
       "      <th>count</th>\n",
       "      <th>hour</th>\n",
       "      <th>month_name</th>\n",
       "      <th>day_of_week</th>\n",
       "      <th>year</th>\n",
       "      <th>part_of_day</th>\n",
       "    </tr>\n",
       "    <tr>\n",
       "      <th>datetime</th>\n",
       "      <th></th>\n",
       "      <th></th>\n",
       "      <th></th>\n",
       "      <th></th>\n",
       "      <th></th>\n",
       "      <th></th>\n",
       "      <th></th>\n",
       "      <th></th>\n",
       "      <th></th>\n",
       "      <th></th>\n",
       "      <th></th>\n",
       "      <th></th>\n",
       "      <th></th>\n",
       "      <th></th>\n",
       "      <th></th>\n",
       "      <th></th>\n",
       "    </tr>\n",
       "  </thead>\n",
       "  <tbody>\n",
       "    <tr>\n",
       "      <th>2011-01-01 00:00:00</th>\n",
       "      <td>1</td>\n",
       "      <td>0</td>\n",
       "      <td>0</td>\n",
       "      <td>1</td>\n",
       "      <td>9.84</td>\n",
       "      <td>14.395</td>\n",
       "      <td>81</td>\n",
       "      <td>0.0</td>\n",
       "      <td>3.0</td>\n",
       "      <td>13.0</td>\n",
       "      <td>16</td>\n",
       "      <td>0</td>\n",
       "      <td>January</td>\n",
       "      <td>Saturday</td>\n",
       "      <td>2011</td>\n",
       "      <td>night</td>\n",
       "    </tr>\n",
       "    <tr>\n",
       "      <th>2011-01-01 01:00:00</th>\n",
       "      <td>1</td>\n",
       "      <td>0</td>\n",
       "      <td>0</td>\n",
       "      <td>1</td>\n",
       "      <td>9.02</td>\n",
       "      <td>13.635</td>\n",
       "      <td>80</td>\n",
       "      <td>0.0</td>\n",
       "      <td>8.0</td>\n",
       "      <td>32.0</td>\n",
       "      <td>40</td>\n",
       "      <td>1</td>\n",
       "      <td>January</td>\n",
       "      <td>Saturday</td>\n",
       "      <td>2011</td>\n",
       "      <td>night</td>\n",
       "    </tr>\n",
       "    <tr>\n",
       "      <th>2011-01-01 02:00:00</th>\n",
       "      <td>1</td>\n",
       "      <td>0</td>\n",
       "      <td>0</td>\n",
       "      <td>1</td>\n",
       "      <td>9.02</td>\n",
       "      <td>13.635</td>\n",
       "      <td>80</td>\n",
       "      <td>0.0</td>\n",
       "      <td>5.0</td>\n",
       "      <td>27.0</td>\n",
       "      <td>32</td>\n",
       "      <td>2</td>\n",
       "      <td>January</td>\n",
       "      <td>Saturday</td>\n",
       "      <td>2011</td>\n",
       "      <td>night</td>\n",
       "    </tr>\n",
       "    <tr>\n",
       "      <th>2011-01-01 03:00:00</th>\n",
       "      <td>1</td>\n",
       "      <td>0</td>\n",
       "      <td>0</td>\n",
       "      <td>1</td>\n",
       "      <td>9.84</td>\n",
       "      <td>14.395</td>\n",
       "      <td>75</td>\n",
       "      <td>0.0</td>\n",
       "      <td>3.0</td>\n",
       "      <td>10.0</td>\n",
       "      <td>13</td>\n",
       "      <td>3</td>\n",
       "      <td>January</td>\n",
       "      <td>Saturday</td>\n",
       "      <td>2011</td>\n",
       "      <td>night</td>\n",
       "    </tr>\n",
       "    <tr>\n",
       "      <th>2011-01-01 04:00:00</th>\n",
       "      <td>1</td>\n",
       "      <td>0</td>\n",
       "      <td>0</td>\n",
       "      <td>1</td>\n",
       "      <td>9.84</td>\n",
       "      <td>14.395</td>\n",
       "      <td>75</td>\n",
       "      <td>0.0</td>\n",
       "      <td>0.0</td>\n",
       "      <td>1.0</td>\n",
       "      <td>1</td>\n",
       "      <td>4</td>\n",
       "      <td>January</td>\n",
       "      <td>Saturday</td>\n",
       "      <td>2011</td>\n",
       "      <td>night</td>\n",
       "    </tr>\n",
       "  </tbody>\n",
       "</table>\n",
       "</div>"
      ],
      "text/plain": [
       "                     season  holiday  workingday  weather  temp   atemp  \\\n",
       "datetime                                                                  \n",
       "2011-01-01 00:00:00       1        0           0        1  9.84  14.395   \n",
       "2011-01-01 01:00:00       1        0           0        1  9.02  13.635   \n",
       "2011-01-01 02:00:00       1        0           0        1  9.02  13.635   \n",
       "2011-01-01 03:00:00       1        0           0        1  9.84  14.395   \n",
       "2011-01-01 04:00:00       1        0           0        1  9.84  14.395   \n",
       "\n",
       "                     humidity  windspeed  casual  registered  count  hour  \\\n",
       "datetime                                                                    \n",
       "2011-01-01 00:00:00        81        0.0     3.0        13.0     16     0   \n",
       "2011-01-01 01:00:00        80        0.0     8.0        32.0     40     1   \n",
       "2011-01-01 02:00:00        80        0.0     5.0        27.0     32     2   \n",
       "2011-01-01 03:00:00        75        0.0     3.0        10.0     13     3   \n",
       "2011-01-01 04:00:00        75        0.0     0.0         1.0      1     4   \n",
       "\n",
       "                    month_name day_of_week  year part_of_day  \n",
       "datetime                                                      \n",
       "2011-01-01 00:00:00    January    Saturday  2011       night  \n",
       "2011-01-01 01:00:00    January    Saturday  2011       night  \n",
       "2011-01-01 02:00:00    January    Saturday  2011       night  \n",
       "2011-01-01 03:00:00    January    Saturday  2011       night  \n",
       "2011-01-01 04:00:00    January    Saturday  2011       night  "
      ]
     },
     "execution_count": 2,
     "metadata": {},
     "output_type": "execute_result"
    }
   ],
   "source": [
    "# read 'bikes' data\n",
    "bikes = pd.read_csv('../data/bikes_with_bins.csv', index_col='datetime', parse_dates=True)\n",
    "bikes.head()"
   ]
  },
  {
   "cell_type": "code",
   "execution_count": 3,
   "id": "68775ed6",
   "metadata": {},
   "outputs": [
    {
     "name": "stdout",
     "output_type": "stream",
     "text": [
      "<class 'pandas.core.frame.DataFrame'>\n",
      "DatetimeIndex: 17379 entries, 2011-01-01 00:00:00 to 2012-12-31 23:00:00\n",
      "Data columns (total 16 columns):\n",
      " #   Column       Non-Null Count  Dtype  \n",
      "---  ------       --------------  -----  \n",
      " 0   season       17379 non-null  int64  \n",
      " 1   holiday      17379 non-null  int64  \n",
      " 2   workingday   17379 non-null  int64  \n",
      " 3   weather      17379 non-null  int64  \n",
      " 4   temp         17379 non-null  float64\n",
      " 5   atemp        17379 non-null  float64\n",
      " 6   humidity     17379 non-null  int64  \n",
      " 7   windspeed    17379 non-null  float64\n",
      " 8   casual       10886 non-null  float64\n",
      " 9   registered   10886 non-null  float64\n",
      " 10  count        17379 non-null  int64  \n",
      " 11  hour         17379 non-null  int64  \n",
      " 12  month_name   17379 non-null  object \n",
      " 13  day_of_week  17379 non-null  object \n",
      " 14  year         17379 non-null  int64  \n",
      " 15  part_of_day  17379 non-null  object \n",
      "dtypes: float64(5), int64(8), object(3)\n",
      "memory usage: 2.3+ MB\n"
     ]
    }
   ],
   "source": [
    "bikes.info()"
   ]
  },
  {
   "cell_type": "code",
   "execution_count": 43,
   "id": "9fc4c665",
   "metadata": {},
   "outputs": [
    {
     "data": {
      "text/html": [
       "<div>\n",
       "<style scoped>\n",
       "    .dataframe tbody tr th:only-of-type {\n",
       "        vertical-align: middle;\n",
       "    }\n",
       "\n",
       "    .dataframe tbody tr th {\n",
       "        vertical-align: top;\n",
       "    }\n",
       "\n",
       "    .dataframe thead th {\n",
       "        text-align: right;\n",
       "    }\n",
       "</style>\n",
       "<table border=\"1\" class=\"dataframe\">\n",
       "  <thead>\n",
       "    <tr style=\"text-align: right;\">\n",
       "      <th></th>\n",
       "      <th>temp</th>\n",
       "      <th>atemp</th>\n",
       "      <th>season</th>\n",
       "      <th>year</th>\n",
       "    </tr>\n",
       "    <tr>\n",
       "      <th>datetime</th>\n",
       "      <th></th>\n",
       "      <th></th>\n",
       "      <th></th>\n",
       "      <th></th>\n",
       "    </tr>\n",
       "  </thead>\n",
       "  <tbody>\n",
       "    <tr>\n",
       "      <th>2012-07-14 20:00:00</th>\n",
       "      <td>29.52</td>\n",
       "      <td>35.605</td>\n",
       "      <td>3</td>\n",
       "      <td>2012</td>\n",
       "    </tr>\n",
       "    <tr>\n",
       "      <th>2012-08-06 08:00:00</th>\n",
       "      <td>28.70</td>\n",
       "      <td>33.335</td>\n",
       "      <td>3</td>\n",
       "      <td>2012</td>\n",
       "    </tr>\n",
       "    <tr>\n",
       "      <th>2011-01-15 03:00:00</th>\n",
       "      <td>6.56</td>\n",
       "      <td>11.365</td>\n",
       "      <td>1</td>\n",
       "      <td>2011</td>\n",
       "    </tr>\n",
       "    <tr>\n",
       "      <th>2011-12-12 15:00:00</th>\n",
       "      <td>13.12</td>\n",
       "      <td>16.665</td>\n",
       "      <td>4</td>\n",
       "      <td>2011</td>\n",
       "    </tr>\n",
       "    <tr>\n",
       "      <th>2011-08-12 02:00:00</th>\n",
       "      <td>25.42</td>\n",
       "      <td>31.060</td>\n",
       "      <td>3</td>\n",
       "      <td>2011</td>\n",
       "    </tr>\n",
       "    <tr>\n",
       "      <th>2011-03-24 14:00:00</th>\n",
       "      <td>12.30</td>\n",
       "      <td>15.150</td>\n",
       "      <td>2</td>\n",
       "      <td>2011</td>\n",
       "    </tr>\n",
       "    <tr>\n",
       "      <th>2012-12-10 18:00:00</th>\n",
       "      <td>18.86</td>\n",
       "      <td>22.725</td>\n",
       "      <td>4</td>\n",
       "      <td>2012</td>\n",
       "    </tr>\n",
       "    <tr>\n",
       "      <th>2011-06-29 07:00:00</th>\n",
       "      <td>28.70</td>\n",
       "      <td>32.575</td>\n",
       "      <td>3</td>\n",
       "      <td>2011</td>\n",
       "    </tr>\n",
       "    <tr>\n",
       "      <th>2011-05-08 05:00:00</th>\n",
       "      <td>18.04</td>\n",
       "      <td>21.970</td>\n",
       "      <td>2</td>\n",
       "      <td>2011</td>\n",
       "    </tr>\n",
       "    <tr>\n",
       "      <th>2011-04-02 13:00:00</th>\n",
       "      <td>13.94</td>\n",
       "      <td>16.665</td>\n",
       "      <td>2</td>\n",
       "      <td>2011</td>\n",
       "    </tr>\n",
       "  </tbody>\n",
       "</table>\n",
       "</div>"
      ],
      "text/plain": [
       "                      temp   atemp  season  year\n",
       "datetime                                        \n",
       "2012-07-14 20:00:00  29.52  35.605       3  2012\n",
       "2012-08-06 08:00:00  28.70  33.335       3  2012\n",
       "2011-01-15 03:00:00   6.56  11.365       1  2011\n",
       "2011-12-12 15:00:00  13.12  16.665       4  2011\n",
       "2011-08-12 02:00:00  25.42  31.060       3  2011\n",
       "2011-03-24 14:00:00  12.30  15.150       2  2011\n",
       "2012-12-10 18:00:00  18.86  22.725       4  2012\n",
       "2011-06-29 07:00:00  28.70  32.575       3  2011\n",
       "2011-05-08 05:00:00  18.04  21.970       2  2011\n",
       "2011-04-02 13:00:00  13.94  16.665       2  2011"
      ]
     },
     "execution_count": 43,
     "metadata": {},
     "output_type": "execute_result"
    }
   ],
   "source": [
    "temperatures = bikes[['temp', 'atemp', 'season', 'year']]\n",
    "temperatures.sample(10)"
   ]
  },
  {
   "cell_type": "code",
   "execution_count": 26,
   "id": "9000010c",
   "metadata": {},
   "outputs": [
    {
     "data": {
      "text/html": [
       "<div>\n",
       "<style scoped>\n",
       "    .dataframe tbody tr th:only-of-type {\n",
       "        vertical-align: middle;\n",
       "    }\n",
       "\n",
       "    .dataframe tbody tr th {\n",
       "        vertical-align: top;\n",
       "    }\n",
       "\n",
       "    .dataframe thead th {\n",
       "        text-align: right;\n",
       "    }\n",
       "</style>\n",
       "<table border=\"1\" class=\"dataframe\">\n",
       "  <thead>\n",
       "    <tr style=\"text-align: right;\">\n",
       "      <th></th>\n",
       "      <th>season</th>\n",
       "      <th>temp_type</th>\n",
       "      <th>temp_value</th>\n",
       "    </tr>\n",
       "    <tr>\n",
       "      <th>datetime</th>\n",
       "      <th></th>\n",
       "      <th></th>\n",
       "      <th></th>\n",
       "    </tr>\n",
       "  </thead>\n",
       "  <tbody>\n",
       "    <tr>\n",
       "      <th>2011-02-12 23:00:00</th>\n",
       "      <td>1</td>\n",
       "      <td>temp</td>\n",
       "      <td>9.020</td>\n",
       "    </tr>\n",
       "    <tr>\n",
       "      <th>2011-09-21 09:00:00</th>\n",
       "      <td>3</td>\n",
       "      <td>temp</td>\n",
       "      <td>22.960</td>\n",
       "    </tr>\n",
       "    <tr>\n",
       "      <th>2012-11-23 15:00:00</th>\n",
       "      <td>4</td>\n",
       "      <td>temp</td>\n",
       "      <td>19.680</td>\n",
       "    </tr>\n",
       "    <tr>\n",
       "      <th>2011-09-12 13:00:00</th>\n",
       "      <td>3</td>\n",
       "      <td>temp</td>\n",
       "      <td>29.520</td>\n",
       "    </tr>\n",
       "    <tr>\n",
       "      <th>2012-03-06 11:00:00</th>\n",
       "      <td>1</td>\n",
       "      <td>temp</td>\n",
       "      <td>10.660</td>\n",
       "    </tr>\n",
       "    <tr>\n",
       "      <th>2011-01-16 06:00:00</th>\n",
       "      <td>1</td>\n",
       "      <td>atemp</td>\n",
       "      <td>12.880</td>\n",
       "    </tr>\n",
       "    <tr>\n",
       "      <th>2011-06-07 06:00:00</th>\n",
       "      <td>2</td>\n",
       "      <td>temp</td>\n",
       "      <td>24.600</td>\n",
       "    </tr>\n",
       "    <tr>\n",
       "      <th>2011-10-31 03:00:00</th>\n",
       "      <td>4</td>\n",
       "      <td>atemp</td>\n",
       "      <td>12.880</td>\n",
       "    </tr>\n",
       "    <tr>\n",
       "      <th>2011-11-14 02:00:00</th>\n",
       "      <td>4</td>\n",
       "      <td>atemp</td>\n",
       "      <td>22.725</td>\n",
       "    </tr>\n",
       "    <tr>\n",
       "      <th>2011-02-20 06:00:00</th>\n",
       "      <td>1</td>\n",
       "      <td>temp</td>\n",
       "      <td>8.200</td>\n",
       "    </tr>\n",
       "  </tbody>\n",
       "</table>\n",
       "</div>"
      ],
      "text/plain": [
       "                     season temp_type  temp_value\n",
       "datetime                                         \n",
       "2011-02-12 23:00:00       1      temp       9.020\n",
       "2011-09-21 09:00:00       3      temp      22.960\n",
       "2012-11-23 15:00:00       4      temp      19.680\n",
       "2011-09-12 13:00:00       3      temp      29.520\n",
       "2012-03-06 11:00:00       1      temp      10.660\n",
       "2011-01-16 06:00:00       1     atemp      12.880\n",
       "2011-06-07 06:00:00       2      temp      24.600\n",
       "2011-10-31 03:00:00       4     atemp      12.880\n",
       "2011-11-14 02:00:00       4     atemp      22.725\n",
       "2011-02-20 06:00:00       1      temp       8.200"
      ]
     },
     "execution_count": 26,
     "metadata": {},
     "output_type": "execute_result"
    }
   ],
   "source": [
    "# melting 'temperatiures' dataset to plot boxplot for both 'temp' and 'atemp'\n",
    "temperatures_melted = temperatures.melt(id_vars=['season'],\n",
    "                                        value_vars=['temp', 'atemp'],\n",
    "                                        var_name = 'temp_type', \n",
    "                                        value_name= 'temp_value',\n",
    "                                        ignore_index=False\n",
    "                                       )\n",
    "temperatures_melted.sample(10)"
   ]
  },
  {
   "cell_type": "code",
   "execution_count": 34,
   "id": "bb13d930",
   "metadata": {},
   "outputs": [
    {
     "data": {
      "image/png": "[encoded data removed]",
      "text/plain": [
       "<Figure size 640x480 with 1 Axes>"
      ]
     },
     "metadata": {},
     "output_type": "display_data"
    }
   ],
   "source": [
    "sns.boxplot(data=temperatures_melted, y='temp_value', x='temp_type');\n"
   ]
  },
  {
   "cell_type": "markdown",
   "id": "c37a91c8",
   "metadata": {},
   "source": [
    "### Hypothesis Testing \n",
    "\n",
    "Check if there is a significant difference between two of the temperature columns: `temp` and `atemp`"
   ]
  },
  {
   "cell_type": "code",
   "execution_count": 35,
   "id": "bb1a0011",
   "metadata": {},
   "outputs": [
    {
     "data": {
      "text/plain": [
       "Ttest_indResult(statistic=-38.550838713271254, pvalue=0.0)"
      ]
     },
     "execution_count": 35,
     "metadata": {},
     "output_type": "execute_result"
    }
   ],
   "source": [
    "#temperatures['temp'] is a Series of all tempertures for 2 years (complete bikes dataset)\n",
    "#temperatures['atemp'] is a Series of all real-feel-tempertures for 2 years (complete bikes dataset)\n",
    "\n",
    "sps.ttest_ind(temperatures['temp'], temperatures['atemp'], nan_policy='omit', equal_var=False)"
   ]
  },
  {
   "cell_type": "markdown",
   "id": "18c22706",
   "metadata": {},
   "source": [
    "### Explaination:\n",
    "\n",
    "1. p-value < 𝛼 (0.0 < 0.05), then we reject 𝐻0 and conclude that the groups are indeed different.\n",
    "2. It means 'temp' and 'atemp' are indeed different."
   ]
  },
  {
   "cell_type": "markdown",
   "id": "514ff024",
   "metadata": {},
   "source": [
    " "
   ]
  },
  {
   "cell_type": "markdown",
   "id": "977f5e8f",
   "metadata": {},
   "source": [
    "## [EXTRA]"
   ]
  },
  {
   "cell_type": "markdown",
   "id": "c1371193",
   "metadata": {},
   "source": [
    "### Example 2"
   ]
  },
  {
   "cell_type": "code",
   "execution_count": 48,
   "id": "5388420c",
   "metadata": {},
   "outputs": [
    {
     "data": {
      "image/png": "[encoded data removed]",
      "text/plain": [
       "<Figure size 640x480 with 1 Axes>"
      ]
     },
     "metadata": {},
     "output_type": "display_data"
    }
   ],
   "source": [
    "# box plot of seasonal temperatures (both years included)\n",
    "sns.boxplot(data=temperatures, y='temp', x='season');\n",
    "plt.xticks(ticks=[0, 1, 2, 3], labels=['winter', 'spring', 'summer', 'autumn']);"
   ]
  },
  {
   "cell_type": "code",
   "execution_count": 49,
   "id": "825795f4",
   "metadata": {},
   "outputs": [
    {
     "data": {
      "text/plain": [
       "Ttest_indResult(statistic=12.845540587052653, pvalue=2.002517160784336e-37)"
      ]
     },
     "execution_count": 49,
     "metadata": {},
     "output_type": "execute_result"
    }
   ],
   "source": [
    "# compare spring and autumn temperatures (as their have a common interval)\n",
    "temperatures_spring = temperatures[temperatures['season']==2]\n",
    "temperatures_autumn = temperatures[temperatures['season']==4]\n",
    "\n",
    "sps.ttest_ind(temperatures_spring['temp'], temperatures_autumn['atemp'], nan_policy='omit', equal_var=False)"
   ]
  },
  {
   "cell_type": "code",
   "execution_count": 50,
   "id": "868e8563",
   "metadata": {},
   "outputs": [],
   "source": [
    "# RESULTS: spring and autumn temperatures are different (as pvalue is less than alfa=0.05)"
   ]
  },
  {
   "cell_type": "markdown",
   "id": "bad174d6",
   "metadata": {},
   "source": [
    " "
   ]
  },
  {
   "cell_type": "markdown",
   "id": "40b37e60",
   "metadata": {},
   "source": [
    "### Example 3"
   ]
  },
  {
   "cell_type": "code",
   "execution_count": 44,
   "id": "93176ec6",
   "metadata": {},
   "outputs": [
    {
     "data": {
      "image/png": "[encoded data removed]",
      "text/plain": [
       "<Figure size 640x480 with 1 Axes>"
      ]
     },
     "metadata": {},
     "output_type": "display_data"
    }
   ],
   "source": [
    "# box plot of seasonal temperatures for different years (2011 and 2012)\n",
    "sns.boxplot(data=temperatures, y='temp', x='season', hue='year');\n",
    "plt.xticks(ticks=[0, 1, 2, 3], labels=['winter', 'spring', 'summer', 'autumn']);"
   ]
  },
  {
   "cell_type": "code",
   "execution_count": 55,
   "id": "f5010277",
   "metadata": {},
   "outputs": [
    {
     "data": {
      "text/plain": [
       "Ttest_indResult(statistic=-13.002904176746798, pvalue=6.20594200268096e-38)"
      ]
     },
     "execution_count": 55,
     "metadata": {},
     "output_type": "execute_result"
    }
   ],
   "source": [
    "# compare winter temperatures for 2011 and 2012\n",
    "\n",
    "temp_winter_2011 = temperatures[(temperatures['season']==1)&(temperatures['year']==2011)]\n",
    "temp_winter_2012 = temperatures[(temperatures['season']==1)&(temperatures['year']==2012)]\n",
    "\n",
    "sps.ttest_ind(temp_winter_2011['temp'], temp_winter_2012['temp'], nan_policy='omit', equal_var=False)   \n",
    "\n",
    "# -> Temperatures are DIFFERENT: pvalue < alfa (0.05)"
   ]
  },
  {
   "cell_type": "code",
   "execution_count": 56,
   "id": "bbef7983",
   "metadata": {},
   "outputs": [
    {
     "data": {
      "text/plain": [
       "Ttest_indResult(statistic=-4.803574967171726, pvalue=1.613351205024615e-06)"
      ]
     },
     "execution_count": 56,
     "metadata": {},
     "output_type": "execute_result"
    }
   ],
   "source": [
    "# compare spring temperatures for 2011 and 2012\n",
    "\n",
    "temp_spring_2011 = temperatures[(temperatures['season']==2)&(temperatures['year']==2011)]\n",
    "temp_spring_2012 = temperatures[(temperatures['season']==2)&(temperatures['year']==2012)]\n",
    "\n",
    "sps.ttest_ind(temp_spring_2011['temp'], temp_spring_2012['temp'], nan_policy='omit', equal_var=False)   \n",
    "\n",
    "# -> Temperatures are DIFFERENT: pvalue < alfa (0.05)"
   ]
  },
  {
   "cell_type": "code",
   "execution_count": 57,
   "id": "34858b31",
   "metadata": {},
   "outputs": [
    {
     "data": {
      "text/plain": [
       "Ttest_indResult(statistic=-3.612921985321197, pvalue=0.00030607687454285774)"
      ]
     },
     "execution_count": 57,
     "metadata": {},
     "output_type": "execute_result"
    }
   ],
   "source": [
    "# compare summer temperatures for 2011 and 2012\n",
    "\n",
    "temp_summer_2011 = temperatures[(temperatures['season']==3)&(temperatures['year']==2011)]\n",
    "temp_summer_2012 = temperatures[(temperatures['season']==3)&(temperatures['year']==2012)]\n",
    "\n",
    "sps.ttest_ind(temp_summer_2011['temp'], temp_summer_2012['temp'], nan_policy='omit', equal_var=False)   \n",
    "\n",
    "# -> Temperatures are DIFFERENT: pvalue < alfa (0.05)"
   ]
  },
  {
   "cell_type": "code",
   "execution_count": 58,
   "id": "2181fe77",
   "metadata": {},
   "outputs": [
    {
     "data": {
      "text/plain": [
       "Ttest_indResult(statistic=1.7277322971925952, pvalue=0.0841092333618878)"
      ]
     },
     "execution_count": 58,
     "metadata": {},
     "output_type": "execute_result"
    }
   ],
   "source": [
    "# compare autumn temperatures for 2011 and 2012\n",
    "\n",
    "temp_autumn_2011 = temperatures[(temperatures['season']==4)&(temperatures['year']==2011)]\n",
    "temp_autumn_2012 = temperatures[(temperatures['season']==4)&(temperatures['year']==2012)]\n",
    "\n",
    "sps.ttest_ind(temp_autumn_2011['temp'], temp_autumn_2012['temp'], nan_policy='omit', equal_var=False)   \n",
    "\n",
    "# -> Temperatures are SIMILAR: pvalue (0.08) > alfa (0.05)"
   ]
  },
  {
   "cell_type": "code",
   "execution_count": null,
   "id": "aa1b99f9",
   "metadata": {},
   "outputs": [],
   "source": []
  }
 ],
 "metadata": {
  "kernelspec": {
   "display_name": "Python 3 (ipykernel)",
   "language": "python",
   "name": "python3"
  },
  "language_info": {
   "codemirror_mode": {
    "name": "ipython",
    "version": 3
   },
   "file_extension": ".py",
   "mimetype": "text/x-python",
   "name": "python",
   "nbconvert_exporter": "python",
   "pygments_lexer": "ipython3",
   "version": "3.10.8"
  }
 },
 "nbformat": 4,
 "nbformat_minor": 5
}
