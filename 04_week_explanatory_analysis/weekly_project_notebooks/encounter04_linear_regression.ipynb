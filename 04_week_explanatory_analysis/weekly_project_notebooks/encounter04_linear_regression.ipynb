{
 "cells": [
  {
   "cell_type": "markdown",
   "id": "4af5116e",
   "metadata": {},
   "source": [
    "# WEEK 04\n",
    "# Encounter 04 - Linear Regression\n",
    "# Project Challenge"
   ]
  },
  {
   "cell_type": "markdown",
   "id": "fb85990c",
   "metadata": {},
   "source": [
    "## Task Description\n",
    "\n",
    "Perform the following tasks on this week’s bikes dataset:\n",
    "\n",
    "   1. Load the data in a pandas dataframe\n",
    "   2. Set the datetime column as the dataframe index\n",
    "   3. Subset the dataframe to extract the following columns: temp, atemp, humidity, windspeed and count\n",
    "   4. Generate a heatmap of the subset dataframe. Which of the features has the highest correlation with the count column ?\n",
    "   5. Using that feature from step. 4, build a simple linear regression model with count as the response variable. Calculate R2.\n",
    "   6. Add an additional feature from the subset dataframe and repeat step 5. Observe how the value R2 changed. How can this change be explained ?\n",
    "   7. Add the remaining two features and repeat step 6. Does the model get better when atemp is added as a feature ? why ?\n",
    "   8. What additional features can be added to improve the fit of the model ?\n",
    "\n",
    "**BONUS**\n",
    "\n",
    "   9. Use features that were extracted and binned in the datetime lesson to improve the r²r² score even further.\n"
   ]
  },
  {
   "cell_type": "code",
   "execution_count": 2,
   "id": "1ffb8760",
   "metadata": {},
   "outputs": [],
   "source": [
    "import statsmodels.formula.api as sm\n",
    "import pandas as pd\n",
    "import numpy as np\n",
    "import seaborn as sns\n",
    "import matplotlib.pyplot as plt"
   ]
  },
  {
   "cell_type": "code",
   "execution_count": 3,
   "id": "dae3dbd6",
   "metadata": {},
   "outputs": [
    {
     "data": {
      "text/html": [
       "<div>\n",
       "<style scoped>\n",
       "    .dataframe tbody tr th:only-of-type {\n",
       "        vertical-align: middle;\n",
       "    }\n",
       "\n",
       "    .dataframe tbody tr th {\n",
       "        vertical-align: top;\n",
       "    }\n",
       "\n",
       "    .dataframe thead th {\n",
       "        text-align: right;\n",
       "    }\n",
       "</style>\n",
       "<table border=\"1\" class=\"dataframe\">\n",
       "  <thead>\n",
       "    <tr style=\"text-align: right;\">\n",
       "      <th></th>\n",
       "      <th>season</th>\n",
       "      <th>holiday</th>\n",
       "      <th>workingday</th>\n",
       "      <th>weather</th>\n",
       "      <th>temp</th>\n",
       "      <th>atemp</th>\n",
       "      <th>humidity</th>\n",
       "      <th>windspeed</th>\n",
       "      <th>casual</th>\n",
       "      <th>registered</th>\n",
       "      <th>count</th>\n",
       "      <th>hour</th>\n",
       "      <th>month_name</th>\n",
       "      <th>day_of_week</th>\n",
       "      <th>year</th>\n",
       "      <th>part_of_day</th>\n",
       "    </tr>\n",
       "    <tr>\n",
       "      <th>datetime</th>\n",
       "      <th></th>\n",
       "      <th></th>\n",
       "      <th></th>\n",
       "      <th></th>\n",
       "      <th></th>\n",
       "      <th></th>\n",
       "      <th></th>\n",
       "      <th></th>\n",
       "      <th></th>\n",
       "      <th></th>\n",
       "      <th></th>\n",
       "      <th></th>\n",
       "      <th></th>\n",
       "      <th></th>\n",
       "      <th></th>\n",
       "      <th></th>\n",
       "    </tr>\n",
       "  </thead>\n",
       "  <tbody>\n",
       "    <tr>\n",
       "      <th>2011-01-01 00:00:00</th>\n",
       "      <td>1</td>\n",
       "      <td>0</td>\n",
       "      <td>0</td>\n",
       "      <td>1</td>\n",
       "      <td>9.84</td>\n",
       "      <td>14.395</td>\n",
       "      <td>81</td>\n",
       "      <td>0.0</td>\n",
       "      <td>3.0</td>\n",
       "      <td>13.0</td>\n",
       "      <td>16</td>\n",
       "      <td>0</td>\n",
       "      <td>January</td>\n",
       "      <td>Saturday</td>\n",
       "      <td>2011</td>\n",
       "      <td>night</td>\n",
       "    </tr>\n",
       "    <tr>\n",
       "      <th>2011-01-01 01:00:00</th>\n",
       "      <td>1</td>\n",
       "      <td>0</td>\n",
       "      <td>0</td>\n",
       "      <td>1</td>\n",
       "      <td>9.02</td>\n",
       "      <td>13.635</td>\n",
       "      <td>80</td>\n",
       "      <td>0.0</td>\n",
       "      <td>8.0</td>\n",
       "      <td>32.0</td>\n",
       "      <td>40</td>\n",
       "      <td>1</td>\n",
       "      <td>January</td>\n",
       "      <td>Saturday</td>\n",
       "      <td>2011</td>\n",
       "      <td>night</td>\n",
       "    </tr>\n",
       "    <tr>\n",
       "      <th>2011-01-01 02:00:00</th>\n",
       "      <td>1</td>\n",
       "      <td>0</td>\n",
       "      <td>0</td>\n",
       "      <td>1</td>\n",
       "      <td>9.02</td>\n",
       "      <td>13.635</td>\n",
       "      <td>80</td>\n",
       "      <td>0.0</td>\n",
       "      <td>5.0</td>\n",
       "      <td>27.0</td>\n",
       "      <td>32</td>\n",
       "      <td>2</td>\n",
       "      <td>January</td>\n",
       "      <td>Saturday</td>\n",
       "      <td>2011</td>\n",
       "      <td>night</td>\n",
       "    </tr>\n",
       "    <tr>\n",
       "      <th>2011-01-01 03:00:00</th>\n",
       "      <td>1</td>\n",
       "      <td>0</td>\n",
       "      <td>0</td>\n",
       "      <td>1</td>\n",
       "      <td>9.84</td>\n",
       "      <td>14.395</td>\n",
       "      <td>75</td>\n",
       "      <td>0.0</td>\n",
       "      <td>3.0</td>\n",
       "      <td>10.0</td>\n",
       "      <td>13</td>\n",
       "      <td>3</td>\n",
       "      <td>January</td>\n",
       "      <td>Saturday</td>\n",
       "      <td>2011</td>\n",
       "      <td>night</td>\n",
       "    </tr>\n",
       "    <tr>\n",
       "      <th>2011-01-01 04:00:00</th>\n",
       "      <td>1</td>\n",
       "      <td>0</td>\n",
       "      <td>0</td>\n",
       "      <td>1</td>\n",
       "      <td>9.84</td>\n",
       "      <td>14.395</td>\n",
       "      <td>75</td>\n",
       "      <td>0.0</td>\n",
       "      <td>0.0</td>\n",
       "      <td>1.0</td>\n",
       "      <td>1</td>\n",
       "      <td>4</td>\n",
       "      <td>January</td>\n",
       "      <td>Saturday</td>\n",
       "      <td>2011</td>\n",
       "      <td>night</td>\n",
       "    </tr>\n",
       "  </tbody>\n",
       "</table>\n",
       "</div>"
      ],
      "text/plain": [
       "                     season  holiday  workingday  weather  temp   atemp  \\\n",
       "datetime                                                                  \n",
       "2011-01-01 00:00:00       1        0           0        1  9.84  14.395   \n",
       "2011-01-01 01:00:00       1        0           0        1  9.02  13.635   \n",
       "2011-01-01 02:00:00       1        0           0        1  9.02  13.635   \n",
       "2011-01-01 03:00:00       1        0           0        1  9.84  14.395   \n",
       "2011-01-01 04:00:00       1        0           0        1  9.84  14.395   \n",
       "\n",
       "                     humidity  windspeed  casual  registered  count  hour  \\\n",
       "datetime                                                                    \n",
       "2011-01-01 00:00:00        81        0.0     3.0        13.0     16     0   \n",
       "2011-01-01 01:00:00        80        0.0     8.0        32.0     40     1   \n",
       "2011-01-01 02:00:00        80        0.0     5.0        27.0     32     2   \n",
       "2011-01-01 03:00:00        75        0.0     3.0        10.0     13     3   \n",
       "2011-01-01 04:00:00        75        0.0     0.0         1.0      1     4   \n",
       "\n",
       "                    month_name day_of_week  year part_of_day  \n",
       "datetime                                                      \n",
       "2011-01-01 00:00:00    January    Saturday  2011       night  \n",
       "2011-01-01 01:00:00    January    Saturday  2011       night  \n",
       "2011-01-01 02:00:00    January    Saturday  2011       night  \n",
       "2011-01-01 03:00:00    January    Saturday  2011       night  \n",
       "2011-01-01 04:00:00    January    Saturday  2011       night  "
      ]
     },
     "execution_count": 3,
     "metadata": {},
     "output_type": "execute_result"
    }
   ],
   "source": [
    "# 1. Load the data in a pandas dataframe\n",
    "# 2. Set the datetime column as the dataframe index\n",
    "\n",
    "bikes = pd.read_csv('../data/bikes_with_bins.csv', index_col='datetime', parse_dates=True)\n",
    "bikes.head()"
   ]
  },
  {
   "cell_type": "code",
   "execution_count": 4,
   "id": "1b65a2f1",
   "metadata": {},
   "outputs": [
    {
     "name": "stdout",
     "output_type": "stream",
     "text": [
      "<class 'pandas.core.frame.DataFrame'>\n",
      "DatetimeIndex: 17379 entries, 2011-01-01 00:00:00 to 2012-12-31 23:00:00\n",
      "Data columns (total 16 columns):\n",
      " #   Column       Non-Null Count  Dtype  \n",
      "---  ------       --------------  -----  \n",
      " 0   season       17379 non-null  int64  \n",
      " 1   holiday      17379 non-null  int64  \n",
      " 2   workingday   17379 non-null  int64  \n",
      " 3   weather      17379 non-null  int64  \n",
      " 4   temp         17379 non-null  float64\n",
      " 5   atemp        17379 non-null  float64\n",
      " 6   humidity     17379 non-null  int64  \n",
      " 7   windspeed    17379 non-null  float64\n",
      " 8   casual       10886 non-null  float64\n",
      " 9   registered   10886 non-null  float64\n",
      " 10  count        17379 non-null  int64  \n",
      " 11  hour         17379 non-null  int64  \n",
      " 12  month_name   17379 non-null  object \n",
      " 13  day_of_week  17379 non-null  object \n",
      " 14  year         17379 non-null  int64  \n",
      " 15  part_of_day  17379 non-null  object \n",
      "dtypes: float64(5), int64(8), object(3)\n",
      "memory usage: 2.3+ MB\n"
     ]
    }
   ],
   "source": [
    "bikes.info()"
   ]
  },
  {
   "cell_type": "code",
   "execution_count": 5,
   "id": "2a695b5e",
   "metadata": {},
   "outputs": [
    {
     "data": {
      "text/html": [
       "<div>\n",
       "<style scoped>\n",
       "    .dataframe tbody tr th:only-of-type {\n",
       "        vertical-align: middle;\n",
       "    }\n",
       "\n",
       "    .dataframe tbody tr th {\n",
       "        vertical-align: top;\n",
       "    }\n",
       "\n",
       "    .dataframe thead th {\n",
       "        text-align: right;\n",
       "    }\n",
       "</style>\n",
       "<table border=\"1\" class=\"dataframe\">\n",
       "  <thead>\n",
       "    <tr style=\"text-align: right;\">\n",
       "      <th></th>\n",
       "      <th>temp</th>\n",
       "      <th>atemp</th>\n",
       "      <th>humidity</th>\n",
       "      <th>windspeed</th>\n",
       "      <th>count</th>\n",
       "    </tr>\n",
       "    <tr>\n",
       "      <th>datetime</th>\n",
       "      <th></th>\n",
       "      <th></th>\n",
       "      <th></th>\n",
       "      <th></th>\n",
       "      <th></th>\n",
       "    </tr>\n",
       "  </thead>\n",
       "  <tbody>\n",
       "    <tr>\n",
       "      <th>2011-01-01 00:00:00</th>\n",
       "      <td>9.84</td>\n",
       "      <td>14.395</td>\n",
       "      <td>81</td>\n",
       "      <td>0.0</td>\n",
       "      <td>16</td>\n",
       "    </tr>\n",
       "    <tr>\n",
       "      <th>2011-01-01 01:00:00</th>\n",
       "      <td>9.02</td>\n",
       "      <td>13.635</td>\n",
       "      <td>80</td>\n",
       "      <td>0.0</td>\n",
       "      <td>40</td>\n",
       "    </tr>\n",
       "    <tr>\n",
       "      <th>2011-01-01 02:00:00</th>\n",
       "      <td>9.02</td>\n",
       "      <td>13.635</td>\n",
       "      <td>80</td>\n",
       "      <td>0.0</td>\n",
       "      <td>32</td>\n",
       "    </tr>\n",
       "    <tr>\n",
       "      <th>2011-01-01 03:00:00</th>\n",
       "      <td>9.84</td>\n",
       "      <td>14.395</td>\n",
       "      <td>75</td>\n",
       "      <td>0.0</td>\n",
       "      <td>13</td>\n",
       "    </tr>\n",
       "    <tr>\n",
       "      <th>2011-01-01 04:00:00</th>\n",
       "      <td>9.84</td>\n",
       "      <td>14.395</td>\n",
       "      <td>75</td>\n",
       "      <td>0.0</td>\n",
       "      <td>1</td>\n",
       "    </tr>\n",
       "  </tbody>\n",
       "</table>\n",
       "</div>"
      ],
      "text/plain": [
       "                     temp   atemp  humidity  windspeed  count\n",
       "datetime                                                     \n",
       "2011-01-01 00:00:00  9.84  14.395        81        0.0     16\n",
       "2011-01-01 01:00:00  9.02  13.635        80        0.0     40\n",
       "2011-01-01 02:00:00  9.02  13.635        80        0.0     32\n",
       "2011-01-01 03:00:00  9.84  14.395        75        0.0     13\n",
       "2011-01-01 04:00:00  9.84  14.395        75        0.0      1"
      ]
     },
     "execution_count": 5,
     "metadata": {},
     "output_type": "execute_result"
    }
   ],
   "source": [
    "# 3. Subset the dataframe to extract the following columns: temp, atemp, humidity, windspeed and count\n",
    "bikes_weather = bikes[['temp', 'atemp', 'humidity', 'windspeed', 'count']]\n",
    "bikes_weather.head()"
   ]
  },
  {
   "cell_type": "code",
   "execution_count": 6,
   "id": "8801e397",
   "metadata": {},
   "outputs": [
    {
     "name": "stdout",
     "output_type": "stream",
     "text": [
      "<class 'pandas.core.frame.DataFrame'>\n",
      "DatetimeIndex: 17379 entries, 2011-01-01 00:00:00 to 2012-12-31 23:00:00\n",
      "Data columns (total 5 columns):\n",
      " #   Column     Non-Null Count  Dtype  \n",
      "---  ------     --------------  -----  \n",
      " 0   temp       17379 non-null  float64\n",
      " 1   atemp      17379 non-null  float64\n",
      " 2   humidity   17379 non-null  int64  \n",
      " 3   windspeed  17379 non-null  float64\n",
      " 4   count      17379 non-null  int64  \n",
      "dtypes: float64(3), int64(2)\n",
      "memory usage: 814.6 KB\n"
     ]
    }
   ],
   "source": [
    "bikes_weather.info()"
   ]
  },
  {
   "cell_type": "markdown",
   "id": "22b0e05f",
   "metadata": {},
   "source": [
    "### 4. Generate a heatmap of the subset dataframe. Which of the features has the highest correlation with the count column ?"
   ]
  },
  {
   "cell_type": "code",
   "execution_count": 8,
   "id": "f974d007",
   "metadata": {},
   "outputs": [
    {
     "data": {
      "text/html": [
       "<div>\n",
       "<style scoped>\n",
       "    .dataframe tbody tr th:only-of-type {\n",
       "        vertical-align: middle;\n",
       "    }\n",
       "\n",
       "    .dataframe tbody tr th {\n",
       "        vertical-align: top;\n",
       "    }\n",
       "\n",
       "    .dataframe thead th {\n",
       "        text-align: right;\n",
       "    }\n",
       "</style>\n",
       "<table border=\"1\" class=\"dataframe\">\n",
       "  <thead>\n",
       "    <tr style=\"text-align: right;\">\n",
       "      <th></th>\n",
       "      <th>temp</th>\n",
       "      <th>atemp</th>\n",
       "      <th>humidity</th>\n",
       "      <th>windspeed</th>\n",
       "      <th>count</th>\n",
       "    </tr>\n",
       "  </thead>\n",
       "  <tbody>\n",
       "    <tr>\n",
       "      <th>temp</th>\n",
       "      <td>1.000000</td>\n",
       "      <td>0.987672</td>\n",
       "      <td>-0.069881</td>\n",
       "      <td>-0.023125</td>\n",
       "      <td>0.414713</td>\n",
       "    </tr>\n",
       "    <tr>\n",
       "      <th>atemp</th>\n",
       "      <td>0.987672</td>\n",
       "      <td>1.000000</td>\n",
       "      <td>-0.051918</td>\n",
       "      <td>-0.062336</td>\n",
       "      <td>0.411854</td>\n",
       "    </tr>\n",
       "    <tr>\n",
       "      <th>humidity</th>\n",
       "      <td>-0.069881</td>\n",
       "      <td>-0.051918</td>\n",
       "      <td>1.000000</td>\n",
       "      <td>-0.290105</td>\n",
       "      <td>-0.329615</td>\n",
       "    </tr>\n",
       "    <tr>\n",
       "      <th>windspeed</th>\n",
       "      <td>-0.023125</td>\n",
       "      <td>-0.062336</td>\n",
       "      <td>-0.290105</td>\n",
       "      <td>1.000000</td>\n",
       "      <td>0.099909</td>\n",
       "    </tr>\n",
       "    <tr>\n",
       "      <th>count</th>\n",
       "      <td>0.414713</td>\n",
       "      <td>0.411854</td>\n",
       "      <td>-0.329615</td>\n",
       "      <td>0.099909</td>\n",
       "      <td>1.000000</td>\n",
       "    </tr>\n",
       "  </tbody>\n",
       "</table>\n",
       "</div>"
      ],
      "text/plain": [
       "               temp     atemp  humidity  windspeed     count\n",
       "temp       1.000000  0.987672 -0.069881  -0.023125  0.414713\n",
       "atemp      0.987672  1.000000 -0.051918  -0.062336  0.411854\n",
       "humidity  -0.069881 -0.051918  1.000000  -0.290105 -0.329615\n",
       "windspeed -0.023125 -0.062336 -0.290105   1.000000  0.099909\n",
       "count      0.414713  0.411854 -0.329615   0.099909  1.000000"
      ]
     },
     "execution_count": 8,
     "metadata": {},
     "output_type": "execute_result"
    }
   ],
   "source": [
    "bikes_weather.corr()"
   ]
  },
  {
   "cell_type": "code",
   "execution_count": 10,
   "id": "06f8d658",
   "metadata": {},
   "outputs": [
    {
     "data": {
      "text/plain": [
       "<AxesSubplot: >"
      ]
     },
     "execution_count": 10,
     "metadata": {},
     "output_type": "execute_result"
    },
    {
     "data": {
      "image/png": "[encoded data removed]",
      "text/plain": [
       "<Figure size 640x480 with 2 Axes>"
      ]
     },
     "metadata": {},
     "output_type": "display_data"
    }
   ],
   "source": [
    "sns.heatmap(bikes_weather.corr(), annot=True)"
   ]
  },
  {
   "cell_type": "markdown",
   "id": "f6d643e6",
   "metadata": {},
   "source": [
    "### 5. Using that feature from step. 4, build a simple linear regression model with count as the response variable. Calculate R2.\n"
   ]
  },
  {
   "cell_type": "code",
   "execution_count": 15,
   "id": "4f2c36f3",
   "metadata": {},
   "outputs": [],
   "source": [
    "# Building a linear regression model using one independent variable\n",
    "model1 = sm.ols(formula='count ~ temp', data=bikes_weather).fit()"
   ]
  },
  {
   "cell_type": "code",
   "execution_count": 16,
   "id": "7aba7859",
   "metadata": {},
   "outputs": [
    {
     "data": {
      "text/plain": [
       "0.1719871643018619"
      ]
     },
     "execution_count": 16,
     "metadata": {},
     "output_type": "execute_result"
    }
   ],
   "source": [
    "model1.rsquared"
   ]
  },
  {
   "cell_type": "markdown",
   "id": "7e6be1d2",
   "metadata": {},
   "source": [
    "### 6. Add an additional feature from the subset dataframe and repeat step 5. Observe how the value R2 changed. How can this change be explained ?"
   ]
  },
  {
   "cell_type": "code",
   "execution_count": 17,
   "id": "c94dd6b1",
   "metadata": {},
   "outputs": [
    {
     "data": {
      "text/plain": [
       "0.17219441705303484"
      ]
     },
     "execution_count": 17,
     "metadata": {},
     "output_type": "execute_result"
    }
   ],
   "source": [
    "model2 = sm.ols(formula='count ~ temp + atemp', data=bikes_weather).fit()\n",
    "model2.rsquared"
   ]
  },
  {
   "cell_type": "markdown",
   "id": "49473154",
   "metadata": {},
   "source": [
    "### 7. Add the remaining two features and repeat step 6. Does the model get better when atemp is added as a feature ? why ?"
   ]
  },
  {
   "cell_type": "code",
   "execution_count": 18,
   "id": "7251fea2",
   "metadata": {},
   "outputs": [
    {
     "data": {
      "text/plain": [
       "0.26626505184252525"
      ]
     },
     "execution_count": 18,
     "metadata": {},
     "output_type": "execute_result"
    }
   ],
   "source": [
    "model3 = sm.ols(formula='count ~ temp + atemp + humidity + windspeed', data=bikes_weather).fit()\n",
    "model3.rsquared"
   ]
  },
  {
   "cell_type": "markdown",
   "id": "c17d84ce",
   "metadata": {},
   "source": [
    "### 8. What additional features can be added to improve the fit of the model ?"
   ]
  },
  {
   "cell_type": "code",
   "execution_count": 24,
   "id": "a67b5dc7",
   "metadata": {},
   "outputs": [
    {
     "data": {
      "text/plain": [
       "0.36089909636389517"
      ]
     },
     "execution_count": 24,
     "metadata": {},
     "output_type": "execute_result"
    }
   ],
   "source": [
    "# adding 'hour' and 'year' to the model\n",
    "# rsquared changes: 0.266 -> 0.360\n",
    "model4 = sm.ols(formula='count ~ temp + atemp + humidity + windspeed + hour + year', data=bikes).fit()\n",
    "model4.rsquared"
   ]
  },
  {
   "cell_type": "markdown",
   "id": "1ebb69fd",
   "metadata": {},
   "source": [
    " "
   ]
  },
  {
   "cell_type": "markdown",
   "id": "b751cf86",
   "metadata": {},
   "source": [
    "### BONUS"
   ]
  },
  {
   "cell_type": "markdown",
   "id": "e02f1a49",
   "metadata": {},
   "source": [
    "### 9. Use features that were extracted and binned in the datetime lesson to improve the r²r² score even further."
   ]
  },
  {
   "cell_type": "code",
   "execution_count": 25,
   "id": "5cf36e67",
   "metadata": {},
   "outputs": [
    {
     "data": {
      "text/plain": [
       "0.3936775084599523"
      ]
     },
     "execution_count": 25,
     "metadata": {},
     "output_type": "execute_result"
    }
   ],
   "source": [
    "# adding month_name\n",
    "# leads to a small enhancement!\n",
    "# rsquared changes: 0.360 -> 0.393\n",
    "model5 = sm.ols(formula='count ~ temp + atemp + humidity + windspeed + hour + year + month_name', data=bikes).fit()\n",
    "model5.rsquared"
   ]
  },
  {
   "cell_type": "code",
   "execution_count": 26,
   "id": "47767f8e",
   "metadata": {},
   "outputs": [
    {
     "data": {
      "text/plain": [
       "0.3630109618543108"
      ]
     },
     "execution_count": 26,
     "metadata": {},
     "output_type": "execute_result"
    }
   ],
   "source": [
    "# adding day_of_week\n",
    "# enhancement is not essential\n",
    "# rsquared changes: 0.360 -> 0.363\n",
    "model6 = sm.ols(formula='count ~ temp + atemp + humidity + windspeed + hour + year + day_of_week', data=bikes).fit()\n",
    "model6.rsquared"
   ]
  },
  {
   "cell_type": "code",
   "execution_count": 27,
   "id": "86cf8b0e",
   "metadata": {},
   "outputs": [
    {
     "data": {
      "text/plain": [
       "0.5012838184100361"
      ]
     },
     "execution_count": 27,
     "metadata": {},
     "output_type": "execute_result"
    }
   ],
   "source": [
    "# adding part_of_day\n",
    "# has the maximum influence on the model (among binned features)\n",
    "# rsquared changes: 0.360 -> 0.501\n",
    "model7 = sm.ols(formula='count ~ temp + atemp + humidity + windspeed + hour + year + part_of_day', data=bikes).fit()\n",
    "model7.rsquared"
   ]
  },
  {
   "cell_type": "code",
   "execution_count": 28,
   "id": "25455885",
   "metadata": {},
   "outputs": [
    {
     "data": {
      "text/plain": [
       "0.5273867703658861"
      ]
     },
     "execution_count": 28,
     "metadata": {},
     "output_type": "execute_result"
    }
   ],
   "source": [
    "# adding all binned features\n",
    "# rsquared changes: 0.360 -> 0.527\n",
    "model8 = sm.ols(formula='count ~ temp + atemp + humidity + windspeed + hour + year + month_name + day_of_week + part_of_day', data=bikes).fit()\n",
    "model8.rsquared"
   ]
  },
  {
   "cell_type": "code",
   "execution_count": null,
   "id": "d276ae67",
   "metadata": {},
   "outputs": [],
   "source": []
  }
 ],
 "metadata": {
  "kernelspec": {
   "display_name": "Python 3 (ipykernel)",
   "language": "python",
   "name": "python3"
  },
  "language_info": {
   "codemirror_mode": {
    "name": "ipython",
    "version": 3
   },
   "file_extension": ".py",
   "mimetype": "text/x-python",
   "name": "python",
   "nbconvert_exporter": "python",
   "pygments_lexer": "ipython3",
   "version": "3.10.8"
  }
 },
 "nbformat": 4,
 "nbformat_minor": 5
}
