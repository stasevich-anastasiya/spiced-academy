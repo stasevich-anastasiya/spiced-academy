{
 "cells": [
  {
   "cell_type": "markdown",
   "id": "f7556eaa",
   "metadata": {},
   "source": [
    "# WEEK 04\n",
    "# Encounter 03 - Metrics and KPIs\n",
    "# Project Challenge - Error Metrics on a naive forecast"
   ]
  },
  {
   "cell_type": "markdown",
   "id": "f312e544",
   "metadata": {},
   "source": [
    "## Task Description\n",
    "\n",
    "With regard to the bikes dataset a ’naive’ forecast would be to use the count from the year before to predict the next year. Use the count from May 2011 as a forecast for May 2012 and check how far off the predictions are:\n",
    "\n",
    "   1. Filter the dataset for May 2011 and the count column\n",
    "   2. Filter the dataset for May 2012 and the count column\n",
    "   3. Use the above results as the input for `rmse`\n",
    "   4. How far off on average was this naive prediction?\n",
    "\n",
    "**Bonus:**\n",
    "\n",
    "    How could the results be improved?\n",
    "\n",
    "Save your work in a notebook.\n"
   ]
  },
  {
   "cell_type": "code",
   "execution_count": 1,
   "id": "dad8d3b2",
   "metadata": {},
   "outputs": [],
   "source": [
    "import pandas as pd\n",
    "from sklearn.metrics import mean_squared_error\n",
    "import math"
   ]
  },
  {
   "cell_type": "code",
   "execution_count": 2,
   "id": "d2ea5198",
   "metadata": {},
   "outputs": [
    {
     "data": {
      "text/html": [
       "<div>\n",
       "<style scoped>\n",
       "    .dataframe tbody tr th:only-of-type {\n",
       "        vertical-align: middle;\n",
       "    }\n",
       "\n",
       "    .dataframe tbody tr th {\n",
       "        vertical-align: top;\n",
       "    }\n",
       "\n",
       "    .dataframe thead th {\n",
       "        text-align: right;\n",
       "    }\n",
       "</style>\n",
       "<table border=\"1\" class=\"dataframe\">\n",
       "  <thead>\n",
       "    <tr style=\"text-align: right;\">\n",
       "      <th></th>\n",
       "      <th>datetime</th>\n",
       "      <th>season</th>\n",
       "      <th>holiday</th>\n",
       "      <th>workingday</th>\n",
       "      <th>weather</th>\n",
       "      <th>temp</th>\n",
       "      <th>atemp</th>\n",
       "      <th>humidity</th>\n",
       "      <th>windspeed</th>\n",
       "      <th>casual</th>\n",
       "      <th>registered</th>\n",
       "      <th>count</th>\n",
       "      <th>hour</th>\n",
       "      <th>month_name</th>\n",
       "      <th>day_of_week</th>\n",
       "      <th>year</th>\n",
       "      <th>part_of_day</th>\n",
       "    </tr>\n",
       "  </thead>\n",
       "  <tbody>\n",
       "    <tr>\n",
       "      <th>14899</th>\n",
       "      <td>2012-09-18 00:00:00</td>\n",
       "      <td>3</td>\n",
       "      <td>0</td>\n",
       "      <td>1</td>\n",
       "      <td>3</td>\n",
       "      <td>24.60</td>\n",
       "      <td>25.760</td>\n",
       "      <td>94</td>\n",
       "      <td>16.9979</td>\n",
       "      <td>2.0</td>\n",
       "      <td>11.0</td>\n",
       "      <td>13</td>\n",
       "      <td>0</td>\n",
       "      <td>September</td>\n",
       "      <td>Tuesday</td>\n",
       "      <td>2012</td>\n",
       "      <td>night</td>\n",
       "    </tr>\n",
       "    <tr>\n",
       "      <th>6232</th>\n",
       "      <td>2011-09-22 06:00:00</td>\n",
       "      <td>3</td>\n",
       "      <td>0</td>\n",
       "      <td>1</td>\n",
       "      <td>2</td>\n",
       "      <td>24.60</td>\n",
       "      <td>25.000</td>\n",
       "      <td>100</td>\n",
       "      <td>8.9981</td>\n",
       "      <td>NaN</td>\n",
       "      <td>NaN</td>\n",
       "      <td>114</td>\n",
       "      <td>6</td>\n",
       "      <td>September</td>\n",
       "      <td>Thursday</td>\n",
       "      <td>2011</td>\n",
       "      <td>morning</td>\n",
       "    </tr>\n",
       "    <tr>\n",
       "      <th>13347</th>\n",
       "      <td>2012-07-15 08:00:00</td>\n",
       "      <td>3</td>\n",
       "      <td>0</td>\n",
       "      <td>0</td>\n",
       "      <td>2</td>\n",
       "      <td>28.70</td>\n",
       "      <td>33.335</td>\n",
       "      <td>84</td>\n",
       "      <td>8.9981</td>\n",
       "      <td>37.0</td>\n",
       "      <td>96.0</td>\n",
       "      <td>133</td>\n",
       "      <td>8</td>\n",
       "      <td>July</td>\n",
       "      <td>Sunday</td>\n",
       "      <td>2012</td>\n",
       "      <td>morning</td>\n",
       "    </tr>\n",
       "    <tr>\n",
       "      <th>2513</th>\n",
       "      <td>2011-04-19 15:00:00</td>\n",
       "      <td>2</td>\n",
       "      <td>0</td>\n",
       "      <td>1</td>\n",
       "      <td>2</td>\n",
       "      <td>22.14</td>\n",
       "      <td>25.760</td>\n",
       "      <td>65</td>\n",
       "      <td>11.0014</td>\n",
       "      <td>44.0</td>\n",
       "      <td>83.0</td>\n",
       "      <td>127</td>\n",
       "      <td>15</td>\n",
       "      <td>April</td>\n",
       "      <td>Tuesday</td>\n",
       "      <td>2011</td>\n",
       "      <td>afternoon</td>\n",
       "    </tr>\n",
       "    <tr>\n",
       "      <th>2482</th>\n",
       "      <td>2011-04-18 08:00:00</td>\n",
       "      <td>2</td>\n",
       "      <td>0</td>\n",
       "      <td>1</td>\n",
       "      <td>1</td>\n",
       "      <td>18.86</td>\n",
       "      <td>22.725</td>\n",
       "      <td>63</td>\n",
       "      <td>0.0000</td>\n",
       "      <td>20.0</td>\n",
       "      <td>277.0</td>\n",
       "      <td>297</td>\n",
       "      <td>8</td>\n",
       "      <td>April</td>\n",
       "      <td>Monday</td>\n",
       "      <td>2011</td>\n",
       "      <td>morning</td>\n",
       "    </tr>\n",
       "    <tr>\n",
       "      <th>8309</th>\n",
       "      <td>2011-12-17 21:00:00</td>\n",
       "      <td>4</td>\n",
       "      <td>0</td>\n",
       "      <td>0</td>\n",
       "      <td>1</td>\n",
       "      <td>8.20</td>\n",
       "      <td>10.605</td>\n",
       "      <td>75</td>\n",
       "      <td>11.0014</td>\n",
       "      <td>8.0</td>\n",
       "      <td>88.0</td>\n",
       "      <td>96</td>\n",
       "      <td>21</td>\n",
       "      <td>December</td>\n",
       "      <td>Saturday</td>\n",
       "      <td>2011</td>\n",
       "      <td>evening</td>\n",
       "    </tr>\n",
       "    <tr>\n",
       "      <th>7652</th>\n",
       "      <td>2011-11-20 11:00:00</td>\n",
       "      <td>4</td>\n",
       "      <td>0</td>\n",
       "      <td>0</td>\n",
       "      <td>2</td>\n",
       "      <td>20.50</td>\n",
       "      <td>24.240</td>\n",
       "      <td>63</td>\n",
       "      <td>7.0015</td>\n",
       "      <td>NaN</td>\n",
       "      <td>NaN</td>\n",
       "      <td>406</td>\n",
       "      <td>11</td>\n",
       "      <td>November</td>\n",
       "      <td>Sunday</td>\n",
       "      <td>2011</td>\n",
       "      <td>morning</td>\n",
       "    </tr>\n",
       "    <tr>\n",
       "      <th>10293</th>\n",
       "      <td>2012-03-09 23:00:00</td>\n",
       "      <td>1</td>\n",
       "      <td>0</td>\n",
       "      <td>1</td>\n",
       "      <td>1</td>\n",
       "      <td>13.12</td>\n",
       "      <td>15.150</td>\n",
       "      <td>33</td>\n",
       "      <td>19.9995</td>\n",
       "      <td>9.0</td>\n",
       "      <td>77.0</td>\n",
       "      <td>86</td>\n",
       "      <td>23</td>\n",
       "      <td>March</td>\n",
       "      <td>Friday</td>\n",
       "      <td>2012</td>\n",
       "      <td>night</td>\n",
       "    </tr>\n",
       "    <tr>\n",
       "      <th>1891</th>\n",
       "      <td>2011-03-24 14:00:00</td>\n",
       "      <td>2</td>\n",
       "      <td>0</td>\n",
       "      <td>1</td>\n",
       "      <td>2</td>\n",
       "      <td>12.30</td>\n",
       "      <td>15.150</td>\n",
       "      <td>70</td>\n",
       "      <td>8.9981</td>\n",
       "      <td>NaN</td>\n",
       "      <td>NaN</td>\n",
       "      <td>70</td>\n",
       "      <td>14</td>\n",
       "      <td>March</td>\n",
       "      <td>Thursday</td>\n",
       "      <td>2011</td>\n",
       "      <td>afternoon</td>\n",
       "    </tr>\n",
       "    <tr>\n",
       "      <th>12199</th>\n",
       "      <td>2012-05-28 12:00:00</td>\n",
       "      <td>2</td>\n",
       "      <td>1</td>\n",
       "      <td>0</td>\n",
       "      <td>1</td>\n",
       "      <td>31.16</td>\n",
       "      <td>35.605</td>\n",
       "      <td>62</td>\n",
       "      <td>8.9981</td>\n",
       "      <td>NaN</td>\n",
       "      <td>NaN</td>\n",
       "      <td>378</td>\n",
       "      <td>12</td>\n",
       "      <td>May</td>\n",
       "      <td>Monday</td>\n",
       "      <td>2012</td>\n",
       "      <td>morning</td>\n",
       "    </tr>\n",
       "  </tbody>\n",
       "</table>\n",
       "</div>"
      ],
      "text/plain": [
       "                  datetime  season  holiday  workingday  weather   temp  \\\n",
       "14899  2012-09-18 00:00:00       3        0           1        3  24.60   \n",
       "6232   2011-09-22 06:00:00       3        0           1        2  24.60   \n",
       "13347  2012-07-15 08:00:00       3        0           0        2  28.70   \n",
       "2513   2011-04-19 15:00:00       2        0           1        2  22.14   \n",
       "2482   2011-04-18 08:00:00       2        0           1        1  18.86   \n",
       "8309   2011-12-17 21:00:00       4        0           0        1   8.20   \n",
       "7652   2011-11-20 11:00:00       4        0           0        2  20.50   \n",
       "10293  2012-03-09 23:00:00       1        0           1        1  13.12   \n",
       "1891   2011-03-24 14:00:00       2        0           1        2  12.30   \n",
       "12199  2012-05-28 12:00:00       2        1           0        1  31.16   \n",
       "\n",
       "        atemp  humidity  windspeed  casual  registered  count  hour  \\\n",
       "14899  25.760        94    16.9979     2.0        11.0     13     0   \n",
       "6232   25.000       100     8.9981     NaN         NaN    114     6   \n",
       "13347  33.335        84     8.9981    37.0        96.0    133     8   \n",
       "2513   25.760        65    11.0014    44.0        83.0    127    15   \n",
       "2482   22.725        63     0.0000    20.0       277.0    297     8   \n",
       "8309   10.605        75    11.0014     8.0        88.0     96    21   \n",
       "7652   24.240        63     7.0015     NaN         NaN    406    11   \n",
       "10293  15.150        33    19.9995     9.0        77.0     86    23   \n",
       "1891   15.150        70     8.9981     NaN         NaN     70    14   \n",
       "12199  35.605        62     8.9981     NaN         NaN    378    12   \n",
       "\n",
       "      month_name day_of_week  year part_of_day  \n",
       "14899  September     Tuesday  2012       night  \n",
       "6232   September    Thursday  2011     morning  \n",
       "13347       July      Sunday  2012     morning  \n",
       "2513       April     Tuesday  2011   afternoon  \n",
       "2482       April      Monday  2011     morning  \n",
       "8309    December    Saturday  2011     evening  \n",
       "7652    November      Sunday  2011     morning  \n",
       "10293      March      Friday  2012       night  \n",
       "1891       March    Thursday  2011   afternoon  \n",
       "12199        May      Monday  2012     morning  "
      ]
     },
     "execution_count": 2,
     "metadata": {},
     "output_type": "execute_result"
    }
   ],
   "source": [
    "# reading 'bikes' dataset from csv-file\n",
    "bikes = pd.read_csv('../data/bikes_with_bins.csv')\n",
    "bikes.sample(10)"
   ]
  },
  {
   "cell_type": "code",
   "execution_count": 3,
   "id": "0ca86de4",
   "metadata": {},
   "outputs": [],
   "source": [
    "# makind 'datetime' as datetyme dtype\n",
    "bikes['datetime'] = pd.to_datetime(bikes['datetime'])"
   ]
  },
  {
   "cell_type": "markdown",
   "id": "9658108c",
   "metadata": {},
   "source": [
    " "
   ]
  },
  {
   "cell_type": "markdown",
   "id": "8289109e",
   "metadata": {},
   "source": [
    "### 1. Filter the dataset for May 2011 and the count column"
   ]
  },
  {
   "cell_type": "code",
   "execution_count": 4,
   "id": "df0d966d",
   "metadata": {},
   "outputs": [
    {
     "data": {
      "text/plain": [
       "(744, 2)"
      ]
     },
     "execution_count": 4,
     "metadata": {},
     "output_type": "execute_result"
    }
   ],
   "source": [
    "# filtering data using a boolean mask\n",
    "mask_2011 = (bikes['year']==2011) & (bikes['month_name']=='May')\n",
    "bikes_may_2011 = bikes[mask_2011][['datetime', 'count']]\n",
    "bikes_may_2011.shape"
   ]
  },
  {
   "cell_type": "markdown",
   "id": "b31133f9",
   "metadata": {},
   "source": [
    "### 2. Filter the dataset for May 2012 and the count column"
   ]
  },
  {
   "cell_type": "code",
   "execution_count": 5,
   "id": "68bc311b",
   "metadata": {},
   "outputs": [
    {
     "data": {
      "text/plain": [
       "(744, 2)"
      ]
     },
     "execution_count": 5,
     "metadata": {},
     "output_type": "execute_result"
    }
   ],
   "source": [
    "mask_2012 = (bikes['year']==2012) & (bikes['month_name']=='May')\n",
    "bikes_may_2012 = bikes[mask_2012][['datetime', 'count']]\n",
    "bikes_may_2012.shape"
   ]
  },
  {
   "cell_type": "markdown",
   "id": "f5bd8970",
   "metadata": {},
   "source": [
    "### 3. Use the above results as the input for rmse"
   ]
  },
  {
   "cell_type": "code",
   "execution_count": 6,
   "id": "5ee20168",
   "metadata": {},
   "outputs": [
    {
     "data": {
      "text/plain": [
       "28459.47177419355"
      ]
     },
     "execution_count": 6,
     "metadata": {},
     "output_type": "execute_result"
    }
   ],
   "source": [
    "# getting MSE\n",
    "mse = mean_squared_error(bikes_may_2011['count'], bikes_may_2012['count'])\n",
    "mse"
   ]
  },
  {
   "cell_type": "code",
   "execution_count": 7,
   "id": "c16d719d",
   "metadata": {},
   "outputs": [
    {
     "data": {
      "text/plain": [
       "168.69935321213757"
      ]
     },
     "execution_count": 7,
     "metadata": {},
     "output_type": "execute_result"
    }
   ],
   "source": [
    "# getting RMSE using MSE\n",
    "rmse = math.sqrt(mse)\n",
    "rmse"
   ]
  },
  {
   "cell_type": "markdown",
   "id": "c161d35b",
   "metadata": {},
   "source": [
    " "
   ]
  },
  {
   "cell_type": "markdown",
   "id": "745308ec",
   "metadata": {},
   "source": [
    "### 4. How far off on average was this naive prediction?"
   ]
  },
  {
   "cell_type": "code",
   "execution_count": 8,
   "id": "20baf835",
   "metadata": {},
   "outputs": [
    {
     "data": {
      "text/html": [
       "<div>\n",
       "<style scoped>\n",
       "    .dataframe tbody tr th:only-of-type {\n",
       "        vertical-align: middle;\n",
       "    }\n",
       "\n",
       "    .dataframe tbody tr th {\n",
       "        vertical-align: top;\n",
       "    }\n",
       "\n",
       "    .dataframe thead th {\n",
       "        text-align: right;\n",
       "    }\n",
       "</style>\n",
       "<table border=\"1\" class=\"dataframe\">\n",
       "  <thead>\n",
       "    <tr style=\"text-align: right;\">\n",
       "      <th></th>\n",
       "      <th>datetime</th>\n",
       "      <th>count</th>\n",
       "    </tr>\n",
       "  </thead>\n",
       "  <tbody>\n",
       "    <tr>\n",
       "      <th>2786</th>\n",
       "      <td>2011-05-01 00:00:00</td>\n",
       "      <td>96</td>\n",
       "    </tr>\n",
       "    <tr>\n",
       "      <th>2787</th>\n",
       "      <td>2011-05-01 01:00:00</td>\n",
       "      <td>59</td>\n",
       "    </tr>\n",
       "    <tr>\n",
       "      <th>2788</th>\n",
       "      <td>2011-05-01 02:00:00</td>\n",
       "      <td>50</td>\n",
       "    </tr>\n",
       "    <tr>\n",
       "      <th>2789</th>\n",
       "      <td>2011-05-01 03:00:00</td>\n",
       "      <td>23</td>\n",
       "    </tr>\n",
       "    <tr>\n",
       "      <th>2790</th>\n",
       "      <td>2011-05-01 04:00:00</td>\n",
       "      <td>17</td>\n",
       "    </tr>\n",
       "    <tr>\n",
       "      <th>2791</th>\n",
       "      <td>2011-05-01 05:00:00</td>\n",
       "      <td>10</td>\n",
       "    </tr>\n",
       "    <tr>\n",
       "      <th>2792</th>\n",
       "      <td>2011-05-01 06:00:00</td>\n",
       "      <td>13</td>\n",
       "    </tr>\n",
       "    <tr>\n",
       "      <th>2793</th>\n",
       "      <td>2011-05-01 07:00:00</td>\n",
       "      <td>33</td>\n",
       "    </tr>\n",
       "    <tr>\n",
       "      <th>2794</th>\n",
       "      <td>2011-05-01 08:00:00</td>\n",
       "      <td>59</td>\n",
       "    </tr>\n",
       "    <tr>\n",
       "      <th>2795</th>\n",
       "      <td>2011-05-01 09:00:00</td>\n",
       "      <td>141</td>\n",
       "    </tr>\n",
       "  </tbody>\n",
       "</table>\n",
       "</div>"
      ],
      "text/plain": [
       "                datetime  count\n",
       "2786 2011-05-01 00:00:00     96\n",
       "2787 2011-05-01 01:00:00     59\n",
       "2788 2011-05-01 02:00:00     50\n",
       "2789 2011-05-01 03:00:00     23\n",
       "2790 2011-05-01 04:00:00     17\n",
       "2791 2011-05-01 05:00:00     10\n",
       "2792 2011-05-01 06:00:00     13\n",
       "2793 2011-05-01 07:00:00     33\n",
       "2794 2011-05-01 08:00:00     59\n",
       "2795 2011-05-01 09:00:00    141"
      ]
     },
     "execution_count": 8,
     "metadata": {},
     "output_type": "execute_result"
    }
   ],
   "source": [
    "bikes_may_2011.head(10)"
   ]
  },
  {
   "cell_type": "code",
   "execution_count": 9,
   "id": "17f4a448",
   "metadata": {},
   "outputs": [
    {
     "data": {
      "text/html": [
       "<div>\n",
       "<style scoped>\n",
       "    .dataframe tbody tr th:only-of-type {\n",
       "        vertical-align: middle;\n",
       "    }\n",
       "\n",
       "    .dataframe tbody tr th {\n",
       "        vertical-align: top;\n",
       "    }\n",
       "\n",
       "    .dataframe thead th {\n",
       "        text-align: right;\n",
       "    }\n",
       "</style>\n",
       "<table border=\"1\" class=\"dataframe\">\n",
       "  <thead>\n",
       "    <tr style=\"text-align: right;\">\n",
       "      <th></th>\n",
       "      <th>datetime</th>\n",
       "      <th>count</th>\n",
       "    </tr>\n",
       "  </thead>\n",
       "  <tbody>\n",
       "    <tr>\n",
       "      <th>11539</th>\n",
       "      <td>2012-05-01 00:00:00</td>\n",
       "      <td>35</td>\n",
       "    </tr>\n",
       "    <tr>\n",
       "      <th>11540</th>\n",
       "      <td>2012-05-01 01:00:00</td>\n",
       "      <td>21</td>\n",
       "    </tr>\n",
       "    <tr>\n",
       "      <th>11541</th>\n",
       "      <td>2012-05-01 02:00:00</td>\n",
       "      <td>8</td>\n",
       "    </tr>\n",
       "    <tr>\n",
       "      <th>11542</th>\n",
       "      <td>2012-05-01 03:00:00</td>\n",
       "      <td>3</td>\n",
       "    </tr>\n",
       "    <tr>\n",
       "      <th>11543</th>\n",
       "      <td>2012-05-01 04:00:00</td>\n",
       "      <td>8</td>\n",
       "    </tr>\n",
       "    <tr>\n",
       "      <th>11544</th>\n",
       "      <td>2012-05-01 05:00:00</td>\n",
       "      <td>17</td>\n",
       "    </tr>\n",
       "    <tr>\n",
       "      <th>11545</th>\n",
       "      <td>2012-05-01 06:00:00</td>\n",
       "      <td>26</td>\n",
       "    </tr>\n",
       "    <tr>\n",
       "      <th>11546</th>\n",
       "      <td>2012-05-01 07:00:00</td>\n",
       "      <td>169</td>\n",
       "    </tr>\n",
       "    <tr>\n",
       "      <th>11547</th>\n",
       "      <td>2012-05-01 08:00:00</td>\n",
       "      <td>557</td>\n",
       "    </tr>\n",
       "    <tr>\n",
       "      <th>11548</th>\n",
       "      <td>2012-05-01 09:00:00</td>\n",
       "      <td>349</td>\n",
       "    </tr>\n",
       "  </tbody>\n",
       "</table>\n",
       "</div>"
      ],
      "text/plain": [
       "                 datetime  count\n",
       "11539 2012-05-01 00:00:00     35\n",
       "11540 2012-05-01 01:00:00     21\n",
       "11541 2012-05-01 02:00:00      8\n",
       "11542 2012-05-01 03:00:00      3\n",
       "11543 2012-05-01 04:00:00      8\n",
       "11544 2012-05-01 05:00:00     17\n",
       "11545 2012-05-01 06:00:00     26\n",
       "11546 2012-05-01 07:00:00    169\n",
       "11547 2012-05-01 08:00:00    557\n",
       "11548 2012-05-01 09:00:00    349"
      ]
     },
     "execution_count": 9,
     "metadata": {},
     "output_type": "execute_result"
    }
   ],
   "source": [
    "bikes_may_2012.head(10)"
   ]
  },
  {
   "cell_type": "code",
   "execution_count": 10,
   "id": "d02bd676",
   "metadata": {},
   "outputs": [
    {
     "data": {
      "text/plain": [
       "202.3252688172043"
      ]
     },
     "execution_count": 10,
     "metadata": {},
     "output_type": "execute_result"
    }
   ],
   "source": [
    "# average bikes count in May 2011\n",
    "bikes_may_2011['count'].mean()"
   ]
  },
  {
   "cell_type": "code",
   "execution_count": 11,
   "id": "ef00ba59",
   "metadata": {},
   "outputs": [
    {
     "data": {
      "text/plain": [
       "252.5766129032258"
      ]
     },
     "execution_count": 11,
     "metadata": {},
     "output_type": "execute_result"
    }
   ],
   "source": [
    "# average bikes count in May 2012\n",
    "bikes_may_2012['count'].mean()"
   ]
  },
  {
   "cell_type": "markdown",
   "id": "246772e7",
   "metadata": {},
   "source": [
    "### RESULTS:\n",
    "   1. Average bikes count in `May 2011` is **202**.\n",
    "   2. Average bikes count in `May 2012` is **253**.\n",
    "   3. `RMSE` is **169**. It is almost the same as avg values! (**84%** of `2011` value and **67%** of `2012` value)"
   ]
  },
  {
   "cell_type": "code",
   "execution_count": 12,
   "id": "5f09e560",
   "metadata": {},
   "outputs": [
    {
     "data": {
      "text/plain": [
       "0.8366336633663366"
      ]
     },
     "execution_count": 12,
     "metadata": {},
     "output_type": "execute_result"
    }
   ],
   "source": [
    "# proportion of RMSE in 'Average bikes count in May 2011'\n",
    "169/202"
   ]
  },
  {
   "cell_type": "code",
   "execution_count": 14,
   "id": "92de5772",
   "metadata": {},
   "outputs": [
    {
     "data": {
      "text/plain": [
       "0.6679841897233202"
      ]
     },
     "execution_count": 14,
     "metadata": {},
     "output_type": "execute_result"
    }
   ],
   "source": [
    "# proportion of RMSE in 'Average bikes count in May 2012'\n",
    "169/253"
   ]
  },
  {
   "cell_type": "markdown",
   "id": "c57b2b03",
   "metadata": {},
   "source": [
    " "
   ]
  },
  {
   "cell_type": "markdown",
   "id": "9907a5a6",
   "metadata": {},
   "source": [
    " "
   ]
  },
  {
   "cell_type": "markdown",
   "id": "8477a7a8",
   "metadata": {},
   "source": [
    " "
   ]
  },
  {
   "cell_type": "markdown",
   "id": "2eb2b8b2",
   "metadata": {},
   "source": [
    "### BONUS\n",
    "   3. How could the results be improved?"
   ]
  },
  {
   "cell_type": "markdown",
   "id": "51c56b83",
   "metadata": {},
   "source": [
    "**Answer:**\n",
    "   * RMSE reflects the quality of our model (for making poredictions).\n",
    "   * To get less errors (lower RMSE), the model should be trained on a bigger dataset.\n"
   ]
  },
  {
   "cell_type": "code",
   "execution_count": null,
   "id": "95b55d04",
   "metadata": {},
   "outputs": [],
   "source": []
  }
 ],
 "metadata": {
  "kernelspec": {
   "display_name": "Python 3 (ipykernel)",
   "language": "python",
   "name": "python3"
  },
  "language_info": {
   "codemirror_mode": {
    "name": "ipython",
    "version": 3
   },
   "file_extension": ".py",
   "mimetype": "text/x-python",
   "name": "python",
   "nbconvert_exporter": "python",
   "pygments_lexer": "ipython3",
   "version": "3.10.8"
  }
 },
 "nbformat": 4,
 "nbformat_minor": 5
}
