{
 "cells": [
  {
   "cell_type": "markdown",
   "id": "557d4136",
   "metadata": {},
   "source": [
    "# WEEK 05\n",
    "# Encounter 05 - Distribution Functions\n",
    "# Project Challenge - Coin Flips"
   ]
  },
  {
   "cell_type": "markdown",
   "id": "1c92d54b",
   "metadata": {},
   "source": [
    "## Task Description\n",
    "\n",
    "   1. Simulate a fair coin flip for 10 times and calculate the estimated probability of getting a head (number of times you got a head divided by 10). Repeat for 100, 1000 and 10000 times. How does the estimated probability changes ? How can we interpret that ?\n",
    "   2. Plot the pmf of the Binomial distribution of **n=10** and **p=0.5**. (hint: start by sampling from the distribution for 100_000 times)\n",
    "   3. Research other commonly used probability distributions and the random real life processes and events they are used to model."
   ]
  },
  {
   "cell_type": "code",
   "execution_count": 93,
   "id": "405a2beb",
   "metadata": {},
   "outputs": [],
   "source": [
    "import pandas as pd\n",
    "import seaborn as sns\n",
    "import matplotlib.pyplot as plt\n",
    "import numpy as np\n",
    "import random\n",
    "import scipy.stats as sps\n",
    "from scipy.stats import binom\n",
    "\n",
    "#import matplotlib.pyplot as plt"
   ]
  },
  {
   "cell_type": "markdown",
   "id": "d6bd5a89",
   "metadata": {},
   "source": [
    "### 1. Simulate a fair coin flip for 10 times"
   ]
  },
  {
   "cell_type": "code",
   "execution_count": 11,
   "id": "e29ef599",
   "metadata": {},
   "outputs": [
    {
     "data": {
      "text/plain": [
       "['tail',\n",
       " 'head',\n",
       " 'tail',\n",
       " 'head',\n",
       " 'head',\n",
       " 'head',\n",
       " 'head',\n",
       " 'tail',\n",
       " 'head',\n",
       " 'head']"
      ]
     },
     "execution_count": 11,
     "metadata": {},
     "output_type": "execute_result"
    }
   ],
   "source": [
    "# flip results - list of possible values\n",
    "flip_results_list = ['head', 'tail']\n",
    "\n",
    "# sample list\n",
    "coin_flip_results = []\n",
    "\n",
    "for i in range(10):\n",
    "    coin_flip = random.choice(flip_results_list)\n",
    "    coin_flip_results.append(coin_flip)\n",
    "    \n",
    "coin_flip_results"
   ]
  },
  {
   "cell_type": "code",
   "execution_count": 15,
   "id": "44297f88",
   "metadata": {},
   "outputs": [
    {
     "data": {
      "text/plain": [
       "('head', 7)"
      ]
     },
     "execution_count": 15,
     "metadata": {},
     "output_type": "execute_result"
    }
   ],
   "source": [
    "# calculate the estimated probability of getting a head (number of times you got a head divided by 10)\n",
    "\n",
    "values, counts = np.unique(coin_flip_results, return_counts=True)\n",
    "values[0], counts[0]"
   ]
  },
  {
   "cell_type": "code",
   "execution_count": 16,
   "id": "b0e66429",
   "metadata": {},
   "outputs": [
    {
     "data": {
      "text/plain": [
       "0.7"
      ]
     },
     "execution_count": 16,
     "metadata": {},
     "output_type": "execute_result"
    }
   ],
   "source": [
    "n=10\n",
    "probanility_10 = counts[0]/n\n",
    "probanility_10"
   ]
  },
  {
   "cell_type": "markdown",
   "id": "6c3a5950",
   "metadata": {},
   "source": [
    "### Define user function"
   ]
  },
  {
   "cell_type": "code",
   "execution_count": 41,
   "id": "c87037c5",
   "metadata": {},
   "outputs": [],
   "source": [
    "def coin_flip_probability(n, side='head'):\n",
    "    '''The function accepts a sample size (n) \n",
    "    and returns the estimated probability of getting a 'head' (by default) in coin flip'''\n",
    "    \n",
    "    # flip results - list of possible values\n",
    "    flip_results_list = ['head', 'tail']\n",
    "\n",
    "    # samples list of n random 'head' or 'tail' values\n",
    "    coin_flip_results = np.random.choice(flip_results_list, size=n)\n",
    "    \n",
    "    # count the frequency of 'head' and 'tail' in the sample\n",
    "    # 'values' is a list of unique random choice values\n",
    "    # 'counts' is a list of reffered (by the same list index) frequency values\n",
    "    values, counts = np.unique(coin_flip_results, return_counts=True)\n",
    "    \n",
    "    #calculate probability\n",
    "    if values[0] == side:       #'head' by default\n",
    "        probanility = counts[0]/n\n",
    "    else:\n",
    "        probanility = counts[1]/n\n",
    "    \n",
    "    return probanility\n",
    "    "
   ]
  },
  {
   "cell_type": "markdown",
   "id": "daefebb9",
   "metadata": {},
   "source": [
    "### TEMP function version (without numpy.random)\n",
    "\n",
    "`def coin_flip_probability_tmp(n, side='head'):\n",
    "    '''The function accepts a sample size (n) \n",
    "    and returns the estimated probability of getting a 'head' (by default) in coin flip'''\n",
    "    \n",
    "    # flip results - list of possible values\n",
    "    flip_results_list = ['head', 'tail']\n",
    "\n",
    "    # sample list\n",
    "    coin_flip_results = []\n",
    "\n",
    "    for i in range(n):\n",
    "        coin_flip = random.choice(flip_results_list) \n",
    "    # replace with np.random. ...\n",
    "        coin_flip_results.append(coin_flip)\n",
    "    \n",
    "    #count the frequency of 'head' and 'tail' in the sample\n",
    "    values, counts = np.unique(coin_flip_results, return_counts=True)\n",
    "    \n",
    "    #calculate probability\n",
    "    # add if for values[0] is side # 'head' by default\n",
    "    probanility = counts[0]/n\n",
    "    \n",
    "    return probanility\n",
    "`"
   ]
  },
  {
   "cell_type": "code",
   "execution_count": 37,
   "id": "3551f265",
   "metadata": {},
   "outputs": [
    {
     "data": {
      "text/plain": [
       "0.4"
      ]
     },
     "execution_count": 37,
     "metadata": {},
     "output_type": "execute_result"
    }
   ],
   "source": [
    "# test for n=10\n",
    "prob_10 = coin_flip_probability(10)\n",
    "prob_10"
   ]
  },
  {
   "cell_type": "markdown",
   "id": "7b14076c",
   "metadata": {},
   "source": [
    "### Simulate a fair coin flip for 100 times"
   ]
  },
  {
   "cell_type": "code",
   "execution_count": 38,
   "id": "1cde2dd5",
   "metadata": {},
   "outputs": [
    {
     "data": {
      "text/plain": [
       "0.56"
      ]
     },
     "execution_count": 38,
     "metadata": {},
     "output_type": "execute_result"
    }
   ],
   "source": [
    "prob_100 = coin_flip_probability(100)\n",
    "prob_100"
   ]
  },
  {
   "cell_type": "markdown",
   "id": "34e277aa",
   "metadata": {},
   "source": [
    "### Simulate a fair coin flip for 1000 times"
   ]
  },
  {
   "cell_type": "code",
   "execution_count": 39,
   "id": "2b506e4e",
   "metadata": {},
   "outputs": [
    {
     "data": {
      "text/plain": [
       "0.525"
      ]
     },
     "execution_count": 39,
     "metadata": {},
     "output_type": "execute_result"
    }
   ],
   "source": [
    "prob_1000 = coin_flip_probability(1000)\n",
    "prob_1000"
   ]
  },
  {
   "cell_type": "markdown",
   "id": "7c6caa67",
   "metadata": {},
   "source": [
    "### Simulate a fair coin flip for 10_000 times"
   ]
  },
  {
   "cell_type": "code",
   "execution_count": 40,
   "id": "91ce780b",
   "metadata": {},
   "outputs": [
    {
     "data": {
      "text/plain": [
       "0.4991"
      ]
     },
     "execution_count": 40,
     "metadata": {},
     "output_type": "execute_result"
    }
   ],
   "source": [
    "prob_10000 = coin_flip_probability(10_000)\n",
    "prob_10000"
   ]
  },
  {
   "cell_type": "markdown",
   "id": "558be6cd",
   "metadata": {},
   "source": [
    "### 2. Plot the pmf of the Binomial distribution of n=10 and p=0.5. \n",
    "\n",
    "(**hint:** start by sampling from the distribution for 100_000 times)"
   ]
  },
  {
   "cell_type": "code",
   "execution_count": 45,
   "id": "b2d1ea23",
   "metadata": {},
   "outputs": [
    {
     "data": {
      "text/plain": [
       "[5.0, 5.0, 5.0, 5.0, 5.0, 5.0, 5.0, 5.0, 5.0, 5.0]"
      ]
     },
     "execution_count": 45,
     "metadata": {},
     "output_type": "execute_result"
    }
   ],
   "source": [
    "# CODE NOTES\n",
    "\n",
    "heads_num = [10]*n                           # create list of n equal elements\n",
    "heads_num_half = [x / 2 for x in heads_num]  # devide all list elenents by a specified value\n",
    "heads_num_half"
   ]
  },
  {
   "cell_type": "code",
   "execution_count": 48,
   "id": "8a1db927",
   "metadata": {},
   "outputs": [
    {
     "data": {
      "text/plain": [
       "array(['tail', 'tail', 'head', 'tail', 'tail', 'tail', 'tail', 'head',\n",
       "       'tail', 'head'], dtype='<U4')"
      ]
     },
     "execution_count": 48,
     "metadata": {},
     "output_type": "execute_result"
    }
   ],
   "source": [
    "# debug\n",
    "coin_flip_results = np.random.choice(flip_results_list, size=n)\n",
    "coin_flip_results"
   ]
  },
  {
   "cell_type": "code",
   "execution_count": 49,
   "id": "f84b0980",
   "metadata": {},
   "outputs": [
    {
     "data": {
      "text/plain": [
       "(array(['head', 'tail'], dtype='<U4'), array([3, 7], dtype=int64))"
      ]
     },
     "execution_count": 49,
     "metadata": {},
     "output_type": "execute_result"
    }
   ],
   "source": [
    "# debug\n",
    "values, counts = np.unique(coin_flip_results, return_counts=True)\n",
    "values, counts"
   ]
  },
  {
   "cell_type": "code",
   "execution_count": 58,
   "id": "832f343a",
   "metadata": {},
   "outputs": [
    {
     "data": {
      "text/plain": [
       "([1019, 4486, 11676, 20416, 24588, 20431, 11849, 4452, 896, 91],\n",
       " [0.01019,\n",
       "  0.04486,\n",
       "  0.11676,\n",
       "  0.20416,\n",
       "  0.24588,\n",
       "  0.20431,\n",
       "  0.11849,\n",
       "  0.04452,\n",
       "  0.00896,\n",
       "  0.00091])"
      ]
     },
     "execution_count": 58,
     "metadata": {},
     "output_type": "execute_result"
    }
   ],
   "source": [
    "# sampling 10 flips 10_000 times\n",
    "\n",
    "n = 10 # sample size\n",
    "m = 100_000 # number of times to get a sample(n)\n",
    "\n",
    "flip_results_list = ['head', 'tail'] # list of possible results while coin flipping\n",
    "heads_num = [0]*n # the list to store number of cases for aech k-heads variant (from 1 head to 10 heads in a sample)\n",
    "\n",
    "for i in range(m):\n",
    "    # samples list of n random 'head' or 'tail' values\n",
    "    coin_flip_results = np.random.choice(flip_results_list, size=n)\n",
    "    \n",
    "    # count the frequency of 'head' and 'tail' in the sample\n",
    "    # 'values' is a list of unique random choice values\n",
    "    # 'counts' is a list of reffered (by the same list index) frequency values\n",
    "    values, counts = np.unique(coin_flip_results, return_counts=True)\n",
    "    \n",
    "    # if in this sample was k 'heads' increase k-element of heads_num by 1\n",
    "    if 'head' in values:  # to be able to skip case when there are all 10 tails in a sample\n",
    "        if values[0] == 'head':\n",
    "            heads_num[counts[0]-1] += 1 # if 'head' is the first value in 'values' list\n",
    "        else:\n",
    "            heads_num[counts[1]-1] += 1 # if 'head' is the second value in 'values' list\n",
    "        \n",
    "probability = [x / m for x in heads_num]\n",
    "\n",
    "# display results\n",
    "heads_num, probability"
   ]
  },
  {
   "cell_type": "code",
   "execution_count": 60,
   "id": "e2809be9",
   "metadata": {},
   "outputs": [
    {
     "data": {
      "text/plain": [
       "[0.01019,\n",
       " 0.04486,\n",
       " 0.11676,\n",
       " 0.20416,\n",
       " 0.24588,\n",
       " 0.20431,\n",
       " 0.11849,\n",
       " 0.04452,\n",
       " 0.00896,\n",
       " 0.00091]"
      ]
     },
     "execution_count": 60,
     "metadata": {},
     "output_type": "execute_result"
    }
   ],
   "source": [
    "probability"
   ]
  },
  {
   "cell_type": "code",
   "execution_count": 62,
   "id": "1e2d575f",
   "metadata": {},
   "outputs": [],
   "source": [
    "# converting probabilities list to a dataframe\n",
    "df_probability = pd.DataFrame(probability)"
   ]
  },
  {
   "cell_type": "code",
   "execution_count": 63,
   "id": "b8c3f29a",
   "metadata": {},
   "outputs": [
    {
     "data": {
      "text/html": [
       "<div>\n",
       "<style scoped>\n",
       "    .dataframe tbody tr th:only-of-type {\n",
       "        vertical-align: middle;\n",
       "    }\n",
       "\n",
       "    .dataframe tbody tr th {\n",
       "        vertical-align: top;\n",
       "    }\n",
       "\n",
       "    .dataframe thead th {\n",
       "        text-align: right;\n",
       "    }\n",
       "</style>\n",
       "<table border=\"1\" class=\"dataframe\">\n",
       "  <thead>\n",
       "    <tr style=\"text-align: right;\">\n",
       "      <th></th>\n",
       "      <th>k_heads_probabilty</th>\n",
       "    </tr>\n",
       "  </thead>\n",
       "  <tbody>\n",
       "    <tr>\n",
       "      <th>0</th>\n",
       "      <td>0.01019</td>\n",
       "    </tr>\n",
       "    <tr>\n",
       "      <th>1</th>\n",
       "      <td>0.04486</td>\n",
       "    </tr>\n",
       "    <tr>\n",
       "      <th>2</th>\n",
       "      <td>0.11676</td>\n",
       "    </tr>\n",
       "    <tr>\n",
       "      <th>3</th>\n",
       "      <td>0.20416</td>\n",
       "    </tr>\n",
       "    <tr>\n",
       "      <th>4</th>\n",
       "      <td>0.24588</td>\n",
       "    </tr>\n",
       "    <tr>\n",
       "      <th>5</th>\n",
       "      <td>0.20431</td>\n",
       "    </tr>\n",
       "    <tr>\n",
       "      <th>6</th>\n",
       "      <td>0.11849</td>\n",
       "    </tr>\n",
       "    <tr>\n",
       "      <th>7</th>\n",
       "      <td>0.04452</td>\n",
       "    </tr>\n",
       "    <tr>\n",
       "      <th>8</th>\n",
       "      <td>0.00896</td>\n",
       "    </tr>\n",
       "    <tr>\n",
       "      <th>9</th>\n",
       "      <td>0.00091</td>\n",
       "    </tr>\n",
       "  </tbody>\n",
       "</table>\n",
       "</div>"
      ],
      "text/plain": [
       "   k_heads_probabilty\n",
       "0             0.01019\n",
       "1             0.04486\n",
       "2             0.11676\n",
       "3             0.20416\n",
       "4             0.24588\n",
       "5             0.20431\n",
       "6             0.11849\n",
       "7             0.04452\n",
       "8             0.00896\n",
       "9             0.00091"
      ]
     },
     "execution_count": 63,
     "metadata": {},
     "output_type": "execute_result"
    }
   ],
   "source": [
    "# adding column name to DataFrame\n",
    "df_probability.columns=['k_heads_probabilty']"
   ]
  },
  {
   "cell_type": "code",
   "execution_count": 65,
   "id": "7e07ac1a",
   "metadata": {
    "scrolled": true
   },
   "outputs": [
    {
     "data": {
      "text/html": [
       "<div>\n",
       "<style scoped>\n",
       "    .dataframe tbody tr th:only-of-type {\n",
       "        vertical-align: middle;\n",
       "    }\n",
       "\n",
       "    .dataframe tbody tr th {\n",
       "        vertical-align: top;\n",
       "    }\n",
       "\n",
       "    .dataframe thead th {\n",
       "        text-align: right;\n",
       "    }\n",
       "</style>\n",
       "<table border=\"1\" class=\"dataframe\">\n",
       "  <thead>\n",
       "    <tr style=\"text-align: right;\">\n",
       "      <th></th>\n",
       "      <th>k_heads_probabilty</th>\n",
       "      <th>heads_quantity</th>\n",
       "    </tr>\n",
       "  </thead>\n",
       "  <tbody>\n",
       "    <tr>\n",
       "      <th>0</th>\n",
       "      <td>0.01019</td>\n",
       "      <td>1</td>\n",
       "    </tr>\n",
       "    <tr>\n",
       "      <th>1</th>\n",
       "      <td>0.04486</td>\n",
       "      <td>2</td>\n",
       "    </tr>\n",
       "    <tr>\n",
       "      <th>2</th>\n",
       "      <td>0.11676</td>\n",
       "      <td>3</td>\n",
       "    </tr>\n",
       "    <tr>\n",
       "      <th>3</th>\n",
       "      <td>0.20416</td>\n",
       "      <td>4</td>\n",
       "    </tr>\n",
       "    <tr>\n",
       "      <th>4</th>\n",
       "      <td>0.24588</td>\n",
       "      <td>5</td>\n",
       "    </tr>\n",
       "    <tr>\n",
       "      <th>5</th>\n",
       "      <td>0.20431</td>\n",
       "      <td>6</td>\n",
       "    </tr>\n",
       "    <tr>\n",
       "      <th>6</th>\n",
       "      <td>0.11849</td>\n",
       "      <td>7</td>\n",
       "    </tr>\n",
       "    <tr>\n",
       "      <th>7</th>\n",
       "      <td>0.04452</td>\n",
       "      <td>8</td>\n",
       "    </tr>\n",
       "    <tr>\n",
       "      <th>8</th>\n",
       "      <td>0.00896</td>\n",
       "      <td>9</td>\n",
       "    </tr>\n",
       "    <tr>\n",
       "      <th>9</th>\n",
       "      <td>0.00091</td>\n",
       "      <td>10</td>\n",
       "    </tr>\n",
       "  </tbody>\n",
       "</table>\n",
       "</div>"
      ],
      "text/plain": [
       "   k_heads_probabilty  heads_quantity\n",
       "0             0.01019               1\n",
       "1             0.04486               2\n",
       "2             0.11676               3\n",
       "3             0.20416               4\n",
       "4             0.24588               5\n",
       "5             0.20431               6\n",
       "6             0.11849               7\n",
       "7             0.04452               8\n",
       "8             0.00896               9\n",
       "9             0.00091              10"
      ]
     },
     "execution_count": 65,
     "metadata": {},
     "output_type": "execute_result"
    }
   ],
   "source": [
    "# adding 'heads_quantity' column to the dataframe (k)\n",
    "df_probability['heads_quantity'] = [x+1 for x in range(10)]\n",
    "df_probability"
   ]
  },
  {
   "cell_type": "code",
   "execution_count": 85,
   "id": "bef618c9",
   "metadata": {},
   "outputs": [],
   "source": [
    "# representing heads_quantity as a DataFrame\n",
    "df_heads_quantity = pd.DataFrame(heads_num)"
   ]
  },
  {
   "cell_type": "code",
   "execution_count": 87,
   "id": "3ab8383c",
   "metadata": {},
   "outputs": [],
   "source": [
    "df_heads_quantity.columns = ['cases_num']\n",
    "df_heads_quantity['heads_quantity'] = [x+1 for x in range(10)]"
   ]
  },
  {
   "cell_type": "code",
   "execution_count": 90,
   "id": "66542602",
   "metadata": {},
   "outputs": [],
   "source": [
    "# plotting displot - DOESN'T WORK\n",
    "# sns.displot(data = df_heads_quantity, x= 'heads_quantity', stat = 'probability')"
   ]
  },
  {
   "cell_type": "code",
   "execution_count": 94,
   "id": "e558c824",
   "metadata": {},
   "outputs": [
    {
     "data": {
      "text/plain": [
       "Text(0.5, 1.0, 'The PMF of the Binomial distribution of n=10 and p=0.5')"
      ]
     },
     "execution_count": 94,
     "metadata": {},
     "output_type": "execute_result"
    },
    {
     "data": {
      "image/png": "[encoded data removed]",
      "text/plain": [
       "<Figure size 640x480 with 1 Axes>"
      ]
     },
     "metadata": {},
     "output_type": "display_data"
    }
   ],
   "source": [
    "# plotting \n",
    "sns.barplot(data=df_probability, x='heads_quantity', y='k_heads_probabilty');\n",
    "plt.title('The PMF of the Binomial distribution of n=10 and p=0.5')"
   ]
  },
  {
   "cell_type": "markdown",
   "id": "78ef7e58",
   "metadata": {},
   "source": [
    "### 3. Research other commonly used probability distributions and the random real life processes and events they are used to model."
   ]
  },
  {
   "cell_type": "code",
   "execution_count": null,
   "id": "3b880c50",
   "metadata": {},
   "outputs": [],
   "source": [
    "# incomplete task"
   ]
  }
 ],
 "metadata": {
  "kernelspec": {
   "display_name": "Python 3 (ipykernel)",
   "language": "python",
   "name": "python3"
  },
  "language_info": {
   "codemirror_mode": {
    "name": "ipython",
    "version": 3
   },
   "file_extension": ".py",
   "mimetype": "text/x-python",
   "name": "python",
   "nbconvert_exporter": "python",
   "pygments_lexer": "ipython3",
   "version": "3.10.8"
  }
 },
 "nbformat": 4,
 "nbformat_minor": 5
}
