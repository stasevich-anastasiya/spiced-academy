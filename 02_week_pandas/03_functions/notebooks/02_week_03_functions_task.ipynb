{
 "cells": [
  {
   "cell_type": "markdown",
   "id": "4f366aca",
   "metadata": {},
   "source": [
    "# Exercises\n",
    "\n",
    "## Task 1\n",
    "\n",
    "Fill in the missings!\n",
    "\n",
    "        ___ make_path(year):\n",
    "           \"\"\"Given a year, constructs a valid file path for the names dataset\"\"\"\n",
    "           ___ = f'./___/yob{year}.txt'\n",
    "           ___ path\n",
    "\n",
    "        print(___(1987))\n",
    "\n",
    "Example: Calling the function with\n",
    "\n",
    "        make_path(1945)\n",
    "\n",
    "should return\n",
    "\n",
    "        './data/yob1945.txt'"
   ]
  },
  {
   "cell_type": "code",
   "execution_count": 2,
   "id": "8ba45d0f",
   "metadata": {},
   "outputs": [
    {
     "name": "stdout",
     "output_type": "stream",
     "text": [
      "../data/yob1987.txt\n"
     ]
    }
   ],
   "source": [
    "def make_path(year):\n",
    "   \"\"\"Given a year, constructs a valid file path for the names dataset\"\"\"\n",
    "   path = f'../data/yob{year}.txt'\n",
    "   return path\n",
    "\n",
    "print(make_path(1987))\n"
   ]
  },
  {
   "cell_type": "markdown",
   "id": "cbaa8ab6",
   "metadata": {},
   "source": [
    "## Task 2\n",
    "\n",
    "Fill in the missings! How could we connect it with the previous function?\n",
    "\n",
    "        def read_year(___):\n",
    "            df = pd.____csv(path, ____=['name', 'gender', 'frequency'])\n",
    "           return df"
   ]
  },
  {
   "cell_type": "code",
   "execution_count": 8,
   "id": "90d539fa",
   "metadata": {},
   "outputs": [
    {
     "ename": "IndentationError",
     "evalue": "unindent does not match any outer indentation level (<tokenize>, line 3)",
     "output_type": "error",
     "traceback": [
      "\u001b[1;36m  File \u001b[1;32m<tokenize>:3\u001b[1;36m\u001b[0m\n\u001b[1;33m    return df\u001b[0m\n\u001b[1;37m    ^\u001b[0m\n\u001b[1;31mIndentationError\u001b[0m\u001b[1;31m:\u001b[0m unindent does not match any outer indentation level\n"
     ]
    }
   ],
   "source": [
    "# Just leave it here with error message!\n",
    "# Resolution is to be complient with the python alignment for RETURN line!!!\n",
    "\n",
    "def read_year(path):\n",
    "    df = pd.read_csv(path, names=['name', 'gender', 'frequency'])\n",
    "   return df"
   ]
  },
  {
   "cell_type": "code",
   "execution_count": 9,
   "id": "446d5972",
   "metadata": {},
   "outputs": [],
   "source": [
    "def read_year(path):\n",
    "    ''' Function gets the path to csv-file, reads it and returns a a DataFrame'''\n",
    "    df = pd.read_csv(path, names=['name', 'gender', 'frequency'])\n",
    "    return df"
   ]
  },
  {
   "cell_type": "markdown",
   "id": "05c482b5",
   "metadata": {},
   "source": [
    "Connecting this function with the previous one:"
   ]
  },
  {
   "cell_type": "code",
   "execution_count": 11,
   "id": "b2b62453",
   "metadata": {},
   "outputs": [],
   "source": [
    "def read_year(year):\n",
    "    ''' Function gets the year, constructs path to csv-file (with make_path() function), reads it and returns a a DataFrame'''\n",
    "    df = pd.read_csv(path=make_path(year), names=['name', 'gender', 'frequency'])\n",
    "    return df"
   ]
  },
  {
   "cell_type": "markdown",
   "id": "f24e773a",
   "metadata": {},
   "source": [
    "## Task 3\n",
    "\n",
    "Bring the following statements into correct order:\n",
    "\n",
    "           total_minutes = minutes + hours*60\n",
    "           return total_seconds\n",
    "        def time_to_sec(hours, minutes, seconds):\n",
    "        print(time_to_sec(10,10,10))\n",
    "           total_seconds = seconds + total_minutes*60"
   ]
  },
  {
   "cell_type": "code",
   "execution_count": 12,
   "id": "6d7285e6",
   "metadata": {},
   "outputs": [
    {
     "name": "stdout",
     "output_type": "stream",
     "text": [
      "36610\n"
     ]
    }
   ],
   "source": [
    "def time_to_sec(hours, minutes, seconds):\n",
    "    total_minutes = minutes + hours*60\n",
    "    total_seconds = seconds + total_minutes*60\n",
    "    return total_seconds\n",
    "    \n",
    "print(time_to_sec(10,10,10))"
   ]
  },
  {
   "cell_type": "markdown",
   "id": "902e9b90",
   "metadata": {},
   "source": [
    "## Task 4\n",
    "\n",
    "Find all bugs and make the functions work!\n",
    "\n",
    "    def add_together(a):\n",
    "       return a+b\n",
    "\n",
    "    bool_to_string(boolean) def:\n",
    "       \"\"\"converts True to 'true' and False to 'false'\"\"\"\n",
    "       str(boolean).lower()\n",
    "\n",
    "    def first_and_last(element):\n",
    "       \"\"\"returns the first and last element in a list\"\"\"\n",
    "       return [elements[0], elements[10]]\n",
    "\n",
    "    def average(numbers):\n",
    "       \"\"\"calculates the average of a list of numbers\"\"\"\n",
    "       return summ(numbers)/numbers.len()\n",
    "\n",
    "    def words_to_upper(words):\n",
    "       \"\"\"converts all words in the list to uppercase\"\"\"\n",
    "       words_upper = []\n",
    "       for word in words:\n",
    "          return word.upper()\n"
   ]
  },
  {
   "cell_type": "code",
   "execution_count": 27,
   "id": "d3633651",
   "metadata": {},
   "outputs": [],
   "source": [
    "#1 - No exec error, but RED code\n",
    "def add_together(a,b):    # b function parameter is added\n",
    "    return a+b"
   ]
  },
  {
   "cell_type": "code",
   "execution_count": 28,
   "id": "6bd6203c",
   "metadata": {},
   "outputs": [],
   "source": [
    "#2 - SyntaxError: invalid syntax\n",
    "def bool_to_string(boolean):     # Moved 'def' keyword to the very beginning\n",
    "    \"\"\"converts True to 'true' and False to 'false'\"\"\"\n",
    "    str(boolean).lower()"
   ]
  },
  {
   "cell_type": "code",
   "execution_count": 29,
   "id": "3389194f",
   "metadata": {},
   "outputs": [],
   "source": [
    "#3 - No exec errors, but return uses different name, not as input parameter; also list could be of a different length, not only 10\n",
    "def first_and_last(elements):\n",
    "   \"\"\"returns the first and last element in a list\"\"\"\n",
    "   return [elements[0], elements[len(elements) - 1]]"
   ]
  },
  {
   "cell_type": "markdown",
   "id": "157f62ae",
   "metadata": {},
   "source": [
    "Example for '#3' execution:\n",
    "\n",
    "        elements = ['name', 'gender', 'frequency']\n",
    "        [elements[0], elements[len(elements) - 1]]\n",
    "\n",
    "Output:\n",
    "        ['name', 'frequency']"
   ]
  },
  {
   "cell_type": "code",
   "execution_count": 39,
   "id": "6d29d03e",
   "metadata": {},
   "outputs": [],
   "source": [
    "#4 - No exec error, but there is incorrect 'summ' keyword (should be 'sum') and len() is a function, not a method\n",
    "def average(numbers):\n",
    "   \"\"\"calculates the average of a list of numbers\"\"\"\n",
    "   return sum(numbers)/len(numbers)"
   ]
  },
  {
   "cell_type": "markdown",
   "id": "3adc2418",
   "metadata": {},
   "source": [
    "Example for '#4' execution:\n",
    "\n",
    "        numbers = [2, 4, 6, 10]\n",
    "\n",
    "There are 2 errors in RETURN: \n",
    "   * NameError: name 'summ' is not defined\n",
    "   * AttributeError: 'list' object has no attribute 'len'\n",
    "\n",
    "Corrected code:\n",
    "        \n",
    "        sum(numbers)/len(numbers)\n",
    "        \n",
    "Output: 5.5"
   ]
  },
  {
   "cell_type": "code",
   "execution_count": 42,
   "id": "c2d18620",
   "metadata": {},
   "outputs": [],
   "source": [
    "#5 - NO exec error, but RETURN should be only one, at the very end of the function and as a standalone statement\n",
    "def words_to_upper(words):\n",
    "    \"\"\"converts all words in the list to uppercase\"\"\"\n",
    "    words_upper = []\n",
    "    for word in words:\n",
    "        words_upper.append(word.upper())\n",
    "    return words_upper"
   ]
  },
  {
   "cell_type": "markdown",
   "id": "266c4755",
   "metadata": {},
   "source": [
    "Example for '#5' execution:\n",
    "\n",
    "        words = ['mantis', 'drax', 'peter']\n",
    "        words_to_upper(words)\n",
    "        \n",
    "Initial version returns only the first list element converted to uppercase: 'MANTIS'.\n",
    "Corrected code returns all list elements: 'MANTIS', 'DRAX', 'PETER'."
   ]
  },
  {
   "cell_type": "code",
   "execution_count": null,
   "id": "70e08c32",
   "metadata": {},
   "outputs": [],
   "source": []
  }
 ],
 "metadata": {
  "kernelspec": {
   "display_name": "Python 3 (ipykernel)",
   "language": "python",
   "name": "python3"
  },
  "language_info": {
   "codemirror_mode": {
    "name": "ipython",
    "version": 3
   },
   "file_extension": ".py",
   "mimetype": "text/x-python",
   "name": "python",
   "nbconvert_exporter": "python",
   "pygments_lexer": "ipython3",
   "version": "3.10.8"
  }
 },
 "nbformat": 4,
 "nbformat_minor": 5
}
