{
 "cells": [
  {
   "cell_type": "code",
   "execution_count": 1,
   "id": "c89e2cd6",
   "metadata": {},
   "outputs": [],
   "source": [
    "import pandas as pd # add alias 'pd'\n",
    "\n",
    "spices = ['One-Hot Chili Peppers',\n",
    "          'Bayesian Basil',\n",
    "          'Tensor Thyme',   # add missed comma\n",
    "          'Linear Lavender',\n",
    "          'Artificial Neural Nutmeg',\n",
    "          'Polynomial Peppermint',\n",
    "          'Sigmoid Saffron'\n",
    "          ]\n",
    "participants = [2, 6, 9, 9, 9, 8, 4]   # add 1 more list member"
   ]
  },
  {
   "cell_type": "code",
   "execution_count": 2,
   "id": "85f4cb9c",
   "metadata": {},
   "outputs": [
    {
     "data": {
      "text/plain": [
       "7"
      ]
     },
     "execution_count": 2,
     "metadata": {},
     "output_type": "execute_result"
    }
   ],
   "source": [
    "len(spices)"
   ]
  },
  {
   "cell_type": "code",
   "execution_count": 3,
   "id": "d46a83b0",
   "metadata": {},
   "outputs": [
    {
     "data": {
      "text/plain": [
       "7"
      ]
     },
     "execution_count": 3,
     "metadata": {},
     "output_type": "execute_result"
    }
   ],
   "source": [
    "len(participants)"
   ]
  },
  {
   "cell_type": "code",
   "execution_count": 4,
   "id": "786bbde9",
   "metadata": {},
   "outputs": [],
   "source": [
    "df = pd.DataFrame({'name': spices,\n",
    "                   'participants': participants\n",
    "                   })"
   ]
  },
  {
   "cell_type": "code",
   "execution_count": 5,
   "id": "122ac2c6",
   "metadata": {
    "scrolled": true
   },
   "outputs": [
    {
     "data": {
      "text/html": [
       "<div>\n",
       "<style scoped>\n",
       "    .dataframe tbody tr th:only-of-type {\n",
       "        vertical-align: middle;\n",
       "    }\n",
       "\n",
       "    .dataframe tbody tr th {\n",
       "        vertical-align: top;\n",
       "    }\n",
       "\n",
       "    .dataframe thead th {\n",
       "        text-align: right;\n",
       "    }\n",
       "</style>\n",
       "<table border=\"1\" class=\"dataframe\">\n",
       "  <thead>\n",
       "    <tr style=\"text-align: right;\">\n",
       "      <th></th>\n",
       "      <th>name</th>\n",
       "      <th>participants</th>\n",
       "    </tr>\n",
       "  </thead>\n",
       "  <tbody>\n",
       "    <tr>\n",
       "      <th>0</th>\n",
       "      <td>One-Hot Chili Peppers</td>\n",
       "      <td>2</td>\n",
       "    </tr>\n",
       "    <tr>\n",
       "      <th>1</th>\n",
       "      <td>Bayesian Basil</td>\n",
       "      <td>6</td>\n",
       "    </tr>\n",
       "    <tr>\n",
       "      <th>2</th>\n",
       "      <td>Tensor Thyme</td>\n",
       "      <td>9</td>\n",
       "    </tr>\n",
       "    <tr>\n",
       "      <th>3</th>\n",
       "      <td>Linear Lavender</td>\n",
       "      <td>9</td>\n",
       "    </tr>\n",
       "    <tr>\n",
       "      <th>4</th>\n",
       "      <td>Artificial Neural Nutmeg</td>\n",
       "      <td>9</td>\n",
       "    </tr>\n",
       "    <tr>\n",
       "      <th>5</th>\n",
       "      <td>Polynomial Peppermint</td>\n",
       "      <td>8</td>\n",
       "    </tr>\n",
       "    <tr>\n",
       "      <th>6</th>\n",
       "      <td>Sigmoid Saffron</td>\n",
       "      <td>4</td>\n",
       "    </tr>\n",
       "  </tbody>\n",
       "</table>\n",
       "</div>"
      ],
      "text/plain": [
       "                       name  participants\n",
       "0     One-Hot Chili Peppers             2\n",
       "1            Bayesian Basil             6\n",
       "2              Tensor Thyme             9\n",
       "3           Linear Lavender             9\n",
       "4  Artificial Neural Nutmeg             9\n",
       "5     Polynomial Peppermint             8\n",
       "6           Sigmoid Saffron             4"
      ]
     },
     "execution_count": 5,
     "metadata": {},
     "output_type": "execute_result"
    }
   ],
   "source": [
    "df"
   ]
  },
  {
   "cell_type": "code",
   "execution_count": 6,
   "id": "2ab64ebb",
   "metadata": {},
   "outputs": [
    {
     "name": "stdout",
     "output_type": "stream",
     "text": [
      "                       name  participants\n",
      "2              Tensor Thyme             9\n",
      "3           Linear Lavender             9\n",
      "4  Artificial Neural Nutmeg             9\n",
      "5     Polynomial Peppermint             8\n",
      "1            Bayesian Basil             6\n",
      "6           Sigmoid Saffron             4\n",
      "0     One-Hot Chili Peppers             2\n"
     ]
    }
   ],
   "source": [
    "print(df.sort_values(by='participants', ascending=False))   # add 'df.' before 'sort_values'"
   ]
  },
  {
   "cell_type": "code",
   "execution_count": 7,
   "id": "9de98a3d",
   "metadata": {},
   "outputs": [
    {
     "name": "stdout",
     "output_type": "stream",
     "text": [
      "<class 'pandas.core.frame.DataFrame'>\n",
      "RangeIndex: 7 entries, 0 to 6\n",
      "Data columns (total 2 columns):\n",
      " #   Column        Non-Null Count  Dtype \n",
      "---  ------        --------------  ----- \n",
      " 0   name          7 non-null      object\n",
      " 1   participants  7 non-null      int64 \n",
      "dtypes: int64(1), object(1)\n",
      "memory usage: 240.0+ bytes\n"
     ]
    }
   ],
   "source": [
    "df.info()"
   ]
  },
  {
   "cell_type": "code",
   "execution_count": 8,
   "id": "68c40788",
   "metadata": {
    "scrolled": true
   },
   "outputs": [],
   "source": [
    "# print(\"\\ntotal participants:\", df.sum(['participants']))\n",
    "# print(\"\\ntotal participants:\", df.sum(axis='columns', numeric_only=1))   # works without error, but give no SUM()"
   ]
  },
  {
   "cell_type": "code",
   "execution_count": 9,
   "id": "96989e64",
   "metadata": {},
   "outputs": [
    {
     "name": "stdout",
     "output_type": "stream",
     "text": [
      "\n",
      "total participants: 47\n"
     ]
    }
   ],
   "source": [
    "# original line:\n",
    "# print(\"\\ntotal participants:\", df.sum(['participants']))\n",
    "\n",
    "# Added 'axis' parameter to 'sum()' method with 'index' value -> this returns totals for all columns\n",
    "# Added sum[1] to refer to 'participants' total\n",
    "print(\"\\ntotal participants:\", df.sum(axis='index')[1])"
   ]
  },
  {
   "cell_type": "markdown",
   "id": "3e9f0c35",
   "metadata": {},
   "source": [
    "Also works! As far as **axis = 'index'** is by default:\n",
    "\n",
    "> print(\"\\ntotal participants:\", df.sum()[1])"
   ]
  },
  {
   "cell_type": "code",
   "execution_count": null,
   "id": "01ffc33e",
   "metadata": {},
   "outputs": [],
   "source": []
  }
 ],
 "metadata": {
  "kernelspec": {
   "display_name": "Python 3 (ipykernel)",
   "language": "python",
   "name": "python3"
  },
  "language_info": {
   "codemirror_mode": {
    "name": "ipython",
    "version": 3
   },
   "file_extension": ".py",
   "mimetype": "text/x-python",
   "name": "python",
   "nbconvert_exporter": "python",
   "pygments_lexer": "ipython3",
   "version": "3.10.8"
  }
 },
 "nbformat": 4,
 "nbformat_minor": 5
}
