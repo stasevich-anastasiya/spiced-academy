{
 "cells": [
  {
   "cell_type": "markdown",
   "id": "3f8b6f47",
   "metadata": {},
   "source": [
    "# WEEK 02\n",
    "# Encounter 05 - Functions\n",
    "# Project Challenge"
   ]
  },
  {
   "cell_type": "markdown",
   "id": "bad1e5fc",
   "metadata": {},
   "source": [
    "## Task Description\n",
    "\n",
    "### Total number of babys in specific years\n",
    "\n",
    "   * Using your parse_dataset() function write a program that calculates the total number of babys for the year 2020 and prints the number to the screen. Make sure to select the correct column to sum.\n",
    "   * Do the same for 1950 and compare the results\n",
    "   * What other interesting insights can you find about about a year using some of pandas methods?\n",
    "\n",
    "**Hint:** Try combining some methods like .sort_values(), .count(), .head() and others.\n"
   ]
  },
  {
   "cell_type": "code",
   "execution_count": 1,
   "id": "9f45d55d",
   "metadata": {},
   "outputs": [],
   "source": [
    "import pandas as pd\n",
    "import os  # for checking if the file with constructed puth exists"
   ]
  },
  {
   "cell_type": "code",
   "execution_count": 2,
   "id": "191f4a4f",
   "metadata": {},
   "outputs": [],
   "source": [
    "# list of columns in DataFrame\n",
    "col_list=['name', 'gender', 'frequency']"
   ]
  },
  {
   "cell_type": "code",
   "execution_count": 3,
   "id": "de5b6a8e",
   "metadata": {},
   "outputs": [],
   "source": [
    "def parse_dataset(year):\n",
    "    '''Function accepts year, reads appropriate data file and returns DataFrame with header'''\n",
    "    \n",
    "    # Check if entered YEAR is at least an INT number; if not, return a text message\n",
    "    if type(year) is int:\n",
    "        path = f'../data/yob{year}.txt'\n",
    "        if os.path.isfile(path):\n",
    "            dataset = pd.read_csv(path, names=col_list)\n",
    "            return dataset\n",
    "        else:\n",
    "            return print(f'There is no file with entered YEAR = \\'{year}\\'!')\n",
    "    \n",
    "    else:\n",
    "        return print(f'Entered YEAR = \\'{year}\\' is not an INT value!')"
   ]
  },
  {
   "cell_type": "markdown",
   "id": "602d4442",
   "metadata": {},
   "source": [
    " "
   ]
  },
  {
   "cell_type": "markdown",
   "id": "6d1a5db3",
   "metadata": {},
   "source": [
    "## Year = 2020"
   ]
  },
  {
   "cell_type": "code",
   "execution_count": 4,
   "id": "cf8f4af1",
   "metadata": {},
   "outputs": [
    {
     "data": {
      "text/plain": [
       "{2020: 3327419}"
      ]
     },
     "execution_count": 4,
     "metadata": {},
     "output_type": "execute_result"
    }
   ],
   "source": [
    "# constants and variable to return definitions\n",
    "year = 2020\n",
    "babys_total_by_year = {}\n",
    "\n",
    "# saving result of parse_dataset function to 'df' DataFrame\n",
    "df = parse_dataset(year)\n",
    "\n",
    "# calculation sum() over 'frequency' column\n",
    "babys_total_by_year[year] = df['frequency'].sum()\n",
    "babys_total_by_year"
   ]
  },
  {
   "cell_type": "markdown",
   "id": "7d19db7f",
   "metadata": {},
   "source": [
    "### Additional stats about particular year:"
   ]
  },
  {
   "cell_type": "code",
   "execution_count": 5,
   "id": "67950a9a",
   "metadata": {},
   "outputs": [
    {
     "data": {
      "text/html": [
       "<div>\n",
       "<style scoped>\n",
       "    .dataframe tbody tr th:only-of-type {\n",
       "        vertical-align: middle;\n",
       "    }\n",
       "\n",
       "    .dataframe tbody tr th {\n",
       "        vertical-align: top;\n",
       "    }\n",
       "\n",
       "    .dataframe thead th {\n",
       "        text-align: right;\n",
       "    }\n",
       "</style>\n",
       "<table border=\"1\" class=\"dataframe\">\n",
       "  <thead>\n",
       "    <tr style=\"text-align: right;\">\n",
       "      <th></th>\n",
       "      <th>name</th>\n",
       "      <th>gender</th>\n",
       "      <th>frequency</th>\n",
       "    </tr>\n",
       "  </thead>\n",
       "  <tbody>\n",
       "    <tr>\n",
       "      <th>0</th>\n",
       "      <td>Olivia</td>\n",
       "      <td>F</td>\n",
       "      <td>17641</td>\n",
       "    </tr>\n",
       "    <tr>\n",
       "      <th>1</th>\n",
       "      <td>Emma</td>\n",
       "      <td>F</td>\n",
       "      <td>15656</td>\n",
       "    </tr>\n",
       "    <tr>\n",
       "      <th>2</th>\n",
       "      <td>Ava</td>\n",
       "      <td>F</td>\n",
       "      <td>13160</td>\n",
       "    </tr>\n",
       "    <tr>\n",
       "      <th>3</th>\n",
       "      <td>Charlotte</td>\n",
       "      <td>F</td>\n",
       "      <td>13065</td>\n",
       "    </tr>\n",
       "    <tr>\n",
       "      <th>4</th>\n",
       "      <td>Sophia</td>\n",
       "      <td>F</td>\n",
       "      <td>13036</td>\n",
       "    </tr>\n",
       "    <tr>\n",
       "      <th>...</th>\n",
       "      <td>...</td>\n",
       "      <td>...</td>\n",
       "      <td>...</td>\n",
       "    </tr>\n",
       "    <tr>\n",
       "      <th>31448</th>\n",
       "      <td>Zykell</td>\n",
       "      <td>M</td>\n",
       "      <td>5</td>\n",
       "    </tr>\n",
       "    <tr>\n",
       "      <th>31449</th>\n",
       "      <td>Zylus</td>\n",
       "      <td>M</td>\n",
       "      <td>5</td>\n",
       "    </tr>\n",
       "    <tr>\n",
       "      <th>31450</th>\n",
       "      <td>Zymari</td>\n",
       "      <td>M</td>\n",
       "      <td>5</td>\n",
       "    </tr>\n",
       "    <tr>\n",
       "      <th>31451</th>\n",
       "      <td>Zyn</td>\n",
       "      <td>M</td>\n",
       "      <td>5</td>\n",
       "    </tr>\n",
       "    <tr>\n",
       "      <th>31452</th>\n",
       "      <td>Zyran</td>\n",
       "      <td>M</td>\n",
       "      <td>5</td>\n",
       "    </tr>\n",
       "  </tbody>\n",
       "</table>\n",
       "<p>31453 rows × 3 columns</p>\n",
       "</div>"
      ],
      "text/plain": [
       "            name gender  frequency\n",
       "0         Olivia      F      17641\n",
       "1           Emma      F      15656\n",
       "2            Ava      F      13160\n",
       "3      Charlotte      F      13065\n",
       "4         Sophia      F      13036\n",
       "...          ...    ...        ...\n",
       "31448     Zykell      M          5\n",
       "31449      Zylus      M          5\n",
       "31450     Zymari      M          5\n",
       "31451        Zyn      M          5\n",
       "31452      Zyran      M          5\n",
       "\n",
       "[31453 rows x 3 columns]"
      ]
     },
     "execution_count": 5,
     "metadata": {},
     "output_type": "execute_result"
    }
   ],
   "source": [
    "df"
   ]
  },
  {
   "cell_type": "code",
   "execution_count": 6,
   "id": "7b632256",
   "metadata": {},
   "outputs": [
    {
     "data": {
      "text/plain": [
       "'The most popular name in 2020 year was Liam,  gender is M there were 19777 babies born with this name.'"
      ]
     },
     "execution_count": 6,
     "metadata": {},
     "output_type": "execute_result"
    }
   ],
   "source": [
    "# for 2020 DataFrame\n",
    "# sorted by 'frequency' descending toget the most popular name\n",
    "\n",
    "# sort DataFrame and save new order in it\n",
    "df.sort_values(by = 'frequency', ascending=False, inplace=True)\n",
    "\n",
    "most_pop_name = df.iloc[0,0] # 'Liam'\n",
    "most_pop_name_freq = df.iloc[0,2] # 19777\n",
    "most_pop_name_gen = df.iloc[0,1] # 'M'\n",
    "\n",
    "# Info message\n",
    "f'The most popular name in {year} year was {most_pop_name},  gender is {most_pop_name_gen} \\\n",
    "there were {most_pop_name_freq} babies born with this name.'"
   ]
  },
  {
   "cell_type": "code",
   "execution_count": 7,
   "id": "4cdf588a",
   "metadata": {},
   "outputs": [
    {
     "data": {
      "text/html": [
       "<div>\n",
       "<style scoped>\n",
       "    .dataframe tbody tr th:only-of-type {\n",
       "        vertical-align: middle;\n",
       "    }\n",
       "\n",
       "    .dataframe tbody tr th {\n",
       "        vertical-align: top;\n",
       "    }\n",
       "\n",
       "    .dataframe thead th {\n",
       "        text-align: right;\n",
       "    }\n",
       "</style>\n",
       "<table border=\"1\" class=\"dataframe\">\n",
       "  <thead>\n",
       "    <tr style=\"text-align: right;\">\n",
       "      <th></th>\n",
       "      <th>name</th>\n",
       "      <th>gender</th>\n",
       "      <th>frequency</th>\n",
       "    </tr>\n",
       "  </thead>\n",
       "  <tbody>\n",
       "    <tr>\n",
       "      <th>17447</th>\n",
       "      <td>Liam</td>\n",
       "      <td>M</td>\n",
       "      <td>19777</td>\n",
       "    </tr>\n",
       "    <tr>\n",
       "      <th>17448</th>\n",
       "      <td>Noah</td>\n",
       "      <td>M</td>\n",
       "      <td>18364</td>\n",
       "    </tr>\n",
       "    <tr>\n",
       "      <th>0</th>\n",
       "      <td>Olivia</td>\n",
       "      <td>F</td>\n",
       "      <td>17641</td>\n",
       "    </tr>\n",
       "    <tr>\n",
       "      <th>1</th>\n",
       "      <td>Emma</td>\n",
       "      <td>F</td>\n",
       "      <td>15656</td>\n",
       "    </tr>\n",
       "    <tr>\n",
       "      <th>17449</th>\n",
       "      <td>Oliver</td>\n",
       "      <td>M</td>\n",
       "      <td>14234</td>\n",
       "    </tr>\n",
       "  </tbody>\n",
       "</table>\n",
       "</div>"
      ],
      "text/plain": [
       "         name gender  frequency\n",
       "17447    Liam      M      19777\n",
       "17448    Noah      M      18364\n",
       "0      Olivia      F      17641\n",
       "1        Emma      F      15656\n",
       "17449  Oliver      M      14234"
      ]
     },
     "execution_count": 7,
     "metadata": {},
     "output_type": "execute_result"
    }
   ],
   "source": [
    "# top 5 popular names in 2020 year\n",
    "df.head(5)"
   ]
  },
  {
   "cell_type": "code",
   "execution_count": 8,
   "id": "7410f3d5",
   "metadata": {},
   "outputs": [
    {
     "data": {
      "text/plain": [
       "name         31453\n",
       "gender       31453\n",
       "frequency    31453\n",
       "dtype: int64"
      ]
     },
     "execution_count": 8,
     "metadata": {},
     "output_type": "execute_result"
    }
   ],
   "source": [
    "# total number of records for year 2020\n",
    "df.count() # 31_453"
   ]
  },
  {
   "cell_type": "code",
   "execution_count": 9,
   "id": "8f47083f",
   "metadata": {},
   "outputs": [
    {
     "data": {
      "text/plain": [
       "name         28766\n",
       "gender           2\n",
       "frequency     1377\n",
       "dtype: int64"
      ]
     },
     "execution_count": 9,
     "metadata": {},
     "output_type": "execute_result"
    }
   ],
   "source": [
    "# count for unique values -> some names refer to a few rows (of different gender)\n",
    "df.nunique() # 28_766"
   ]
  },
  {
   "cell_type": "markdown",
   "id": "3d79271e",
   "metadata": {},
   "source": [
    " "
   ]
  },
  {
   "cell_type": "markdown",
   "id": "59011b13",
   "metadata": {},
   "source": [
    "## Year = 1950"
   ]
  },
  {
   "cell_type": "code",
   "execution_count": 10,
   "id": "1679e691",
   "metadata": {},
   "outputs": [
    {
     "data": {
      "text/plain": [
       "{2020: 3327419, 1950: 3503444}"
      ]
     },
     "execution_count": 10,
     "metadata": {},
     "output_type": "execute_result"
    }
   ],
   "source": [
    "year = 1950\n",
    "df = parse_dataset(year)\n",
    "\n",
    "# calculation sum() over 'frequency' column\n",
    "babys_total_by_year[year] = df['frequency'].sum()\n",
    "babys_total_by_year"
   ]
  },
  {
   "cell_type": "code",
   "execution_count": 11,
   "id": "ffa325a7",
   "metadata": {},
   "outputs": [
    {
     "data": {
      "text/plain": [
       "'The most popular name in 1950 year was James,  gender is M there were 86229 babies born with this name.'"
      ]
     },
     "execution_count": 11,
     "metadata": {},
     "output_type": "execute_result"
    }
   ],
   "source": [
    "# for 1950 DataFrame\n",
    "# sorted by 'frequency' descending toget the most popular name\n",
    "\n",
    "# sort DataFrame and save new order in it\n",
    "df.sort_values(by = 'frequency', ascending=False, inplace=True)\n",
    "\n",
    "most_pop_name = df.iloc[0,0] # 'James'\n",
    "most_pop_name_freq = df.iloc[0,2] # 86229 \n",
    "most_pop_name_gen = df.iloc[0,1] # 'M'\n",
    "\n",
    "# Info message\n",
    "f'The most popular name in {year} year was {most_pop_name},  gender is {most_pop_name_gen} \\\n",
    "there were {most_pop_name_freq} babies born with this name.'"
   ]
  },
  {
   "cell_type": "code",
   "execution_count": 12,
   "id": "edb4bb0a",
   "metadata": {},
   "outputs": [
    {
     "data": {
      "text/plain": [
       "name         10305\n",
       "gender       10305\n",
       "frequency    10305\n",
       "dtype: int64"
      ]
     },
     "execution_count": 12,
     "metadata": {},
     "output_type": "execute_result"
    }
   ],
   "source": [
    "# total amount ofrecords\n",
    "df.count()"
   ]
  },
  {
   "cell_type": "code",
   "execution_count": 13,
   "id": "428da54f",
   "metadata": {},
   "outputs": [
    {
     "data": {
      "text/plain": [
       "name         9281\n",
       "gender          2\n",
       "frequency    1000\n",
       "dtype: int64"
      ]
     },
     "execution_count": 13,
     "metadata": {},
     "output_type": "execute_result"
    }
   ],
   "source": [
    "# count for unique values -> some names refer to a few rows (of different gender)\n",
    "df.nunique()"
   ]
  },
  {
   "cell_type": "code",
   "execution_count": null,
   "id": "6d5303c2",
   "metadata": {},
   "outputs": [],
   "source": []
  },
  {
   "cell_type": "markdown",
   "id": "30410b44",
   "metadata": {},
   "source": [
    " "
   ]
  },
  {
   "cell_type": "markdown",
   "id": "cc6d66a0",
   "metadata": {},
   "source": [
    "# RESULTS INSITES:"
   ]
  },
  {
   "cell_type": "markdown",
   "id": "12fb57ed",
   "metadata": {},
   "source": [
    "1. In 2020 there is a bit less names than in 1950 (3_503_444 in 1950 vs 3_327_419 in 2020).\n",
    "   It means the population quantity is slightly reducing.\n",
    "   \n",
    "2. In 1950 the most popular name was of 'male' gender. The same for 2020.\n",
    "\n",
    "3. In 1950 the most popular name was 4.4 time more popular (frequency 86_229 vs 19_777).\n",
    "\n",
    "4. The amount of unique baby names per year (comparing to the total quantity) shows that:\n",
    "    * some names are included more than one time (check if that is because 'M', 'F' rows pair for the same name).\n",
    "    * names diversity in 2020 is three times more than was in 1950 (9_281 in 1950 vs 28_766 in 2020).\n",
    "   "
   ]
  },
  {
   "cell_type": "markdown",
   "id": "617fe148",
   "metadata": {},
   "source": [
    "# DEBUG (THIS PART DOESN'T WORK)"
   ]
  },
  {
   "cell_type": "code",
   "execution_count": 14,
   "id": "d636eae3",
   "metadata": {},
   "outputs": [],
   "source": [
    "#babys_total_by_year.keys()"
   ]
  },
  {
   "cell_type": "code",
   "execution_count": 15,
   "id": "fa77ae63",
   "metadata": {},
   "outputs": [],
   "source": [
    "#babys_total_by_year.values()"
   ]
  },
  {
   "cell_type": "code",
   "execution_count": 16,
   "id": "0021b900",
   "metadata": {},
   "outputs": [],
   "source": [
    "#year_list = babys_total_by_year.keys()      # dict_keys([2020, 1950])\n",
    "#totals_list = babys_total_by_year.values()  # dict_values([3327419, 3503444])"
   ]
  },
  {
   "cell_type": "markdown",
   "id": "4026f49d",
   "metadata": {},
   "source": [
    "### Works incorrectly!\n",
    "        df_res = pd.DataFrame([year_list, totals_list], columns=['year','total number of babies'])\n",
    "    \n",
    "**Returns:**"
   ]
  },
  {
   "cell_type": "markdown",
   "id": "e1227fea",
   "metadata": {},
   "source": [
    "### year \ttotal number of babies\n",
    "### 0 \t2020 \t1950\n",
    "### 1 \t3327419 \t3503444"
   ]
  },
  {
   "cell_type": "code",
   "execution_count": 17,
   "id": "38581d55",
   "metadata": {
    "scrolled": true
   },
   "outputs": [
    {
     "data": {
      "text/html": [
       "<div>\n",
       "<style scoped>\n",
       "    .dataframe tbody tr th:only-of-type {\n",
       "        vertical-align: middle;\n",
       "    }\n",
       "\n",
       "    .dataframe tbody tr th {\n",
       "        vertical-align: top;\n",
       "    }\n",
       "\n",
       "    .dataframe thead th {\n",
       "        text-align: right;\n",
       "    }\n",
       "</style>\n",
       "<table border=\"1\" class=\"dataframe\">\n",
       "  <thead>\n",
       "    <tr style=\"text-align: right;\">\n",
       "      <th></th>\n",
       "      <th>year</th>\n",
       "      <th>total number of babies</th>\n",
       "    </tr>\n",
       "  </thead>\n",
       "  <tbody>\n",
       "    <tr>\n",
       "      <th>0</th>\n",
       "      <td>NaN</td>\n",
       "      <td>NaN</td>\n",
       "    </tr>\n",
       "  </tbody>\n",
       "</table>\n",
       "</div>"
      ],
      "text/plain": [
       "   year  total number of babies\n",
       "0   NaN                     NaN"
      ]
     },
     "execution_count": 17,
     "metadata": {},
     "output_type": "execute_result"
    }
   ],
   "source": [
    "#df_res = pd.DataFrame([year_list, totals_list], columns=['year','total number of babies'])\n",
    "df_res = pd.DataFrame([babys_total_by_year], columns=['year','total number of babies'])\n",
    "df_res\n",
    "\n",
    "# returns DataFrame with 1 record and both 'NaN' values"
   ]
  }
 ],
 "metadata": {
  "kernelspec": {
   "display_name": "Python 3 (ipykernel)",
   "language": "python",
   "name": "python3"
  },
  "language_info": {
   "codemirror_mode": {
    "name": "ipython",
    "version": 3
   },
   "file_extension": ".py",
   "mimetype": "text/x-python",
   "name": "python",
   "nbconvert_exporter": "python",
   "pygments_lexer": "ipython3",
   "version": "3.10.8"
  }
 },
 "nbformat": 4,
 "nbformat_minor": 5
}
