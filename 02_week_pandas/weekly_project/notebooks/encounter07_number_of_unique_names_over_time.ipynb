{
 "cells": [
  {
   "cell_type": "markdown",
   "id": "6585f52b",
   "metadata": {},
   "source": [
    "# WEEK 02\n",
    "# Encounter 07 - Matplot lib\n",
    "# Project Challenge (PART 3) - Number of unique names over time"
   ]
  },
  {
   "cell_type": "markdown",
   "id": "c5a6b1ed",
   "metadata": {},
   "source": [
    "## Task Description\n",
    "\n",
    "\n",
    "1. How has the number of unique names given to newborn children varied over time?\n",
    "2. For each year from 1880 til 2020\n",
    "       * read in the data using the `parse_dataset()` function\n",
    "       * use `nunique()` to count the unique names for each year\n",
    "       * keep track of the year and the count in a dictionary\n",
    "       * convert dictionary to `pandasDataFrame` as was done in the first milestone for this lesson\n",
    "3. Visualize the data, use the years on the x-axis and the counts on the y-axis.\n"
   ]
  },
  {
   "cell_type": "code",
   "execution_count": 1,
   "id": "ba0ce8d0",
   "metadata": {},
   "outputs": [],
   "source": [
    "import pandas as pd\n",
    "import os\n",
    "import matplotlib.pyplot as plt"
   ]
  },
  {
   "cell_type": "code",
   "execution_count": 2,
   "id": "56005d32",
   "metadata": {},
   "outputs": [],
   "source": [
    "# list of columns in DataFrame\n",
    "col_list=['name', 'gender', 'frequency']"
   ]
  },
  {
   "cell_type": "code",
   "execution_count": 3,
   "id": "27ce7dbc",
   "metadata": {},
   "outputs": [],
   "source": [
    "# my parse_dataset(year) function\n",
    "def parse_dataset(year):\n",
    "    '''Function accepts year, reads appropriate data file and returns DataFrame with header'''\n",
    "    \n",
    "    # Check if entered YEAR is at least an INT number; if not, return a text message\n",
    "    if type(year) is int:\n",
    "        path = f'../data/yob{year}.txt'\n",
    "        if os.path.isfile(path):\n",
    "            dataset = pd.read_csv(path, names=col_list)\n",
    "            return dataset\n",
    "        else:\n",
    "            return print(f'There is no file with entered YEAR = \\'{year}\\'!')\n",
    "    \n",
    "    else:\n",
    "        return print(f'Entered YEAR = \\'{year}\\' is not an INT value!')\n"
   ]
  },
  {
   "cell_type": "code",
   "execution_count": 7,
   "id": "7434dc62",
   "metadata": {},
   "outputs": [],
   "source": [
    "# read in the data using the `parse_dataset()` function\n",
    "# use `nunique()` to count the unique names for each year\n",
    "# keep track of the year and the count in a dictionary\n",
    "# convert dictionary to `pandasDataFrame`\n",
    "\n",
    "# Make a empty dictionary that maps the column names year and total_births to empty lists:\n",
    "unique_names_qty_dict = {'year':[], 'unique_names_qty':[]}\n",
    "\n",
    "for year in range(1880,2021):\n",
    "    # parsing current year dataset\n",
    "    df_temp = parse_dataset(year)\n",
    "    \n",
    "    #counting total_births\n",
    "    unique_names_qty = df_temp['name'].nunique()\n",
    "     \n",
    "    # adding 'year' and 'total' to 'birth_dict' dictionary\n",
    "    unique_names_qty_dict['unique_names_qty'].append(unique_names_qty)\n",
    "    unique_names_qty_dict['year'].append(year)"
   ]
  },
  {
   "cell_type": "code",
   "execution_count": 8,
   "id": "55a1af02",
   "metadata": {},
   "outputs": [
    {
     "data": {
      "text/html": [
       "<div>\n",
       "<style scoped>\n",
       "    .dataframe tbody tr th:only-of-type {\n",
       "        vertical-align: middle;\n",
       "    }\n",
       "\n",
       "    .dataframe tbody tr th {\n",
       "        vertical-align: top;\n",
       "    }\n",
       "\n",
       "    .dataframe thead th {\n",
       "        text-align: right;\n",
       "    }\n",
       "</style>\n",
       "<table border=\"1\" class=\"dataframe\">\n",
       "  <thead>\n",
       "    <tr style=\"text-align: right;\">\n",
       "      <th></th>\n",
       "      <th>year</th>\n",
       "      <th>unique_names_qty</th>\n",
       "    </tr>\n",
       "  </thead>\n",
       "  <tbody>\n",
       "    <tr>\n",
       "      <th>0</th>\n",
       "      <td>1880</td>\n",
       "      <td>1889</td>\n",
       "    </tr>\n",
       "    <tr>\n",
       "      <th>1</th>\n",
       "      <td>1881</td>\n",
       "      <td>1829</td>\n",
       "    </tr>\n",
       "    <tr>\n",
       "      <th>2</th>\n",
       "      <td>1882</td>\n",
       "      <td>2012</td>\n",
       "    </tr>\n",
       "    <tr>\n",
       "      <th>3</th>\n",
       "      <td>1883</td>\n",
       "      <td>1962</td>\n",
       "    </tr>\n",
       "    <tr>\n",
       "      <th>4</th>\n",
       "      <td>1884</td>\n",
       "      <td>2158</td>\n",
       "    </tr>\n",
       "    <tr>\n",
       "      <th>...</th>\n",
       "      <td>...</td>\n",
       "      <td>...</td>\n",
       "    </tr>\n",
       "    <tr>\n",
       "      <th>136</th>\n",
       "      <td>2016</td>\n",
       "      <td>30440</td>\n",
       "    </tr>\n",
       "    <tr>\n",
       "      <th>137</th>\n",
       "      <td>2017</td>\n",
       "      <td>30054</td>\n",
       "    </tr>\n",
       "    <tr>\n",
       "      <th>138</th>\n",
       "      <td>2018</td>\n",
       "      <td>29637</td>\n",
       "    </tr>\n",
       "    <tr>\n",
       "      <th>139</th>\n",
       "      <td>2019</td>\n",
       "      <td>29456</td>\n",
       "    </tr>\n",
       "    <tr>\n",
       "      <th>140</th>\n",
       "      <td>2020</td>\n",
       "      <td>28766</td>\n",
       "    </tr>\n",
       "  </tbody>\n",
       "</table>\n",
       "<p>141 rows × 2 columns</p>\n",
       "</div>"
      ],
      "text/plain": [
       "     year  unique_names_qty\n",
       "0    1880              1889\n",
       "1    1881              1829\n",
       "2    1882              2012\n",
       "3    1883              1962\n",
       "4    1884              2158\n",
       "..    ...               ...\n",
       "136  2016             30440\n",
       "137  2017             30054\n",
       "138  2018             29637\n",
       "139  2019             29456\n",
       "140  2020             28766\n",
       "\n",
       "[141 rows x 2 columns]"
      ]
     },
     "execution_count": 8,
     "metadata": {},
     "output_type": "execute_result"
    }
   ],
   "source": [
    "# Create a yearly_births DataFrame by passing births_dictto pd.DataFrame()\n",
    "unique_names_qty = pd.DataFrame(unique_names_qty_dict)\n",
    "unique_names_qty"
   ]
  },
  {
   "cell_type": "code",
   "execution_count": 10,
   "id": "bd852699",
   "metadata": {},
   "outputs": [
    {
     "data": {
      "text/plain": [
       "Text(0, 0.5, 'Unique Names Quantity')"
      ]
     },
     "execution_count": 10,
     "metadata": {},
     "output_type": "execute_result"
    },
    {
     "data": {
      "image/png": "[encoded data removed]",
      "text/plain": [
       "<Figure size 640x480 with 1 Axes>"
      ]
     },
     "metadata": {},
     "output_type": "display_data"
    }
   ],
   "source": [
    "# Visualize the data, use the years on the x-axis and the counts on the y-axis.\n",
    "\n",
    "x_vals = unique_names_qty['year']\n",
    "y_vals = unique_names_qty['unique_names_qty']\n",
    "\n",
    "# plotting starts\n",
    "plt.style.use('ggplot')\n",
    "plt.figure(figsize=(6.4, 4.8))\n",
    "\n",
    "plt.bar(x_vals, y_vals, label='the number of unique names', color='darkorange')\n",
    "\n",
    "# title\n",
    "plt.title('The Number of Unique Names Given to Newborn Children Varied Over Time')\n",
    "\n",
    "# label names\n",
    "plt.xlabel('Years')\n",
    "plt.ylabel('Unique Names Quantity')\n",
    "\n",
    "# save plot at given path\n",
    "#plt.savefig('../images/some_random_plot.pdf')"
   ]
  },
  {
   "cell_type": "code",
   "execution_count": null,
   "id": "8f0854c8",
   "metadata": {},
   "outputs": [],
   "source": []
  }
 ],
 "metadata": {
  "kernelspec": {
   "display_name": "Python 3 (ipykernel)",
   "language": "python",
   "name": "python3"
  },
  "language_info": {
   "codemirror_mode": {
    "name": "ipython",
    "version": 3
   },
   "file_extension": ".py",
   "mimetype": "text/x-python",
   "name": "python",
   "nbconvert_exporter": "python",
   "pygments_lexer": "ipython3",
   "version": "3.10.8"
  }
 },
 "nbformat": 4,
 "nbformat_minor": 5
}
