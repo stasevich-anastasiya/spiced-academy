{
 "cells": [
  {
   "cell_type": "markdown",
   "id": "3ed51c2d",
   "metadata": {},
   "source": [
    "# WEEK 02\n",
    "# Encounter 05 - s\n",
    "# Project Challenge (PART 2)"
   ]
  },
  {
   "cell_type": "markdown",
   "id": "aee08eed",
   "metadata": {},
   "source": [
    "## Task Description\n",
    "\n",
    "Write code to combine datasets for analysis\n",
    "\n",
    "Using the **parse_dataset(year)** custom function as a starting point, create code that loops over every year in the baby names data folder and combine the datasets into one dataset.\n",
    "\n",
    "    1. Define empty DataFrame with the columns names, gender, frequency as df\n",
    "    2. Loop over each year and apply the parse_dataset() function to each year and save it in a variable such as df_temp. The loop would look something like this:\n",
    "\n",
    "> for year in range(1880, 2021):\n",
    ">    ...\n",
    "\n",
    "    3. Within the loop add a columnto df_temp in each iteration with the following code:\n",
    "\n",
    "> df_temp['year']=year\n",
    "\n",
    "    4. Use the pd.concat() function to combine df and df_temp in every iteration until all datasets have been combined into one. The code should then return the dfvariable as a DataFrame with all names from 1880 to 2020 similar to the image below:\n",
    "\n",
    "> baby df\n",
    "\n",
    "    5. Save the DataFrame in your data folder for later use:\n",
    "\n",
    "> df.to_csv('../data/baby_names_all_years.csv', index=False)\n",
    "\n",
    "    6. Using the combined DataFrame and the method .sort_values() figure out which name had the all time highest frequency and in which year.\n",
    "\n",
    "**Bonus:**\n",
    "   * Wrap code into a function\n",
    "   * Input arguments could be the start and end year\n",
    "   * Output would be the complete dataframe with all years and names\n",
    "   * Function could also save the dataframe locally for later use\n"
   ]
  },
  {
   "cell_type": "code",
   "execution_count": 1,
   "id": "6778e705",
   "metadata": {},
   "outputs": [],
   "source": [
    "import pandas as pd\n",
    "import os  # for checking if the file with constructed puth exists"
   ]
  },
  {
   "cell_type": "code",
   "execution_count": 6,
   "id": "66db6f5a",
   "metadata": {},
   "outputs": [],
   "source": [
    "# list of columns in DataFrame\n",
    "col_list=['name', 'gender', 'frequency']"
   ]
  },
  {
   "cell_type": "code",
   "execution_count": 7,
   "id": "c175bd81",
   "metadata": {},
   "outputs": [],
   "source": [
    "def parse_dataset(year):\n",
    "    '''Function accepts year, reads appropriate data file and returns DataFrame with header'''\n",
    "    \n",
    "    # Check if entered YEAR is at least an INT number; if not, return a text message\n",
    "    if type(year) is int:\n",
    "        path = f'../data/yob{year}.txt'\n",
    "        if os.path.isfile(path):\n",
    "            dataset = pd.read_csv(path, names=col_list)\n",
    "            return dataset\n",
    "        else:\n",
    "            return print(f'There is no file with entered YEAR = \\'{year}\\'!')\n",
    "    \n",
    "    else:\n",
    "        return print(f'Entered YEAR = \\'{year}\\' is not an INT value!')"
   ]
  },
  {
   "cell_type": "code",
   "execution_count": 23,
   "id": "ca5eed82",
   "metadata": {},
   "outputs": [
    {
     "data": {
      "text/html": [
       "<div>\n",
       "<style scoped>\n",
       "    .dataframe tbody tr th:only-of-type {\n",
       "        vertical-align: middle;\n",
       "    }\n",
       "\n",
       "    .dataframe tbody tr th {\n",
       "        vertical-align: top;\n",
       "    }\n",
       "\n",
       "    .dataframe thead th {\n",
       "        text-align: right;\n",
       "    }\n",
       "</style>\n",
       "<table border=\"1\" class=\"dataframe\">\n",
       "  <thead>\n",
       "    <tr style=\"text-align: right;\">\n",
       "      <th></th>\n",
       "      <th>name</th>\n",
       "      <th>gender</th>\n",
       "      <th>frequency</th>\n",
       "    </tr>\n",
       "  </thead>\n",
       "  <tbody>\n",
       "  </tbody>\n",
       "</table>\n",
       "</div>"
      ],
      "text/plain": [
       "Empty DataFrame\n",
       "Columns: [name, gender, frequency]\n",
       "Index: []"
      ]
     },
     "execution_count": 23,
     "metadata": {},
     "output_type": "execute_result"
    }
   ],
   "source": [
    "# 1. Define empty DataFrame with the columns names, gender, frequency as df\n",
    "\n",
    "df = pd.DataFrame([], columns=['name', 'gender', 'frequency'])\n",
    "df"
   ]
  },
  {
   "cell_type": "code",
   "execution_count": 24,
   "id": "f42947e4",
   "metadata": {},
   "outputs": [],
   "source": [
    "# 2. Loop over each year and apply the parse_dataset() function to each year and save it in a variable such as df_temp.\n",
    "# 3. Within the loop add a columnto df_temp in each iteration.\n",
    "# 4. Use the pd.concat() function to combine df and df_temp in every iteration until all datasets have been combined into one.\n",
    "#    The code should then return the 'df' variable as a DataFrame with all names from 1880 to 2020.\n",
    "\n",
    "for year in range(1880, 2021):\n",
    "    # parsing current year dataset\n",
    "    df_temp = parse_dataset(year)\n",
    "    # adding 'year' column to the dataframe\n",
    "    df_temp['year'] = year\n",
    "    # combining df and df_temp in every iteration\n",
    "    df = pd.concat([df, df_temp], ignore_index=True)\n",
    "    \n",
    "# Additional Series type convertion to represent year as 'DDDD' instead of 'DDDD.0'\n",
    "df['year'] = df['year'].astype(int)"
   ]
  },
  {
   "cell_type": "code",
   "execution_count": 25,
   "id": "25ae94cc",
   "metadata": {},
   "outputs": [
    {
     "data": {
      "text/html": [
       "<div>\n",
       "<style scoped>\n",
       "    .dataframe tbody tr th:only-of-type {\n",
       "        vertical-align: middle;\n",
       "    }\n",
       "\n",
       "    .dataframe tbody tr th {\n",
       "        vertical-align: top;\n",
       "    }\n",
       "\n",
       "    .dataframe thead th {\n",
       "        text-align: right;\n",
       "    }\n",
       "</style>\n",
       "<table border=\"1\" class=\"dataframe\">\n",
       "  <thead>\n",
       "    <tr style=\"text-align: right;\">\n",
       "      <th></th>\n",
       "      <th>name</th>\n",
       "      <th>gender</th>\n",
       "      <th>frequency</th>\n",
       "      <th>year</th>\n",
       "    </tr>\n",
       "  </thead>\n",
       "  <tbody>\n",
       "    <tr>\n",
       "      <th>0</th>\n",
       "      <td>Mary</td>\n",
       "      <td>F</td>\n",
       "      <td>7065</td>\n",
       "      <td>1880</td>\n",
       "    </tr>\n",
       "    <tr>\n",
       "      <th>1</th>\n",
       "      <td>Anna</td>\n",
       "      <td>F</td>\n",
       "      <td>2604</td>\n",
       "      <td>1880</td>\n",
       "    </tr>\n",
       "    <tr>\n",
       "      <th>2</th>\n",
       "      <td>Emma</td>\n",
       "      <td>F</td>\n",
       "      <td>2003</td>\n",
       "      <td>1880</td>\n",
       "    </tr>\n",
       "    <tr>\n",
       "      <th>3</th>\n",
       "      <td>Elizabeth</td>\n",
       "      <td>F</td>\n",
       "      <td>1939</td>\n",
       "      <td>1880</td>\n",
       "    </tr>\n",
       "    <tr>\n",
       "      <th>4</th>\n",
       "      <td>Minnie</td>\n",
       "      <td>F</td>\n",
       "      <td>1746</td>\n",
       "      <td>1880</td>\n",
       "    </tr>\n",
       "    <tr>\n",
       "      <th>...</th>\n",
       "      <td>...</td>\n",
       "      <td>...</td>\n",
       "      <td>...</td>\n",
       "      <td>...</td>\n",
       "    </tr>\n",
       "    <tr>\n",
       "      <th>2021239</th>\n",
       "      <td>Zykell</td>\n",
       "      <td>M</td>\n",
       "      <td>5</td>\n",
       "      <td>2020</td>\n",
       "    </tr>\n",
       "    <tr>\n",
       "      <th>2021240</th>\n",
       "      <td>Zylus</td>\n",
       "      <td>M</td>\n",
       "      <td>5</td>\n",
       "      <td>2020</td>\n",
       "    </tr>\n",
       "    <tr>\n",
       "      <th>2021241</th>\n",
       "      <td>Zymari</td>\n",
       "      <td>M</td>\n",
       "      <td>5</td>\n",
       "      <td>2020</td>\n",
       "    </tr>\n",
       "    <tr>\n",
       "      <th>2021242</th>\n",
       "      <td>Zyn</td>\n",
       "      <td>M</td>\n",
       "      <td>5</td>\n",
       "      <td>2020</td>\n",
       "    </tr>\n",
       "    <tr>\n",
       "      <th>2021243</th>\n",
       "      <td>Zyran</td>\n",
       "      <td>M</td>\n",
       "      <td>5</td>\n",
       "      <td>2020</td>\n",
       "    </tr>\n",
       "  </tbody>\n",
       "</table>\n",
       "<p>2021244 rows × 4 columns</p>\n",
       "</div>"
      ],
      "text/plain": [
       "              name gender frequency  year\n",
       "0             Mary      F      7065  1880\n",
       "1             Anna      F      2604  1880\n",
       "2             Emma      F      2003  1880\n",
       "3        Elizabeth      F      1939  1880\n",
       "4           Minnie      F      1746  1880\n",
       "...            ...    ...       ...   ...\n",
       "2021239     Zykell      M         5  2020\n",
       "2021240      Zylus      M         5  2020\n",
       "2021241     Zymari      M         5  2020\n",
       "2021242        Zyn      M         5  2020\n",
       "2021243      Zyran      M         5  2020\n",
       "\n",
       "[2021244 rows x 4 columns]"
      ]
     },
     "execution_count": 25,
     "metadata": {},
     "output_type": "execute_result"
    }
   ],
   "source": [
    "df  # returns: 2_021_244 rows × 4 columns"
   ]
  },
  {
   "cell_type": "code",
   "execution_count": 26,
   "id": "bab40287",
   "metadata": {},
   "outputs": [],
   "source": [
    "# 5. Save the DataFrame in your data folder for later use:\n",
    "# Note that the file has a header record!\n",
    "\n",
    "df.to_csv('../data/baby_names_all_years.csv', index=False)\n"
   ]
  },
  {
   "cell_type": "code",
   "execution_count": 30,
   "id": "080bdcb1",
   "metadata": {},
   "outputs": [
    {
     "data": {
      "text/plain": [
       "'Linda'"
      ]
     },
     "execution_count": 30,
     "metadata": {},
     "output_type": "execute_result"
    }
   ],
   "source": [
    "# 6. Using the combined DataFrame and the method .sort_values() figure out which name \n",
    "#    had the all time highest frequency and in which year.\n",
    "\n",
    "most_pop_name = df.sort_values(by = 'frequency', ascending=False).iloc[0, 0]\n",
    "most_pop_name # Linda"
   ]
  },
  {
   "cell_type": "code",
   "execution_count": 31,
   "id": "a212ee8e",
   "metadata": {},
   "outputs": [
    {
     "data": {
      "text/plain": [
       "1947"
      ]
     },
     "execution_count": 31,
     "metadata": {},
     "output_type": "execute_result"
    }
   ],
   "source": [
    "most_pop_name_year = df.sort_values(by = 'frequency', ascending=False).iloc[0, 3]\n",
    "most_pop_name_year # 1947"
   ]
  },
  {
   "cell_type": "markdown",
   "id": "a80e54a3",
   "metadata": {},
   "source": [
    " "
   ]
  },
  {
   "cell_type": "markdown",
   "id": "41dedb2f",
   "metadata": {},
   "source": [
    "## Bonus:\n",
    "\n",
    "   * Wrap code into a function\n",
    "   * Input arguments could be the start and end year\n",
    "   * Output would be the complete dataframe with all years and names\n",
    "   * Function could also save the dataframe locally for later use\n"
   ]
  },
  {
   "cell_type": "code",
   "execution_count": null,
   "id": "75e78f25",
   "metadata": {},
   "outputs": [],
   "source": []
  }
 ],
 "metadata": {
  "kernelspec": {
   "display_name": "Python 3 (ipykernel)",
   "language": "python",
   "name": "python3"
  },
  "language_info": {
   "codemirror_mode": {
    "name": "ipython",
    "version": 3
   },
   "file_extension": ".py",
   "mimetype": "text/x-python",
   "name": "python",
   "nbconvert_exporter": "python",
   "pygments_lexer": "ipython3",
   "version": "3.10.8"
  }
 },
 "nbformat": 4,
 "nbformat_minor": 5
}
