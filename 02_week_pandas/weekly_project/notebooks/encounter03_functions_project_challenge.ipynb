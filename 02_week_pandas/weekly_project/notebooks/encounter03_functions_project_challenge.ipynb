{
 "cells": [
  {
   "cell_type": "markdown",
   "id": "2ab14d17",
   "metadata": {},
   "source": [
    "# Week 02\n",
    "# Encounter 03 Functions\n",
    "# Project Challenge"
   ]
  },
  {
   "cell_type": "markdown",
   "id": "dc5e160c",
   "metadata": {},
   "source": [
    "Write a function **parse_dataset(year)** that helps you work with the data.\n",
    "\n",
    "The function should:\n",
    "\n",
    "   * accept a single year as input value\n",
    "   * construct a valid file path\n",
    "   * read in the corresponding names dataset\n",
    "   * define the correct column index for the data set\n",
    "   * output the dataset as a pandas dataframe"
   ]
  },
  {
   "cell_type": "code",
   "execution_count": 1,
   "id": "f5e91cab",
   "metadata": {},
   "outputs": [],
   "source": [
    "import pandas as pd\n",
    "import os  # for checking if the file with constructed puth exists"
   ]
  },
  {
   "cell_type": "code",
   "execution_count": 2,
   "id": "39d1bd06",
   "metadata": {},
   "outputs": [],
   "source": [
    "# constants definition\n",
    "\n",
    "# list of columns in DataFrame\n",
    "col_list=['name', 'gender', 'frequency']\n"
   ]
  },
  {
   "cell_type": "code",
   "execution_count": 3,
   "id": "04cfd0d2",
   "metadata": {},
   "outputs": [],
   "source": [
    "def parse_dataset(year):\n",
    "    '''Function accepts year, reads appropriate data file and returns DataFrame with header'''\n",
    "    \n",
    "    # Check if entered YEAR is at least an INT number; if not, return a text message\n",
    "    if type(year) is int:\n",
    "        path = f'../data/yob{year}.txt'\n",
    "        if os.path.isfile(path):\n",
    "            dataset = pd.read_csv(path, names=col_list)\n",
    "            return dataset\n",
    "        else:\n",
    "            return print(f'There is no file with entered YEAR = \\'{year}\\'!')\n",
    "    \n",
    "    else:\n",
    "        return print(f'Entered YEAR = \\'{year}\\' is not an INT value!')"
   ]
  },
  {
   "cell_type": "markdown",
   "id": "f040148c",
   "metadata": {},
   "source": [
    "## Function Execution Cases"
   ]
  },
  {
   "cell_type": "markdown",
   "id": "3426c5e8",
   "metadata": {},
   "source": [
    "### Test 1 - Check invalid YEAR\n",
    "**Expected:**  The function returns text message about incorrect input parameter"
   ]
  },
  {
   "cell_type": "code",
   "execution_count": 4,
   "id": "0839d3de",
   "metadata": {},
   "outputs": [
    {
     "name": "stdout",
     "output_type": "stream",
     "text": [
      "Entered YEAR = 'abc' is not an INT value!\n"
     ]
    }
   ],
   "source": [
    "# to check invalid YEAR\n",
    "year = 'abc'\n",
    "\n",
    "res = parse_dataset(year)\n",
    "res"
   ]
  },
  {
   "cell_type": "markdown",
   "id": "d5d0ab83",
   "metadata": {},
   "source": [
    "### Test 2 - Check valid YEAR, but out of range\n",
    "**Expected:**  TBD"
   ]
  },
  {
   "cell_type": "code",
   "execution_count": 5,
   "id": "cd030947",
   "metadata": {
    "scrolled": true
   },
   "outputs": [
    {
     "name": "stdout",
     "output_type": "stream",
     "text": [
      "There is no file with entered YEAR = '2024'!\n"
     ]
    }
   ],
   "source": [
    "# to check the function with a valid YEAR, but out of range - TO BE TESTED\n",
    "year = 2024\n",
    "\n",
    "res = parse_dataset(year)\n",
    "res"
   ]
  },
  {
   "cell_type": "markdown",
   "id": "bb7250b5",
   "metadata": {},
   "source": [
    "### Test 3 - Main Test\n",
    "**Expected:**  The function returns DataFrame with columns 'name', 'gender', 'frequency'"
   ]
  },
  {
   "cell_type": "code",
   "execution_count": 6,
   "id": "7a82c887",
   "metadata": {},
   "outputs": [
    {
     "data": {
      "text/html": [
       "<div>\n",
       "<style scoped>\n",
       "    .dataframe tbody tr th:only-of-type {\n",
       "        vertical-align: middle;\n",
       "    }\n",
       "\n",
       "    .dataframe tbody tr th {\n",
       "        vertical-align: top;\n",
       "    }\n",
       "\n",
       "    .dataframe thead th {\n",
       "        text-align: right;\n",
       "    }\n",
       "</style>\n",
       "<table border=\"1\" class=\"dataframe\">\n",
       "  <thead>\n",
       "    <tr style=\"text-align: right;\">\n",
       "      <th></th>\n",
       "      <th>name</th>\n",
       "      <th>gender</th>\n",
       "      <th>frequency</th>\n",
       "    </tr>\n",
       "  </thead>\n",
       "  <tbody>\n",
       "    <tr>\n",
       "      <th>0</th>\n",
       "      <td>Mary</td>\n",
       "      <td>F</td>\n",
       "      <td>7065</td>\n",
       "    </tr>\n",
       "    <tr>\n",
       "      <th>1</th>\n",
       "      <td>Anna</td>\n",
       "      <td>F</td>\n",
       "      <td>2604</td>\n",
       "    </tr>\n",
       "    <tr>\n",
       "      <th>2</th>\n",
       "      <td>Emma</td>\n",
       "      <td>F</td>\n",
       "      <td>2003</td>\n",
       "    </tr>\n",
       "    <tr>\n",
       "      <th>3</th>\n",
       "      <td>Elizabeth</td>\n",
       "      <td>F</td>\n",
       "      <td>1939</td>\n",
       "    </tr>\n",
       "    <tr>\n",
       "      <th>4</th>\n",
       "      <td>Minnie</td>\n",
       "      <td>F</td>\n",
       "      <td>1746</td>\n",
       "    </tr>\n",
       "    <tr>\n",
       "      <th>...</th>\n",
       "      <td>...</td>\n",
       "      <td>...</td>\n",
       "      <td>...</td>\n",
       "    </tr>\n",
       "    <tr>\n",
       "      <th>1995</th>\n",
       "      <td>Woodie</td>\n",
       "      <td>M</td>\n",
       "      <td>5</td>\n",
       "    </tr>\n",
       "    <tr>\n",
       "      <th>1996</th>\n",
       "      <td>Worthy</td>\n",
       "      <td>M</td>\n",
       "      <td>5</td>\n",
       "    </tr>\n",
       "    <tr>\n",
       "      <th>1997</th>\n",
       "      <td>Wright</td>\n",
       "      <td>M</td>\n",
       "      <td>5</td>\n",
       "    </tr>\n",
       "    <tr>\n",
       "      <th>1998</th>\n",
       "      <td>York</td>\n",
       "      <td>M</td>\n",
       "      <td>5</td>\n",
       "    </tr>\n",
       "    <tr>\n",
       "      <th>1999</th>\n",
       "      <td>Zachariah</td>\n",
       "      <td>M</td>\n",
       "      <td>5</td>\n",
       "    </tr>\n",
       "  </tbody>\n",
       "</table>\n",
       "<p>2000 rows × 3 columns</p>\n",
       "</div>"
      ],
      "text/plain": [
       "           name gender  frequency\n",
       "0          Mary      F       7065\n",
       "1          Anna      F       2604\n",
       "2          Emma      F       2003\n",
       "3     Elizabeth      F       1939\n",
       "4        Minnie      F       1746\n",
       "...         ...    ...        ...\n",
       "1995     Woodie      M          5\n",
       "1996     Worthy      M          5\n",
       "1997     Wright      M          5\n",
       "1998       York      M          5\n",
       "1999  Zachariah      M          5\n",
       "\n",
       "[2000 rows x 3 columns]"
      ]
     },
     "execution_count": 6,
     "metadata": {},
     "output_type": "execute_result"
    }
   ],
   "source": [
    "# to check the fnction with a valid YEAR\n",
    "year = 1880\n",
    "\n",
    "res = parse_dataset(year)\n",
    "res"
   ]
  },
  {
   "cell_type": "markdown",
   "id": "b825d030",
   "metadata": {},
   "source": [
    "## DEBUG NOTES:"
   ]
  },
  {
   "cell_type": "markdown",
   "id": "b8801f31",
   "metadata": {},
   "source": [
    "        a = 23\n",
    "\n",
    "        # if type(a) == 'int': # Doesn't work ((((\n",
    "        if type(a) is int:\n",
    "            a\n",
    "        else:\n",
    "            'smth went wrong..'\n",
    "    \n",
    "        a"
   ]
  },
  {
   "cell_type": "code",
   "execution_count": 7,
   "id": "f3f28fc2",
   "metadata": {},
   "outputs": [
    {
     "data": {
      "text/plain": [
       "True"
      ]
     },
     "execution_count": 7,
     "metadata": {},
     "output_type": "execute_result"
    }
   ],
   "source": [
    "# import os    # moved to the beginning of JupyterNotebook\n",
    "\n",
    "# test_path = '' # False\n",
    "# test_path = '../data/yob2024.txt' # False\n",
    "test_path = '../data/yob2000.txt' # True\n",
    "\n",
    "os.path.isfile(test_path)\n",
    "\n",
    "# is also true:\n",
    "# os.path.isfile(test_path) is True"
   ]
  },
  {
   "cell_type": "code",
   "execution_count": null,
   "id": "e7fff9f1",
   "metadata": {},
   "outputs": [],
   "source": []
  }
 ],
 "metadata": {
  "kernelspec": {
   "display_name": "Python 3 (ipykernel)",
   "language": "python",
   "name": "python3"
  },
  "language_info": {
   "codemirror_mode": {
    "name": "ipython",
    "version": 3
   },
   "file_extension": ".py",
   "mimetype": "text/x-python",
   "name": "python",
   "nbconvert_exporter": "python",
   "pygments_lexer": "ipython3",
   "version": "3.10.8"
  }
 },
 "nbformat": 4,
 "nbformat_minor": 5
}
