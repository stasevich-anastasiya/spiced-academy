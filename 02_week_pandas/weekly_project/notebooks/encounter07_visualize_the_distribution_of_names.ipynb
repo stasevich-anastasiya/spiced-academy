{
 "cells": [
  {
   "cell_type": "markdown",
   "id": "96c4554a",
   "metadata": {},
   "source": [
    "# WEEK 02\n",
    "# Encounter 07 - Matplotlib\n",
    "# Project Challenge (PART 2) - Visualize the Distribution of Names"
   ]
  },
  {
   "cell_type": "markdown",
   "id": "cf437404",
   "metadata": {},
   "source": [
    "## Task Description\n",
    "\n",
    "   * Read in a single dataset for one year using the `parse_dataset()` function and create a histogram of the frequency column.\n",
    "   * The distribution is highly skewed! Include the following `log=True` in `plt.hist` to improve the visualization!\n",
    "   * Play around with the number of bins `bins` to make the visualization even clearer.\n",
    "   * Do the same for another year and compare the two distributions with each other.\n",
    "   * Add labels and a title"
   ]
  },
  {
   "cell_type": "code",
   "execution_count": 15,
   "id": "87bc9acb",
   "metadata": {},
   "outputs": [],
   "source": [
    "import pandas as pd\n",
    "import matplotlib.pyplot as plt\n",
    "import numpy as np\n",
    "import os  # for checking if the file with constructed puth exists"
   ]
  },
  {
   "cell_type": "code",
   "execution_count": 6,
   "id": "067ebb0c",
   "metadata": {},
   "outputs": [],
   "source": [
    "# list of columns in DataFrame\n",
    "col_list=['name', 'gender', 'frequency']"
   ]
  },
  {
   "cell_type": "code",
   "execution_count": 7,
   "id": "cdff3251",
   "metadata": {},
   "outputs": [],
   "source": [
    "# my parse_dataset(year) function\n",
    "def parse_dataset(year):\n",
    "    '''Function accepts year, reads appropriate data file and returns DataFrame with header'''\n",
    "    \n",
    "    # Check if entered YEAR is at least an INT number; if not, return a text message\n",
    "    if type(year) is int:\n",
    "        path = f'../data/yob{year}.txt'\n",
    "        if os.path.isfile(path):\n",
    "            dataset = pd.read_csv(path, names=col_list)\n",
    "            return dataset\n",
    "        else:\n",
    "            return print(f'There is no file with entered YEAR = \\'{year}\\'!')\n",
    "    \n",
    "    else:\n",
    "        return print(f'Entered YEAR = \\'{year}\\' is not an INT value!')\n"
   ]
  },
  {
   "cell_type": "markdown",
   "id": "820b5fa7",
   "metadata": {},
   "source": [
    " "
   ]
  },
  {
   "cell_type": "markdown",
   "id": "75406e5d",
   "metadata": {},
   "source": [
    "## Year 1982"
   ]
  },
  {
   "cell_type": "code",
   "execution_count": 11,
   "id": "a94d3baa",
   "metadata": {},
   "outputs": [
    {
     "data": {
      "text/html": [
       "<div>\n",
       "<style scoped>\n",
       "    .dataframe tbody tr th:only-of-type {\n",
       "        vertical-align: middle;\n",
       "    }\n",
       "\n",
       "    .dataframe tbody tr th {\n",
       "        vertical-align: top;\n",
       "    }\n",
       "\n",
       "    .dataframe thead th {\n",
       "        text-align: right;\n",
       "    }\n",
       "</style>\n",
       "<table border=\"1\" class=\"dataframe\">\n",
       "  <thead>\n",
       "    <tr style=\"text-align: right;\">\n",
       "      <th></th>\n",
       "      <th>name</th>\n",
       "      <th>gender</th>\n",
       "      <th>frequency</th>\n",
       "    </tr>\n",
       "  </thead>\n",
       "  <tbody>\n",
       "    <tr>\n",
       "      <th>0</th>\n",
       "      <td>Jennifer</td>\n",
       "      <td>F</td>\n",
       "      <td>57119</td>\n",
       "    </tr>\n",
       "    <tr>\n",
       "      <th>1</th>\n",
       "      <td>Jessica</td>\n",
       "      <td>F</td>\n",
       "      <td>45456</td>\n",
       "    </tr>\n",
       "    <tr>\n",
       "      <th>2</th>\n",
       "      <td>Amanda</td>\n",
       "      <td>F</td>\n",
       "      <td>34215</td>\n",
       "    </tr>\n",
       "    <tr>\n",
       "      <th>3</th>\n",
       "      <td>Sarah</td>\n",
       "      <td>F</td>\n",
       "      <td>28488</td>\n",
       "    </tr>\n",
       "    <tr>\n",
       "      <th>4</th>\n",
       "      <td>Melissa</td>\n",
       "      <td>F</td>\n",
       "      <td>25868</td>\n",
       "    </tr>\n",
       "    <tr>\n",
       "      <th>...</th>\n",
       "      <td>...</td>\n",
       "      <td>...</td>\n",
       "      <td>...</td>\n",
       "    </tr>\n",
       "    <tr>\n",
       "      <th>19695</th>\n",
       "      <td>Zaki</td>\n",
       "      <td>M</td>\n",
       "      <td>5</td>\n",
       "    </tr>\n",
       "    <tr>\n",
       "      <th>19696</th>\n",
       "      <td>Zebulin</td>\n",
       "      <td>M</td>\n",
       "      <td>5</td>\n",
       "    </tr>\n",
       "    <tr>\n",
       "      <th>19697</th>\n",
       "      <td>Zedekiah</td>\n",
       "      <td>M</td>\n",
       "      <td>5</td>\n",
       "    </tr>\n",
       "    <tr>\n",
       "      <th>19698</th>\n",
       "      <td>Zubin</td>\n",
       "      <td>M</td>\n",
       "      <td>5</td>\n",
       "    </tr>\n",
       "    <tr>\n",
       "      <th>19699</th>\n",
       "      <td>Zuriel</td>\n",
       "      <td>M</td>\n",
       "      <td>5</td>\n",
       "    </tr>\n",
       "  </tbody>\n",
       "</table>\n",
       "<p>19700 rows × 3 columns</p>\n",
       "</div>"
      ],
      "text/plain": [
       "           name gender  frequency\n",
       "0      Jennifer      F      57119\n",
       "1       Jessica      F      45456\n",
       "2        Amanda      F      34215\n",
       "3         Sarah      F      28488\n",
       "4       Melissa      F      25868\n",
       "...         ...    ...        ...\n",
       "19695      Zaki      M          5\n",
       "19696   Zebulin      M          5\n",
       "19697  Zedekiah      M          5\n",
       "19698     Zubin      M          5\n",
       "19699    Zuriel      M          5\n",
       "\n",
       "[19700 rows x 3 columns]"
      ]
     },
     "execution_count": 11,
     "metadata": {},
     "output_type": "execute_result"
    }
   ],
   "source": [
    "# Read in a single dataset for one year using the parse_dataset() function\n",
    "year = 1982\n",
    "df_temp = parse_dataset(year)\n",
    "df_temp"
   ]
  },
  {
   "cell_type": "code",
   "execution_count": 32,
   "id": "348a0337",
   "metadata": {},
   "outputs": [
    {
     "data": {
      "text/html": [
       "<div>\n",
       "<style scoped>\n",
       "    .dataframe tbody tr th:only-of-type {\n",
       "        vertical-align: middle;\n",
       "    }\n",
       "\n",
       "    .dataframe tbody tr th {\n",
       "        vertical-align: top;\n",
       "    }\n",
       "\n",
       "    .dataframe thead th {\n",
       "        text-align: right;\n",
       "    }\n",
       "</style>\n",
       "<table border=\"1\" class=\"dataframe\">\n",
       "  <thead>\n",
       "    <tr style=\"text-align: right;\">\n",
       "      <th></th>\n",
       "      <th>name</th>\n",
       "      <th>gender</th>\n",
       "      <th>frequency</th>\n",
       "    </tr>\n",
       "  </thead>\n",
       "  <tbody>\n",
       "    <tr>\n",
       "      <th>3092</th>\n",
       "      <td>Aaliyah</td>\n",
       "      <td>F</td>\n",
       "      <td>28</td>\n",
       "    </tr>\n",
       "    <tr>\n",
       "      <th>10514</th>\n",
       "      <td>Aapri</td>\n",
       "      <td>F</td>\n",
       "      <td>5</td>\n",
       "    </tr>\n",
       "    <tr>\n",
       "      <th>7467</th>\n",
       "      <td>Aaren</td>\n",
       "      <td>F</td>\n",
       "      <td>8</td>\n",
       "    </tr>\n",
       "    <tr>\n",
       "      <th>9232</th>\n",
       "      <td>Aarica</td>\n",
       "      <td>F</td>\n",
       "      <td>6</td>\n",
       "    </tr>\n",
       "    <tr>\n",
       "      <th>3416</th>\n",
       "      <td>Aarika</td>\n",
       "      <td>F</td>\n",
       "      <td>24</td>\n",
       "    </tr>\n",
       "    <tr>\n",
       "      <th>...</th>\n",
       "      <td>...</td>\n",
       "      <td>...</td>\n",
       "      <td>...</td>\n",
       "    </tr>\n",
       "    <tr>\n",
       "      <th>16924</th>\n",
       "      <td>Zoran</td>\n",
       "      <td>M</td>\n",
       "      <td>9</td>\n",
       "    </tr>\n",
       "    <tr>\n",
       "      <th>17330</th>\n",
       "      <td>Zubair</td>\n",
       "      <td>M</td>\n",
       "      <td>8</td>\n",
       "    </tr>\n",
       "    <tr>\n",
       "      <th>19698</th>\n",
       "      <td>Zubin</td>\n",
       "      <td>M</td>\n",
       "      <td>5</td>\n",
       "    </tr>\n",
       "    <tr>\n",
       "      <th>19699</th>\n",
       "      <td>Zuriel</td>\n",
       "      <td>M</td>\n",
       "      <td>5</td>\n",
       "    </tr>\n",
       "    <tr>\n",
       "      <th>16292</th>\n",
       "      <td>Zvi</td>\n",
       "      <td>M</td>\n",
       "      <td>11</td>\n",
       "    </tr>\n",
       "  </tbody>\n",
       "</table>\n",
       "<p>19700 rows × 3 columns</p>\n",
       "</div>"
      ],
      "text/plain": [
       "          name gender  frequency\n",
       "3092   Aaliyah      F         28\n",
       "10514    Aapri      F          5\n",
       "7467     Aaren      F          8\n",
       "9232    Aarica      F          6\n",
       "3416    Aarika      F         24\n",
       "...        ...    ...        ...\n",
       "16924    Zoran      M          9\n",
       "17330   Zubair      M          8\n",
       "19698    Zubin      M          5\n",
       "19699   Zuriel      M          5\n",
       "16292      Zvi      M         11\n",
       "\n",
       "[19700 rows x 3 columns]"
      ]
     },
     "execution_count": 32,
     "metadata": {},
     "output_type": "execute_result"
    }
   ],
   "source": [
    "# Pre-condition: sorting the dataset by 'gender' and then by 'name'\n",
    "df_temp.sort_values(by=['gender', 'name'], inplace=True)\n",
    "df_temp"
   ]
  },
  {
   "cell_type": "code",
   "execution_count": 54,
   "id": "4abfa4ac",
   "metadata": {},
   "outputs": [
    {
     "name": "stdout",
     "output_type": "stream",
     "text": [
      "[19605    41    29     9     4     7     2     0     2     1]\n",
      "[5.00000e+00 6.82930e+03 1.36536e+04 2.04779e+04 2.73022e+04 3.41265e+04\n",
      " 4.09508e+04 4.77751e+04 5.45994e+04 6.14237e+04 6.82480e+04]\n"
     ]
    },
    {
     "data": {
      "image/png": "[encoded data removed]",
      "text/plain": [
       "<Figure size 640x480 with 1 Axes>"
      ]
     },
     "metadata": {},
     "output_type": "display_data"
    }
   ],
   "source": [
    "# create a histogram of the frequency column.\n",
    "# Addidng 'log=True' parameter to plt.hist() to improve the visualization!\n",
    "# Play around with the number of bins bins to make the visualization even clearer.\n",
    "\n",
    "#counts, bins = np.histogram(df_temp['frequency'], bins=50)\n",
    "\n",
    "counts, bins = np.histogram(df_temp['frequency'])\n",
    "print(counts)\n",
    "print(bins)\n",
    "plt.hist(bins[:-1], bins=20, weights=counts, log=True);"
   ]
  },
  {
   "cell_type": "code",
   "execution_count": null,
   "id": "9a7e35be",
   "metadata": {},
   "outputs": [],
   "source": []
  },
  {
   "cell_type": "code",
   "execution_count": null,
   "id": "1fa4ff7f",
   "metadata": {},
   "outputs": [],
   "source": []
  },
  {
   "cell_type": "code",
   "execution_count": 17,
   "id": "ab146c36",
   "metadata": {},
   "outputs": [],
   "source": [
    "# Play around with the number of bins (bins) to make the visualization even clearer.\n"
   ]
  },
  {
   "cell_type": "markdown",
   "id": "fe98eb98",
   "metadata": {},
   "source": [
    " "
   ]
  },
  {
   "cell_type": "markdown",
   "id": "7fd68a80",
   "metadata": {},
   "source": [
    "## Year = 2020"
   ]
  },
  {
   "cell_type": "code",
   "execution_count": null,
   "id": "3925671f",
   "metadata": {},
   "outputs": [],
   "source": [
    "# Do the same for another year and compare the two distributions with each other.\n"
   ]
  },
  {
   "cell_type": "code",
   "execution_count": 40,
   "id": "95a46e5d",
   "metadata": {},
   "outputs": [],
   "source": [
    "# Read in a single dataset for one year using the parse_dataset() function\n",
    "year = 2020\n",
    "df_2020 = parse_dataset(year)"
   ]
  },
  {
   "cell_type": "code",
   "execution_count": 41,
   "id": "97350aad",
   "metadata": {},
   "outputs": [
    {
     "data": {
      "text/html": [
       "<div>\n",
       "<style scoped>\n",
       "    .dataframe tbody tr th:only-of-type {\n",
       "        vertical-align: middle;\n",
       "    }\n",
       "\n",
       "    .dataframe tbody tr th {\n",
       "        vertical-align: top;\n",
       "    }\n",
       "\n",
       "    .dataframe thead th {\n",
       "        text-align: right;\n",
       "    }\n",
       "</style>\n",
       "<table border=\"1\" class=\"dataframe\">\n",
       "  <thead>\n",
       "    <tr style=\"text-align: right;\">\n",
       "      <th></th>\n",
       "      <th>name</th>\n",
       "      <th>gender</th>\n",
       "      <th>frequency</th>\n",
       "    </tr>\n",
       "  </thead>\n",
       "  <tbody>\n",
       "    <tr>\n",
       "      <th>15048</th>\n",
       "      <td>Aabha</td>\n",
       "      <td>F</td>\n",
       "      <td>5</td>\n",
       "    </tr>\n",
       "    <tr>\n",
       "      <th>12088</th>\n",
       "      <td>Aabriella</td>\n",
       "      <td>F</td>\n",
       "      <td>7</td>\n",
       "    </tr>\n",
       "    <tr>\n",
       "      <th>4336</th>\n",
       "      <td>Aadhira</td>\n",
       "      <td>F</td>\n",
       "      <td>31</td>\n",
       "    </tr>\n",
       "    <tr>\n",
       "      <th>11048</th>\n",
       "      <td>Aadhvika</td>\n",
       "      <td>F</td>\n",
       "      <td>8</td>\n",
       "    </tr>\n",
       "    <tr>\n",
       "      <th>1084</th>\n",
       "      <td>Aadhya</td>\n",
       "      <td>F</td>\n",
       "      <td>225</td>\n",
       "    </tr>\n",
       "    <tr>\n",
       "      <th>...</th>\n",
       "      <td>...</td>\n",
       "      <td>...</td>\n",
       "      <td>...</td>\n",
       "    </tr>\n",
       "    <tr>\n",
       "      <th>29422</th>\n",
       "      <td>Zyrell</td>\n",
       "      <td>M</td>\n",
       "      <td>6</td>\n",
       "    </tr>\n",
       "    <tr>\n",
       "      <th>29423</th>\n",
       "      <td>Zyren</td>\n",
       "      <td>M</td>\n",
       "      <td>6</td>\n",
       "    </tr>\n",
       "    <tr>\n",
       "      <th>26145</th>\n",
       "      <td>Zyrie</td>\n",
       "      <td>M</td>\n",
       "      <td>9</td>\n",
       "    </tr>\n",
       "    <tr>\n",
       "      <th>24920</th>\n",
       "      <td>Zyron</td>\n",
       "      <td>M</td>\n",
       "      <td>11</td>\n",
       "    </tr>\n",
       "    <tr>\n",
       "      <th>26146</th>\n",
       "      <td>Zyrus</td>\n",
       "      <td>M</td>\n",
       "      <td>9</td>\n",
       "    </tr>\n",
       "  </tbody>\n",
       "</table>\n",
       "<p>31453 rows × 3 columns</p>\n",
       "</div>"
      ],
      "text/plain": [
       "            name gender  frequency\n",
       "15048      Aabha      F          5\n",
       "12088  Aabriella      F          7\n",
       "4336     Aadhira      F         31\n",
       "11048   Aadhvika      F          8\n",
       "1084      Aadhya      F        225\n",
       "...          ...    ...        ...\n",
       "29422     Zyrell      M          6\n",
       "29423      Zyren      M          6\n",
       "26145      Zyrie      M          9\n",
       "24920      Zyron      M         11\n",
       "26146      Zyrus      M          9\n",
       "\n",
       "[31453 rows x 3 columns]"
      ]
     },
     "execution_count": 41,
     "metadata": {},
     "output_type": "execute_result"
    }
   ],
   "source": [
    "# Pre-condition: sorting the dataset by 'gender' and then by 'name'\n",
    "df_2020.sort_values(by=['gender', 'name'], inplace=True)\n",
    "df_2020"
   ]
  },
  {
   "cell_type": "code",
   "execution_count": 42,
   "id": "21804720",
   "metadata": {},
   "outputs": [
    {
     "data": {
      "image/png": "[encoded data removed]",
      "text/plain": [
       "<Figure size 640x480 with 1 Axes>"
      ]
     },
     "metadata": {},
     "output_type": "display_data"
    }
   ],
   "source": [
    "# create a histogram of the frequency column.\n",
    "# Addidng 'log=True' parameter to plt.hist() to improve the visualization!\n",
    "# Play around with the number of bins bins to make the visualization even clearer.\n",
    "\n",
    "counts, bins = np.histogram(df_2020['frequency'])\n",
    "plt.hist(bins[:-1], bins=20, weights=counts, log=True);"
   ]
  },
  {
   "cell_type": "code",
   "execution_count": null,
   "id": "04d262bf",
   "metadata": {},
   "outputs": [],
   "source": []
  },
  {
   "cell_type": "markdown",
   "id": "815c8950",
   "metadata": {},
   "source": [
    " "
   ]
  },
  {
   "cell_type": "markdown",
   "id": "6afc07ba",
   "metadata": {},
   "source": [
    "## NOTES"
   ]
  },
  {
   "cell_type": "markdown",
   "id": "6ad48fde",
   "metadata": {},
   "source": [
    " **create a histogram (bar plot) of the frequency column.**\n",
    "\n",
    " **defining values for x and y axis**\n",
    "x_vals = df_temp['name']\n",
    "y_vals = df_temp['frequency']\n",
    "\n",
    "plt.style.use('ggplot')\n",
    "plt.figure(figsize=(10, 5))\n",
    "plt.bar(x_vals, y_vals, label='Names frequency', linewidth=0.2)\n",
    "\n",
    " **title**\n",
    "plt.title('Baby Names frequency for 1982 year in USA')\n",
    "\n",
    " **label names**\n",
    "plt.xlabel('Names')\n",
    "plt.ylabel('Frequency')\n",
    "\n",
    " **creating a Legend: uses 'label' value from plt.plot() line**\n",
    "plt.legend();\n"
   ]
  }
 ],
 "metadata": {
  "kernelspec": {
   "display_name": "Python 3 (ipykernel)",
   "language": "python",
   "name": "python3"
  },
  "language_info": {
   "codemirror_mode": {
    "name": "ipython",
    "version": 3
   },
   "file_extension": ".py",
   "mimetype": "text/x-python",
   "name": "python",
   "nbconvert_exporter": "python",
   "pygments_lexer": "ipython3",
   "version": "3.10.8"
  }
 },
 "nbformat": 4,
 "nbformat_minor": 5
}
