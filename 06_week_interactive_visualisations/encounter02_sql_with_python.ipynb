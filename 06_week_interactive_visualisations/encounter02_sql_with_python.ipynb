{
 "cells": [
  {
   "cell_type": "markdown",
   "id": "6bffa6c1",
   "metadata": {},
   "source": [
    "# WEEK 6\n",
    "## Encounter 02 - SQL with Python\n",
    "## Project Challenge - Countries Data"
   ]
  },
  {
   "cell_type": "markdown",
   "id": "d41120ca",
   "metadata": {},
   "source": [
    "### Task Description\n",
    "The table `country_codes.csv` contains a list of countries and their numeric, two and three letters country codes. Also it includes latitude and longitude coordinates of the geographic center of each country. This table will be useful later in the week when visualizing country level data on a map.\n",
    "\n",
    "   1. Import the csv file as a pandas data frame.\n",
    "   2. With Python, define a **countries table** in the **climate database**:\n",
    "   3. Load the data frame into the **countries table**"
   ]
  },
  {
   "cell_type": "code",
   "execution_count": 5,
   "id": "6a414f4c",
   "metadata": {},
   "outputs": [],
   "source": [
    "import pandas as pd\n",
    "import os\n",
    "from dotenv import load_dotenv\n",
    "\n",
    "from sqlalchemy import create_engine\n",
    "from sqlalchemy import text  # to be able to pass string"
   ]
  },
  {
   "cell_type": "code",
   "execution_count": 3,
   "id": "a97fe996",
   "metadata": {},
   "outputs": [
    {
     "data": {
      "text/plain": [
       "True"
      ]
     },
     "execution_count": 3,
     "metadata": {},
     "output_type": "execute_result"
    }
   ],
   "source": [
    "# load variables for login from .env file\n",
    "load_dotenv()"
   ]
  },
  {
   "cell_type": "code",
   "execution_count": 4,
   "id": "ce0ab5b6",
   "metadata": {},
   "outputs": [],
   "source": [
    "# get values of variables for the login\n",
    "username = os.getenv('USER')\n",
    "password = os.getenv('PASS')\n",
    "host = os.getenv('HOST')\n",
    "port = os.getenv('PORT')"
   ]
  },
  {
   "cell_type": "code",
   "execution_count": 6,
   "id": "4b1efba9",
   "metadata": {},
   "outputs": [],
   "source": [
    "# composing a connection string for postgresql, 'climate' database\n",
    "url = f'postgresql://{username}:{password}@{host}:{port}/climate'"
   ]
  },
  {
   "cell_type": "code",
   "execution_count": 7,
   "id": "25b42a46",
   "metadata": {},
   "outputs": [],
   "source": [
    "# create a connection engine\n",
    "engine = create_engine(url, echo=False)"
   ]
  },
  {
   "cell_type": "code",
   "execution_count": 8,
   "id": "170204f9",
   "metadata": {},
   "outputs": [],
   "source": [
    "# crete table \n",
    "# \"name\",\"alpha2\",\"alpha3\",\"code\",\"lat\",\"lon\"\n",
    "with engine.begin() as conn:\n",
    "    conn.execute(text(\"DROP TABLE IF EXISTS countries CASCADE;\"))\n",
    "    conn.execute(text(\"\"\"\n",
    "        CREATE TABLE countries (\n",
    "            name VARCHAR,\n",
    "            alpha2 VARCHAR(2) PRIMARY KEY,\n",
    "            alpha3 VARCHAR(3),\n",
    "            code INT,\n",
    "            lat NUMERIC,\n",
    "            lon NUMERIC\n",
    "        );\n",
    "    \"\"\"))"
   ]
  },
  {
   "cell_type": "code",
   "execution_count": 11,
   "id": "8e85dda2",
   "metadata": {},
   "outputs": [
    {
     "data": {
      "text/html": [
       "<div>\n",
       "<style scoped>\n",
       "    .dataframe tbody tr th:only-of-type {\n",
       "        vertical-align: middle;\n",
       "    }\n",
       "\n",
       "    .dataframe tbody tr th {\n",
       "        vertical-align: top;\n",
       "    }\n",
       "\n",
       "    .dataframe thead th {\n",
       "        text-align: right;\n",
       "    }\n",
       "</style>\n",
       "<table border=\"1\" class=\"dataframe\">\n",
       "  <thead>\n",
       "    <tr style=\"text-align: right;\">\n",
       "      <th></th>\n",
       "      <th>name</th>\n",
       "      <th>alpha2</th>\n",
       "      <th>alpha3</th>\n",
       "      <th>code</th>\n",
       "      <th>lat</th>\n",
       "      <th>lon</th>\n",
       "    </tr>\n",
       "  </thead>\n",
       "  <tbody>\n",
       "    <tr>\n",
       "      <th>0</th>\n",
       "      <td>Afghanistan</td>\n",
       "      <td>AF</td>\n",
       "      <td>AFG</td>\n",
       "      <td>4</td>\n",
       "      <td>33.0000</td>\n",
       "      <td>65.0</td>\n",
       "    </tr>\n",
       "    <tr>\n",
       "      <th>1</th>\n",
       "      <td>Albania</td>\n",
       "      <td>AL</td>\n",
       "      <td>ALB</td>\n",
       "      <td>8</td>\n",
       "      <td>41.0000</td>\n",
       "      <td>20.0</td>\n",
       "    </tr>\n",
       "    <tr>\n",
       "      <th>2</th>\n",
       "      <td>Algeria</td>\n",
       "      <td>DZ</td>\n",
       "      <td>DZA</td>\n",
       "      <td>12</td>\n",
       "      <td>28.0000</td>\n",
       "      <td>3.0</td>\n",
       "    </tr>\n",
       "    <tr>\n",
       "      <th>3</th>\n",
       "      <td>American Samoa</td>\n",
       "      <td>AS</td>\n",
       "      <td>ASM</td>\n",
       "      <td>16</td>\n",
       "      <td>-14.3333</td>\n",
       "      <td>-170.0</td>\n",
       "    </tr>\n",
       "    <tr>\n",
       "      <th>4</th>\n",
       "      <td>Andorra</td>\n",
       "      <td>AD</td>\n",
       "      <td>AND</td>\n",
       "      <td>20</td>\n",
       "      <td>42.5000</td>\n",
       "      <td>1.6</td>\n",
       "    </tr>\n",
       "    <tr>\n",
       "      <th>...</th>\n",
       "      <td>...</td>\n",
       "      <td>...</td>\n",
       "      <td>...</td>\n",
       "      <td>...</td>\n",
       "      <td>...</td>\n",
       "      <td>...</td>\n",
       "    </tr>\n",
       "    <tr>\n",
       "      <th>238</th>\n",
       "      <td>Wallis and Futuna</td>\n",
       "      <td>WF</td>\n",
       "      <td>WLF</td>\n",
       "      <td>876</td>\n",
       "      <td>-13.3000</td>\n",
       "      <td>-176.2</td>\n",
       "    </tr>\n",
       "    <tr>\n",
       "      <th>239</th>\n",
       "      <td>Western Sahara</td>\n",
       "      <td>EH</td>\n",
       "      <td>ESH</td>\n",
       "      <td>732</td>\n",
       "      <td>24.5000</td>\n",
       "      <td>-13.0</td>\n",
       "    </tr>\n",
       "    <tr>\n",
       "      <th>240</th>\n",
       "      <td>Yemen</td>\n",
       "      <td>YE</td>\n",
       "      <td>YEM</td>\n",
       "      <td>887</td>\n",
       "      <td>15.0000</td>\n",
       "      <td>48.0</td>\n",
       "    </tr>\n",
       "    <tr>\n",
       "      <th>241</th>\n",
       "      <td>Zambia</td>\n",
       "      <td>ZM</td>\n",
       "      <td>ZMB</td>\n",
       "      <td>894</td>\n",
       "      <td>-15.0000</td>\n",
       "      <td>30.0</td>\n",
       "    </tr>\n",
       "    <tr>\n",
       "      <th>242</th>\n",
       "      <td>Zimbabwe</td>\n",
       "      <td>ZW</td>\n",
       "      <td>ZWE</td>\n",
       "      <td>716</td>\n",
       "      <td>-20.0000</td>\n",
       "      <td>30.0</td>\n",
       "    </tr>\n",
       "  </tbody>\n",
       "</table>\n",
       "<p>243 rows × 6 columns</p>\n",
       "</div>"
      ],
      "text/plain": [
       "                  name alpha2 alpha3  code      lat    lon\n",
       "0          Afghanistan     AF    AFG     4  33.0000   65.0\n",
       "1              Albania     AL    ALB     8  41.0000   20.0\n",
       "2              Algeria     DZ    DZA    12  28.0000    3.0\n",
       "3       American Samoa     AS    ASM    16 -14.3333 -170.0\n",
       "4              Andorra     AD    AND    20  42.5000    1.6\n",
       "..                 ...    ...    ...   ...      ...    ...\n",
       "238  Wallis and Futuna     WF    WLF   876 -13.3000 -176.2\n",
       "239     Western Sahara     EH    ESH   732  24.5000  -13.0\n",
       "240              Yemen     YE    YEM   887  15.0000   48.0\n",
       "241             Zambia     ZM    ZMB   894 -15.0000   30.0\n",
       "242           Zimbabwe     ZW    ZWE   716 -20.0000   30.0\n",
       "\n",
       "[243 rows x 6 columns]"
      ]
     },
     "execution_count": 11,
     "metadata": {},
     "output_type": "execute_result"
    }
   ],
   "source": [
    "# reading the data from csv-file\n",
    "\n",
    "countries = pd.read_csv('../project_data/country_codes.csv')\n",
    "countries                  "
   ]
  },
  {
   "cell_type": "code",
   "execution_count": 12,
   "id": "e7b965de",
   "metadata": {},
   "outputs": [
    {
     "data": {
      "text/plain": [
       "243"
      ]
     },
     "execution_count": 12,
     "metadata": {},
     "output_type": "execute_result"
    }
   ],
   "source": [
    "# loading 'countries' data from DataFrame to 'countries' table in 'climate' database\n",
    "countries.to_sql('countries', engine, if_exists='append', index=False)"
   ]
  },
  {
   "cell_type": "markdown",
   "id": "150635f0",
   "metadata": {},
   "source": [
    " "
   ]
  },
  {
   "cell_type": "markdown",
   "id": "faa5c9c9",
   "metadata": {},
   "source": [
    "## Project Challenge - Stations Data"
   ]
  },
  {
   "cell_type": "markdown",
   "id": "8d54c0dc",
   "metadata": {},
   "source": [
    "### Task Description\n",
    "\n",
    "Using the stations file found in the downloaded ECA_blend data folder proceed with it in the same way as for the countries data from the previous exercise. Use the downloaded stations file as it will have all stations found in the downloaded datasets.\n",
    "\n",
    "**Hints:**\n",
    "\n",
    "  * First read stations data into a notebook and clean up before uploading to database\n",
    "  * The pd.read_csv method has a skiprows parameter to skip some header lines of a .csv file\n",
    "  * You need to cleanup the column names of the file. Watch out for whitespace and convert the names to lowercase\n",
    "  * Add a foreign key constraint for the cn column and let it point to the alpha2 column of the countries table"
   ]
  },
  {
   "cell_type": "code",
   "execution_count": 13,
   "id": "bed4de10",
   "metadata": {},
   "outputs": [
    {
     "data": {
      "text/html": [
       "<div>\n",
       "<style scoped>\n",
       "    .dataframe tbody tr th:only-of-type {\n",
       "        vertical-align: middle;\n",
       "    }\n",
       "\n",
       "    .dataframe tbody tr th {\n",
       "        vertical-align: top;\n",
       "    }\n",
       "\n",
       "    .dataframe thead th {\n",
       "        text-align: right;\n",
       "    }\n",
       "</style>\n",
       "<table border=\"1\" class=\"dataframe\">\n",
       "  <thead>\n",
       "    <tr style=\"text-align: right;\">\n",
       "      <th></th>\n",
       "      <th>STAID</th>\n",
       "      <th>STANAME</th>\n",
       "      <th>CN</th>\n",
       "      <th>LAT</th>\n",
       "      <th>LON</th>\n",
       "      <th>HGHT</th>\n",
       "    </tr>\n",
       "  </thead>\n",
       "  <tbody>\n",
       "    <tr>\n",
       "      <th>0</th>\n",
       "      <td>1</td>\n",
       "      <td>VAEXJOE</td>\n",
       "      <td>SE</td>\n",
       "      <td>+56:52:00</td>\n",
       "      <td>+014:48:00</td>\n",
       "      <td>166</td>\n",
       "    </tr>\n",
       "    <tr>\n",
       "      <th>1</th>\n",
       "      <td>2</td>\n",
       "      <td>FALUN</td>\n",
       "      <td>SE</td>\n",
       "      <td>+60:37:00</td>\n",
       "      <td>+015:37:00</td>\n",
       "      <td>160</td>\n",
       "    </tr>\n",
       "    <tr>\n",
       "      <th>2</th>\n",
       "      <td>3</td>\n",
       "      <td>STENSELE</td>\n",
       "      <td>SE</td>\n",
       "      <td>+65:04:00</td>\n",
       "      <td>+017:09:59</td>\n",
       "      <td>325</td>\n",
       "    </tr>\n",
       "    <tr>\n",
       "      <th>3</th>\n",
       "      <td>4</td>\n",
       "      <td>LINKOEPING</td>\n",
       "      <td>SE</td>\n",
       "      <td>+58:24:00</td>\n",
       "      <td>+015:31:59</td>\n",
       "      <td>93</td>\n",
       "    </tr>\n",
       "    <tr>\n",
       "      <th>4</th>\n",
       "      <td>5</td>\n",
       "      <td>LINKOEPING-MALMSLAETT</td>\n",
       "      <td>SE</td>\n",
       "      <td>+58:24:00</td>\n",
       "      <td>+015:31:59</td>\n",
       "      <td>93</td>\n",
       "    </tr>\n",
       "    <tr>\n",
       "      <th>...</th>\n",
       "      <td>...</td>\n",
       "      <td>...</td>\n",
       "      <td>...</td>\n",
       "      <td>...</td>\n",
       "      <td>...</td>\n",
       "      <td>...</td>\n",
       "    </tr>\n",
       "    <tr>\n",
       "      <th>6450</th>\n",
       "      <td>25150</td>\n",
       "      <td>GDANSK-REBIECHOWO_OLD</td>\n",
       "      <td>PL</td>\n",
       "      <td>+54:22:59</td>\n",
       "      <td>+018:28:00</td>\n",
       "      <td>144</td>\n",
       "    </tr>\n",
       "    <tr>\n",
       "      <th>6451</th>\n",
       "      <td>25151</td>\n",
       "      <td>ELBLAG-MILEJEWO</td>\n",
       "      <td>PL</td>\n",
       "      <td>+54:13:23</td>\n",
       "      <td>+019:32:36</td>\n",
       "      <td>151</td>\n",
       "    </tr>\n",
       "    <tr>\n",
       "      <th>6452</th>\n",
       "      <td>25156</td>\n",
       "      <td>KROSNO</td>\n",
       "      <td>PL</td>\n",
       "      <td>+49:42:24</td>\n",
       "      <td>+021:46:09</td>\n",
       "      <td>326</td>\n",
       "    </tr>\n",
       "    <tr>\n",
       "      <th>6453</th>\n",
       "      <td>25157</td>\n",
       "      <td>YLJA KRAFTVERK</td>\n",
       "      <td>NO</td>\n",
       "      <td>+61:11:49</td>\n",
       "      <td>+008:22:50</td>\n",
       "      <td>517</td>\n",
       "    </tr>\n",
       "    <tr>\n",
       "      <th>6454</th>\n",
       "      <td>25159</td>\n",
       "      <td>FARKOLLEN</td>\n",
       "      <td>NO</td>\n",
       "      <td>+69:48:15</td>\n",
       "      <td>+028:59:36</td>\n",
       "      <td>321</td>\n",
       "    </tr>\n",
       "  </tbody>\n",
       "</table>\n",
       "<p>6455 rows × 6 columns</p>\n",
       "</div>"
      ],
      "text/plain": [
       "      STAID      STANAME                                     CN        LAT  \\\n",
       "0         1  VAEXJOE                                       SE    +56:52:00   \n",
       "1         2  FALUN                                         SE    +60:37:00   \n",
       "2         3  STENSELE                                      SE    +65:04:00   \n",
       "3         4  LINKOEPING                                    SE    +58:24:00   \n",
       "4         5  LINKOEPING-MALMSLAETT                         SE    +58:24:00   \n",
       "...     ...                                           ...   ...        ...   \n",
       "6450  25150  GDANSK-REBIECHOWO_OLD                         PL    +54:22:59   \n",
       "6451  25151  ELBLAG-MILEJEWO                               PL    +54:13:23   \n",
       "6452  25156  KROSNO                                        PL    +49:42:24   \n",
       "6453  25157  YLJA KRAFTVERK                                NO    +61:11:49   \n",
       "6454  25159  FARKOLLEN                                     NO    +69:48:15   \n",
       "\n",
       "             LON  HGHT  \n",
       "0     +014:48:00   166  \n",
       "1     +015:37:00   160  \n",
       "2     +017:09:59   325  \n",
       "3     +015:31:59    93  \n",
       "4     +015:31:59    93  \n",
       "...          ...   ...  \n",
       "6450  +018:28:00   144  \n",
       "6451  +019:32:36   151  \n",
       "6452  +021:46:09   326  \n",
       "6453  +008:22:50   517  \n",
       "6454  +028:59:36   321  \n",
       "\n",
       "[6455 rows x 6 columns]"
      ]
     },
     "execution_count": 13,
     "metadata": {},
     "output_type": "execute_result"
    }
   ],
   "source": [
    "# read 'stations.txt' file\n",
    "stations = pd.read_csv('../project_data/stations.txt', skiprows=17)\n",
    "stations"
   ]
  },
  {
   "cell_type": "markdown",
   "id": "8edabc6c",
   "metadata": {},
   "source": [
    "### Stations data file description:\n",
    "FILE FORMAT (MISSING VALUE CODE IS -9999):\n",
    "\n",
    "STAID  : Station identifier  \n",
    "STANAME: Station name  \n",
    "CN     : Country code (ISO3116 countrycodes)  \n",
    "LAT    : Latitude in degrees:minutes:seconds (+: North, -: South)  \n",
    "LON    : Longitude in degrees:minutes:seconds (+: East, -: West)  \n",
    "HGTH   : Station elevation in meters  "
   ]
  },
  {
   "cell_type": "code",
   "execution_count": 14,
   "id": "b2c45593",
   "metadata": {
    "scrolled": true
   },
   "outputs": [
    {
     "name": "stdout",
     "output_type": "stream",
     "text": [
      "<class 'pandas.core.frame.DataFrame'>\n",
      "RangeIndex: 6455 entries, 0 to 6454\n",
      "Data columns (total 6 columns):\n",
      " #   Column                                    Non-Null Count  Dtype \n",
      "---  ------                                    --------------  ----- \n",
      " 0   STAID                                     6455 non-null   int64 \n",
      " 1   STANAME                                   6455 non-null   object\n",
      " 2   CN                                        6455 non-null   object\n",
      " 3         LAT                                 6455 non-null   object\n",
      " 4          LON                                6455 non-null   object\n",
      " 5   HGHT                                      6455 non-null   int64 \n",
      "dtypes: int64(2), object(4)\n",
      "memory usage: 302.7+ KB\n"
     ]
    }
   ],
   "source": [
    "stations.info()"
   ]
  },
  {
   "cell_type": "code",
   "execution_count": 19,
   "id": "0e2faf7c",
   "metadata": {},
   "outputs": [],
   "source": [
    "# cleaning up the column names\n",
    "stations.columns = ['staid', 'staname', 'cn', 'lat', 'lon', 'hght']"
   ]
  },
  {
   "cell_type": "code",
   "execution_count": 22,
   "id": "9ab37d0a",
   "metadata": {},
   "outputs": [
    {
     "name": "stdout",
     "output_type": "stream",
     "text": [
      "<class 'pandas.core.frame.DataFrame'>\n",
      "RangeIndex: 6455 entries, 0 to 6454\n",
      "Data columns (total 6 columns):\n",
      " #   Column   Non-Null Count  Dtype \n",
      "---  ------   --------------  ----- \n",
      " 0   staid    6455 non-null   int64 \n",
      " 1   staname  6455 non-null   object\n",
      " 2   cn       6455 non-null   object\n",
      " 3   lat      6455 non-null   object\n",
      " 4   lon      6455 non-null   object\n",
      " 5   hght     6455 non-null   int64 \n",
      "dtypes: int64(2), object(4)\n",
      "memory usage: 302.7+ KB\n"
     ]
    }
   ],
   "source": [
    "stations.info()"
   ]
  },
  {
   "cell_type": "code",
   "execution_count": 33,
   "id": "0aa27949",
   "metadata": {},
   "outputs": [],
   "source": [
    "# deleting all the dta from the table before loading (important for debuging)\n",
    "with engine.begin() as conn:\n",
    "    conn.execute(text(\"DELETE FROM stations;\"))"
   ]
  },
  {
   "cell_type": "code",
   "execution_count": 35,
   "id": "bbcf9729",
   "metadata": {},
   "outputs": [],
   "source": [
    "# adding FK constraint for 'cn' column to countries.alpha2\n",
    "with engine.begin() as conn:\n",
    "    conn.execute(text(\"\"\"\n",
    "        ALTER TABLE stations\n",
    "        ADD FOREIGN KEY (cn) REFERENCES countries (alpha2);\n",
    "    \"\"\"))"
   ]
  },
  {
   "cell_type": "code",
   "execution_count": 36,
   "id": "71c9e73b",
   "metadata": {},
   "outputs": [
    {
     "data": {
      "text/plain": [
       "455"
      ]
     },
     "execution_count": 36,
     "metadata": {},
     "output_type": "execute_result"
    }
   ],
   "source": [
    "# loading 'stations' data from DataFrame to 'stations' table in 'climate' database\n",
    "stations.to_sql('stations', engine, if_exists='append', index=False)"
   ]
  },
  {
   "cell_type": "markdown",
   "id": "fa98e3c3",
   "metadata": {},
   "source": [
    " "
   ]
  },
  {
   "cell_type": "markdown",
   "id": "9306c9d0",
   "metadata": {},
   "source": [
    "### Checking for missed data (value == -9999)"
   ]
  },
  {
   "cell_type": "code",
   "execution_count": 23,
   "id": "708c8679",
   "metadata": {},
   "outputs": [
    {
     "data": {
      "text/plain": [
       "staid      0\n",
       "staname    0\n",
       "cn         0\n",
       "lat        0\n",
       "lon        0\n",
       "hght       0\n",
       "dtype: int64"
      ]
     },
     "execution_count": 23,
     "metadata": {},
     "output_type": "execute_result"
    }
   ],
   "source": [
    "# Checking for the nulls (DataFrame NaN values)\n",
    "\n",
    "stations.isnull().sum()"
   ]
  },
  {
   "cell_type": "code",
   "execution_count": 25,
   "id": "5ffd5c50",
   "metadata": {},
   "outputs": [
    {
     "data": {
      "text/html": [
       "<div>\n",
       "<style scoped>\n",
       "    .dataframe tbody tr th:only-of-type {\n",
       "        vertical-align: middle;\n",
       "    }\n",
       "\n",
       "    .dataframe tbody tr th {\n",
       "        vertical-align: top;\n",
       "    }\n",
       "\n",
       "    .dataframe thead th {\n",
       "        text-align: right;\n",
       "    }\n",
       "</style>\n",
       "<table border=\"1\" class=\"dataframe\">\n",
       "  <thead>\n",
       "    <tr style=\"text-align: right;\">\n",
       "      <th></th>\n",
       "      <th>staid</th>\n",
       "      <th>staname</th>\n",
       "      <th>cn</th>\n",
       "      <th>lat</th>\n",
       "      <th>lon</th>\n",
       "      <th>hght</th>\n",
       "    </tr>\n",
       "  </thead>\n",
       "  <tbody>\n",
       "  </tbody>\n",
       "</table>\n",
       "</div>"
      ],
      "text/plain": [
       "Empty DataFrame\n",
       "Columns: [staid, staname, cn, lat, lon, hght]\n",
       "Index: []"
      ]
     },
     "execution_count": 25,
     "metadata": {},
     "output_type": "execute_result"
    }
   ],
   "source": [
    "# 'nulls' in 'staid'\n",
    "# no nulls\n",
    "mask_staid = (stations['staid'] == -9999)\n",
    "stations[mask_staid]"
   ]
  },
  {
   "cell_type": "code",
   "execution_count": 26,
   "id": "42d1d7f7",
   "metadata": {},
   "outputs": [
    {
     "data": {
      "text/html": [
       "<div>\n",
       "<style scoped>\n",
       "    .dataframe tbody tr th:only-of-type {\n",
       "        vertical-align: middle;\n",
       "    }\n",
       "\n",
       "    .dataframe tbody tr th {\n",
       "        vertical-align: top;\n",
       "    }\n",
       "\n",
       "    .dataframe thead th {\n",
       "        text-align: right;\n",
       "    }\n",
       "</style>\n",
       "<table border=\"1\" class=\"dataframe\">\n",
       "  <thead>\n",
       "    <tr style=\"text-align: right;\">\n",
       "      <th></th>\n",
       "      <th>staid</th>\n",
       "      <th>staname</th>\n",
       "      <th>cn</th>\n",
       "      <th>lat</th>\n",
       "      <th>lon</th>\n",
       "      <th>hght</th>\n",
       "    </tr>\n",
       "  </thead>\n",
       "  <tbody>\n",
       "  </tbody>\n",
       "</table>\n",
       "</div>"
      ],
      "text/plain": [
       "Empty DataFrame\n",
       "Columns: [staid, staname, cn, lat, lon, hght]\n",
       "Index: []"
      ]
     },
     "execution_count": 26,
     "metadata": {},
     "output_type": "execute_result"
    }
   ],
   "source": [
    "# 'nulls' in 'staname'\n",
    "# no nulls\n",
    "mask_staname = (stations['staname'] == '-9999')\n",
    "stations[mask_staname]"
   ]
  },
  {
   "cell_type": "code",
   "execution_count": 27,
   "id": "cda6d377",
   "metadata": {},
   "outputs": [
    {
     "data": {
      "text/html": [
       "<div>\n",
       "<style scoped>\n",
       "    .dataframe tbody tr th:only-of-type {\n",
       "        vertical-align: middle;\n",
       "    }\n",
       "\n",
       "    .dataframe tbody tr th {\n",
       "        vertical-align: top;\n",
       "    }\n",
       "\n",
       "    .dataframe thead th {\n",
       "        text-align: right;\n",
       "    }\n",
       "</style>\n",
       "<table border=\"1\" class=\"dataframe\">\n",
       "  <thead>\n",
       "    <tr style=\"text-align: right;\">\n",
       "      <th></th>\n",
       "      <th>staid</th>\n",
       "      <th>staname</th>\n",
       "      <th>cn</th>\n",
       "      <th>lat</th>\n",
       "      <th>lon</th>\n",
       "      <th>hght</th>\n",
       "    </tr>\n",
       "  </thead>\n",
       "  <tbody>\n",
       "  </tbody>\n",
       "</table>\n",
       "</div>"
      ],
      "text/plain": [
       "Empty DataFrame\n",
       "Columns: [staid, staname, cn, lat, lon, hght]\n",
       "Index: []"
      ]
     },
     "execution_count": 27,
     "metadata": {},
     "output_type": "execute_result"
    }
   ],
   "source": [
    "# 'nulls' in 'cn'\n",
    "# no nulls\n",
    "mask_cn = (stations['cn'] == '-9999')\n",
    "stations[mask_cn]"
   ]
  },
  {
   "cell_type": "code",
   "execution_count": 28,
   "id": "e0d4b114",
   "metadata": {},
   "outputs": [
    {
     "data": {
      "text/html": [
       "<div>\n",
       "<style scoped>\n",
       "    .dataframe tbody tr th:only-of-type {\n",
       "        vertical-align: middle;\n",
       "    }\n",
       "\n",
       "    .dataframe tbody tr th {\n",
       "        vertical-align: top;\n",
       "    }\n",
       "\n",
       "    .dataframe thead th {\n",
       "        text-align: right;\n",
       "    }\n",
       "</style>\n",
       "<table border=\"1\" class=\"dataframe\">\n",
       "  <thead>\n",
       "    <tr style=\"text-align: right;\">\n",
       "      <th></th>\n",
       "      <th>staid</th>\n",
       "      <th>staname</th>\n",
       "      <th>cn</th>\n",
       "      <th>lat</th>\n",
       "      <th>lon</th>\n",
       "      <th>hght</th>\n",
       "    </tr>\n",
       "  </thead>\n",
       "  <tbody>\n",
       "  </tbody>\n",
       "</table>\n",
       "</div>"
      ],
      "text/plain": [
       "Empty DataFrame\n",
       "Columns: [staid, staname, cn, lat, lon, hght]\n",
       "Index: []"
      ]
     },
     "execution_count": 28,
     "metadata": {},
     "output_type": "execute_result"
    }
   ],
   "source": [
    "# 'nulls' in 'lat'\n",
    "# no nulls\n",
    "mask_lat = (stations['lat'] == '-9999')\n",
    "stations[mask_lat]"
   ]
  },
  {
   "cell_type": "code",
   "execution_count": 29,
   "id": "5b4b3193",
   "metadata": {},
   "outputs": [
    {
     "data": {
      "text/html": [
       "<div>\n",
       "<style scoped>\n",
       "    .dataframe tbody tr th:only-of-type {\n",
       "        vertical-align: middle;\n",
       "    }\n",
       "\n",
       "    .dataframe tbody tr th {\n",
       "        vertical-align: top;\n",
       "    }\n",
       "\n",
       "    .dataframe thead th {\n",
       "        text-align: right;\n",
       "    }\n",
       "</style>\n",
       "<table border=\"1\" class=\"dataframe\">\n",
       "  <thead>\n",
       "    <tr style=\"text-align: right;\">\n",
       "      <th></th>\n",
       "      <th>staid</th>\n",
       "      <th>staname</th>\n",
       "      <th>cn</th>\n",
       "      <th>lat</th>\n",
       "      <th>lon</th>\n",
       "      <th>hght</th>\n",
       "    </tr>\n",
       "  </thead>\n",
       "  <tbody>\n",
       "  </tbody>\n",
       "</table>\n",
       "</div>"
      ],
      "text/plain": [
       "Empty DataFrame\n",
       "Columns: [staid, staname, cn, lat, lon, hght]\n",
       "Index: []"
      ]
     },
     "execution_count": 29,
     "metadata": {},
     "output_type": "execute_result"
    }
   ],
   "source": [
    "# 'nulls' in 'lon'\n",
    "# no nulls\n",
    "mask_lon = (stations['lon'] == '-9999')\n",
    "stations[mask_lon]"
   ]
  },
  {
   "cell_type": "code",
   "execution_count": 32,
   "id": "4a6ab9e9",
   "metadata": {},
   "outputs": [
    {
     "data": {
      "text/html": [
       "<div>\n",
       "<style scoped>\n",
       "    .dataframe tbody tr th:only-of-type {\n",
       "        vertical-align: middle;\n",
       "    }\n",
       "\n",
       "    .dataframe tbody tr th {\n",
       "        vertical-align: top;\n",
       "    }\n",
       "\n",
       "    .dataframe thead th {\n",
       "        text-align: right;\n",
       "    }\n",
       "</style>\n",
       "<table border=\"1\" class=\"dataframe\">\n",
       "  <thead>\n",
       "    <tr style=\"text-align: right;\">\n",
       "      <th></th>\n",
       "      <th>staid</th>\n",
       "      <th>staname</th>\n",
       "      <th>cn</th>\n",
       "      <th>lat</th>\n",
       "      <th>lon</th>\n",
       "      <th>hght</th>\n",
       "    </tr>\n",
       "  </thead>\n",
       "  <tbody>\n",
       "    <tr>\n",
       "      <th>4788</th>\n",
       "      <td>18543</td>\n",
       "      <td>SLEIPNER B</td>\n",
       "      <td>NO</td>\n",
       "      <td>+58:25:04</td>\n",
       "      <td>+001:43:04</td>\n",
       "      <td>-9999</td>\n",
       "    </tr>\n",
       "    <tr>\n",
       "      <th>4956</th>\n",
       "      <td>18711</td>\n",
       "      <td>GRANEFELTET</td>\n",
       "      <td>NO</td>\n",
       "      <td>+59:09:55</td>\n",
       "      <td>+002:29:13</td>\n",
       "      <td>-9999</td>\n",
       "    </tr>\n",
       "    <tr>\n",
       "      <th>5006</th>\n",
       "      <td>18762</td>\n",
       "      <td>FRIGG</td>\n",
       "      <td>NO</td>\n",
       "      <td>+59:53:08</td>\n",
       "      <td>+002:04:15</td>\n",
       "      <td>-9999</td>\n",
       "    </tr>\n",
       "    <tr>\n",
       "      <th>5071</th>\n",
       "      <td>18829</td>\n",
       "      <td>YME</td>\n",
       "      <td>NO</td>\n",
       "      <td>+57:49:08</td>\n",
       "      <td>+004:31:10</td>\n",
       "      <td>-9999</td>\n",
       "    </tr>\n",
       "    <tr>\n",
       "      <th>5295</th>\n",
       "      <td>19066</td>\n",
       "      <td>HYWIND</td>\n",
       "      <td>NO</td>\n",
       "      <td>+59:16:59</td>\n",
       "      <td>+005:15:00</td>\n",
       "      <td>-9999</td>\n",
       "    </tr>\n",
       "  </tbody>\n",
       "</table>\n",
       "</div>"
      ],
      "text/plain": [
       "      staid                                       staname    cn        lat  \\\n",
       "4788  18543  SLEIPNER B                                    NO    +58:25:04   \n",
       "4956  18711  GRANEFELTET                                   NO    +59:09:55   \n",
       "5006  18762  FRIGG                                         NO    +59:53:08   \n",
       "5071  18829  YME                                           NO    +57:49:08   \n",
       "5295  19066  HYWIND                                        NO    +59:16:59   \n",
       "\n",
       "             lon  hght  \n",
       "4788  +001:43:04 -9999  \n",
       "4956  +002:29:13 -9999  \n",
       "5006  +002:04:15 -9999  \n",
       "5071  +004:31:10 -9999  \n",
       "5295  +005:15:00 -9999  "
      ]
     },
     "execution_count": 32,
     "metadata": {},
     "output_type": "execute_result"
    }
   ],
   "source": [
    "# 'nulls' in 'hght'\n",
    "# 5 records with '-9999' value\n",
    "mask_hght = (stations['hght'] == -9999)\n",
    "stations[mask_hght]"
   ]
  },
  {
   "cell_type": "code",
   "execution_count": null,
   "id": "5af7105c",
   "metadata": {},
   "outputs": [],
   "source": [
    "### Checking for Primary Key (staid) uniqueness"
   ]
  },
  {
   "cell_type": "code",
   "execution_count": 24,
   "id": "1a4a7498",
   "metadata": {},
   "outputs": [
    {
     "data": {
      "text/plain": [
       "(6455, 6455)"
      ]
     },
     "execution_count": 24,
     "metadata": {},
     "output_type": "execute_result"
    }
   ],
   "source": [
    "# 'staid' is a Primary Key -> its values should be unique !!\n",
    "# (number of unique values for 'staid' should be the same as total number of rows in DataFrame)\n",
    "# PASSED\n",
    "stations['staid'].nunique(), stations['staid'].count()"
   ]
  },
  {
   "cell_type": "code",
   "execution_count": null,
   "id": "016580dc",
   "metadata": {},
   "outputs": [],
   "source": []
  }
 ],
 "metadata": {
  "kernelspec": {
   "display_name": "Python 3 (ipykernel)",
   "language": "python",
   "name": "python3"
  },
  "language_info": {
   "codemirror_mode": {
    "name": "ipython",
    "version": 3
   },
   "file_extension": ".py",
   "mimetype": "text/x-python",
   "name": "python",
   "nbconvert_exporter": "python",
   "pygments_lexer": "ipython3",
   "version": "3.10.8"
  }
 },
 "nbformat": 4,
 "nbformat_minor": 5
}
