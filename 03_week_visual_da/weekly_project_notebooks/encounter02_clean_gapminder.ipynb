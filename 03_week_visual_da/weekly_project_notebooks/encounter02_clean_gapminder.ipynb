{
 "cells": [
  {
   "cell_type": "markdown",
   "id": "94614d45",
   "metadata": {},
   "source": [
    "# WEEK 03\n",
    "# Encounter 02 - Clean Gapminder\n",
    "# Project Challenge"
   ]
  },
  {
   "cell_type": "markdown",
   "id": "f5127cf3",
   "metadata": {},
   "source": [
    "## Task Description\n",
    "\n",
    "   1. Rename columns: use the method from the example above to properly name any columns that seem mislabeled in the **population** dataset. The **population** dataset was given in the **EDA** lesson warmer\n",
    "\n",
    "   2. Missing data: first check and see which and how much data is missing in the **population** dataset\n",
    "\n",
    "   3. Remove missing data: drop all observations with missing data\n",
    "\n",
    "   4. Filter for relevant data: filter the dataset that it begins with the year **1950**\n",
    "\n",
    "   5. Make data persistant: save the dataset as a **.csv** file in your data folder as they will be used for the week’s project\n",
    "\n",
    "   6. Repeat for the the **life_expectancy**, and **fertility_rate** datasets which are available below\n",
    "\n",
    "**Hint:** one of the files is not a **.csv** and must be read in using a pandas function other than `read_csv()`\n",
    "\n",
    "Related files\n",
    "\n",
    ">    fertility_rate.csv (1 MB)\n",
    ">    life_expectancy.xls (3 MB)"
   ]
  },
  {
   "cell_type": "code",
   "execution_count": 5,
   "id": "e27ce5c2",
   "metadata": {},
   "outputs": [],
   "source": [
    "import pandas as pd"
   ]
  },
  {
   "cell_type": "markdown",
   "id": "40b6a122",
   "metadata": {},
   "source": [
    "## Clean Gapminder: population dataset"
   ]
  },
  {
   "cell_type": "code",
   "execution_count": 7,
   "id": "7b25bf7b",
   "metadata": {},
   "outputs": [
    {
     "name": "stdout",
     "output_type": "stream",
     "text": [
      "<class 'pandas.core.frame.DataFrame'>\n",
      "RangeIndex: 22275 entries, 0 to 22274\n",
      "Data columns (total 3 columns):\n",
      " #   Column            Non-Null Count  Dtype  \n",
      "---  ------            --------------  -----  \n",
      " 0   Total population  22275 non-null  object \n",
      " 1   year              22275 non-null  int64  \n",
      " 2   population        20176 non-null  float64\n",
      "dtypes: float64(1), int64(1), object(1)\n",
      "memory usage: 522.2+ KB\n"
     ]
    }
   ],
   "source": [
    "# read population dataset from csv-file\n",
    "population = pd.read_csv('../data/population.csv')\n",
    "population.info()"
   ]
  },
  {
   "cell_type": "code",
   "execution_count": 9,
   "id": "445a9ef8",
   "metadata": {},
   "outputs": [
    {
     "data": {
      "text/plain": [
       "Index(['country', 'year', 'population'], dtype='object')"
      ]
     },
     "execution_count": 9,
     "metadata": {},
     "output_type": "execute_result"
    }
   ],
   "source": [
    "# Rename columns: use the method from the example above to properly name any columns that seem mislabeled in the population dataset. The population dataset was given in the EDA lesson warmer\n",
    "population.rename(columns={'Total population': 'country'}, inplace=True)\n",
    "population.columns"
   ]
  },
  {
   "cell_type": "code",
   "execution_count": 10,
   "id": "db045aa9",
   "metadata": {},
   "outputs": [
    {
     "data": {
      "text/plain": [
       "country          0\n",
       "year             0\n",
       "population    2099\n",
       "dtype: int64"
      ]
     },
     "execution_count": 10,
     "metadata": {},
     "output_type": "execute_result"
    }
   ],
   "source": [
    "# Missing data: first check and see which and how much data is missing in the population dataset\n",
    "population.isnull().sum()"
   ]
  },
  {
   "cell_type": "code",
   "execution_count": 12,
   "id": "3067b176",
   "metadata": {},
   "outputs": [
    {
     "name": "stdout",
     "output_type": "stream",
     "text": [
      "<class 'pandas.core.frame.DataFrame'>\n",
      "Int64Index: 20176 entries, 1 to 22261\n",
      "Data columns (total 3 columns):\n",
      " #   Column      Non-Null Count  Dtype  \n",
      "---  ------      --------------  -----  \n",
      " 0   country     20176 non-null  object \n",
      " 1   year        20176 non-null  int64  \n",
      " 2   population  20176 non-null  float64\n",
      "dtypes: float64(1), int64(1), object(1)\n",
      "memory usage: 630.5+ KB\n"
     ]
    }
   ],
   "source": [
    "# Remove missing data: drop all observations with missing data\n",
    "population.dropna(axis=0, inplace=True)\n",
    "population.info()"
   ]
  },
  {
   "cell_type": "code",
   "execution_count": 14,
   "id": "44a12a5f",
   "metadata": {},
   "outputs": [
    {
     "data": {
      "text/html": [
       "<div>\n",
       "<style scoped>\n",
       "    .dataframe tbody tr th:only-of-type {\n",
       "        vertical-align: middle;\n",
       "    }\n",
       "\n",
       "    .dataframe tbody tr th {\n",
       "        vertical-align: top;\n",
       "    }\n",
       "\n",
       "    .dataframe thead th {\n",
       "        text-align: right;\n",
       "    }\n",
       "</style>\n",
       "<table border=\"1\" class=\"dataframe\">\n",
       "  <thead>\n",
       "    <tr style=\"text-align: right;\">\n",
       "      <th></th>\n",
       "      <th>country</th>\n",
       "      <th>year</th>\n",
       "      <th>population</th>\n",
       "    </tr>\n",
       "  </thead>\n",
       "  <tbody>\n",
       "    <tr>\n",
       "      <th>4126</th>\n",
       "      <td>Afghanistan</td>\n",
       "      <td>1950</td>\n",
       "      <td>7752118.0</td>\n",
       "    </tr>\n",
       "    <tr>\n",
       "      <th>4127</th>\n",
       "      <td>Akrotiri and Dhekelia</td>\n",
       "      <td>1950</td>\n",
       "      <td>10661.0</td>\n",
       "    </tr>\n",
       "    <tr>\n",
       "      <th>4128</th>\n",
       "      <td>Albania</td>\n",
       "      <td>1950</td>\n",
       "      <td>1263171.0</td>\n",
       "    </tr>\n",
       "    <tr>\n",
       "      <th>4129</th>\n",
       "      <td>Algeria</td>\n",
       "      <td>1950</td>\n",
       "      <td>8872247.0</td>\n",
       "    </tr>\n",
       "    <tr>\n",
       "      <th>4130</th>\n",
       "      <td>American Samoa</td>\n",
       "      <td>1950</td>\n",
       "      <td>18937.0</td>\n",
       "    </tr>\n",
       "    <tr>\n",
       "      <th>...</th>\n",
       "      <td>...</td>\n",
       "      <td>...</td>\n",
       "      <td>...</td>\n",
       "    </tr>\n",
       "    <tr>\n",
       "      <th>22256</th>\n",
       "      <td>Zambia</td>\n",
       "      <td>2015</td>\n",
       "      <td>16211767.0</td>\n",
       "    </tr>\n",
       "    <tr>\n",
       "      <th>22257</th>\n",
       "      <td>Zimbabwe</td>\n",
       "      <td>2015</td>\n",
       "      <td>15602751.0</td>\n",
       "    </tr>\n",
       "    <tr>\n",
       "      <th>22259</th>\n",
       "      <td>South Sudan</td>\n",
       "      <td>2015</td>\n",
       "      <td>12339812.0</td>\n",
       "    </tr>\n",
       "    <tr>\n",
       "      <th>22260</th>\n",
       "      <td>Curaçao</td>\n",
       "      <td>2015</td>\n",
       "      <td>157203.0</td>\n",
       "    </tr>\n",
       "    <tr>\n",
       "      <th>22261</th>\n",
       "      <td>Sint Maarten (Dutch part)</td>\n",
       "      <td>2015</td>\n",
       "      <td>38745.0</td>\n",
       "    </tr>\n",
       "  </tbody>\n",
       "</table>\n",
       "<p>16741 rows × 3 columns</p>\n",
       "</div>"
      ],
      "text/plain": [
       "                         country  year  population\n",
       "4126                 Afghanistan  1950   7752118.0\n",
       "4127       Akrotiri and Dhekelia  1950     10661.0\n",
       "4128                     Albania  1950   1263171.0\n",
       "4129                     Algeria  1950   8872247.0\n",
       "4130              American Samoa  1950     18937.0\n",
       "...                          ...   ...         ...\n",
       "22256                     Zambia  2015  16211767.0\n",
       "22257                   Zimbabwe  2015  15602751.0\n",
       "22259                South Sudan  2015  12339812.0\n",
       "22260                    Curaçao  2015    157203.0\n",
       "22261  Sint Maarten (Dutch part)  2015     38745.0\n",
       "\n",
       "[16741 rows x 3 columns]"
      ]
     },
     "execution_count": 14,
     "metadata": {},
     "output_type": "execute_result"
    }
   ],
   "source": [
    "# Filter for relevant data: filter the dataset that it begins with the year 1950\n",
    "mask_pop = population['year'] >= 1950\n",
    "population_after_1950 = population[mask_pop]\n",
    "population_after_1950"
   ]
  },
  {
   "cell_type": "code",
   "execution_count": 16,
   "id": "bed103d7",
   "metadata": {},
   "outputs": [],
   "source": [
    "# Make data persistant: save the dataset as a .csv file in your data folder as they will be used for the week’s project\n",
    "population_after_1950.to_csv('../data/population_after_1950.csv', index=False)"
   ]
  },
  {
   "cell_type": "code",
   "execution_count": 19,
   "id": "d644e0ce",
   "metadata": {},
   "outputs": [
    {
     "name": "stdout",
     "output_type": "stream",
     "text": [
      "<class 'pandas.core.frame.DataFrame'>\n",
      "RangeIndex: 16741 entries, 0 to 16740\n",
      "Data columns (total 3 columns):\n",
      " #   Column      Non-Null Count  Dtype  \n",
      "---  ------      --------------  -----  \n",
      " 0   country     16741 non-null  object \n",
      " 1   year        16741 non-null  int64  \n",
      " 2   population  16741 non-null  float64\n",
      "dtypes: float64(1), int64(1), object(1)\n",
      "memory usage: 392.5+ KB\n"
     ]
    }
   ],
   "source": [
    "# test if the saved file could be read\n",
    "df_test = pd.read_csv('../data/population_after_1950.csv')\n",
    "df_test.info()"
   ]
  },
  {
   "cell_type": "markdown",
   "id": "5321e2c8",
   "metadata": {},
   "source": [
    " "
   ]
  },
  {
   "cell_type": "markdown",
   "id": "40647dbe",
   "metadata": {},
   "source": [
    "## Clean Gapminder: life_expectancy dataset"
   ]
  },
  {
   "cell_type": "code",
   "execution_count": 20,
   "id": "040aadbc",
   "metadata": {},
   "outputs": [
    {
     "data": {
      "text/html": [
       "<div>\n",
       "<style scoped>\n",
       "    .dataframe tbody tr th:only-of-type {\n",
       "        vertical-align: middle;\n",
       "    }\n",
       "\n",
       "    .dataframe tbody tr th {\n",
       "        vertical-align: top;\n",
       "    }\n",
       "\n",
       "    .dataframe thead th {\n",
       "        text-align: right;\n",
       "    }\n",
       "</style>\n",
       "<table border=\"1\" class=\"dataframe\">\n",
       "  <thead>\n",
       "    <tr style=\"text-align: right;\">\n",
       "      <th></th>\n",
       "      <th>Life expectancy</th>\n",
       "      <th>year</th>\n",
       "      <th>life expectancy</th>\n",
       "    </tr>\n",
       "  </thead>\n",
       "  <tbody>\n",
       "    <tr>\n",
       "      <th>0</th>\n",
       "      <td>Abkhazia</td>\n",
       "      <td>1800</td>\n",
       "      <td>NaN</td>\n",
       "    </tr>\n",
       "    <tr>\n",
       "      <th>1</th>\n",
       "      <td>Afghanistan</td>\n",
       "      <td>1800</td>\n",
       "      <td>28.21</td>\n",
       "    </tr>\n",
       "    <tr>\n",
       "      <th>2</th>\n",
       "      <td>Akrotiri and Dhekelia</td>\n",
       "      <td>1800</td>\n",
       "      <td>NaN</td>\n",
       "    </tr>\n",
       "    <tr>\n",
       "      <th>3</th>\n",
       "      <td>Albania</td>\n",
       "      <td>1800</td>\n",
       "      <td>35.40</td>\n",
       "    </tr>\n",
       "    <tr>\n",
       "      <th>4</th>\n",
       "      <td>Algeria</td>\n",
       "      <td>1800</td>\n",
       "      <td>28.82</td>\n",
       "    </tr>\n",
       "    <tr>\n",
       "      <th>5</th>\n",
       "      <td>American Samoa</td>\n",
       "      <td>1800</td>\n",
       "      <td>NaN</td>\n",
       "    </tr>\n",
       "    <tr>\n",
       "      <th>6</th>\n",
       "      <td>Andorra</td>\n",
       "      <td>1800</td>\n",
       "      <td>NaN</td>\n",
       "    </tr>\n",
       "    <tr>\n",
       "      <th>7</th>\n",
       "      <td>Angola</td>\n",
       "      <td>1800</td>\n",
       "      <td>26.98</td>\n",
       "    </tr>\n",
       "    <tr>\n",
       "      <th>8</th>\n",
       "      <td>Anguilla</td>\n",
       "      <td>1800</td>\n",
       "      <td>NaN</td>\n",
       "    </tr>\n",
       "    <tr>\n",
       "      <th>9</th>\n",
       "      <td>Antigua and Barbuda</td>\n",
       "      <td>1800</td>\n",
       "      <td>33.54</td>\n",
       "    </tr>\n",
       "  </tbody>\n",
       "</table>\n",
       "</div>"
      ],
      "text/plain": [
       "         Life expectancy  year  life expectancy\n",
       "0               Abkhazia  1800              NaN\n",
       "1            Afghanistan  1800            28.21\n",
       "2  Akrotiri and Dhekelia  1800              NaN\n",
       "3                Albania  1800            35.40\n",
       "4                Algeria  1800            28.82\n",
       "5         American Samoa  1800              NaN\n",
       "6                Andorra  1800              NaN\n",
       "7                 Angola  1800            26.98\n",
       "8               Anguilla  1800              NaN\n",
       "9    Antigua and Barbuda  1800            33.54"
      ]
     },
     "execution_count": 20,
     "metadata": {},
     "output_type": "execute_result"
    }
   ],
   "source": [
    "# Read life_expectancy\n",
    "life_exp = pd.read_excel('../data/life_expectancy.xls')\n",
    "life_exp.head(10)"
   ]
  },
  {
   "cell_type": "code",
   "execution_count": 21,
   "id": "b6c5c67e",
   "metadata": {},
   "outputs": [
    {
     "data": {
      "text/plain": [
       "Index(['country', 'year', 'life expectancy'], dtype='object')"
      ]
     },
     "execution_count": 21,
     "metadata": {},
     "output_type": "execute_result"
    }
   ],
   "source": [
    "# Rename any columns that seem mislabeled in the dataset\n",
    "life_exp.rename(columns={'Life expectancy': 'country'}, inplace=True)\n",
    "life_exp.columns"
   ]
  },
  {
   "cell_type": "code",
   "execution_count": 22,
   "id": "49f379b8",
   "metadata": {},
   "outputs": [
    {
     "data": {
      "text/plain": [
       "country                0\n",
       "year                   0\n",
       "life expectancy    12563\n",
       "dtype: int64"
      ]
     },
     "execution_count": 22,
     "metadata": {},
     "output_type": "execute_result"
    }
   ],
   "source": [
    "# check and see which and how much data is missing in the dataset\n",
    "life_exp.isnull().sum()"
   ]
  },
  {
   "cell_type": "code",
   "execution_count": 23,
   "id": "4ae24bc2",
   "metadata": {},
   "outputs": [
    {
     "name": "stdout",
     "output_type": "stream",
     "text": [
      "<class 'pandas.core.frame.DataFrame'>\n",
      "RangeIndex: 56420 entries, 0 to 56419\n",
      "Data columns (total 3 columns):\n",
      " #   Column           Non-Null Count  Dtype  \n",
      "---  ------           --------------  -----  \n",
      " 0   country          56420 non-null  object \n",
      " 1   year             56420 non-null  int64  \n",
      " 2   life expectancy  43857 non-null  float64\n",
      "dtypes: float64(1), int64(1), object(1)\n",
      "memory usage: 1.3+ MB\n"
     ]
    }
   ],
   "source": [
    "life_exp.info()    # -> 22% rows has missed data!!"
   ]
  },
  {
   "cell_type": "code",
   "execution_count": 27,
   "id": "7643661a",
   "metadata": {},
   "outputs": [
    {
     "data": {
      "text/plain": [
       "array([1800, 1801, 1802, 1803, 1804, 1805, 1806, 1807, 1808, 1809, 1810,\n",
       "       1811, 1812, 1813, 1814, 1815, 1816, 1817, 1818, 1819, 1820, 1821,\n",
       "       1822, 1823, 1824, 1825, 1826, 1827, 1828, 1829, 1830, 1831, 1832,\n",
       "       1833, 1834, 1835, 1836, 1837, 1838, 1839, 1840, 1841, 1842, 1843,\n",
       "       1844, 1845, 1846, 1847, 1848, 1849, 1850, 1851, 1852, 1853, 1854,\n",
       "       1855, 1856, 1857, 1858, 1859, 1860, 1861, 1862, 1863, 1864, 1865,\n",
       "       1866, 1867, 1868, 1869, 1870, 1871, 1872, 1873, 1874, 1875, 1876,\n",
       "       1877, 1878, 1879, 1880, 1881, 1882, 1883, 1884, 1885, 1886, 1887,\n",
       "       1888, 1889, 1890, 1891, 1892, 1893, 1894, 1895, 1896, 1897, 1898,\n",
       "       1899, 1900, 1901, 1902, 1903, 1904, 1905, 1906, 1907, 1908, 1909,\n",
       "       1910, 1911, 1912, 1913, 1914, 1915, 1916, 1917, 1918, 1919, 1920,\n",
       "       1921, 1922, 1923, 1924, 1925, 1926, 1927, 1928, 1929, 1930, 1931,\n",
       "       1932, 1933, 1934, 1935, 1936, 1937, 1938, 1939, 1940, 1941, 1942,\n",
       "       1943, 1944, 1945, 1946, 1947, 1948, 1949, 1950, 1951, 1952, 1953,\n",
       "       1954, 1955, 1956, 1957, 1958, 1959, 1960, 1961, 1962, 1963, 1964,\n",
       "       1965, 1966, 1967, 1968, 1969, 1970, 1971, 1972, 1973, 1974, 1975,\n",
       "       1976, 1977, 1978, 1979, 1980, 1981, 1982, 1983, 1984, 1985, 1986,\n",
       "       1987, 1988, 1989, 1990, 1991, 1992, 1993, 1994, 1995, 1996, 1997,\n",
       "       1998, 1999, 2000, 2001, 2002, 2003, 2004, 2005, 2006, 2007, 2008,\n",
       "       2009, 2010, 2011, 2012, 2013, 2014, 2015, 2016], dtype=int64)"
      ]
     },
     "execution_count": 27,
     "metadata": {},
     "output_type": "execute_result"
    }
   ],
   "source": [
    "life_exp[life_exp['life expectancy'].isnull()]['year'].unique()  # -> Min_year=1800 with 'NaN' values, Max_year = 2016 :("
   ]
  },
  {
   "cell_type": "code",
   "execution_count": 28,
   "id": "a7620bed",
   "metadata": {},
   "outputs": [
    {
     "name": "stdout",
     "output_type": "stream",
     "text": [
      "<class 'pandas.core.frame.DataFrame'>\n",
      "Int64Index: 43857 entries, 1 to 56419\n",
      "Data columns (total 3 columns):\n",
      " #   Column           Non-Null Count  Dtype  \n",
      "---  ------           --------------  -----  \n",
      " 0   country          43857 non-null  object \n",
      " 1   year             43857 non-null  int64  \n",
      " 2   life expectancy  43857 non-null  float64\n",
      "dtypes: float64(1), int64(1), object(1)\n",
      "memory usage: 1.3+ MB\n"
     ]
    }
   ],
   "source": [
    "# drop all observations with missing data\n",
    "life_exp.dropna(axis=0, inplace=True)\n",
    "life_exp.info()"
   ]
  },
  {
   "cell_type": "code",
   "execution_count": 29,
   "id": "42e2d39e",
   "metadata": {},
   "outputs": [
    {
     "data": {
      "text/html": [
       "<div>\n",
       "<style scoped>\n",
       "    .dataframe tbody tr th:only-of-type {\n",
       "        vertical-align: middle;\n",
       "    }\n",
       "\n",
       "    .dataframe tbody tr th {\n",
       "        vertical-align: top;\n",
       "    }\n",
       "\n",
       "    .dataframe thead th {\n",
       "        text-align: right;\n",
       "    }\n",
       "</style>\n",
       "<table border=\"1\" class=\"dataframe\">\n",
       "  <thead>\n",
       "    <tr style=\"text-align: right;\">\n",
       "      <th></th>\n",
       "      <th>country</th>\n",
       "      <th>year</th>\n",
       "      <th>life expectancy</th>\n",
       "    </tr>\n",
       "  </thead>\n",
       "  <tbody>\n",
       "    <tr>\n",
       "      <th>39001</th>\n",
       "      <td>Afghanistan</td>\n",
       "      <td>1950</td>\n",
       "      <td>26.85</td>\n",
       "    </tr>\n",
       "    <tr>\n",
       "      <th>39003</th>\n",
       "      <td>Albania</td>\n",
       "      <td>1950</td>\n",
       "      <td>54.48</td>\n",
       "    </tr>\n",
       "    <tr>\n",
       "      <th>39004</th>\n",
       "      <td>Algeria</td>\n",
       "      <td>1950</td>\n",
       "      <td>42.77</td>\n",
       "    </tr>\n",
       "    <tr>\n",
       "      <th>39007</th>\n",
       "      <td>Angola</td>\n",
       "      <td>1950</td>\n",
       "      <td>30.70</td>\n",
       "    </tr>\n",
       "    <tr>\n",
       "      <th>39009</th>\n",
       "      <td>Antigua and Barbuda</td>\n",
       "      <td>1950</td>\n",
       "      <td>57.97</td>\n",
       "    </tr>\n",
       "    <tr>\n",
       "      <th>...</th>\n",
       "      <td>...</td>\n",
       "      <td>...</td>\n",
       "      <td>...</td>\n",
       "    </tr>\n",
       "    <tr>\n",
       "      <th>56411</th>\n",
       "      <td>Virgin Islands (U.S.)</td>\n",
       "      <td>2016</td>\n",
       "      <td>80.82</td>\n",
       "    </tr>\n",
       "    <tr>\n",
       "      <th>56414</th>\n",
       "      <td>Yemen</td>\n",
       "      <td>2016</td>\n",
       "      <td>64.92</td>\n",
       "    </tr>\n",
       "    <tr>\n",
       "      <th>56416</th>\n",
       "      <td>Zambia</td>\n",
       "      <td>2016</td>\n",
       "      <td>57.10</td>\n",
       "    </tr>\n",
       "    <tr>\n",
       "      <th>56417</th>\n",
       "      <td>Zimbabwe</td>\n",
       "      <td>2016</td>\n",
       "      <td>61.69</td>\n",
       "    </tr>\n",
       "    <tr>\n",
       "      <th>56419</th>\n",
       "      <td>South Sudan</td>\n",
       "      <td>2016</td>\n",
       "      <td>56.10</td>\n",
       "    </tr>\n",
       "  </tbody>\n",
       "</table>\n",
       "<p>13707 rows × 3 columns</p>\n",
       "</div>"
      ],
      "text/plain": [
       "                     country  year  life expectancy\n",
       "39001            Afghanistan  1950            26.85\n",
       "39003                Albania  1950            54.48\n",
       "39004                Algeria  1950            42.77\n",
       "39007                 Angola  1950            30.70\n",
       "39009    Antigua and Barbuda  1950            57.97\n",
       "...                      ...   ...              ...\n",
       "56411  Virgin Islands (U.S.)  2016            80.82\n",
       "56414                  Yemen  2016            64.92\n",
       "56416                 Zambia  2016            57.10\n",
       "56417               Zimbabwe  2016            61.69\n",
       "56419            South Sudan  2016            56.10\n",
       "\n",
       "[13707 rows x 3 columns]"
      ]
     },
     "execution_count": 29,
     "metadata": {},
     "output_type": "execute_result"
    }
   ],
   "source": [
    "# Filter for relevant data: filter the dataset that it begins with the year 1950\n",
    "mask_life_exp = life_exp['year'] >= 1950\n",
    "life_exp_after_1950 = life_exp[mask_life_exp]\n",
    "life_exp_after_1950"
   ]
  },
  {
   "cell_type": "code",
   "execution_count": 30,
   "id": "5247f37c",
   "metadata": {},
   "outputs": [],
   "source": [
    "# save the dataset as a .csv file\n",
    "life_exp_after_1950.to_csv('../data/life_expectancy_after_1950.csv', index=False)"
   ]
  },
  {
   "cell_type": "code",
   "execution_count": 31,
   "id": "6f723626",
   "metadata": {},
   "outputs": [
    {
     "name": "stdout",
     "output_type": "stream",
     "text": [
      "<class 'pandas.core.frame.DataFrame'>\n",
      "RangeIndex: 13707 entries, 0 to 13706\n",
      "Data columns (total 3 columns):\n",
      " #   Column           Non-Null Count  Dtype  \n",
      "---  ------           --------------  -----  \n",
      " 0   country          13707 non-null  object \n",
      " 1   year             13707 non-null  int64  \n",
      " 2   life expectancy  13707 non-null  float64\n",
      "dtypes: float64(1), int64(1), object(1)\n",
      "memory usage: 321.4+ KB\n"
     ]
    }
   ],
   "source": [
    "# test if the saved file could be read\n",
    "df_tmp = pd.read_csv('../data/life_expectancy_after_1950.csv')\n",
    "df_tmp.info()"
   ]
  },
  {
   "cell_type": "markdown",
   "id": "7a80b342",
   "metadata": {},
   "source": [
    "## Clean Gapminder: fertility_rate dataset"
   ]
  },
  {
   "cell_type": "code",
   "execution_count": 32,
   "id": "fb6d6c4d",
   "metadata": {},
   "outputs": [
    {
     "data": {
      "text/html": [
       "<div>\n",
       "<style scoped>\n",
       "    .dataframe tbody tr th:only-of-type {\n",
       "        vertical-align: middle;\n",
       "    }\n",
       "\n",
       "    .dataframe tbody tr th {\n",
       "        vertical-align: top;\n",
       "    }\n",
       "\n",
       "    .dataframe thead th {\n",
       "        text-align: right;\n",
       "    }\n",
       "</style>\n",
       "<table border=\"1\" class=\"dataframe\">\n",
       "  <thead>\n",
       "    <tr style=\"text-align: right;\">\n",
       "      <th></th>\n",
       "      <th>Total fertility rate</th>\n",
       "      <th>year</th>\n",
       "      <th>fertility</th>\n",
       "    </tr>\n",
       "  </thead>\n",
       "  <tbody>\n",
       "    <tr>\n",
       "      <th>0</th>\n",
       "      <td>Abkhazia</td>\n",
       "      <td>1800</td>\n",
       "      <td>NaN</td>\n",
       "    </tr>\n",
       "    <tr>\n",
       "      <th>1</th>\n",
       "      <td>Afghanistan</td>\n",
       "      <td>1800</td>\n",
       "      <td>7.00</td>\n",
       "    </tr>\n",
       "    <tr>\n",
       "      <th>2</th>\n",
       "      <td>Akrotiri and Dhekelia</td>\n",
       "      <td>1800</td>\n",
       "      <td>NaN</td>\n",
       "    </tr>\n",
       "    <tr>\n",
       "      <th>3</th>\n",
       "      <td>Albania</td>\n",
       "      <td>1800</td>\n",
       "      <td>4.60</td>\n",
       "    </tr>\n",
       "    <tr>\n",
       "      <th>4</th>\n",
       "      <td>Algeria</td>\n",
       "      <td>1800</td>\n",
       "      <td>6.99</td>\n",
       "    </tr>\n",
       "    <tr>\n",
       "      <th>5</th>\n",
       "      <td>American Samoa</td>\n",
       "      <td>1800</td>\n",
       "      <td>NaN</td>\n",
       "    </tr>\n",
       "    <tr>\n",
       "      <th>6</th>\n",
       "      <td>Andorra</td>\n",
       "      <td>1800</td>\n",
       "      <td>NaN</td>\n",
       "    </tr>\n",
       "    <tr>\n",
       "      <th>7</th>\n",
       "      <td>Angola</td>\n",
       "      <td>1800</td>\n",
       "      <td>6.93</td>\n",
       "    </tr>\n",
       "    <tr>\n",
       "      <th>8</th>\n",
       "      <td>Anguilla</td>\n",
       "      <td>1800</td>\n",
       "      <td>NaN</td>\n",
       "    </tr>\n",
       "    <tr>\n",
       "      <th>9</th>\n",
       "      <td>Antigua and Barbuda</td>\n",
       "      <td>1800</td>\n",
       "      <td>5.00</td>\n",
       "    </tr>\n",
       "  </tbody>\n",
       "</table>\n",
       "</div>"
      ],
      "text/plain": [
       "    Total fertility rate  year  fertility\n",
       "0               Abkhazia  1800        NaN\n",
       "1            Afghanistan  1800       7.00\n",
       "2  Akrotiri and Dhekelia  1800        NaN\n",
       "3                Albania  1800       4.60\n",
       "4                Algeria  1800       6.99\n",
       "5         American Samoa  1800        NaN\n",
       "6                Andorra  1800        NaN\n",
       "7                 Angola  1800       6.93\n",
       "8               Anguilla  1800        NaN\n",
       "9    Antigua and Barbuda  1800       5.00"
      ]
     },
     "execution_count": 32,
     "metadata": {},
     "output_type": "execute_result"
    }
   ],
   "source": [
    "# Read fertility_rate dataset\n",
    "fertility_rate = pd.read_csv('../data/fertility_rate.csv')\n",
    "fertility_rate.head(10)"
   ]
  },
  {
   "cell_type": "code",
   "execution_count": 33,
   "id": "be63b79a",
   "metadata": {},
   "outputs": [
    {
     "data": {
      "text/plain": [
       "Index(['country', 'year', 'fertility'], dtype='object')"
      ]
     },
     "execution_count": 33,
     "metadata": {},
     "output_type": "execute_result"
    }
   ],
   "source": [
    "# Rename any columns that seem mislabeled in the dataset\n",
    "fertility_rate.rename(columns={'Total fertility rate': 'country'}, inplace=True)\n",
    "fertility_rate.columns"
   ]
  },
  {
   "cell_type": "code",
   "execution_count": 34,
   "id": "2017d2a3",
   "metadata": {},
   "outputs": [
    {
     "data": {
      "text/plain": [
       "country          0\n",
       "year             0\n",
       "fertility    12747\n",
       "dtype: int64"
      ]
     },
     "execution_count": 34,
     "metadata": {},
     "output_type": "execute_result"
    }
   ],
   "source": [
    "# check and see which and how much data is missing in the dataset\n",
    "fertility_rate.isnull().sum()"
   ]
  },
  {
   "cell_type": "code",
   "execution_count": 35,
   "id": "c9e72fa8",
   "metadata": {},
   "outputs": [
    {
     "name": "stdout",
     "output_type": "stream",
     "text": [
      "<class 'pandas.core.frame.DataFrame'>\n",
      "RangeIndex: 56159 entries, 0 to 56158\n",
      "Data columns (total 3 columns):\n",
      " #   Column     Non-Null Count  Dtype  \n",
      "---  ------     --------------  -----  \n",
      " 0   country    56159 non-null  object \n",
      " 1   year       56159 non-null  int64  \n",
      " 2   fertility  43412 non-null  float64\n",
      "dtypes: float64(1), int64(1), object(1)\n",
      "memory usage: 1.3+ MB\n"
     ]
    }
   ],
   "source": [
    "fertility_rate.info()"
   ]
  },
  {
   "cell_type": "code",
   "execution_count": 36,
   "id": "6d7717c7",
   "metadata": {},
   "outputs": [
    {
     "name": "stdout",
     "output_type": "stream",
     "text": [
      "<class 'pandas.core.frame.DataFrame'>\n",
      "Int64Index: 43412 entries, 1 to 56157\n",
      "Data columns (total 3 columns):\n",
      " #   Column     Non-Null Count  Dtype  \n",
      "---  ------     --------------  -----  \n",
      " 0   country    43412 non-null  object \n",
      " 1   year       43412 non-null  int64  \n",
      " 2   fertility  43412 non-null  float64\n",
      "dtypes: float64(1), int64(1), object(1)\n",
      "memory usage: 1.3+ MB\n"
     ]
    }
   ],
   "source": [
    "# drop all observations with missing data\n",
    "fertility_rate.dropna(axis=0, inplace=True)\n",
    "fertility_rate.info()"
   ]
  },
  {
   "cell_type": "code",
   "execution_count": 37,
   "id": "486d0cb8",
   "metadata": {},
   "outputs": [
    {
     "data": {
      "text/html": [
       "<div>\n",
       "<style scoped>\n",
       "    .dataframe tbody tr th:only-of-type {\n",
       "        vertical-align: middle;\n",
       "    }\n",
       "\n",
       "    .dataframe tbody tr th {\n",
       "        vertical-align: top;\n",
       "    }\n",
       "\n",
       "    .dataframe thead th {\n",
       "        text-align: right;\n",
       "    }\n",
       "</style>\n",
       "<table border=\"1\" class=\"dataframe\">\n",
       "  <thead>\n",
       "    <tr style=\"text-align: right;\">\n",
       "      <th></th>\n",
       "      <th>country</th>\n",
       "      <th>year</th>\n",
       "      <th>fertility</th>\n",
       "    </tr>\n",
       "  </thead>\n",
       "  <tbody>\n",
       "    <tr>\n",
       "      <th>39001</th>\n",
       "      <td>Afghanistan</td>\n",
       "      <td>1950</td>\n",
       "      <td>7.67</td>\n",
       "    </tr>\n",
       "    <tr>\n",
       "      <th>39003</th>\n",
       "      <td>Albania</td>\n",
       "      <td>1950</td>\n",
       "      <td>5.80</td>\n",
       "    </tr>\n",
       "    <tr>\n",
       "      <th>39004</th>\n",
       "      <td>Algeria</td>\n",
       "      <td>1950</td>\n",
       "      <td>7.65</td>\n",
       "    </tr>\n",
       "    <tr>\n",
       "      <th>39007</th>\n",
       "      <td>Angola</td>\n",
       "      <td>1950</td>\n",
       "      <td>6.93</td>\n",
       "    </tr>\n",
       "    <tr>\n",
       "      <th>39009</th>\n",
       "      <td>Antigua and Barbuda</td>\n",
       "      <td>1950</td>\n",
       "      <td>4.45</td>\n",
       "    </tr>\n",
       "    <tr>\n",
       "      <th>...</th>\n",
       "      <td>...</td>\n",
       "      <td>...</td>\n",
       "      <td>...</td>\n",
       "    </tr>\n",
       "    <tr>\n",
       "      <th>56150</th>\n",
       "      <td>Vietnam</td>\n",
       "      <td>2015</td>\n",
       "      <td>1.70</td>\n",
       "    </tr>\n",
       "    <tr>\n",
       "      <th>56151</th>\n",
       "      <td>Virgin Islands (U.S.)</td>\n",
       "      <td>2015</td>\n",
       "      <td>2.45</td>\n",
       "    </tr>\n",
       "    <tr>\n",
       "      <th>56154</th>\n",
       "      <td>Yemen</td>\n",
       "      <td>2015</td>\n",
       "      <td>3.83</td>\n",
       "    </tr>\n",
       "    <tr>\n",
       "      <th>56156</th>\n",
       "      <td>Zambia</td>\n",
       "      <td>2015</td>\n",
       "      <td>5.59</td>\n",
       "    </tr>\n",
       "    <tr>\n",
       "      <th>56157</th>\n",
       "      <td>Zimbabwe</td>\n",
       "      <td>2015</td>\n",
       "      <td>3.35</td>\n",
       "    </tr>\n",
       "  </tbody>\n",
       "</table>\n",
       "<p>13262 rows × 3 columns</p>\n",
       "</div>"
      ],
      "text/plain": [
       "                     country  year  fertility\n",
       "39001            Afghanistan  1950       7.67\n",
       "39003                Albania  1950       5.80\n",
       "39004                Algeria  1950       7.65\n",
       "39007                 Angola  1950       6.93\n",
       "39009    Antigua and Barbuda  1950       4.45\n",
       "...                      ...   ...        ...\n",
       "56150                Vietnam  2015       1.70\n",
       "56151  Virgin Islands (U.S.)  2015       2.45\n",
       "56154                  Yemen  2015       3.83\n",
       "56156                 Zambia  2015       5.59\n",
       "56157               Zimbabwe  2015       3.35\n",
       "\n",
       "[13262 rows x 3 columns]"
      ]
     },
     "execution_count": 37,
     "metadata": {},
     "output_type": "execute_result"
    }
   ],
   "source": [
    "# Filter for relevant data: filter the dataset that it begins with the year 1950\n",
    "mask_fert = fertility_rate['year'] >= 1950\n",
    "fertility_rate_after_1950 = fertility_rate[mask_fert]\n",
    "fertility_rate_after_1950"
   ]
  },
  {
   "cell_type": "code",
   "execution_count": 38,
   "id": "2b17e9df",
   "metadata": {},
   "outputs": [],
   "source": [
    "# save the dataset as a .csv file\n",
    "fertility_rate_after_1950.to_csv('../data/fertility_rate_after_1950.csv', index=False)"
   ]
  },
  {
   "cell_type": "code",
   "execution_count": 39,
   "id": "41b913a9",
   "metadata": {},
   "outputs": [
    {
     "name": "stdout",
     "output_type": "stream",
     "text": [
      "<class 'pandas.core.frame.DataFrame'>\n",
      "RangeIndex: 13262 entries, 0 to 13261\n",
      "Data columns (total 3 columns):\n",
      " #   Column     Non-Null Count  Dtype  \n",
      "---  ------     --------------  -----  \n",
      " 0   country    13262 non-null  object \n",
      " 1   year       13262 non-null  int64  \n",
      " 2   fertility  13262 non-null  float64\n",
      "dtypes: float64(1), int64(1), object(1)\n",
      "memory usage: 311.0+ KB\n"
     ]
    }
   ],
   "source": [
    "# test if the saved file could be read\n",
    "df_t = pd.read_csv('../data/fertility_rate_after_1950.csv')\n",
    "df_t.info()"
   ]
  },
  {
   "cell_type": "code",
   "execution_count": null,
   "id": "170d9ac2",
   "metadata": {},
   "outputs": [],
   "source": []
  }
 ],
 "metadata": {
  "kernelspec": {
   "display_name": "Python 3 (ipykernel)",
   "language": "python",
   "name": "python3"
  },
  "language_info": {
   "codemirror_mode": {
    "name": "ipython",
    "version": 3
   },
   "file_extension": ".py",
   "mimetype": "text/x-python",
   "name": "python",
   "nbconvert_exporter": "python",
   "pygments_lexer": "ipython3",
   "version": "3.10.8"
  }
 },
 "nbformat": 4,
 "nbformat_minor": 5
}
