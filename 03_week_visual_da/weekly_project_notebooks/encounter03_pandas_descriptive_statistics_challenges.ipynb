{
 "cells": [
  {
   "cell_type": "markdown",
   "id": "d7c10347",
   "metadata": {},
   "source": [
    "# WEEK 03\n",
    "# Encounter 03 - Descriptive Statistics\n",
    "# Project Challenge - Pandas Descriptive Statistics Challenges"
   ]
  },
  {
   "cell_type": "markdown",
   "id": "dd803b13",
   "metadata": {},
   "source": [
    "## Task Description\n",
    "\n",
    "Solve the following pandas challenges:\n",
    "\n",
    " 1. read the life expectancy cleaned dataset into your notebook (the dataset you created in Data Cleansing before). If you want to use country as the index you may use the `index_col` parameter while reading it from the file:\n",
    ">`life_df = pd.read_csv('life_expectancy_cleaned.csv', index_col=0)`\n",
    " 2. calculate the mean life expectancy\n",
    " 3. calculate the mean life expectancy for the year 2000\n",
    " 4. calculate the median for 1995\n",
    " 5. calculate the standard deviation\n",
    " 6. find the highest life expectancy\n",
    " 7. find the country and year for the highest life expectancy\n",
    " 8. find the lowest life expectancy\n",
    " 9. find the country and year was the lowest life expectancy\n",
    " 10. find the 90% quantile of the life expectancy\n",
    " 11. calculate min, max, mean and possibly other descriptors with a single line"
   ]
  },
  {
   "cell_type": "code",
   "execution_count": 1,
   "id": "9f265a20",
   "metadata": {},
   "outputs": [],
   "source": [
    "import pandas as pd\n",
    "import matplotlib.pyplot as plt\n",
    "import numpy as np"
   ]
  },
  {
   "cell_type": "code",
   "execution_count": 2,
   "id": "8315ce53",
   "metadata": {},
   "outputs": [
    {
     "data": {
      "text/html": [
       "<div>\n",
       "<style scoped>\n",
       "    .dataframe tbody tr th:only-of-type {\n",
       "        vertical-align: middle;\n",
       "    }\n",
       "\n",
       "    .dataframe tbody tr th {\n",
       "        vertical-align: top;\n",
       "    }\n",
       "\n",
       "    .dataframe thead th {\n",
       "        text-align: right;\n",
       "    }\n",
       "</style>\n",
       "<table border=\"1\" class=\"dataframe\">\n",
       "  <thead>\n",
       "    <tr style=\"text-align: right;\">\n",
       "      <th></th>\n",
       "      <th>year</th>\n",
       "      <th>life expectancy</th>\n",
       "    </tr>\n",
       "    <tr>\n",
       "      <th>country</th>\n",
       "      <th></th>\n",
       "      <th></th>\n",
       "    </tr>\n",
       "  </thead>\n",
       "  <tbody>\n",
       "    <tr>\n",
       "      <th>Afghanistan</th>\n",
       "      <td>1950</td>\n",
       "      <td>26.85</td>\n",
       "    </tr>\n",
       "    <tr>\n",
       "      <th>Albania</th>\n",
       "      <td>1950</td>\n",
       "      <td>54.48</td>\n",
       "    </tr>\n",
       "    <tr>\n",
       "      <th>Algeria</th>\n",
       "      <td>1950</td>\n",
       "      <td>42.77</td>\n",
       "    </tr>\n",
       "    <tr>\n",
       "      <th>Angola</th>\n",
       "      <td>1950</td>\n",
       "      <td>30.70</td>\n",
       "    </tr>\n",
       "    <tr>\n",
       "      <th>Antigua and Barbuda</th>\n",
       "      <td>1950</td>\n",
       "      <td>57.97</td>\n",
       "    </tr>\n",
       "    <tr>\n",
       "      <th>...</th>\n",
       "      <td>...</td>\n",
       "      <td>...</td>\n",
       "    </tr>\n",
       "    <tr>\n",
       "      <th>Virgin Islands (U.S.)</th>\n",
       "      <td>2016</td>\n",
       "      <td>80.82</td>\n",
       "    </tr>\n",
       "    <tr>\n",
       "      <th>Yemen</th>\n",
       "      <td>2016</td>\n",
       "      <td>64.92</td>\n",
       "    </tr>\n",
       "    <tr>\n",
       "      <th>Zambia</th>\n",
       "      <td>2016</td>\n",
       "      <td>57.10</td>\n",
       "    </tr>\n",
       "    <tr>\n",
       "      <th>Zimbabwe</th>\n",
       "      <td>2016</td>\n",
       "      <td>61.69</td>\n",
       "    </tr>\n",
       "    <tr>\n",
       "      <th>South Sudan</th>\n",
       "      <td>2016</td>\n",
       "      <td>56.10</td>\n",
       "    </tr>\n",
       "  </tbody>\n",
       "</table>\n",
       "<p>13707 rows × 2 columns</p>\n",
       "</div>"
      ],
      "text/plain": [
       "                       year  life expectancy\n",
       "country                                     \n",
       "Afghanistan            1950            26.85\n",
       "Albania                1950            54.48\n",
       "Algeria                1950            42.77\n",
       "Angola                 1950            30.70\n",
       "Antigua and Barbuda    1950            57.97\n",
       "...                     ...              ...\n",
       "Virgin Islands (U.S.)  2016            80.82\n",
       "Yemen                  2016            64.92\n",
       "Zambia                 2016            57.10\n",
       "Zimbabwe               2016            61.69\n",
       "South Sudan            2016            56.10\n",
       "\n",
       "[13707 rows x 2 columns]"
      ]
     },
     "execution_count": 2,
     "metadata": {},
     "output_type": "execute_result"
    }
   ],
   "source": [
    "# 1. read the life expectancy cleaned dataset into your notebook \n",
    "# (the dataset you created in Data Cleansing before).\n",
    "# If you want to use country as the index you may use the `index_col` parameter while reading it from the file:\n",
    "\n",
    "life_df = pd.read_csv('../data/life_expectancy_after_1950.csv', index_col=0)\n",
    "life_df"
   ]
  },
  {
   "cell_type": "code",
   "execution_count": 7,
   "id": "529688b9",
   "metadata": {},
   "outputs": [
    {
     "data": {
      "text/plain": [
       "62.99"
      ]
     },
     "execution_count": 7,
     "metadata": {},
     "output_type": "execute_result"
    }
   ],
   "source": [
    "# 2. calculate the mean life expectancy\n",
    "\n",
    "life_expectancy_mean = life_df['life expectancy'].mean()\n",
    "life_expectancy_mean = round(life_expectancy_mean, 2)\n",
    "life_expectancy_mean"
   ]
  },
  {
   "cell_type": "code",
   "execution_count": 8,
   "id": "64526305",
   "metadata": {},
   "outputs": [
    {
     "data": {
      "text/plain": [
       "68.08"
      ]
     },
     "execution_count": 8,
     "metadata": {},
     "output_type": "execute_result"
    }
   ],
   "source": [
    "# 3. calculate the mean life expectancy for the year 2000\n",
    "\n",
    "#boolean mask to sort out 2000 year data\n",
    "year_2000 = life_df['year'] == 2000\n",
    "\n",
    "life_expectancy_2000_mean = life_df[year_2000]['life expectancy'].mean()\n",
    "life_expectancy_2000_mean = round(life_expectancy_2000_mean, 2)\n",
    "life_expectancy_2000_mean"
   ]
  },
  {
   "cell_type": "code",
   "execution_count": 9,
   "id": "610e2bb2",
   "metadata": {},
   "outputs": [
    {
     "data": {
      "text/plain": [
       "70.0"
      ]
     },
     "execution_count": 9,
     "metadata": {},
     "output_type": "execute_result"
    }
   ],
   "source": [
    "# 4. calculate the median for 1995\n",
    "\n",
    "mask_1995 = life_df['year'] == 1995\n",
    "\n",
    "life_expectancy_1995_median = life_df[mask_1995]['life expectancy'].median()\n",
    "life_expectancy_1995_median = round(life_expectancy_1995_median, 2)\n",
    "life_expectancy_1995_median\n"
   ]
  },
  {
   "cell_type": "code",
   "execution_count": 11,
   "id": "d8205d70",
   "metadata": {},
   "outputs": [
    {
     "data": {
      "text/plain": [
       "11.9"
      ]
     },
     "execution_count": 11,
     "metadata": {},
     "output_type": "execute_result"
    }
   ],
   "source": [
    "# 5. calculate the standard deviation\n",
    "\n",
    "sd = life_df['life expectancy'].std()\n",
    "sd = round(sd, 2)\n",
    "sd"
   ]
  },
  {
   "cell_type": "code",
   "execution_count": 12,
   "id": "fb3b5793",
   "metadata": {},
   "outputs": [
    {
     "data": {
      "text/plain": [
       "84.8"
      ]
     },
     "execution_count": 12,
     "metadata": {},
     "output_type": "execute_result"
    }
   ],
   "source": [
    "# 6. find the highest life expectancy\n",
    "\n",
    "max_life_exp = life_df['life expectancy'].max()\n",
    "max_life_exp"
   ]
  },
  {
   "cell_type": "code",
   "execution_count": 13,
   "id": "07f9a313",
   "metadata": {},
   "outputs": [
    {
     "data": {
      "text/html": [
       "<div>\n",
       "<style scoped>\n",
       "    .dataframe tbody tr th:only-of-type {\n",
       "        vertical-align: middle;\n",
       "    }\n",
       "\n",
       "    .dataframe tbody tr th {\n",
       "        vertical-align: top;\n",
       "    }\n",
       "\n",
       "    .dataframe thead th {\n",
       "        text-align: right;\n",
       "    }\n",
       "</style>\n",
       "<table border=\"1\" class=\"dataframe\">\n",
       "  <thead>\n",
       "    <tr style=\"text-align: right;\">\n",
       "      <th></th>\n",
       "      <th>year</th>\n",
       "      <th>life expectancy</th>\n",
       "    </tr>\n",
       "    <tr>\n",
       "      <th>country</th>\n",
       "      <th></th>\n",
       "      <th></th>\n",
       "    </tr>\n",
       "  </thead>\n",
       "  <tbody>\n",
       "    <tr>\n",
       "      <th>Andorra</th>\n",
       "      <td>2013</td>\n",
       "      <td>84.8</td>\n",
       "    </tr>\n",
       "    <tr>\n",
       "      <th>Andorra</th>\n",
       "      <td>2014</td>\n",
       "      <td>84.8</td>\n",
       "    </tr>\n",
       "    <tr>\n",
       "      <th>Andorra</th>\n",
       "      <td>2015</td>\n",
       "      <td>84.8</td>\n",
       "    </tr>\n",
       "    <tr>\n",
       "      <th>Andorra</th>\n",
       "      <td>2016</td>\n",
       "      <td>84.8</td>\n",
       "    </tr>\n",
       "  </tbody>\n",
       "</table>\n",
       "</div>"
      ],
      "text/plain": [
       "         year  life expectancy\n",
       "country                       \n",
       "Andorra  2013             84.8\n",
       "Andorra  2014             84.8\n",
       "Andorra  2015             84.8\n",
       "Andorra  2016             84.8"
      ]
     },
     "execution_count": 13,
     "metadata": {},
     "output_type": "execute_result"
    }
   ],
   "source": [
    "# 7. find the country and year for the highest life expectancy\n",
    "\n",
    "mask_max_life_exp = life_df['life expectancy'] == max_life_exp\n",
    "life_df[mask_max_life_exp]"
   ]
  },
  {
   "cell_type": "code",
   "execution_count": 17,
   "id": "4d6250db",
   "metadata": {},
   "outputs": [
    {
     "data": {
      "text/plain": [
       "'Andorra'"
      ]
     },
     "execution_count": 17,
     "metadata": {},
     "output_type": "execute_result"
    }
   ],
   "source": [
    "# Extra: Country name\n",
    "country_max_life_exp = life_df[mask_max_life_exp].index.unique()[0]\n",
    "country_max_life_exp"
   ]
  },
  {
   "cell_type": "code",
   "execution_count": 22,
   "id": "a536de19",
   "metadata": {},
   "outputs": [
    {
     "data": {
      "text/plain": [
       "[2013, 2014, 2015, 2016]"
      ]
     },
     "execution_count": 22,
     "metadata": {},
     "output_type": "execute_result"
    }
   ],
   "source": [
    "# Extra: get the list of years:\n",
    "years_max_life_exp = life_df[mask_max_life_exp]['year'].unique().tolist()\n",
    "years_max_life_exp"
   ]
  },
  {
   "cell_type": "code",
   "execution_count": 23,
   "id": "accb3ade",
   "metadata": {},
   "outputs": [
    {
     "data": {
      "text/plain": [
       "13.2"
      ]
     },
     "execution_count": 23,
     "metadata": {},
     "output_type": "execute_result"
    }
   ],
   "source": [
    "# 8. find the lowest life expectancy\n",
    "\n",
    "min_life_exp = life_df['life expectancy'].min()\n",
    "min_life_exp"
   ]
  },
  {
   "cell_type": "code",
   "execution_count": 24,
   "id": "ebcfabec",
   "metadata": {},
   "outputs": [
    {
     "data": {
      "text/html": [
       "<div>\n",
       "<style scoped>\n",
       "    .dataframe tbody tr th:only-of-type {\n",
       "        vertical-align: middle;\n",
       "    }\n",
       "\n",
       "    .dataframe tbody tr th {\n",
       "        vertical-align: top;\n",
       "    }\n",
       "\n",
       "    .dataframe thead th {\n",
       "        text-align: right;\n",
       "    }\n",
       "</style>\n",
       "<table border=\"1\" class=\"dataframe\">\n",
       "  <thead>\n",
       "    <tr style=\"text-align: right;\">\n",
       "      <th></th>\n",
       "      <th>year</th>\n",
       "      <th>life expectancy</th>\n",
       "    </tr>\n",
       "    <tr>\n",
       "      <th>country</th>\n",
       "      <th></th>\n",
       "      <th></th>\n",
       "    </tr>\n",
       "  </thead>\n",
       "  <tbody>\n",
       "    <tr>\n",
       "      <th>Rwanda</th>\n",
       "      <td>1994</td>\n",
       "      <td>13.2</td>\n",
       "    </tr>\n",
       "  </tbody>\n",
       "</table>\n",
       "</div>"
      ],
      "text/plain": [
       "         year  life expectancy\n",
       "country                       \n",
       "Rwanda   1994             13.2"
      ]
     },
     "execution_count": 24,
     "metadata": {},
     "output_type": "execute_result"
    }
   ],
   "source": [
    "# 9. find the country and year with the lowest life expectancy\n",
    "\n",
    "mask_min_life_exp = life_df['life expectancy'] == min_life_exp\n",
    "life_df[mask_min_life_exp]"
   ]
  },
  {
   "cell_type": "code",
   "execution_count": 25,
   "id": "1c88902e",
   "metadata": {},
   "outputs": [
    {
     "data": {
      "text/plain": [
       "'Rwanda'"
      ]
     },
     "execution_count": 25,
     "metadata": {},
     "output_type": "execute_result"
    }
   ],
   "source": [
    "# Extra: country with the lowest life expectancy\n",
    "country_min_life_exp = life_df[mask_min_life_exp].index.unique()[0]\n",
    "country_min_life_exp"
   ]
  },
  {
   "cell_type": "code",
   "execution_count": 26,
   "id": "418b1182",
   "metadata": {},
   "outputs": [
    {
     "data": {
      "text/plain": [
       "[1994]"
      ]
     },
     "execution_count": 26,
     "metadata": {},
     "output_type": "execute_result"
    }
   ],
   "source": [
    "# Extra: years with the lowest life expectancy\n",
    "years_min_life_exp = life_df[mask_min_life_exp]['year'].unique().tolist()\n",
    "years_min_life_exp"
   ]
  },
  {
   "cell_type": "code",
   "execution_count": 34,
   "id": "5a689ced",
   "metadata": {},
   "outputs": [
    {
     "data": {
      "text/plain": [
       "76.4"
      ]
     },
     "execution_count": 34,
     "metadata": {},
     "output_type": "execute_result"
    }
   ],
   "source": [
    "# 10. find the 90% quantile of the life expectancy\n",
    "\n",
    "df_quantiles = life_df['life expectancy'].quantile([0.9])\n",
    "df_quantiles.loc[0.9]"
   ]
  },
  {
   "cell_type": "code",
   "execution_count": 36,
   "id": "7e90ea3f",
   "metadata": {},
   "outputs": [
    {
     "data": {
      "text/html": [
       "<div>\n",
       "<style scoped>\n",
       "    .dataframe tbody tr th:only-of-type {\n",
       "        vertical-align: middle;\n",
       "    }\n",
       "\n",
       "    .dataframe tbody tr th {\n",
       "        vertical-align: top;\n",
       "    }\n",
       "\n",
       "    .dataframe thead th {\n",
       "        text-align: right;\n",
       "    }\n",
       "</style>\n",
       "<table border=\"1\" class=\"dataframe\">\n",
       "  <thead>\n",
       "    <tr style=\"text-align: right;\">\n",
       "      <th></th>\n",
       "      <th>year</th>\n",
       "      <th>life expectancy</th>\n",
       "    </tr>\n",
       "  </thead>\n",
       "  <tbody>\n",
       "    <tr>\n",
       "      <th>count</th>\n",
       "      <td>13707.000000</td>\n",
       "      <td>13707.000000</td>\n",
       "    </tr>\n",
       "    <tr>\n",
       "      <th>mean</th>\n",
       "      <td>1983.251550</td>\n",
       "      <td>62.988833</td>\n",
       "    </tr>\n",
       "    <tr>\n",
       "      <th>std</th>\n",
       "      <td>19.364466</td>\n",
       "      <td>11.895572</td>\n",
       "    </tr>\n",
       "    <tr>\n",
       "      <th>min</th>\n",
       "      <td>1950.000000</td>\n",
       "      <td>13.200000</td>\n",
       "    </tr>\n",
       "    <tr>\n",
       "      <th>25%</th>\n",
       "      <td>1966.000000</td>\n",
       "      <td>54.815000</td>\n",
       "    </tr>\n",
       "    <tr>\n",
       "      <th>50%</th>\n",
       "      <td>1983.000000</td>\n",
       "      <td>65.570000</td>\n",
       "    </tr>\n",
       "    <tr>\n",
       "      <th>75%</th>\n",
       "      <td>2000.000000</td>\n",
       "      <td>72.230000</td>\n",
       "    </tr>\n",
       "    <tr>\n",
       "      <th>max</th>\n",
       "      <td>2016.000000</td>\n",
       "      <td>84.800000</td>\n",
       "    </tr>\n",
       "  </tbody>\n",
       "</table>\n",
       "</div>"
      ],
      "text/plain": [
       "               year  life expectancy\n",
       "count  13707.000000     13707.000000\n",
       "mean    1983.251550        62.988833\n",
       "std       19.364466        11.895572\n",
       "min     1950.000000        13.200000\n",
       "25%     1966.000000        54.815000\n",
       "50%     1983.000000        65.570000\n",
       "75%     2000.000000        72.230000\n",
       "max     2016.000000        84.800000"
      ]
     },
     "execution_count": 36,
     "metadata": {},
     "output_type": "execute_result"
    }
   ],
   "source": [
    "# 11. calculate min, max, mean and possibly other descriptors with a single line\n",
    "\n",
    "life_df.describe()"
   ]
  }
 ],
 "metadata": {
  "kernelspec": {
   "display_name": "Python 3 (ipykernel)",
   "language": "python",
   "name": "python3"
  },
  "language_info": {
   "codemirror_mode": {
    "name": "ipython",
    "version": 3
   },
   "file_extension": ".py",
   "mimetype": "text/x-python",
   "name": "python",
   "nbconvert_exporter": "python",
   "pygments_lexer": "ipython3",
   "version": "3.10.8"
  }
 },
 "nbformat": 4,
 "nbformat_minor": 5
}
