{
 "cells": [
  {
   "cell_type": "markdown",
   "id": "7faf8181",
   "metadata": {},
   "source": [
    "# WEEK 03\n",
    "# Encounter 08 - Visualization Best Practices\n",
    "# Project Challenge - Make an animated plot"
   ]
  },
  {
   "cell_type": "code",
   "execution_count": 2,
   "id": "50a8d6bd",
   "metadata": {},
   "outputs": [],
   "source": [
    "import pandas as pd\n",
    "import seaborn as sns\n",
    "import matplotlib.pyplot as plt"
   ]
  },
  {
   "cell_type": "code",
   "execution_count": 3,
   "id": "3094f186",
   "metadata": {},
   "outputs": [
    {
     "data": {
      "text/html": [
       "<div>\n",
       "<style scoped>\n",
       "    .dataframe tbody tr th:only-of-type {\n",
       "        vertical-align: middle;\n",
       "    }\n",
       "\n",
       "    .dataframe tbody tr th {\n",
       "        vertical-align: top;\n",
       "    }\n",
       "\n",
       "    .dataframe thead th {\n",
       "        text-align: right;\n",
       "    }\n",
       "</style>\n",
       "<table border=\"1\" class=\"dataframe\">\n",
       "  <thead>\n",
       "    <tr style=\"text-align: right;\">\n",
       "      <th></th>\n",
       "      <th>country</th>\n",
       "      <th>year</th>\n",
       "      <th>life expectancy</th>\n",
       "      <th>continent</th>\n",
       "      <th>population</th>\n",
       "      <th>fertility</th>\n",
       "    </tr>\n",
       "  </thead>\n",
       "  <tbody>\n",
       "    <tr>\n",
       "      <th>0</th>\n",
       "      <td>Afghanistan</td>\n",
       "      <td>1950.0</td>\n",
       "      <td>26.85</td>\n",
       "      <td>Asia</td>\n",
       "      <td>7752118.0</td>\n",
       "      <td>7.67</td>\n",
       "    </tr>\n",
       "    <tr>\n",
       "      <th>1</th>\n",
       "      <td>Afghanistan</td>\n",
       "      <td>1951.0</td>\n",
       "      <td>27.13</td>\n",
       "      <td>Asia</td>\n",
       "      <td>7839426.0</td>\n",
       "      <td>7.67</td>\n",
       "    </tr>\n",
       "    <tr>\n",
       "      <th>2</th>\n",
       "      <td>Afghanistan</td>\n",
       "      <td>1952.0</td>\n",
       "      <td>27.67</td>\n",
       "      <td>Asia</td>\n",
       "      <td>7934798.0</td>\n",
       "      <td>7.67</td>\n",
       "    </tr>\n",
       "    <tr>\n",
       "      <th>3</th>\n",
       "      <td>Afghanistan</td>\n",
       "      <td>1953.0</td>\n",
       "      <td>28.19</td>\n",
       "      <td>Asia</td>\n",
       "      <td>8038312.0</td>\n",
       "      <td>7.67</td>\n",
       "    </tr>\n",
       "    <tr>\n",
       "      <th>4</th>\n",
       "      <td>Afghanistan</td>\n",
       "      <td>1954.0</td>\n",
       "      <td>28.73</td>\n",
       "      <td>Asia</td>\n",
       "      <td>8150037.0</td>\n",
       "      <td>7.67</td>\n",
       "    </tr>\n",
       "  </tbody>\n",
       "</table>\n",
       "</div>"
      ],
      "text/plain": [
       "       country    year  life expectancy continent  population  fertility\n",
       "0  Afghanistan  1950.0            26.85      Asia   7752118.0       7.67\n",
       "1  Afghanistan  1951.0            27.13      Asia   7839426.0       7.67\n",
       "2  Afghanistan  1952.0            27.67      Asia   7934798.0       7.67\n",
       "3  Afghanistan  1953.0            28.19      Asia   8038312.0       7.67\n",
       "4  Afghanistan  1954.0            28.73      Asia   8150037.0       7.67"
      ]
     },
     "execution_count": 3,
     "metadata": {},
     "output_type": "execute_result"
    }
   ],
   "source": [
    "gapminder = pd.read_csv('../data/gapminder_total.csv')\n",
    "gapminder.head()"
   ]
  },
  {
   "cell_type": "code",
   "execution_count": 4,
   "id": "aabcfab5",
   "metadata": {},
   "outputs": [],
   "source": [
    "# converting 'year' and 'population' datatype to 'Int64'\n",
    "gapminder['year'] = gapminder['year'].astype('Int64')"
   ]
  },
  {
   "cell_type": "markdown",
   "id": "89362c32",
   "metadata": {},
   "source": [
    " "
   ]
  },
  {
   "cell_type": "code",
   "execution_count": 5,
   "id": "94a5839d",
   "metadata": {},
   "outputs": [],
   "source": [
    "### Visualize data for one particular year"
   ]
  },
  {
   "cell_type": "code",
   "execution_count": 27,
   "id": "971ef199",
   "metadata": {},
   "outputs": [],
   "source": [
    "for year in range(1960, 2016):\n",
    "    # filtering out 'year' data using boolean mask\n",
    "    gapminder_year = gapminder[gapminder['year'] == year]\n",
    "    \n",
    "    plt.figure(figsize=(8, 6))\n",
    "\n",
    "    sns.scatterplot(x='life expectancy', y='fertility', \n",
    "                    data=gapminder_year,\n",
    "                    size='population',\n",
    "                    sizes=(20, 400),\n",
    "                    hue='continent' # Color each point according to continent\n",
    "                   );\n",
    "    \n",
    "    # Rotate the x-ticks by 45 degrees\n",
    "    plt.xticks(rotation=45)\n",
    "\n",
    "    # Annotate 2 to 4 countries\n",
    "    # country with min fertility\n",
    "    year_fertility_min = gapminder_year['fertility'].min()\n",
    "    plt.annotate(gapminder_year[gapminder_year['fertility']==year_fertility_min]['country'].iloc[0], # type() is Series\n",
    "                 (gapminder_year[gapminder_year['fertility']==year_fertility_min]['life expectancy'].iloc[0]-0.50, \n",
    "                  gapminder_year[gapminder_year['fertility']==year_fertility_min]['fertility'].iloc[0]+0.25));\n",
    "\n",
    "    # country with max fertility\n",
    "    year_fertility_max = gapminder_year['fertility'].max()\n",
    "    plt.annotate(gapminder_year[gapminder_year['fertility']==year_fertility_max]['country'].iloc[0],\n",
    "                 (gapminder_year[gapminder_year['fertility']==year_fertility_max]['life expectancy'].iloc[0]-0.50, \n",
    "                  gapminder_year[gapminder_year['fertility']==year_fertility_max]['fertility'].iloc[0]+0.25));\n",
    "\n",
    "    # country with min life expectancy\n",
    "    year_life_exp_min = gapminder_year['life expectancy'].min()\n",
    "    plt.annotate(gapminder_year[gapminder_year['life expectancy']==year_life_exp_min]['country'].iloc[0],\n",
    "                 (gapminder_year[gapminder_year['life expectancy']==year_life_exp_min]['life expectancy'].iloc[0]-0.50, \n",
    "                  gapminder_year[gapminder_year['life expectancy']==year_life_exp_min]['fertility'].iloc[0]+0.25));\n",
    "\n",
    "    # country with max life expectancy\n",
    "    year_life_exp_max = gapminder_year['life expectancy'].max()\n",
    "    plt.annotate(gapminder_year[gapminder_year['life expectancy']==year_life_exp_max]['country'].iloc[0],\n",
    "                 (gapminder_year[gapminder_year['life expectancy']==year_life_exp_max]['life expectancy'].iloc[0]-0.50, \n",
    "                  gapminder_year[gapminder_year['life expectancy']==year_life_exp_max]['fertility'].iloc[0]+0.25));\n",
    "\n",
    "    # Add grid-lines\n",
    "    plt.grid()\n",
    "\n",
    "    plt.axis([0, 95, 0, 9.5])\n",
    "    plt.title(f'Life Expectancy vs Fertility Rate in {year}')\n",
    "    plt.ylabel('Fertility')\n",
    "    plt.xlabel('Life Expectancy')\n",
    "\n",
    "    # saving the image as png\n",
    "    plt.savefig(f'../images/plot_fig_{year}.png')\n",
    "\n",
    "    # closing current plot\n",
    "    plt.close()\n",
    "    \n",
    "# end of for-loop\n"
   ]
  },
  {
   "cell_type": "code",
   "execution_count": 29,
   "id": "4d142b63",
   "metadata": {},
   "outputs": [
    {
     "name": "stdout",
     "output_type": "stream",
     "text": [
      "Collecting imageio\n",
      "  Downloading imageio-2.25.0-py3-none-any.whl (3.4 MB)\n",
      "     ---------------------------------------- 3.4/3.4 MB 6.3 MB/s eta 0:00:00\n",
      "Requirement already satisfied: pillow>=8.3.2 in c:\\users\\anast\\miniconda3\\lib\\site-packages (from imageio) (9.4.0)\n",
      "Requirement already satisfied: numpy in c:\\users\\anast\\miniconda3\\lib\\site-packages (from imageio) (1.24.1)\n",
      "Installing collected packages: imageio\n",
      "Successfully installed imageio-2.25.0\n"
     ]
    }
   ],
   "source": [
    "!pip install imageio"
   ]
  },
  {
   "cell_type": "code",
   "execution_count": 33,
   "id": "46367ce6",
   "metadata": {},
   "outputs": [
    {
     "name": "stderr",
     "output_type": "stream",
     "text": [
      "C:\\Users\\anast\\AppData\\Local\\Temp\\ipykernel_25940\\1849685175.py:7: DeprecationWarning: Starting with ImageIO v3 the behavior of this function will switch to that of iio.v3.imread. To keep the current behavior (and make this warning disappear) use `import imageio.v2 as imageio` or call `imageio.v2.imread` directly.\n",
      "  images.append(imageio.imread(filename))\n"
     ]
    }
   ],
   "source": [
    "import imageio\n",
    "\n",
    "images = []\n",
    "\n",
    "for year in range(1960, 2016):\n",
    "    filename = f'../images/plot_fig_{year}.png'\n",
    "    images.append(imageio.imread(filename))\n",
    "\n",
    "imageio.mimsave('../images/my_week03.gif', images, fps=0.5)\n"
   ]
  },
  {
   "cell_type": "code",
   "execution_count": null,
   "id": "d71963da",
   "metadata": {},
   "outputs": [],
   "source": []
  },
  {
   "cell_type": "code",
   "execution_count": null,
   "id": "451bd691",
   "metadata": {},
   "outputs": [],
   "source": []
  },
  {
   "cell_type": "code",
   "execution_count": null,
   "id": "61299d70",
   "metadata": {},
   "outputs": [],
   "source": []
  },
  {
   "cell_type": "code",
   "execution_count": 17,
   "id": "5ae9ee94",
   "metadata": {},
   "outputs": [
    {
     "data": {
      "text/plain": [
       "1536"
      ]
     },
     "execution_count": 17,
     "metadata": {},
     "output_type": "execute_result"
    }
   ],
   "source": [
    "# DEBUG for a problemm year\n",
    "\n",
    "gapminder_year = gapminder[gapminder['year'] == 1981]\n",
    "gapminder_year.size"
   ]
  },
  {
   "cell_type": "code",
   "execution_count": 25,
   "id": "4fa69cd6",
   "metadata": {},
   "outputs": [
    {
     "data": {
      "text/plain": [
       "[2309    Channel Islands\n",
       " 3180            Denmark\n",
       " Name: country, dtype: object,\n",
       " 'Yemen',\n",
       " 'Cambodia',\n",
       " 'Iceland']"
      ]
     },
     "execution_count": 25,
     "metadata": {},
     "output_type": "execute_result"
    }
   ],
   "source": [
    "v1 = gapminder_year[gapminder_year['fertility']==gapminder_year['fertility'].min()]['country']\n",
    "v2 = gapminder_year[gapminder_year['fertility']==gapminder_year['fertility'].max()]['country'].iloc[0]\n",
    "\n",
    "v3 = gapminder_year[gapminder_year['life expectancy']==gapminder_year['life expectancy'].min()]['country'].item()\n",
    "v4 = gapminder_year[gapminder_year['life expectancy']==gapminder_year['life expectancy'].max()]['country'].item()\n",
    "\n",
    "lst = [v1, v2, v3, v4]\n",
    "lst"
   ]
  },
  {
   "cell_type": "code",
   "execution_count": null,
   "id": "5e0171cf",
   "metadata": {},
   "outputs": [],
   "source": []
  }
 ],
 "metadata": {
  "kernelspec": {
   "display_name": "Python 3 (ipykernel)",
   "language": "python",
   "name": "python3"
  },
  "language_info": {
   "codemirror_mode": {
    "name": "ipython",
    "version": 3
   },
   "file_extension": ".py",
   "mimetype": "text/x-python",
   "name": "python",
   "nbconvert_exporter": "python",
   "pygments_lexer": "ipython3",
   "version": "3.10.8"
  }
 },
 "nbformat": 4,
 "nbformat_minor": 5
}
