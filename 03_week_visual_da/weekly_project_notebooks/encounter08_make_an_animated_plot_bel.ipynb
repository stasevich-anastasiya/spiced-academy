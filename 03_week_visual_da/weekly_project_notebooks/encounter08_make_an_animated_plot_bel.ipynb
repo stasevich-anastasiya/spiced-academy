{
 "cells": [
  {
   "cell_type": "markdown",
   "id": "7faf8181",
   "metadata": {},
   "source": [
    "# WEEK 03\n",
    "# Encounter 08 - Visualization Best Practices\n",
    "# Project Challenge - Make an animated plot\n",
    "\n",
    "# BELARUS"
   ]
  },
  {
   "cell_type": "code",
   "execution_count": 6,
   "id": "50a8d6bd",
   "metadata": {},
   "outputs": [],
   "source": [
    "import pandas as pd\n",
    "import seaborn as sns\n",
    "import matplotlib.pyplot as plt"
   ]
  },
  {
   "cell_type": "code",
   "execution_count": 7,
   "id": "3094f186",
   "metadata": {},
   "outputs": [
    {
     "data": {
      "text/html": [
       "<div>\n",
       "<style scoped>\n",
       "    .dataframe tbody tr th:only-of-type {\n",
       "        vertical-align: middle;\n",
       "    }\n",
       "\n",
       "    .dataframe tbody tr th {\n",
       "        vertical-align: top;\n",
       "    }\n",
       "\n",
       "    .dataframe thead th {\n",
       "        text-align: right;\n",
       "    }\n",
       "</style>\n",
       "<table border=\"1\" class=\"dataframe\">\n",
       "  <thead>\n",
       "    <tr style=\"text-align: right;\">\n",
       "      <th></th>\n",
       "      <th>country</th>\n",
       "      <th>year</th>\n",
       "      <th>life expectancy</th>\n",
       "      <th>continent</th>\n",
       "      <th>population</th>\n",
       "      <th>fertility</th>\n",
       "    </tr>\n",
       "  </thead>\n",
       "  <tbody>\n",
       "    <tr>\n",
       "      <th>0</th>\n",
       "      <td>Afghanistan</td>\n",
       "      <td>1950.0</td>\n",
       "      <td>26.85</td>\n",
       "      <td>Asia</td>\n",
       "      <td>7752118.0</td>\n",
       "      <td>7.67</td>\n",
       "    </tr>\n",
       "    <tr>\n",
       "      <th>1</th>\n",
       "      <td>Afghanistan</td>\n",
       "      <td>1951.0</td>\n",
       "      <td>27.13</td>\n",
       "      <td>Asia</td>\n",
       "      <td>7839426.0</td>\n",
       "      <td>7.67</td>\n",
       "    </tr>\n",
       "    <tr>\n",
       "      <th>2</th>\n",
       "      <td>Afghanistan</td>\n",
       "      <td>1952.0</td>\n",
       "      <td>27.67</td>\n",
       "      <td>Asia</td>\n",
       "      <td>7934798.0</td>\n",
       "      <td>7.67</td>\n",
       "    </tr>\n",
       "    <tr>\n",
       "      <th>3</th>\n",
       "      <td>Afghanistan</td>\n",
       "      <td>1953.0</td>\n",
       "      <td>28.19</td>\n",
       "      <td>Asia</td>\n",
       "      <td>8038312.0</td>\n",
       "      <td>7.67</td>\n",
       "    </tr>\n",
       "    <tr>\n",
       "      <th>4</th>\n",
       "      <td>Afghanistan</td>\n",
       "      <td>1954.0</td>\n",
       "      <td>28.73</td>\n",
       "      <td>Asia</td>\n",
       "      <td>8150037.0</td>\n",
       "      <td>7.67</td>\n",
       "    </tr>\n",
       "  </tbody>\n",
       "</table>\n",
       "</div>"
      ],
      "text/plain": [
       "       country    year  life expectancy continent  population  fertility\n",
       "0  Afghanistan  1950.0            26.85      Asia   7752118.0       7.67\n",
       "1  Afghanistan  1951.0            27.13      Asia   7839426.0       7.67\n",
       "2  Afghanistan  1952.0            27.67      Asia   7934798.0       7.67\n",
       "3  Afghanistan  1953.0            28.19      Asia   8038312.0       7.67\n",
       "4  Afghanistan  1954.0            28.73      Asia   8150037.0       7.67"
      ]
     },
     "execution_count": 7,
     "metadata": {},
     "output_type": "execute_result"
    }
   ],
   "source": [
    "gapminder = pd.read_csv('../data/gapminder_total.csv')\n",
    "gapminder.head()"
   ]
  },
  {
   "cell_type": "code",
   "execution_count": 8,
   "id": "aabcfab5",
   "metadata": {},
   "outputs": [],
   "source": [
    "# converting 'year' and 'population' datatype to 'Int64'\n",
    "gapminder['year'] = gapminder['year'].astype('Int64')\n",
    "\n",
    "#converting population to mlns\n",
    "gapminder['population [mln]'] = gapminder['population']/1_000_000"
   ]
  },
  {
   "cell_type": "code",
   "execution_count": 9,
   "id": "dae0723d",
   "metadata": {},
   "outputs": [
    {
     "data": {
      "text/html": [
       "<div>\n",
       "<style scoped>\n",
       "    .dataframe tbody tr th:only-of-type {\n",
       "        vertical-align: middle;\n",
       "    }\n",
       "\n",
       "    .dataframe tbody tr th {\n",
       "        vertical-align: top;\n",
       "    }\n",
       "\n",
       "    .dataframe thead th {\n",
       "        text-align: right;\n",
       "    }\n",
       "</style>\n",
       "<table border=\"1\" class=\"dataframe\">\n",
       "  <thead>\n",
       "    <tr style=\"text-align: right;\">\n",
       "      <th></th>\n",
       "      <th>country</th>\n",
       "      <th>year</th>\n",
       "      <th>life expectancy</th>\n",
       "      <th>continent</th>\n",
       "      <th>population</th>\n",
       "      <th>fertility</th>\n",
       "      <th>population [mln]</th>\n",
       "    </tr>\n",
       "  </thead>\n",
       "  <tbody>\n",
       "    <tr>\n",
       "      <th>0</th>\n",
       "      <td>Afghanistan</td>\n",
       "      <td>1950</td>\n",
       "      <td>26.85</td>\n",
       "      <td>Asia</td>\n",
       "      <td>7752118.0</td>\n",
       "      <td>7.67</td>\n",
       "      <td>7.752118</td>\n",
       "    </tr>\n",
       "    <tr>\n",
       "      <th>1</th>\n",
       "      <td>Afghanistan</td>\n",
       "      <td>1951</td>\n",
       "      <td>27.13</td>\n",
       "      <td>Asia</td>\n",
       "      <td>7839426.0</td>\n",
       "      <td>7.67</td>\n",
       "      <td>7.839426</td>\n",
       "    </tr>\n",
       "    <tr>\n",
       "      <th>2</th>\n",
       "      <td>Afghanistan</td>\n",
       "      <td>1952</td>\n",
       "      <td>27.67</td>\n",
       "      <td>Asia</td>\n",
       "      <td>7934798.0</td>\n",
       "      <td>7.67</td>\n",
       "      <td>7.934798</td>\n",
       "    </tr>\n",
       "    <tr>\n",
       "      <th>3</th>\n",
       "      <td>Afghanistan</td>\n",
       "      <td>1953</td>\n",
       "      <td>28.19</td>\n",
       "      <td>Asia</td>\n",
       "      <td>8038312.0</td>\n",
       "      <td>7.67</td>\n",
       "      <td>8.038312</td>\n",
       "    </tr>\n",
       "    <tr>\n",
       "      <th>4</th>\n",
       "      <td>Afghanistan</td>\n",
       "      <td>1954</td>\n",
       "      <td>28.73</td>\n",
       "      <td>Asia</td>\n",
       "      <td>8150037.0</td>\n",
       "      <td>7.67</td>\n",
       "      <td>8.150037</td>\n",
       "    </tr>\n",
       "  </tbody>\n",
       "</table>\n",
       "</div>"
      ],
      "text/plain": [
       "       country  year  life expectancy continent  population  fertility  \\\n",
       "0  Afghanistan  1950            26.85      Asia   7752118.0       7.67   \n",
       "1  Afghanistan  1951            27.13      Asia   7839426.0       7.67   \n",
       "2  Afghanistan  1952            27.67      Asia   7934798.0       7.67   \n",
       "3  Afghanistan  1953            28.19      Asia   8038312.0       7.67   \n",
       "4  Afghanistan  1954            28.73      Asia   8150037.0       7.67   \n",
       "\n",
       "   population [mln]  \n",
       "0          7.752118  \n",
       "1          7.839426  \n",
       "2          7.934798  \n",
       "3          8.038312  \n",
       "4          8.150037  "
      ]
     },
     "execution_count": 9,
     "metadata": {},
     "output_type": "execute_result"
    }
   ],
   "source": [
    "gapminder.head()"
   ]
  },
  {
   "cell_type": "markdown",
   "id": "89362c32",
   "metadata": {},
   "source": [
    " "
   ]
  },
  {
   "cell_type": "code",
   "execution_count": 10,
   "id": "94a5839d",
   "metadata": {},
   "outputs": [],
   "source": [
    "### Visualize data for one particular year"
   ]
  },
  {
   "cell_type": "code",
   "execution_count": 11,
   "id": "971ef199",
   "metadata": {},
   "outputs": [],
   "source": [
    "for year in range(1960, 2016):\n",
    "    # filtering out 'year' data using boolean mask\n",
    "    gapminder_year = gapminder[gapminder['year'] == year]\n",
    "    \n",
    "    plt.figure(figsize=(8, 6))\n",
    "    \n",
    "    sns.scatterplot(x='life expectancy', y='fertility', \n",
    "                    data=gapminder_year,\n",
    "                    size='population [mln]',\n",
    "                    sizes=(20, 400),\n",
    "                    palette='rocket',\n",
    "                    hue='continent' # Color each point according to continent\n",
    "                   );\n",
    "    \n",
    "    # Rotate the x-ticks by 45 degrees\n",
    "    plt.xticks(rotation=45)\n",
    "\n",
    "    # Annotate Belarus\n",
    "    plt.annotate('Belarus', # type() is Series\n",
    "                 (gapminder_year[gapminder_year['country']=='Belarus']['life expectancy'].iloc[0]-0.50, \n",
    "                  gapminder_year[gapminder_year['country']=='Belarus']['fertility'].iloc[0]+0.25));\n",
    "\n",
    "    plt.annotate('Germany', # type() is Series\n",
    "                 (gapminder_year[gapminder_year['country']=='Germany']['life expectancy'].iloc[0]-0.50, \n",
    "                  gapminder_year[gapminder_year['country']=='Germany']['fertility'].iloc[0]+0.25));\n",
    "\n",
    "\n",
    "    # Add grid-lines\n",
    "    plt.grid()\n",
    "\n",
    "    plt.axis([0, 95, 0, 9.5])\n",
    "    plt.title(f'Life Expectancy vs Fertility Rate in {year}')\n",
    "    plt.ylabel('Fertility')\n",
    "    plt.xlabel('Life Expectancy')\n",
    "\n",
    "    # saving the image as png\n",
    "    plt.savefig(f'../images_bel/plot_fig_{year}.png')\n",
    "\n",
    "    # closing current plot\n",
    "    plt.close()\n",
    "    \n",
    "# end of for-loop\n"
   ]
  },
  {
   "cell_type": "code",
   "execution_count": 12,
   "id": "4d142b63",
   "metadata": {},
   "outputs": [
    {
     "name": "stdout",
     "output_type": "stream",
     "text": [
      "Requirement already satisfied: imageio in c:\\users\\anast\\miniconda3\\lib\\site-packages (2.25.0)\n",
      "Requirement already satisfied: pillow>=8.3.2 in c:\\users\\anast\\miniconda3\\lib\\site-packages (from imageio) (9.4.0)\n",
      "Requirement already satisfied: numpy in c:\\users\\anast\\miniconda3\\lib\\site-packages (from imageio) (1.24.1)\n"
     ]
    }
   ],
   "source": [
    "!pip install imageio"
   ]
  },
  {
   "cell_type": "code",
   "execution_count": 16,
   "id": "05e209ca",
   "metadata": {},
   "outputs": [
    {
     "name": "stderr",
     "output_type": "stream",
     "text": [
      "C:\\Users\\anast\\AppData\\Local\\Temp\\ipykernel_13088\\2053934604.py:7: DeprecationWarning: Starting with ImageIO v3 the behavior of this function will switch to that of iio.v3.imread. To keep the current behavior (and make this warning disappear) use `import imageio.v2 as imageio` or call `imageio.v2.imread` directly.\n",
      "  images.append(imageio.imread(filename))\n"
     ]
    }
   ],
   "source": [
    "import imageio\n",
    "\n",
    "images = []\n",
    "\n",
    "for year in range(1960, 2016):\n",
    "    filename = f'../images_bel/plot_fig_{year}.png'\n",
    "    images.append(imageio.imread(filename))\n",
    "\n",
    "imageio.mimsave('../images_bel/my_week03.gif', images, fps=1)\n"
   ]
  },
  {
   "cell_type": "code",
   "execution_count": null,
   "id": "ea80cfd1",
   "metadata": {},
   "outputs": [],
   "source": []
  },
  {
   "cell_type": "code",
   "execution_count": null,
   "id": "b5092c46",
   "metadata": {},
   "outputs": [],
   "source": []
  },
  {
   "cell_type": "code",
   "execution_count": null,
   "id": "27b3cb19",
   "metadata": {},
   "outputs": [],
   "source": []
  },
  {
   "cell_type": "code",
   "execution_count": 14,
   "id": "193d0a7c",
   "metadata": {},
   "outputs": [
    {
     "data": {
      "text/plain": [
       "1792"
      ]
     },
     "execution_count": 14,
     "metadata": {},
     "output_type": "execute_result"
    }
   ],
   "source": [
    "# DEBUG for a problemm year\n",
    "\n",
    "gapminder_year = gapminder[gapminder['year'] == 1981]\n",
    "gapminder_year.size"
   ]
  },
  {
   "cell_type": "code",
   "execution_count": 15,
   "id": "6035d629",
   "metadata": {},
   "outputs": [
    {
     "data": {
      "text/plain": [
       "[2309    Channel Islands\n",
       " 3180            Denmark\n",
       " Name: country, dtype: object,\n",
       " 'Yemen',\n",
       " 'Cambodia',\n",
       " 'Iceland']"
      ]
     },
     "execution_count": 15,
     "metadata": {},
     "output_type": "execute_result"
    }
   ],
   "source": [
    "v1 = gapminder_year[gapminder_year['fertility']==gapminder_year['fertility'].min()]['country']\n",
    "v2 = gapminder_year[gapminder_year['fertility']==gapminder_year['fertility'].max()]['country'].iloc[0]\n",
    "\n",
    "v3 = gapminder_year[gapminder_year['life expectancy']==gapminder_year['life expectancy'].min()]['country'].item()\n",
    "v4 = gapminder_year[gapminder_year['life expectancy']==gapminder_year['life expectancy'].max()]['country'].item()\n",
    "\n",
    "lst = [v1, v2, v3, v4]\n",
    "lst"
   ]
  },
  {
   "cell_type": "code",
   "execution_count": null,
   "id": "b25d4ca8",
   "metadata": {},
   "outputs": [],
   "source": []
  }
 ],
 "metadata": {
  "kernelspec": {
   "display_name": "Python 3 (ipykernel)",
   "language": "python",
   "name": "python3"
  },
  "language_info": {
   "codemirror_mode": {
    "name": "ipython",
    "version": 3
   },
   "file_extension": ".py",
   "mimetype": "text/x-python",
   "name": "python",
   "nbconvert_exporter": "python",
   "pygments_lexer": "ipython3",
   "version": "3.10.8"
  }
 },
 "nbformat": 4,
 "nbformat_minor": 5
}
