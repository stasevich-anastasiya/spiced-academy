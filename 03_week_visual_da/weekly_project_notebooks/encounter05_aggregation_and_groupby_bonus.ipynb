{
 "cells": [
  {
   "cell_type": "markdown",
   "id": "6aa0ca5c",
   "metadata": {},
   "source": [
    "# WEEK 03\n",
    "# Encounter 05 - Aggregation and Groupby\n",
    "# Project Challenge - BONUS"
   ]
  },
  {
   "cell_type": "markdown",
   "id": "225207bf",
   "metadata": {},
   "source": [
    "## Task Description\n",
    "\n",
    " Using the gapminder_total dataset solve the following tasks with pandas one-liners:\n",
    "    \n",
    " BONUS\n",
    "\n",
    " 8. What is the highest population a continent ever had?\n",
    "    **Hint:** group by multiple columns\n",
    "\n",
    " 9. Which continent had that population and in which year?\n",
    "    **Hint:** group by multiple columns and filter for the result from `#6`\n",
    "\n",
    " 10. Plot a bar plot comparison of life_expectancy, fertility, population average per continent\n",
    "     **Hint:** for a quick and dirty graph use Pandas ploting ability\n",
    "     **Hint:** use `log=True` to make the visual more friendly to the eyes"
   ]
  },
  {
   "cell_type": "code",
   "execution_count": 1,
   "id": "a52cd947",
   "metadata": {},
   "outputs": [],
   "source": [
    "import pandas as pd\n",
    "import matplotlib.pyplot as plt"
   ]
  },
  {
   "cell_type": "code",
   "execution_count": 2,
   "id": "98ae7f11",
   "metadata": {},
   "outputs": [
    {
     "data": {
      "text/html": [
       "<div>\n",
       "<style scoped>\n",
       "    .dataframe tbody tr th:only-of-type {\n",
       "        vertical-align: middle;\n",
       "    }\n",
       "\n",
       "    .dataframe tbody tr th {\n",
       "        vertical-align: top;\n",
       "    }\n",
       "\n",
       "    .dataframe thead th {\n",
       "        text-align: right;\n",
       "    }\n",
       "</style>\n",
       "<table border=\"1\" class=\"dataframe\">\n",
       "  <thead>\n",
       "    <tr style=\"text-align: right;\">\n",
       "      <th></th>\n",
       "      <th>country</th>\n",
       "      <th>year</th>\n",
       "      <th>life expectancy</th>\n",
       "      <th>continent</th>\n",
       "      <th>population</th>\n",
       "      <th>fertility</th>\n",
       "    </tr>\n",
       "  </thead>\n",
       "  <tbody>\n",
       "    <tr>\n",
       "      <th>0</th>\n",
       "      <td>Afghanistan</td>\n",
       "      <td>1950</td>\n",
       "      <td>26.85</td>\n",
       "      <td>Asia</td>\n",
       "      <td>7752118</td>\n",
       "      <td>7.67</td>\n",
       "    </tr>\n",
       "    <tr>\n",
       "      <th>1</th>\n",
       "      <td>Afghanistan</td>\n",
       "      <td>1951</td>\n",
       "      <td>27.13</td>\n",
       "      <td>Asia</td>\n",
       "      <td>7839426</td>\n",
       "      <td>7.67</td>\n",
       "    </tr>\n",
       "    <tr>\n",
       "      <th>2</th>\n",
       "      <td>Afghanistan</td>\n",
       "      <td>1952</td>\n",
       "      <td>27.67</td>\n",
       "      <td>Asia</td>\n",
       "      <td>7934798</td>\n",
       "      <td>7.67</td>\n",
       "    </tr>\n",
       "    <tr>\n",
       "      <th>3</th>\n",
       "      <td>Afghanistan</td>\n",
       "      <td>1953</td>\n",
       "      <td>28.19</td>\n",
       "      <td>Asia</td>\n",
       "      <td>8038312</td>\n",
       "      <td>7.67</td>\n",
       "    </tr>\n",
       "    <tr>\n",
       "      <th>4</th>\n",
       "      <td>Afghanistan</td>\n",
       "      <td>1954</td>\n",
       "      <td>28.73</td>\n",
       "      <td>Asia</td>\n",
       "      <td>8150037</td>\n",
       "      <td>7.67</td>\n",
       "    </tr>\n",
       "    <tr>\n",
       "      <th>...</th>\n",
       "      <td>...</td>\n",
       "      <td>...</td>\n",
       "      <td>...</td>\n",
       "      <td>...</td>\n",
       "      <td>...</td>\n",
       "      <td>...</td>\n",
       "    </tr>\n",
       "    <tr>\n",
       "      <th>16970</th>\n",
       "      <td>Turks and Caicos Islands</td>\n",
       "      <td>2015</td>\n",
       "      <td>NaN</td>\n",
       "      <td>NaN</td>\n",
       "      <td>34339</td>\n",
       "      <td>NaN</td>\n",
       "    </tr>\n",
       "    <tr>\n",
       "      <th>16971</th>\n",
       "      <td>Tuvalu</td>\n",
       "      <td>2015</td>\n",
       "      <td>NaN</td>\n",
       "      <td>NaN</td>\n",
       "      <td>9916</td>\n",
       "      <td>NaN</td>\n",
       "    </tr>\n",
       "    <tr>\n",
       "      <th>16972</th>\n",
       "      <td>Wallis et Futuna</td>\n",
       "      <td>2015</td>\n",
       "      <td>NaN</td>\n",
       "      <td>NaN</td>\n",
       "      <td>13151</td>\n",
       "      <td>NaN</td>\n",
       "    </tr>\n",
       "    <tr>\n",
       "      <th>16973</th>\n",
       "      <td>Curaçao</td>\n",
       "      <td>2015</td>\n",
       "      <td>NaN</td>\n",
       "      <td>NaN</td>\n",
       "      <td>157203</td>\n",
       "      <td>NaN</td>\n",
       "    </tr>\n",
       "    <tr>\n",
       "      <th>16974</th>\n",
       "      <td>Sint Maarten (Dutch part)</td>\n",
       "      <td>2015</td>\n",
       "      <td>NaN</td>\n",
       "      <td>NaN</td>\n",
       "      <td>38745</td>\n",
       "      <td>NaN</td>\n",
       "    </tr>\n",
       "  </tbody>\n",
       "</table>\n",
       "<p>16975 rows × 6 columns</p>\n",
       "</div>"
      ],
      "text/plain": [
       "                         country  year  life expectancy continent  population  \\\n",
       "0                    Afghanistan  1950            26.85      Asia     7752118   \n",
       "1                    Afghanistan  1951            27.13      Asia     7839426   \n",
       "2                    Afghanistan  1952            27.67      Asia     7934798   \n",
       "3                    Afghanistan  1953            28.19      Asia     8038312   \n",
       "4                    Afghanistan  1954            28.73      Asia     8150037   \n",
       "...                          ...   ...              ...       ...         ...   \n",
       "16970   Turks and Caicos Islands  2015              NaN       NaN       34339   \n",
       "16971                     Tuvalu  2015              NaN       NaN        9916   \n",
       "16972           Wallis et Futuna  2015              NaN       NaN       13151   \n",
       "16973                    Curaçao  2015              NaN       NaN      157203   \n",
       "16974  Sint Maarten (Dutch part)  2015              NaN       NaN       38745   \n",
       "\n",
       "       fertility  \n",
       "0           7.67  \n",
       "1           7.67  \n",
       "2           7.67  \n",
       "3           7.67  \n",
       "4           7.67  \n",
       "...          ...  \n",
       "16970        NaN  \n",
       "16971        NaN  \n",
       "16972        NaN  \n",
       "16973        NaN  \n",
       "16974        NaN  \n",
       "\n",
       "[16975 rows x 6 columns]"
      ]
     },
     "execution_count": 2,
     "metadata": {},
     "output_type": "execute_result"
    }
   ],
   "source": [
    "# read in data\n",
    "df = pd.read_csv('../data/gapminder_total.csv')\n",
    "\n",
    "# converting 'year' and 'population' datatype to 'Int64'\n",
    "df['year'] = df['year'].astype('Int64')\n",
    "df['population'] = df['population'].astype('Int64')\n",
    "\n",
    "df"
   ]
  },
  {
   "cell_type": "code",
   "execution_count": 3,
   "id": "1d621b90",
   "metadata": {
    "scrolled": true
   },
   "outputs": [
    {
     "data": {
      "text/html": [
       "<div>\n",
       "<style scoped>\n",
       "    .dataframe tbody tr th:only-of-type {\n",
       "        vertical-align: middle;\n",
       "    }\n",
       "\n",
       "    .dataframe tbody tr th {\n",
       "        vertical-align: top;\n",
       "    }\n",
       "\n",
       "    .dataframe thead th {\n",
       "        text-align: right;\n",
       "    }\n",
       "</style>\n",
       "<table border=\"1\" class=\"dataframe\">\n",
       "  <thead>\n",
       "    <tr style=\"text-align: right;\">\n",
       "      <th></th>\n",
       "      <th></th>\n",
       "      <th>population</th>\n",
       "    </tr>\n",
       "    <tr>\n",
       "      <th>year</th>\n",
       "      <th>continent</th>\n",
       "      <th></th>\n",
       "    </tr>\n",
       "  </thead>\n",
       "  <tbody>\n",
       "    <tr>\n",
       "      <th rowspan=\"5\" valign=\"top\">1950</th>\n",
       "      <th>Africa</th>\n",
       "      <td>208713758</td>\n",
       "    </tr>\n",
       "    <tr>\n",
       "      <th>Asia</th>\n",
       "      <td>1353699410</td>\n",
       "    </tr>\n",
       "    <tr>\n",
       "      <th>Australia and Oceania</th>\n",
       "      <td>12382390</td>\n",
       "    </tr>\n",
       "    <tr>\n",
       "      <th>Europe</th>\n",
       "      <td>449606823</td>\n",
       "    </tr>\n",
       "    <tr>\n",
       "      <th>North America</th>\n",
       "      <td>223546368</td>\n",
       "    </tr>\n",
       "    <tr>\n",
       "      <th>...</th>\n",
       "      <th>...</th>\n",
       "      <td>...</td>\n",
       "    </tr>\n",
       "    <tr>\n",
       "      <th rowspan=\"5\" valign=\"top\">2016</th>\n",
       "      <th>Asia</th>\n",
       "      <td>0</td>\n",
       "    </tr>\n",
       "    <tr>\n",
       "      <th>Australia and Oceania</th>\n",
       "      <td>0</td>\n",
       "    </tr>\n",
       "    <tr>\n",
       "      <th>Europe</th>\n",
       "      <td>0</td>\n",
       "    </tr>\n",
       "    <tr>\n",
       "      <th>North America</th>\n",
       "      <td>0</td>\n",
       "    </tr>\n",
       "    <tr>\n",
       "      <th>South America</th>\n",
       "      <td>0</td>\n",
       "    </tr>\n",
       "  </tbody>\n",
       "</table>\n",
       "<p>402 rows × 1 columns</p>\n",
       "</div>"
      ],
      "text/plain": [
       "                            population\n",
       "year continent                        \n",
       "1950 Africa                  208713758\n",
       "     Asia                   1353699410\n",
       "     Australia and Oceania    12382390\n",
       "     Europe                  449606823\n",
       "     North America           223546368\n",
       "...                                ...\n",
       "2016 Asia                            0\n",
       "     Australia and Oceania           0\n",
       "     Europe                          0\n",
       "     North America                   0\n",
       "     South America                   0\n",
       "\n",
       "[402 rows x 1 columns]"
      ]
     },
     "execution_count": 3,
     "metadata": {},
     "output_type": "execute_result"
    }
   ],
   "source": [
    "# 8. What is the highest population a continent ever had?\n",
    "# Hint: group by multiple columns\n",
    "\n",
    "# grouping data by ('year','continent') and getting continent_population per year\n",
    "df_continents = df.groupby(['year','continent'])[['population']].agg('sum')\n",
    "df_continents"
   ]
  },
  {
   "cell_type": "code",
   "execution_count": 4,
   "id": "0754d7c8",
   "metadata": {},
   "outputs": [
    {
     "data": {
      "text/plain": [
       "population    4271610225\n",
       "dtype: int64"
      ]
     },
     "execution_count": 4,
     "metadata": {},
     "output_type": "execute_result"
    }
   ],
   "source": [
    "df_continents[['population']].max()"
   ]
  },
  {
   "cell_type": "code",
   "execution_count": 5,
   "id": "25516905",
   "metadata": {},
   "outputs": [],
   "source": [
    "# getting back index as columns\n",
    "\n",
    "# df_continents.reset_index(inplace=True)\n",
    "# df_continents"
   ]
  },
  {
   "cell_type": "code",
   "execution_count": 6,
   "id": "89a042e7",
   "metadata": {},
   "outputs": [
    {
     "data": {
      "text/plain": [
       "(2015, 'Asia')"
      ]
     },
     "execution_count": 6,
     "metadata": {},
     "output_type": "execute_result"
    }
   ],
   "source": [
    "# 9. Which continent had that population and in which year?\n",
    "# Hint: group by multiple columns and filter for the result from #6\n",
    "\n",
    "df_continents['population'].idxmax()"
   ]
  },
  {
   "cell_type": "code",
   "execution_count": 7,
   "id": "f32e1675",
   "metadata": {},
   "outputs": [
    {
     "name": "stderr",
     "output_type": "stream",
     "text": [
      "C:\\Users\\anast\\AppData\\Local\\Temp\\ipykernel_26612\\2426503131.py:5: FutureWarning: The default value of numeric_only in DataFrameGroupBy.mean is deprecated. In a future version, numeric_only will default to False. Either specify numeric_only or select only columns which should be valid for the function.\n",
      "  df_to_plot = df.groupby(['continent']).agg('mean')\n"
     ]
    },
    {
     "data": {
      "text/html": [
       "<div>\n",
       "<style scoped>\n",
       "    .dataframe tbody tr th:only-of-type {\n",
       "        vertical-align: middle;\n",
       "    }\n",
       "\n",
       "    .dataframe tbody tr th {\n",
       "        vertical-align: top;\n",
       "    }\n",
       "\n",
       "    .dataframe thead th {\n",
       "        text-align: right;\n",
       "    }\n",
       "</style>\n",
       "<table border=\"1\" class=\"dataframe\">\n",
       "  <thead>\n",
       "    <tr style=\"text-align: right;\">\n",
       "      <th></th>\n",
       "      <th>year</th>\n",
       "      <th>life expectancy</th>\n",
       "      <th>population</th>\n",
       "      <th>fertility</th>\n",
       "    </tr>\n",
       "    <tr>\n",
       "      <th>continent</th>\n",
       "      <th></th>\n",
       "      <th></th>\n",
       "      <th></th>\n",
       "      <th></th>\n",
       "    </tr>\n",
       "  </thead>\n",
       "  <tbody>\n",
       "    <tr>\n",
       "      <th>Africa</th>\n",
       "      <td>1983.0</td>\n",
       "      <td>52.376773</td>\n",
       "      <td>10460380.362121</td>\n",
       "      <td>5.931345</td>\n",
       "    </tr>\n",
       "    <tr>\n",
       "      <th>Asia</th>\n",
       "      <td>1983.0</td>\n",
       "      <td>62.411267</td>\n",
       "      <td>69909487.432401</td>\n",
       "      <td>4.673862</td>\n",
       "    </tr>\n",
       "    <tr>\n",
       "      <th>Australia and Oceania</th>\n",
       "      <td>1983.857143</td>\n",
       "      <td>62.257492</td>\n",
       "      <td>2546718.937097</td>\n",
       "      <td>4.682172</td>\n",
       "    </tr>\n",
       "    <tr>\n",
       "      <th>Europe</th>\n",
       "      <td>1983.199483</td>\n",
       "      <td>72.485936</td>\n",
       "      <td>13664236.609152</td>\n",
       "      <td>2.169754</td>\n",
       "    </tr>\n",
       "    <tr>\n",
       "      <th>North America</th>\n",
       "      <td>1983.415385</td>\n",
       "      <td>67.078769</td>\n",
       "      <td>20100860.015625</td>\n",
       "      <td>4.002329</td>\n",
       "    </tr>\n",
       "    <tr>\n",
       "      <th>South America</th>\n",
       "      <td>1983.0</td>\n",
       "      <td>66.211604</td>\n",
       "      <td>21686601.473485</td>\n",
       "      <td>4.077235</td>\n",
       "    </tr>\n",
       "  </tbody>\n",
       "</table>\n",
       "</div>"
      ],
      "text/plain": [
       "                              year  life expectancy       population  \\\n",
       "continent                                                              \n",
       "Africa                      1983.0        52.376773  10460380.362121   \n",
       "Asia                        1983.0        62.411267  69909487.432401   \n",
       "Australia and Oceania  1983.857143        62.257492   2546718.937097   \n",
       "Europe                 1983.199483        72.485936  13664236.609152   \n",
       "North America          1983.415385        67.078769  20100860.015625   \n",
       "South America               1983.0        66.211604  21686601.473485   \n",
       "\n",
       "                       fertility  \n",
       "continent                         \n",
       "Africa                  5.931345  \n",
       "Asia                    4.673862  \n",
       "Australia and Oceania   4.682172  \n",
       "Europe                  2.169754  \n",
       "North America           4.002329  \n",
       "South America           4.077235  "
      ]
     },
     "execution_count": 7,
     "metadata": {},
     "output_type": "execute_result"
    }
   ],
   "source": [
    "# 10. Plot a bar plot comparison of life_expectancy, fertility, population average per continent\n",
    "# Hint: for a quick and dirty graph use Pandas ploting ability\n",
    "# Hint: use log=True to make the visual more friendly to the eyes\n",
    "\n",
    "df_to_plot = df.groupby(['continent']).agg('mean')\n",
    "df_to_plot"
   ]
  },
  {
   "cell_type": "code",
   "execution_count": 8,
   "id": "629ad24a",
   "metadata": {},
   "outputs": [
    {
     "data": {
      "text/plain": [
       "<AxesSubplot: xlabel='continent'>"
      ]
     },
     "execution_count": 8,
     "metadata": {},
     "output_type": "execute_result"
    },
    {
     "data": {
      "image/png": "[encoded data removed]",
      "text/plain": [
       "<Figure size 640x480 with 1 Axes>"
      ]
     },
     "metadata": {},
     "output_type": "display_data"
    }
   ],
   "source": [
    "# plotting with Pandas V1\n",
    "\n",
    "df_to_plot.plot(y=['life expectancy', 'population', 'fertility'], kind='bar', log=True)\t"
   ]
  },
  {
   "cell_type": "code",
   "execution_count": 9,
   "id": "0923b811",
   "metadata": {},
   "outputs": [
    {
     "data": {
      "text/html": [
       "<div>\n",
       "<style scoped>\n",
       "    .dataframe tbody tr th:only-of-type {\n",
       "        vertical-align: middle;\n",
       "    }\n",
       "\n",
       "    .dataframe tbody tr th {\n",
       "        vertical-align: top;\n",
       "    }\n",
       "\n",
       "    .dataframe thead th {\n",
       "        text-align: right;\n",
       "    }\n",
       "</style>\n",
       "<table border=\"1\" class=\"dataframe\">\n",
       "  <thead>\n",
       "    <tr style=\"text-align: right;\">\n",
       "      <th></th>\n",
       "      <th>continent</th>\n",
       "      <th>year</th>\n",
       "      <th>life expectancy</th>\n",
       "      <th>population</th>\n",
       "      <th>fertility</th>\n",
       "    </tr>\n",
       "  </thead>\n",
       "  <tbody>\n",
       "    <tr>\n",
       "      <th>0</th>\n",
       "      <td>Africa</td>\n",
       "      <td>1983.0</td>\n",
       "      <td>52.376773</td>\n",
       "      <td>10460380.362121</td>\n",
       "      <td>5.931345</td>\n",
       "    </tr>\n",
       "    <tr>\n",
       "      <th>1</th>\n",
       "      <td>Asia</td>\n",
       "      <td>1983.0</td>\n",
       "      <td>62.411267</td>\n",
       "      <td>69909487.432401</td>\n",
       "      <td>4.673862</td>\n",
       "    </tr>\n",
       "    <tr>\n",
       "      <th>2</th>\n",
       "      <td>Australia and Oceania</td>\n",
       "      <td>1983.857143</td>\n",
       "      <td>62.257492</td>\n",
       "      <td>2546718.937097</td>\n",
       "      <td>4.682172</td>\n",
       "    </tr>\n",
       "    <tr>\n",
       "      <th>3</th>\n",
       "      <td>Europe</td>\n",
       "      <td>1983.199483</td>\n",
       "      <td>72.485936</td>\n",
       "      <td>13664236.609152</td>\n",
       "      <td>2.169754</td>\n",
       "    </tr>\n",
       "    <tr>\n",
       "      <th>4</th>\n",
       "      <td>North America</td>\n",
       "      <td>1983.415385</td>\n",
       "      <td>67.078769</td>\n",
       "      <td>20100860.015625</td>\n",
       "      <td>4.002329</td>\n",
       "    </tr>\n",
       "    <tr>\n",
       "      <th>5</th>\n",
       "      <td>South America</td>\n",
       "      <td>1983.0</td>\n",
       "      <td>66.211604</td>\n",
       "      <td>21686601.473485</td>\n",
       "      <td>4.077235</td>\n",
       "    </tr>\n",
       "  </tbody>\n",
       "</table>\n",
       "</div>"
      ],
      "text/plain": [
       "               continent         year  life expectancy       population  \\\n",
       "0                 Africa       1983.0        52.376773  10460380.362121   \n",
       "1                   Asia       1983.0        62.411267  69909487.432401   \n",
       "2  Australia and Oceania  1983.857143        62.257492   2546718.937097   \n",
       "3                 Europe  1983.199483        72.485936  13664236.609152   \n",
       "4          North America  1983.415385        67.078769  20100860.015625   \n",
       "5          South America       1983.0        66.211604  21686601.473485   \n",
       "\n",
       "   fertility  \n",
       "0   5.931345  \n",
       "1   4.673862  \n",
       "2   4.682172  \n",
       "3   2.169754  \n",
       "4   4.002329  \n",
       "5   4.077235  "
      ]
     },
     "execution_count": 9,
     "metadata": {},
     "output_type": "execute_result"
    }
   ],
   "source": [
    "# life expectancy \tpopulation \tfertility\n",
    "\n",
    "#reset index\n",
    "df_to_plot.reset_index(inplace=True)\n",
    "df_to_plot"
   ]
  },
  {
   "cell_type": "code",
   "execution_count": 10,
   "id": "a1636aa1",
   "metadata": {},
   "outputs": [
    {
     "data": {
      "text/plain": [
       "array([<AxesSubplot: title={'center': 'life expectancy'}, xlabel='continent'>,\n",
       "       <AxesSubplot: title={'center': 'population'}, xlabel='continent'>,\n",
       "       <AxesSubplot: title={'center': 'fertility'}, xlabel='continent'>],\n",
       "      dtype=object)"
      ]
     },
     "execution_count": 10,
     "metadata": {},
     "output_type": "execute_result"
    },
    {
     "data": {
      "image/png": "[encoded data removed]",
      "text/plain": [
       "<Figure size 640x480 with 3 Axes>"
      ]
     },
     "metadata": {},
     "output_type": "display_data"
    }
   ],
   "source": [
    "df_to_plot.plot(x='continent', y=['life expectancy', 'population', 'fertility'], subplots=True, kind='bar')\t"
   ]
  },
  {
   "cell_type": "code",
   "execution_count": 11,
   "id": "5cc76fbc",
   "metadata": {},
   "outputs": [
    {
     "data": {
      "text/plain": [
       "Text(0, 0.5, 'Average values')"
      ]
     },
     "execution_count": 11,
     "metadata": {},
     "output_type": "execute_result"
    },
    {
     "data": {
      "image/png": "[encoded data removed]",
      "text/plain": [
       "<Figure size 1200x1000 with 1 Axes>"
      ]
     },
     "metadata": {},
     "output_type": "display_data"
    }
   ],
   "source": [
    "x_vals = df_to_plot['continent']\n",
    "y_vals_fert = df_to_plot['fertility']\n",
    "y_vals_pop = df_to_plot['population']\n",
    "y_vals_lefe_exp = df_to_plot['life expectancy']\n",
    "\n",
    "# plotting starts\n",
    "#plt.style.use('ggplot')\n",
    "plt.figure(figsize=(12, 10))\n",
    "\n",
    "plt.bar(x_vals, y_vals_fert, label='avg fertility', color='indianred', width=0.2, log=True)\n",
    "plt.bar(x_vals, y_vals_pop, label='avg population', color='green', width=0.2, log=True)\n",
    "plt.bar(x_vals, y_vals_lefe_exp, label='avg life expectancy', color='darkorange', width=0.2, log=True)\n",
    "\n",
    "# title\n",
    "plt.title('Comparison of life_expectancy, fertility, population average per continent')\n",
    "plt.legend()\n",
    "\n",
    "# label names\n",
    "plt.xlabel('Continents')\n",
    "plt.ylabel('Average values')"
   ]
  },
  {
   "cell_type": "code",
   "execution_count": null,
   "id": "aaa73dfd",
   "metadata": {},
   "outputs": [],
   "source": []
  }
 ],
 "metadata": {
  "kernelspec": {
   "display_name": "Python 3 (ipykernel)",
   "language": "python",
   "name": "python3"
  },
  "language_info": {
   "codemirror_mode": {
    "name": "ipython",
    "version": 3
   },
   "file_extension": ".py",
   "mimetype": "text/x-python",
   "name": "python",
   "nbconvert_exporter": "python",
   "pygments_lexer": "ipython3",
   "version": "3.10.8"
  }
 },
 "nbformat": 4,
 "nbformat_minor": 5
}
